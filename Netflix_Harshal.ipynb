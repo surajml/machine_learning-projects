{
  "cells": [
    {
      "cell_type": "markdown",
      "id": "addressed-basic",
      "metadata": {
        "papermill": {
          "duration": 0.033852,
          "end_time": "2021-06-19T12:51:29.580026",
          "exception": false,
          "start_time": "2021-06-19T12:51:29.546174",
          "status": "completed"
        },
        "tags": [],
        "id": "addressed-basic"
      },
      "source": [
        "# Movie Recommendation using Netflix Movie Reviews\n",
        "\n",
        "\n"
      ]
    },
    {
      "cell_type": "markdown",
      "id": "demonstrated-pride",
      "metadata": {
        "papermill": {
          "duration": 0.031817,
          "end_time": "2021-06-19T12:51:29.642694",
          "exception": false,
          "start_time": "2021-06-19T12:51:29.610877",
          "status": "completed"
        },
        "tags": [],
        "id": "demonstrated-pride"
      },
      "source": [
        "This project aims to build a movie recommendation system using Netflix Movie Ratings. There are 17337458 Ratings given by 143458 users to 1350 movies. Ratings are in the form of Integer i.e. 1 - 5"
      ]
    },
    {
      "cell_type": "markdown",
      "id": "unique-shock",
      "metadata": {
        "papermill": {
          "duration": 0.030464,
          "end_time": "2021-06-19T12:51:29.703752",
          "exception": false,
          "start_time": "2021-06-19T12:51:29.673288",
          "status": "completed"
        },
        "tags": [],
        "id": "unique-shock"
      },
      "source": [
        "\n",
        "**Table of Content**\n"
      ]
    },
    {
      "cell_type": "markdown",
      "id": "greater-immunology",
      "metadata": {
        "papermill": {
          "duration": 0.030696,
          "end_time": "2021-06-19T12:51:29.765285",
          "exception": false,
          "start_time": "2021-06-19T12:51:29.734589",
          "status": "completed"
        },
        "tags": [],
        "id": "greater-immunology"
      },
      "source": [
        "\n",
        "#### 1.  Load Rating Data\n",
        "#### 2.  Load Movie Data\n",
        "#### 3.  Analyze Data\n",
        "#### 4.  Recommendation Model\n",
        "#### 4.1 Collaborative Filtering - SVD"
      ]
    },
    {
      "cell_type": "code",
      "execution_count": 1,
      "id": "varied-clarity",
      "metadata": {
        "_cell_guid": "b1076dfc-b9ad-4769-8c92-a6c4dae69d19",
        "_uuid": "8f2839f25d086af736a60e9eeb907d3b93b6e0e5",
        "execution": {
          "iopub.execute_input": "2021-06-19T12:51:29.830393Z",
          "iopub.status.busy": "2021-06-19T12:51:29.829240Z",
          "iopub.status.idle": "2021-06-19T12:51:30.007078Z",
          "shell.execute_reply": "2021-06-19T12:51:30.006261Z",
          "shell.execute_reply.started": "2021-06-18T16:02:20.806019Z"
        },
        "papermill": {
          "duration": 0.211525,
          "end_time": "2021-06-19T12:51:30.007247",
          "exception": false,
          "start_time": "2021-06-19T12:51:29.795722",
          "status": "completed"
        },
        "tags": [],
        "id": "varied-clarity"
      },
      "outputs": [],
      "source": [
        "import pandas as pd\n",
        "import numpy as np\n",
        "import matplotlib.pyplot as plt"
      ]
    },
    {
      "cell_type": "code",
      "execution_count": 2,
      "id": "5ac0ac06",
      "metadata": {
        "colab": {
          "base_uri": "https://localhost:8080/"
        },
        "id": "5ac0ac06",
        "outputId": "583378c3-35a4-4bd7-bdac-e5e4faf5defd"
      },
      "outputs": [
        {
          "output_type": "stream",
          "name": "stdout",
          "text": [
            "Looking in indexes: https://pypi.org/simple, https://us-python.pkg.dev/colab-wheels/public/simple/\n",
            "Requirement already satisfied: scikit-surprise in /usr/local/lib/python3.8/dist-packages (1.1.3)\n",
            "Requirement already satisfied: joblib>=1.0.0 in /usr/local/lib/python3.8/dist-packages (from scikit-surprise) (1.2.0)\n",
            "Requirement already satisfied: scipy>=1.3.2 in /usr/local/lib/python3.8/dist-packages (from scikit-surprise) (1.7.3)\n",
            "Requirement already satisfied: numpy>=1.17.3 in /usr/local/lib/python3.8/dist-packages (from scikit-surprise) (1.22.4)\n"
          ]
        }
      ],
      "source": [
        "! pip install scikit-surprise"
      ]
    },
    {
      "cell_type": "code",
      "execution_count": 3,
      "id": "c67468c1",
      "metadata": {
        "id": "c67468c1"
      },
      "outputs": [],
      "source": [
        "from surprise import Reader, Dataset, SVD\n",
        "from surprise import accuracy\n",
        "from surprise.model_selection import train_test_split"
      ]
    },
    {
      "cell_type": "markdown",
      "id": "comprehensive-nickel",
      "metadata": {
        "papermill": {
          "duration": 0.030411,
          "end_time": "2021-06-19T12:51:30.068715",
          "exception": false,
          "start_time": "2021-06-19T12:51:30.038304",
          "status": "completed"
        },
        "tags": [],
        "id": "comprehensive-nickel"
      },
      "source": [
        "# 1. Load Rating Data"
      ]
    },
    {
      "cell_type": "code",
      "execution_count": 4,
      "id": "substantial-triangle",
      "metadata": {
        "execution": {
          "iopub.execute_input": "2021-06-19T12:51:30.135722Z",
          "iopub.status.busy": "2021-06-19T12:51:30.134988Z",
          "iopub.status.idle": "2021-06-19T12:51:36.781367Z",
          "shell.execute_reply": "2021-06-19T12:51:36.780769Z",
          "shell.execute_reply.started": "2021-06-18T16:02:23.791380Z"
        },
        "papermill": {
          "duration": 6.682034,
          "end_time": "2021-06-19T12:51:36.781531",
          "exception": false,
          "start_time": "2021-06-19T12:51:30.099497",
          "status": "completed"
        },
        "tags": [],
        "colab": {
          "base_uri": "https://localhost:8080/",
          "height": 423
        },
        "id": "substantial-triangle",
        "outputId": "f0e2ffe6-25e5-4b44-feb7-b257cc49395e"
      },
      "outputs": [
        {
          "output_type": "execute_result",
          "data": {
            "text/plain": [
              "         User_ID  Rating  Movie_ID\n",
              "0         712664       5         3\n",
              "1        1331154       4         3\n",
              "2        2632461       3         3\n",
              "3          44937       5         3\n",
              "4         656399       4         3\n",
              "...          ...     ...       ...\n",
              "4296405   208022       5      1174\n",
              "4296406   593939       3      1174\n",
              "4296407    81478       5      1174\n",
              "4296408  2162151       4      1174\n",
              "4296409  1613047       3      1174\n",
              "\n",
              "[4296410 rows x 3 columns]"
            ],
            "text/html": [
              "\n",
              "  <div id=\"df-260f0739-8e91-4cea-a9fe-72b52028ac3d\">\n",
              "    <div class=\"colab-df-container\">\n",
              "      <div>\n",
              "<style scoped>\n",
              "    .dataframe tbody tr th:only-of-type {\n",
              "        vertical-align: middle;\n",
              "    }\n",
              "\n",
              "    .dataframe tbody tr th {\n",
              "        vertical-align: top;\n",
              "    }\n",
              "\n",
              "    .dataframe thead th {\n",
              "        text-align: right;\n",
              "    }\n",
              "</style>\n",
              "<table border=\"1\" class=\"dataframe\">\n",
              "  <thead>\n",
              "    <tr style=\"text-align: right;\">\n",
              "      <th></th>\n",
              "      <th>User_ID</th>\n",
              "      <th>Rating</th>\n",
              "      <th>Movie_ID</th>\n",
              "    </tr>\n",
              "  </thead>\n",
              "  <tbody>\n",
              "    <tr>\n",
              "      <th>0</th>\n",
              "      <td>712664</td>\n",
              "      <td>5</td>\n",
              "      <td>3</td>\n",
              "    </tr>\n",
              "    <tr>\n",
              "      <th>1</th>\n",
              "      <td>1331154</td>\n",
              "      <td>4</td>\n",
              "      <td>3</td>\n",
              "    </tr>\n",
              "    <tr>\n",
              "      <th>2</th>\n",
              "      <td>2632461</td>\n",
              "      <td>3</td>\n",
              "      <td>3</td>\n",
              "    </tr>\n",
              "    <tr>\n",
              "      <th>3</th>\n",
              "      <td>44937</td>\n",
              "      <td>5</td>\n",
              "      <td>3</td>\n",
              "    </tr>\n",
              "    <tr>\n",
              "      <th>4</th>\n",
              "      <td>656399</td>\n",
              "      <td>4</td>\n",
              "      <td>3</td>\n",
              "    </tr>\n",
              "    <tr>\n",
              "      <th>...</th>\n",
              "      <td>...</td>\n",
              "      <td>...</td>\n",
              "      <td>...</td>\n",
              "    </tr>\n",
              "    <tr>\n",
              "      <th>4296405</th>\n",
              "      <td>208022</td>\n",
              "      <td>5</td>\n",
              "      <td>1174</td>\n",
              "    </tr>\n",
              "    <tr>\n",
              "      <th>4296406</th>\n",
              "      <td>593939</td>\n",
              "      <td>3</td>\n",
              "      <td>1174</td>\n",
              "    </tr>\n",
              "    <tr>\n",
              "      <th>4296407</th>\n",
              "      <td>81478</td>\n",
              "      <td>5</td>\n",
              "      <td>1174</td>\n",
              "    </tr>\n",
              "    <tr>\n",
              "      <th>4296408</th>\n",
              "      <td>2162151</td>\n",
              "      <td>4</td>\n",
              "      <td>1174</td>\n",
              "    </tr>\n",
              "    <tr>\n",
              "      <th>4296409</th>\n",
              "      <td>1613047</td>\n",
              "      <td>3</td>\n",
              "      <td>1174</td>\n",
              "    </tr>\n",
              "  </tbody>\n",
              "</table>\n",
              "<p>4296410 rows × 3 columns</p>\n",
              "</div>\n",
              "      <button class=\"colab-df-convert\" onclick=\"convertToInteractive('df-260f0739-8e91-4cea-a9fe-72b52028ac3d')\"\n",
              "              title=\"Convert this dataframe to an interactive table.\"\n",
              "              style=\"display:none;\">\n",
              "        \n",
              "  <svg xmlns=\"http://www.w3.org/2000/svg\" height=\"24px\"viewBox=\"0 0 24 24\"\n",
              "       width=\"24px\">\n",
              "    <path d=\"M0 0h24v24H0V0z\" fill=\"none\"/>\n",
              "    <path d=\"M18.56 5.44l.94 2.06.94-2.06 2.06-.94-2.06-.94-.94-2.06-.94 2.06-2.06.94zm-11 1L8.5 8.5l.94-2.06 2.06-.94-2.06-.94L8.5 2.5l-.94 2.06-2.06.94zm10 10l.94 2.06.94-2.06 2.06-.94-2.06-.94-.94-2.06-.94 2.06-2.06.94z\"/><path d=\"M17.41 7.96l-1.37-1.37c-.4-.4-.92-.59-1.43-.59-.52 0-1.04.2-1.43.59L10.3 9.45l-7.72 7.72c-.78.78-.78 2.05 0 2.83L4 21.41c.39.39.9.59 1.41.59.51 0 1.02-.2 1.41-.59l7.78-7.78 2.81-2.81c.8-.78.8-2.07 0-2.86zM5.41 20L4 18.59l7.72-7.72 1.47 1.35L5.41 20z\"/>\n",
              "  </svg>\n",
              "      </button>\n",
              "      \n",
              "  <style>\n",
              "    .colab-df-container {\n",
              "      display:flex;\n",
              "      flex-wrap:wrap;\n",
              "      gap: 12px;\n",
              "    }\n",
              "\n",
              "    .colab-df-convert {\n",
              "      background-color: #E8F0FE;\n",
              "      border: none;\n",
              "      border-radius: 50%;\n",
              "      cursor: pointer;\n",
              "      display: none;\n",
              "      fill: #1967D2;\n",
              "      height: 32px;\n",
              "      padding: 0 0 0 0;\n",
              "      width: 32px;\n",
              "    }\n",
              "\n",
              "    .colab-df-convert:hover {\n",
              "      background-color: #E2EBFA;\n",
              "      box-shadow: 0px 1px 2px rgba(60, 64, 67, 0.3), 0px 1px 3px 1px rgba(60, 64, 67, 0.15);\n",
              "      fill: #174EA6;\n",
              "    }\n",
              "\n",
              "    [theme=dark] .colab-df-convert {\n",
              "      background-color: #3B4455;\n",
              "      fill: #D2E3FC;\n",
              "    }\n",
              "\n",
              "    [theme=dark] .colab-df-convert:hover {\n",
              "      background-color: #434B5C;\n",
              "      box-shadow: 0px 1px 3px 1px rgba(0, 0, 0, 0.15);\n",
              "      filter: drop-shadow(0px 1px 2px rgba(0, 0, 0, 0.3));\n",
              "      fill: #FFFFFF;\n",
              "    }\n",
              "  </style>\n",
              "\n",
              "      <script>\n",
              "        const buttonEl =\n",
              "          document.querySelector('#df-260f0739-8e91-4cea-a9fe-72b52028ac3d button.colab-df-convert');\n",
              "        buttonEl.style.display =\n",
              "          google.colab.kernel.accessAllowed ? 'block' : 'none';\n",
              "\n",
              "        async function convertToInteractive(key) {\n",
              "          const element = document.querySelector('#df-260f0739-8e91-4cea-a9fe-72b52028ac3d');\n",
              "          const dataTable =\n",
              "            await google.colab.kernel.invokeFunction('convertToInteractive',\n",
              "                                                     [key], {});\n",
              "          if (!dataTable) return;\n",
              "\n",
              "          const docLinkHtml = 'Like what you see? Visit the ' +\n",
              "            '<a target=\"_blank\" href=https://colab.research.google.com/notebooks/data_table.ipynb>data table notebook</a>'\n",
              "            + ' to learn more about interactive tables.';\n",
              "          element.innerHTML = '';\n",
              "          dataTable['output_type'] = 'display_data';\n",
              "          await google.colab.output.renderOutput(dataTable, element);\n",
              "          const docLink = document.createElement('div');\n",
              "          docLink.innerHTML = docLinkHtml;\n",
              "          element.appendChild(docLink);\n",
              "        }\n",
              "      </script>\n",
              "    </div>\n",
              "  </div>\n",
              "  "
            ]
          },
          "metadata": {},
          "execution_count": 4
        }
      ],
      "source": [
        "df = pd.read_csv('Netflix_Dataset_Rating.csv')\n",
        "df"
      ]
    },
    {
      "cell_type": "code",
      "execution_count": 5,
      "id": "appreciated-learning",
      "metadata": {
        "execution": {
          "iopub.execute_input": "2021-06-19T12:51:36.851867Z",
          "iopub.status.busy": "2021-06-19T12:51:36.850955Z",
          "iopub.status.idle": "2021-06-19T12:51:36.855271Z",
          "shell.execute_reply": "2021-06-19T12:51:36.854779Z",
          "shell.execute_reply.started": "2021-06-18T14:54:11.634134Z"
        },
        "papermill": {
          "duration": 0.04215,
          "end_time": "2021-06-19T12:51:36.855433",
          "exception": false,
          "start_time": "2021-06-19T12:51:36.813283",
          "status": "completed"
        },
        "tags": [],
        "colab": {
          "base_uri": "https://localhost:8080/"
        },
        "id": "appreciated-learning",
        "outputId": "8915fcd8-2e81-431e-a52b-296626175d37"
      },
      "outputs": [
        {
          "output_type": "execute_result",
          "data": {
            "text/plain": [
              "User_ID     int64\n",
              "Rating      int64\n",
              "Movie_ID    int64\n",
              "dtype: object"
            ]
          },
          "metadata": {},
          "execution_count": 5
        }
      ],
      "source": [
        "df.dtypes"
      ]
    },
    {
      "cell_type": "code",
      "execution_count": 6,
      "id": "tamil-parade",
      "metadata": {
        "execution": {
          "iopub.execute_input": "2021-06-19T12:51:36.934211Z",
          "iopub.status.busy": "2021-06-19T12:51:36.933294Z",
          "iopub.status.idle": "2021-06-19T12:51:36.937467Z",
          "shell.execute_reply": "2021-06-19T12:51:36.936761Z",
          "shell.execute_reply.started": "2021-06-18T14:54:11.645002Z"
        },
        "papermill": {
          "duration": 0.050542,
          "end_time": "2021-06-19T12:51:36.937611",
          "exception": false,
          "start_time": "2021-06-19T12:51:36.887069",
          "status": "completed"
        },
        "tags": [],
        "colab": {
          "base_uri": "https://localhost:8080/"
        },
        "id": "tamil-parade",
        "outputId": "c1ee16a2-4c2a-467d-841a-0585aca85bdf"
      },
      "outputs": [
        {
          "output_type": "stream",
          "name": "stdout",
          "text": [
            "<class 'pandas.core.frame.DataFrame'>\n",
            "RangeIndex: 4296410 entries, 0 to 4296409\n",
            "Data columns (total 3 columns):\n",
            " #   Column    Dtype\n",
            "---  ------    -----\n",
            " 0   User_ID   int64\n",
            " 1   Rating    int64\n",
            " 2   Movie_ID  int64\n",
            "dtypes: int64(3)\n",
            "memory usage: 98.3 MB\n"
          ]
        }
      ],
      "source": [
        "df.info()"
      ]
    },
    {
      "cell_type": "code",
      "execution_count": 7,
      "id": "finnish-hanging",
      "metadata": {
        "execution": {
          "iopub.execute_input": "2021-06-19T12:51:37.009798Z",
          "iopub.status.busy": "2021-06-19T12:51:37.008273Z",
          "iopub.status.idle": "2021-06-19T12:51:37.546216Z",
          "shell.execute_reply": "2021-06-19T12:51:37.545391Z",
          "shell.execute_reply.started": "2021-06-18T14:54:11.674161Z"
        },
        "papermill": {
          "duration": 0.576756,
          "end_time": "2021-06-19T12:51:37.546368",
          "exception": false,
          "start_time": "2021-06-19T12:51:36.969612",
          "status": "completed"
        },
        "tags": [],
        "colab": {
          "base_uri": "https://localhost:8080/"
        },
        "id": "finnish-hanging",
        "outputId": "9dfb23c3-510b-4c59-8cf9-f0b7b121d4c2"
      },
      "outputs": [
        {
          "output_type": "execute_result",
          "data": {
            "text/plain": [
              "count    4296410\n",
              "mean           3\n",
              "std            1\n",
              "min            1\n",
              "25%            3\n",
              "50%            4\n",
              "75%            4\n",
              "max            5\n",
              "Name: Rating, dtype: int64"
            ]
          },
          "metadata": {},
          "execution_count": 7
        }
      ],
      "source": [
        "df['Rating'].describe().astype('int')"
      ]
    },
    {
      "cell_type": "code",
      "execution_count": 8,
      "id": "flexible-analysis",
      "metadata": {
        "execution": {
          "iopub.execute_input": "2021-06-19T12:51:37.617010Z",
          "iopub.status.busy": "2021-06-19T12:51:37.615698Z",
          "iopub.status.idle": "2021-06-19T12:51:38.831613Z",
          "shell.execute_reply": "2021-06-19T12:51:38.832087Z",
          "shell.execute_reply.started": "2021-06-18T14:54:12.331178Z"
        },
        "papermill": {
          "duration": 1.253648,
          "end_time": "2021-06-19T12:51:38.832267",
          "exception": false,
          "start_time": "2021-06-19T12:51:37.578619",
          "status": "completed"
        },
        "tags": [],
        "colab": {
          "base_uri": "https://localhost:8080/"
        },
        "id": "flexible-analysis",
        "outputId": "96886157-395c-4ea6-93c3-6e3dc5f2c0c0"
      },
      "outputs": [
        {
          "output_type": "stream",
          "name": "stdout",
          "text": [
            "Unique Values :\n",
            " User_ID     143457\n",
            "Rating           5\n",
            "Movie_ID       372\n",
            "dtype: int64\n"
          ]
        }
      ],
      "source": [
        "print(\"Unique Values :\\n\",df.nunique())"
      ]
    },
    {
      "cell_type": "markdown",
      "id": "sapphire-bahrain",
      "metadata": {
        "papermill": {
          "duration": 0.032465,
          "end_time": "2021-06-19T12:51:38.897239",
          "exception": false,
          "start_time": "2021-06-19T12:51:38.864774",
          "status": "completed"
        },
        "tags": [],
        "id": "sapphire-bahrain"
      },
      "source": [
        "# 2. Load Movie Data"
      ]
    },
    {
      "cell_type": "code",
      "execution_count": 9,
      "id": "primary-identity",
      "metadata": {
        "execution": {
          "iopub.execute_input": "2021-06-19T12:51:38.967529Z",
          "iopub.status.busy": "2021-06-19T12:51:38.966893Z",
          "iopub.status.idle": "2021-06-19T12:51:39.010668Z",
          "shell.execute_reply": "2021-06-19T12:51:39.011122Z",
          "shell.execute_reply.started": "2021-06-18T16:02:33.530969Z"
        },
        "papermill": {
          "duration": 0.081075,
          "end_time": "2021-06-19T12:51:39.011306",
          "exception": false,
          "start_time": "2021-06-19T12:51:38.930231",
          "status": "completed"
        },
        "tags": [],
        "colab": {
          "base_uri": "https://localhost:8080/",
          "height": 423
        },
        "id": "primary-identity",
        "outputId": "5d65c20b-b342-46ff-9957-df2f6213f08c"
      },
      "outputs": [
        {
          "output_type": "execute_result",
          "data": {
            "text/plain": [
              "       Movie_ID  Year                                               Name\n",
              "0             1  2003                                    Dinosaur Planet\n",
              "1             2  2004                         Isle of Man TT 2004 Review\n",
              "2             3  1997                                          Character\n",
              "3             4  1994                       Paula Abdul's Get Up & Dance\n",
              "4             5  2004                           The Rise and Fall of ECW\n",
              "...         ...   ...                                                ...\n",
              "17765     17766  2002  Where the Wild Things Are and Other Maurice Se...\n",
              "17766     17767  2004                  Fidel Castro: American Experience\n",
              "17767     17768  2000                                              Epoch\n",
              "17768     17769  2003                                        The Company\n",
              "17769     17770  2003                                       Alien Hunter\n",
              "\n",
              "[17770 rows x 3 columns]"
            ],
            "text/html": [
              "\n",
              "  <div id=\"df-625f0796-2042-444d-b3b7-9232fce69925\">\n",
              "    <div class=\"colab-df-container\">\n",
              "      <div>\n",
              "<style scoped>\n",
              "    .dataframe tbody tr th:only-of-type {\n",
              "        vertical-align: middle;\n",
              "    }\n",
              "\n",
              "    .dataframe tbody tr th {\n",
              "        vertical-align: top;\n",
              "    }\n",
              "\n",
              "    .dataframe thead th {\n",
              "        text-align: right;\n",
              "    }\n",
              "</style>\n",
              "<table border=\"1\" class=\"dataframe\">\n",
              "  <thead>\n",
              "    <tr style=\"text-align: right;\">\n",
              "      <th></th>\n",
              "      <th>Movie_ID</th>\n",
              "      <th>Year</th>\n",
              "      <th>Name</th>\n",
              "    </tr>\n",
              "  </thead>\n",
              "  <tbody>\n",
              "    <tr>\n",
              "      <th>0</th>\n",
              "      <td>1</td>\n",
              "      <td>2003</td>\n",
              "      <td>Dinosaur Planet</td>\n",
              "    </tr>\n",
              "    <tr>\n",
              "      <th>1</th>\n",
              "      <td>2</td>\n",
              "      <td>2004</td>\n",
              "      <td>Isle of Man TT 2004 Review</td>\n",
              "    </tr>\n",
              "    <tr>\n",
              "      <th>2</th>\n",
              "      <td>3</td>\n",
              "      <td>1997</td>\n",
              "      <td>Character</td>\n",
              "    </tr>\n",
              "    <tr>\n",
              "      <th>3</th>\n",
              "      <td>4</td>\n",
              "      <td>1994</td>\n",
              "      <td>Paula Abdul's Get Up &amp; Dance</td>\n",
              "    </tr>\n",
              "    <tr>\n",
              "      <th>4</th>\n",
              "      <td>5</td>\n",
              "      <td>2004</td>\n",
              "      <td>The Rise and Fall of ECW</td>\n",
              "    </tr>\n",
              "    <tr>\n",
              "      <th>...</th>\n",
              "      <td>...</td>\n",
              "      <td>...</td>\n",
              "      <td>...</td>\n",
              "    </tr>\n",
              "    <tr>\n",
              "      <th>17765</th>\n",
              "      <td>17766</td>\n",
              "      <td>2002</td>\n",
              "      <td>Where the Wild Things Are and Other Maurice Se...</td>\n",
              "    </tr>\n",
              "    <tr>\n",
              "      <th>17766</th>\n",
              "      <td>17767</td>\n",
              "      <td>2004</td>\n",
              "      <td>Fidel Castro: American Experience</td>\n",
              "    </tr>\n",
              "    <tr>\n",
              "      <th>17767</th>\n",
              "      <td>17768</td>\n",
              "      <td>2000</td>\n",
              "      <td>Epoch</td>\n",
              "    </tr>\n",
              "    <tr>\n",
              "      <th>17768</th>\n",
              "      <td>17769</td>\n",
              "      <td>2003</td>\n",
              "      <td>The Company</td>\n",
              "    </tr>\n",
              "    <tr>\n",
              "      <th>17769</th>\n",
              "      <td>17770</td>\n",
              "      <td>2003</td>\n",
              "      <td>Alien Hunter</td>\n",
              "    </tr>\n",
              "  </tbody>\n",
              "</table>\n",
              "<p>17770 rows × 3 columns</p>\n",
              "</div>\n",
              "      <button class=\"colab-df-convert\" onclick=\"convertToInteractive('df-625f0796-2042-444d-b3b7-9232fce69925')\"\n",
              "              title=\"Convert this dataframe to an interactive table.\"\n",
              "              style=\"display:none;\">\n",
              "        \n",
              "  <svg xmlns=\"http://www.w3.org/2000/svg\" height=\"24px\"viewBox=\"0 0 24 24\"\n",
              "       width=\"24px\">\n",
              "    <path d=\"M0 0h24v24H0V0z\" fill=\"none\"/>\n",
              "    <path d=\"M18.56 5.44l.94 2.06.94-2.06 2.06-.94-2.06-.94-.94-2.06-.94 2.06-2.06.94zm-11 1L8.5 8.5l.94-2.06 2.06-.94-2.06-.94L8.5 2.5l-.94 2.06-2.06.94zm10 10l.94 2.06.94-2.06 2.06-.94-2.06-.94-.94-2.06-.94 2.06-2.06.94z\"/><path d=\"M17.41 7.96l-1.37-1.37c-.4-.4-.92-.59-1.43-.59-.52 0-1.04.2-1.43.59L10.3 9.45l-7.72 7.72c-.78.78-.78 2.05 0 2.83L4 21.41c.39.39.9.59 1.41.59.51 0 1.02-.2 1.41-.59l7.78-7.78 2.81-2.81c.8-.78.8-2.07 0-2.86zM5.41 20L4 18.59l7.72-7.72 1.47 1.35L5.41 20z\"/>\n",
              "  </svg>\n",
              "      </button>\n",
              "      \n",
              "  <style>\n",
              "    .colab-df-container {\n",
              "      display:flex;\n",
              "      flex-wrap:wrap;\n",
              "      gap: 12px;\n",
              "    }\n",
              "\n",
              "    .colab-df-convert {\n",
              "      background-color: #E8F0FE;\n",
              "      border: none;\n",
              "      border-radius: 50%;\n",
              "      cursor: pointer;\n",
              "      display: none;\n",
              "      fill: #1967D2;\n",
              "      height: 32px;\n",
              "      padding: 0 0 0 0;\n",
              "      width: 32px;\n",
              "    }\n",
              "\n",
              "    .colab-df-convert:hover {\n",
              "      background-color: #E2EBFA;\n",
              "      box-shadow: 0px 1px 2px rgba(60, 64, 67, 0.3), 0px 1px 3px 1px rgba(60, 64, 67, 0.15);\n",
              "      fill: #174EA6;\n",
              "    }\n",
              "\n",
              "    [theme=dark] .colab-df-convert {\n",
              "      background-color: #3B4455;\n",
              "      fill: #D2E3FC;\n",
              "    }\n",
              "\n",
              "    [theme=dark] .colab-df-convert:hover {\n",
              "      background-color: #434B5C;\n",
              "      box-shadow: 0px 1px 3px 1px rgba(0, 0, 0, 0.15);\n",
              "      filter: drop-shadow(0px 1px 2px rgba(0, 0, 0, 0.3));\n",
              "      fill: #FFFFFF;\n",
              "    }\n",
              "  </style>\n",
              "\n",
              "      <script>\n",
              "        const buttonEl =\n",
              "          document.querySelector('#df-625f0796-2042-444d-b3b7-9232fce69925 button.colab-df-convert');\n",
              "        buttonEl.style.display =\n",
              "          google.colab.kernel.accessAllowed ? 'block' : 'none';\n",
              "\n",
              "        async function convertToInteractive(key) {\n",
              "          const element = document.querySelector('#df-625f0796-2042-444d-b3b7-9232fce69925');\n",
              "          const dataTable =\n",
              "            await google.colab.kernel.invokeFunction('convertToInteractive',\n",
              "                                                     [key], {});\n",
              "          if (!dataTable) return;\n",
              "\n",
              "          const docLinkHtml = 'Like what you see? Visit the ' +\n",
              "            '<a target=\"_blank\" href=https://colab.research.google.com/notebooks/data_table.ipynb>data table notebook</a>'\n",
              "            + ' to learn more about interactive tables.';\n",
              "          element.innerHTML = '';\n",
              "          dataTable['output_type'] = 'display_data';\n",
              "          await google.colab.output.renderOutput(dataTable, element);\n",
              "          const docLink = document.createElement('div');\n",
              "          docLink.innerHTML = docLinkHtml;\n",
              "          element.appendChild(docLink);\n",
              "        }\n",
              "      </script>\n",
              "    </div>\n",
              "  </div>\n",
              "  "
            ]
          },
          "metadata": {},
          "execution_count": 9
        }
      ],
      "source": [
        "df_title = pd.read_csv('Netflix_Dataset_Movie.csv')\n",
        "df_title"
      ]
    },
    {
      "cell_type": "code",
      "execution_count": 10,
      "id": "small-korea",
      "metadata": {
        "execution": {
          "iopub.execute_input": "2021-06-19T12:51:39.080379Z",
          "iopub.status.busy": "2021-06-19T12:51:39.079788Z",
          "iopub.status.idle": "2021-06-19T12:51:39.086103Z",
          "shell.execute_reply": "2021-06-19T12:51:39.086688Z",
          "shell.execute_reply.started": "2021-06-18T14:54:13.768057Z"
        },
        "papermill": {
          "duration": 0.042566,
          "end_time": "2021-06-19T12:51:39.086858",
          "exception": false,
          "start_time": "2021-06-19T12:51:39.044292",
          "status": "completed"
        },
        "tags": [],
        "colab": {
          "base_uri": "https://localhost:8080/"
        },
        "id": "small-korea",
        "outputId": "20fe74fb-c277-47d5-8d8b-00c5ed3d1eb6"
      },
      "outputs": [
        {
          "output_type": "execute_result",
          "data": {
            "text/plain": [
              "Movie_ID     int64\n",
              "Year         int64\n",
              "Name        object\n",
              "dtype: object"
            ]
          },
          "metadata": {},
          "execution_count": 10
        }
      ],
      "source": [
        "df_title.dtypes"
      ]
    },
    {
      "cell_type": "code",
      "execution_count": 11,
      "id": "narrow-privilege",
      "metadata": {
        "execution": {
          "iopub.execute_input": "2021-06-19T12:51:39.156700Z",
          "iopub.status.busy": "2021-06-19T12:51:39.156014Z",
          "iopub.status.idle": "2021-06-19T12:51:39.172325Z",
          "shell.execute_reply": "2021-06-19T12:51:39.173008Z",
          "shell.execute_reply.started": "2021-06-18T14:54:13.781096Z"
        },
        "papermill": {
          "duration": 0.053189,
          "end_time": "2021-06-19T12:51:39.173250",
          "exception": false,
          "start_time": "2021-06-19T12:51:39.120061",
          "status": "completed"
        },
        "tags": [],
        "colab": {
          "base_uri": "https://localhost:8080/"
        },
        "id": "narrow-privilege",
        "outputId": "12dfd45c-8596-40b6-904f-a13cffde9c3f"
      },
      "outputs": [
        {
          "output_type": "stream",
          "name": "stdout",
          "text": [
            "<class 'pandas.core.frame.DataFrame'>\n",
            "RangeIndex: 17770 entries, 0 to 17769\n",
            "Data columns (total 3 columns):\n",
            " #   Column    Non-Null Count  Dtype \n",
            "---  ------    --------------  ----- \n",
            " 0   Movie_ID  17770 non-null  int64 \n",
            " 1   Year      17770 non-null  int64 \n",
            " 2   Name      17770 non-null  object\n",
            "dtypes: int64(2), object(1)\n",
            "memory usage: 416.6+ KB\n"
          ]
        }
      ],
      "source": [
        "df_title.info()"
      ]
    },
    {
      "cell_type": "code",
      "execution_count": 12,
      "id": "religious-determination",
      "metadata": {
        "execution": {
          "iopub.execute_input": "2021-06-19T12:51:39.244443Z",
          "iopub.status.busy": "2021-06-19T12:51:39.243789Z",
          "iopub.status.idle": "2021-06-19T12:51:39.253671Z",
          "shell.execute_reply": "2021-06-19T12:51:39.254166Z",
          "shell.execute_reply.started": "2021-06-18T14:54:13.809247Z"
        },
        "papermill": {
          "duration": 0.046866,
          "end_time": "2021-06-19T12:51:39.254333",
          "exception": false,
          "start_time": "2021-06-19T12:51:39.207467",
          "status": "completed"
        },
        "tags": [],
        "colab": {
          "base_uri": "https://localhost:8080/"
        },
        "id": "religious-determination",
        "outputId": "0acb9767-fcc6-47db-b246-52a8762b6d69"
      },
      "outputs": [
        {
          "output_type": "execute_result",
          "data": {
            "text/plain": [
              "count    17770\n",
              "mean      1990\n",
              "std         16\n",
              "min       1915\n",
              "25%       1985\n",
              "50%       1997\n",
              "75%       2002\n",
              "max       2005\n",
              "Name: Year, dtype: int64"
            ]
          },
          "metadata": {},
          "execution_count": 12
        }
      ],
      "source": [
        "df_title['Year'].describe().astype('int')"
      ]
    },
    {
      "cell_type": "code",
      "execution_count": 13,
      "id": "requested-chrome",
      "metadata": {
        "execution": {
          "iopub.execute_input": "2021-06-19T12:51:39.325670Z",
          "iopub.status.busy": "2021-06-19T12:51:39.325027Z",
          "iopub.status.idle": "2021-06-19T12:51:39.338671Z",
          "shell.execute_reply": "2021-06-19T12:51:39.339128Z",
          "shell.execute_reply.started": "2021-06-18T14:54:13.825072Z"
        },
        "papermill": {
          "duration": 0.051021,
          "end_time": "2021-06-19T12:51:39.339305",
          "exception": false,
          "start_time": "2021-06-19T12:51:39.288284",
          "status": "completed"
        },
        "tags": [],
        "colab": {
          "base_uri": "https://localhost:8080/"
        },
        "id": "requested-chrome",
        "outputId": "2bcc804c-3d0f-43fd-8bad-ecd00cb326a6"
      },
      "outputs": [
        {
          "output_type": "stream",
          "name": "stdout",
          "text": [
            "Unique Values :\n",
            " Movie_ID    17770\n",
            "Year           91\n",
            "Name        17297\n",
            "dtype: int64\n"
          ]
        }
      ],
      "source": [
        "print(\"Unique Values :\\n\",df_title.nunique())"
      ]
    },
    {
      "cell_type": "markdown",
      "id": "rocky-brush",
      "metadata": {
        "papermill": {
          "duration": 0.03427,
          "end_time": "2021-06-19T12:51:39.409716",
          "exception": false,
          "start_time": "2021-06-19T12:51:39.375446",
          "status": "completed"
        },
        "tags": [],
        "id": "rocky-brush"
      },
      "source": [
        "# 3. Analyze Data"
      ]
    },
    {
      "cell_type": "code",
      "execution_count": 14,
      "id": "strange-focus",
      "metadata": {
        "execution": {
          "iopub.execute_input": "2021-06-19T12:51:39.486009Z",
          "iopub.status.busy": "2021-06-19T12:51:39.484885Z",
          "iopub.status.idle": "2021-06-19T12:51:40.660142Z",
          "shell.execute_reply": "2021-06-19T12:51:40.659601Z",
          "shell.execute_reply.started": "2021-06-18T14:54:13.852296Z"
        },
        "papermill": {
          "duration": 1.216009,
          "end_time": "2021-06-19T12:51:40.660280",
          "exception": false,
          "start_time": "2021-06-19T12:51:39.444271",
          "status": "completed"
        },
        "tags": [],
        "colab": {
          "base_uri": "https://localhost:8080/"
        },
        "id": "strange-focus",
        "outputId": "dd7ce463-fb50-46d0-fc0d-d15a72a64226"
      },
      "outputs": [
        {
          "output_type": "execute_result",
          "data": {
            "text/plain": [
              "User_ID\n",
              "305344     370\n",
              "2439493    366\n",
              "387418     366\n",
              "2118461    358\n",
              "1664010    347\n",
              "Name: Rating, dtype: int64"
            ]
          },
          "metadata": {},
          "execution_count": 14
        }
      ],
      "source": [
        "no_of_rated_products_per_users = df.groupby(by='User_ID')['Rating'].count().sort_values(ascending=False)\n",
        "no_of_rated_products_per_users.head()"
      ]
    },
    {
      "cell_type": "code",
      "execution_count": 15,
      "id": "tested-lebanon",
      "metadata": {
        "execution": {
          "iopub.execute_input": "2021-06-19T12:51:40.734838Z",
          "iopub.status.busy": "2021-06-19T12:51:40.734196Z",
          "iopub.status.idle": "2021-06-19T12:51:40.749815Z",
          "shell.execute_reply": "2021-06-19T12:51:40.749180Z",
          "shell.execute_reply.started": "2021-06-18T14:54:15.227082Z"
        },
        "papermill": {
          "duration": 0.054927,
          "end_time": "2021-06-19T12:51:40.749957",
          "exception": false,
          "start_time": "2021-06-19T12:51:40.695030",
          "status": "completed"
        },
        "tags": [],
        "colab": {
          "base_uri": "https://localhost:8080/"
        },
        "id": "tested-lebanon",
        "outputId": "fbb039a1-573b-4ad8-f6ec-6216e0e96803"
      },
      "outputs": [
        {
          "output_type": "execute_result",
          "data": {
            "text/plain": [
              "count    143457.000000\n",
              "mean         29.949114\n",
              "std          20.564429\n",
              "min           1.000000\n",
              "25%          16.000000\n",
              "50%          24.000000\n",
              "75%          37.000000\n",
              "max         370.000000\n",
              "Name: Rating, dtype: float64"
            ]
          },
          "metadata": {},
          "execution_count": 15
        }
      ],
      "source": [
        "no_of_rated_products_per_users.describe()\n"
      ]
    },
    {
      "cell_type": "code",
      "execution_count": 16,
      "id": "pleasant-thursday",
      "metadata": {
        "execution": {
          "iopub.execute_input": "2021-06-19T12:51:41.266922Z",
          "iopub.status.busy": "2021-06-19T12:51:41.266192Z",
          "iopub.status.idle": "2021-06-19T12:51:41.633368Z",
          "shell.execute_reply": "2021-06-19T12:51:41.633887Z",
          "shell.execute_reply.started": "2021-06-18T14:54:15.618505Z"
        },
        "papermill": {
          "duration": 0.409819,
          "end_time": "2021-06-19T12:51:41.634058",
          "exception": false,
          "start_time": "2021-06-19T12:51:41.224239",
          "status": "completed"
        },
        "tags": [],
        "colab": {
          "base_uri": "https://localhost:8080/"
        },
        "id": "pleasant-thursday",
        "outputId": "92a57dba-a7fd-46e1-fb48-9e39cdf3fa2d"
      },
      "outputs": [
        {
          "output_type": "execute_result",
          "data": {
            "text/plain": [
              "Movie_ID\n",
              "571     101450\n",
              "607      79476\n",
              "30       77502\n",
              "457      77312\n",
              "1145     74461\n",
              "Name: Rating, dtype: int64"
            ]
          },
          "metadata": {},
          "execution_count": 16
        }
      ],
      "source": [
        "no_of_rated_products_per_movies = df.groupby(by='Movie_ID')['Rating'].count().sort_values(ascending=False)\n",
        "no_of_rated_products_per_movies.head()"
      ]
    },
    {
      "cell_type": "code",
      "execution_count": 17,
      "id": "eleven-occasions",
      "metadata": {
        "execution": {
          "iopub.execute_input": "2021-06-19T12:51:41.713532Z",
          "iopub.status.busy": "2021-06-19T12:51:41.712817Z",
          "iopub.status.idle": "2021-06-19T12:51:41.718698Z",
          "shell.execute_reply": "2021-06-19T12:51:41.719215Z",
          "shell.execute_reply.started": "2021-06-18T14:54:16.043599Z"
        },
        "papermill": {
          "duration": 0.048745,
          "end_time": "2021-06-19T12:51:41.719381",
          "exception": false,
          "start_time": "2021-06-19T12:51:41.670636",
          "status": "completed"
        },
        "tags": [],
        "colab": {
          "base_uri": "https://localhost:8080/"
        },
        "id": "eleven-occasions",
        "outputId": "18f729d5-1fb2-4ea0-c2f0-4353dd1f0ca0"
      },
      "outputs": [
        {
          "output_type": "execute_result",
          "data": {
            "text/plain": [
              "count       372.000000\n",
              "mean      11549.489247\n",
              "std       16329.734105\n",
              "min        1212.000000\n",
              "25%        2524.250000\n",
              "50%        4794.500000\n",
              "75%       12600.000000\n",
              "max      101450.000000\n",
              "Name: Rating, dtype: float64"
            ]
          },
          "metadata": {},
          "execution_count": 17
        }
      ],
      "source": [
        "no_of_rated_products_per_movies.describe()"
      ]
    },
    {
      "cell_type": "code",
      "execution_count": 18,
      "id": "located-buyer",
      "metadata": {
        "execution": {
          "iopub.execute_input": "2021-06-19T12:51:42.153858Z",
          "iopub.status.busy": "2021-06-19T12:51:42.153223Z",
          "iopub.status.idle": "2021-06-19T12:51:42.693153Z",
          "shell.execute_reply": "2021-06-19T12:51:42.693707Z",
          "shell.execute_reply.started": "2021-06-18T16:02:45.492370Z"
        },
        "papermill": {
          "duration": 0.581354,
          "end_time": "2021-06-19T12:51:42.693882",
          "exception": false,
          "start_time": "2021-06-19T12:51:42.112528",
          "status": "completed"
        },
        "tags": [],
        "id": "located-buyer"
      },
      "outputs": [],
      "source": [
        "f = ['count','mean']\n",
        "df_movie_summary = df.groupby('Movie_ID')['Rating'].agg(f)\n",
        "df_movie_summary.index = df_movie_summary.index.map(int)\n",
        "movie_benchmark = round(df_movie_summary['count'].quantile(0.7),0)\n",
        "drop_movie_list = df_movie_summary[df_movie_summary['count'] < movie_benchmark].index\n",
        "\n",
        "df__title = df_title.set_index('Movie_ID')"
      ]
    },
    {
      "cell_type": "markdown",
      "id": "described-satisfaction",
      "metadata": {
        "papermill": {
          "duration": 0.043882,
          "end_time": "2021-06-19T12:51:45.498986",
          "exception": false,
          "start_time": "2021-06-19T12:51:45.455104",
          "status": "completed"
        },
        "tags": [],
        "id": "described-satisfaction"
      },
      "source": [
        "# 4. Recommendation Model\n"
      ]
    },
    {
      "cell_type": "markdown",
      "id": "formed-victor",
      "metadata": {
        "papermill": {
          "duration": 0.041275,
          "end_time": "2021-06-19T12:51:45.582065",
          "exception": false,
          "start_time": "2021-06-19T12:51:45.540790",
          "status": "completed"
        },
        "tags": [],
        "id": "formed-victor"
      },
      "source": [
        "## 4.1 Collaborative Filtering - SVD"
      ]
    },
    {
      "cell_type": "code",
      "execution_count": 19,
      "id": "consistent-forge",
      "metadata": {
        "execution": {
          "iopub.execute_input": "2021-06-19T12:51:45.668694Z",
          "iopub.status.busy": "2021-06-19T12:51:45.668064Z",
          "iopub.status.idle": "2021-06-19T13:09:56.488283Z",
          "shell.execute_reply": "2021-06-19T13:09:56.488841Z",
          "shell.execute_reply.started": "2021-06-18T14:57:07.949788Z"
        },
        "papermill": {
          "duration": 1090.865443,
          "end_time": "2021-06-19T13:09:56.489221",
          "exception": false,
          "start_time": "2021-06-19T12:51:45.623778",
          "status": "completed"
        },
        "tags": [],
        "colab": {
          "base_uri": "https://localhost:8080/"
        },
        "id": "consistent-forge",
        "outputId": "f519ea47-6340-4c99-b559-d3d5677ed18c"
      },
      "outputs": [
        {
          "output_type": "stream",
          "name": "stdout",
          "text": [
            "Processing epoch 0\n",
            "Processing epoch 1\n",
            "Processing epoch 2\n",
            "Processing epoch 3\n",
            "Processing epoch 4\n",
            "Processing epoch 5\n",
            "Processing epoch 6\n",
            "Processing epoch 7\n",
            "Processing epoch 8\n",
            "Processing epoch 9\n"
          ]
        },
        {
          "output_type": "execute_result",
          "data": {
            "text/plain": [
              "<surprise.prediction_algorithms.matrix_factorization.SVD at 0x7fde00736a30>"
            ]
          },
          "metadata": {},
          "execution_count": 19
        }
      ],
      "source": [
        "model = SVD(n_epochs=10,verbose = True)\n",
        "\n",
        "data = Dataset.load_from_df(df[['User_ID', 'Movie_ID', 'Rating']], Reader())\n",
        "\n",
        "trainset, testset = train_test_split(data, test_size=0.3,random_state=10)\n",
        "\n",
        "trainset = data.build_full_trainset()\n",
        "\n",
        "model.fit(trainset)"
      ]
    },
    {
      "cell_type": "code",
      "execution_count": 20,
      "id": "accredited-technique",
      "metadata": {
        "execution": {
          "iopub.execute_input": "2021-06-19T13:09:56.624273Z",
          "iopub.status.busy": "2021-06-19T13:09:56.623154Z",
          "iopub.status.idle": "2021-06-19T13:11:51.772690Z",
          "shell.execute_reply": "2021-06-19T13:11:51.771617Z",
          "shell.execute_reply.started": "2021-06-18T15:07:29.334529Z"
        },
        "papermill": {
          "duration": 115.238802,
          "end_time": "2021-06-19T13:11:51.772919",
          "exception": false,
          "start_time": "2021-06-19T13:09:56.534117",
          "status": "completed"
        },
        "tags": [],
        "colab": {
          "base_uri": "https://localhost:8080/"
        },
        "id": "accredited-technique",
        "outputId": "c2018125-9e12-4c47-c5a3-53a3762f9fdd"
      },
      "outputs": [
        {
          "output_type": "stream",
          "name": "stdout",
          "text": [
            "RMSE: 0.8716\n"
          ]
        },
        {
          "output_type": "execute_result",
          "data": {
            "text/plain": [
              "0.8716174713950433"
            ]
          },
          "metadata": {},
          "execution_count": 20
        }
      ],
      "source": [
        "predictions = model.test(testset)\n",
        "\n",
        "accuracy.rmse(predictions, verbose=True)"
      ]
    },
    {
      "cell_type": "code",
      "execution_count": 21,
      "id": "spiritual-oregon",
      "metadata": {
        "execution": {
          "iopub.execute_input": "2021-06-19T13:11:51.868433Z",
          "iopub.status.busy": "2021-06-19T13:11:51.867777Z",
          "iopub.status.idle": "2021-06-19T13:11:51.874397Z",
          "shell.execute_reply": "2021-06-19T13:11:51.874932Z",
          "shell.execute_reply.started": "2021-06-18T15:09:40.392225Z"
        },
        "papermill": {
          "duration": 0.055834,
          "end_time": "2021-06-19T13:11:51.875118",
          "exception": false,
          "start_time": "2021-06-19T13:11:51.819284",
          "status": "completed"
        },
        "tags": [],
        "id": "spiritual-oregon"
      },
      "outputs": [],
      "source": [
        "def Recommendation(given_user_id,n_movies):\n",
        "    given_user = df_title.copy()\n",
        "    given_user = given_user.reset_index()\n",
        "    given_user = given_user[~given_user['Movie_ID'].isin(drop_movie_list)]\n",
        "\n",
        "\n",
        "    given_user['Estimated_Rating'] = given_user['Movie_ID'].apply(lambda x: model.predict(given_user_id, x).est)\n",
        "\n",
        "    given_user = given_user.drop('Movie_ID', axis = 1)\n",
        "\n",
        "    given_user = given_user.sort_values('Estimated_Rating', ascending=False)\n",
        "    given_user.drop(['index'], axis = 1,inplace=True)\n",
        "    given_user.reset_index(inplace=True,drop=True)\n",
        "    return given_user.head(n_movies)"
      ]
    },
    {
      "cell_type": "markdown",
      "id": "intended-product",
      "metadata": {
        "papermill": {
          "duration": 0.046141,
          "end_time": "2021-06-19T13:11:51.966975",
          "exception": false,
          "start_time": "2021-06-19T13:11:51.920834",
          "status": "completed"
        },
        "tags": [],
        "id": "intended-product"
      },
      "source": [
        "### Movie Recommendation for User - 712664"
      ]
    },
    {
      "cell_type": "code",
      "execution_count": 22,
      "id": "nervous-answer",
      "metadata": {
        "execution": {
          "iopub.execute_input": "2021-06-19T13:11:52.064789Z",
          "iopub.status.busy": "2021-06-19T13:11:52.064075Z",
          "iopub.status.idle": "2021-06-19T13:11:52.242638Z",
          "shell.execute_reply": "2021-06-19T13:11:52.241949Z",
          "shell.execute_reply.started": "2021-06-18T15:09:40.403250Z"
        },
        "papermill": {
          "duration": 0.229461,
          "end_time": "2021-06-19T13:11:52.242793",
          "exception": false,
          "start_time": "2021-06-19T13:11:52.013332",
          "status": "completed"
        },
        "tags": [],
        "colab": {
          "base_uri": "https://localhost:8080/",
          "height": 363
        },
        "id": "nervous-answer",
        "outputId": "d4dc8bd8-b6ea-486f-ae36-ef4cf2725e8f"
      },
      "outputs": [
        {
          "output_type": "execute_result",
          "data": {
            "text/plain": [
              "   Year                        Name  Estimated_Rating\n",
              "0  1954               Seven Samurai          4.820601\n",
              "1  1989      The Simpsons: Season 1          4.595253\n",
              "2  1992              Reservoir Dogs          4.534182\n",
              "3  1959          North by Northwest          4.531993\n",
              "4  2003  Chappelle's Show: Season 1          4.497407\n",
              "5  1997           Princess Mononoke          4.449832\n",
              "6  1981       Sense and Sensibility          4.436528\n",
              "7  1951    A Streetcar Named Desire          4.409705\n",
              "8  2001  Sex and the City: Season 4          4.356639\n",
              "9  1975    Three Days of the Condor          4.343841"
            ],
            "text/html": [
              "\n",
              "  <div id=\"df-c8e3e893-ec7f-4813-80dc-25a36f5d8a7b\">\n",
              "    <div class=\"colab-df-container\">\n",
              "      <div>\n",
              "<style scoped>\n",
              "    .dataframe tbody tr th:only-of-type {\n",
              "        vertical-align: middle;\n",
              "    }\n",
              "\n",
              "    .dataframe tbody tr th {\n",
              "        vertical-align: top;\n",
              "    }\n",
              "\n",
              "    .dataframe thead th {\n",
              "        text-align: right;\n",
              "    }\n",
              "</style>\n",
              "<table border=\"1\" class=\"dataframe\">\n",
              "  <thead>\n",
              "    <tr style=\"text-align: right;\">\n",
              "      <th></th>\n",
              "      <th>Year</th>\n",
              "      <th>Name</th>\n",
              "      <th>Estimated_Rating</th>\n",
              "    </tr>\n",
              "  </thead>\n",
              "  <tbody>\n",
              "    <tr>\n",
              "      <th>0</th>\n",
              "      <td>1954</td>\n",
              "      <td>Seven Samurai</td>\n",
              "      <td>4.820601</td>\n",
              "    </tr>\n",
              "    <tr>\n",
              "      <th>1</th>\n",
              "      <td>1989</td>\n",
              "      <td>The Simpsons: Season 1</td>\n",
              "      <td>4.595253</td>\n",
              "    </tr>\n",
              "    <tr>\n",
              "      <th>2</th>\n",
              "      <td>1992</td>\n",
              "      <td>Reservoir Dogs</td>\n",
              "      <td>4.534182</td>\n",
              "    </tr>\n",
              "    <tr>\n",
              "      <th>3</th>\n",
              "      <td>1959</td>\n",
              "      <td>North by Northwest</td>\n",
              "      <td>4.531993</td>\n",
              "    </tr>\n",
              "    <tr>\n",
              "      <th>4</th>\n",
              "      <td>2003</td>\n",
              "      <td>Chappelle's Show: Season 1</td>\n",
              "      <td>4.497407</td>\n",
              "    </tr>\n",
              "    <tr>\n",
              "      <th>5</th>\n",
              "      <td>1997</td>\n",
              "      <td>Princess Mononoke</td>\n",
              "      <td>4.449832</td>\n",
              "    </tr>\n",
              "    <tr>\n",
              "      <th>6</th>\n",
              "      <td>1981</td>\n",
              "      <td>Sense and Sensibility</td>\n",
              "      <td>4.436528</td>\n",
              "    </tr>\n",
              "    <tr>\n",
              "      <th>7</th>\n",
              "      <td>1951</td>\n",
              "      <td>A Streetcar Named Desire</td>\n",
              "      <td>4.409705</td>\n",
              "    </tr>\n",
              "    <tr>\n",
              "      <th>8</th>\n",
              "      <td>2001</td>\n",
              "      <td>Sex and the City: Season 4</td>\n",
              "      <td>4.356639</td>\n",
              "    </tr>\n",
              "    <tr>\n",
              "      <th>9</th>\n",
              "      <td>1975</td>\n",
              "      <td>Three Days of the Condor</td>\n",
              "      <td>4.343841</td>\n",
              "    </tr>\n",
              "  </tbody>\n",
              "</table>\n",
              "</div>\n",
              "      <button class=\"colab-df-convert\" onclick=\"convertToInteractive('df-c8e3e893-ec7f-4813-80dc-25a36f5d8a7b')\"\n",
              "              title=\"Convert this dataframe to an interactive table.\"\n",
              "              style=\"display:none;\">\n",
              "        \n",
              "  <svg xmlns=\"http://www.w3.org/2000/svg\" height=\"24px\"viewBox=\"0 0 24 24\"\n",
              "       width=\"24px\">\n",
              "    <path d=\"M0 0h24v24H0V0z\" fill=\"none\"/>\n",
              "    <path d=\"M18.56 5.44l.94 2.06.94-2.06 2.06-.94-2.06-.94-.94-2.06-.94 2.06-2.06.94zm-11 1L8.5 8.5l.94-2.06 2.06-.94-2.06-.94L8.5 2.5l-.94 2.06-2.06.94zm10 10l.94 2.06.94-2.06 2.06-.94-2.06-.94-.94-2.06-.94 2.06-2.06.94z\"/><path d=\"M17.41 7.96l-1.37-1.37c-.4-.4-.92-.59-1.43-.59-.52 0-1.04.2-1.43.59L10.3 9.45l-7.72 7.72c-.78.78-.78 2.05 0 2.83L4 21.41c.39.39.9.59 1.41.59.51 0 1.02-.2 1.41-.59l7.78-7.78 2.81-2.81c.8-.78.8-2.07 0-2.86zM5.41 20L4 18.59l7.72-7.72 1.47 1.35L5.41 20z\"/>\n",
              "  </svg>\n",
              "      </button>\n",
              "      \n",
              "  <style>\n",
              "    .colab-df-container {\n",
              "      display:flex;\n",
              "      flex-wrap:wrap;\n",
              "      gap: 12px;\n",
              "    }\n",
              "\n",
              "    .colab-df-convert {\n",
              "      background-color: #E8F0FE;\n",
              "      border: none;\n",
              "      border-radius: 50%;\n",
              "      cursor: pointer;\n",
              "      display: none;\n",
              "      fill: #1967D2;\n",
              "      height: 32px;\n",
              "      padding: 0 0 0 0;\n",
              "      width: 32px;\n",
              "    }\n",
              "\n",
              "    .colab-df-convert:hover {\n",
              "      background-color: #E2EBFA;\n",
              "      box-shadow: 0px 1px 2px rgba(60, 64, 67, 0.3), 0px 1px 3px 1px rgba(60, 64, 67, 0.15);\n",
              "      fill: #174EA6;\n",
              "    }\n",
              "\n",
              "    [theme=dark] .colab-df-convert {\n",
              "      background-color: #3B4455;\n",
              "      fill: #D2E3FC;\n",
              "    }\n",
              "\n",
              "    [theme=dark] .colab-df-convert:hover {\n",
              "      background-color: #434B5C;\n",
              "      box-shadow: 0px 1px 3px 1px rgba(0, 0, 0, 0.15);\n",
              "      filter: drop-shadow(0px 1px 2px rgba(0, 0, 0, 0.3));\n",
              "      fill: #FFFFFF;\n",
              "    }\n",
              "  </style>\n",
              "\n",
              "      <script>\n",
              "        const buttonEl =\n",
              "          document.querySelector('#df-c8e3e893-ec7f-4813-80dc-25a36f5d8a7b button.colab-df-convert');\n",
              "        buttonEl.style.display =\n",
              "          google.colab.kernel.accessAllowed ? 'block' : 'none';\n",
              "\n",
              "        async function convertToInteractive(key) {\n",
              "          const element = document.querySelector('#df-c8e3e893-ec7f-4813-80dc-25a36f5d8a7b');\n",
              "          const dataTable =\n",
              "            await google.colab.kernel.invokeFunction('convertToInteractive',\n",
              "                                                     [key], {});\n",
              "          if (!dataTable) return;\n",
              "\n",
              "          const docLinkHtml = 'Like what you see? Visit the ' +\n",
              "            '<a target=\"_blank\" href=https://colab.research.google.com/notebooks/data_table.ipynb>data table notebook</a>'\n",
              "            + ' to learn more about interactive tables.';\n",
              "          element.innerHTML = '';\n",
              "          dataTable['output_type'] = 'display_data';\n",
              "          await google.colab.output.renderOutput(dataTable, element);\n",
              "          const docLink = document.createElement('div');\n",
              "          docLink.innerHTML = docLinkHtml;\n",
              "          element.appendChild(docLink);\n",
              "        }\n",
              "      </script>\n",
              "    </div>\n",
              "  </div>\n",
              "  "
            ]
          },
          "metadata": {},
          "execution_count": 22
        }
      ],
      "source": [
        "Recommendation(712664,10)"
      ]
    },
    {
      "cell_type": "markdown",
      "id": "adjacent-journey",
      "metadata": {
        "papermill": {
          "duration": 0.045734,
          "end_time": "2021-06-19T13:11:52.339591",
          "exception": false,
          "start_time": "2021-06-19T13:11:52.293857",
          "status": "completed"
        },
        "tags": [],
        "id": "adjacent-journey"
      },
      "source": [
        "### Movie Recommendation for User - 2643029"
      ]
    },
    {
      "cell_type": "code",
      "execution_count": 23,
      "id": "characteristic-florist",
      "metadata": {
        "execution": {
          "iopub.execute_input": "2021-06-19T13:11:52.439883Z",
          "iopub.status.busy": "2021-06-19T13:11:52.438754Z",
          "iopub.status.idle": "2021-06-19T13:11:52.608673Z",
          "shell.execute_reply": "2021-06-19T13:11:52.608064Z",
          "shell.execute_reply.started": "2021-06-18T15:09:40.594616Z"
        },
        "papermill": {
          "duration": 0.223079,
          "end_time": "2021-06-19T13:11:52.608839",
          "exception": false,
          "start_time": "2021-06-19T13:11:52.385760",
          "status": "completed"
        },
        "tags": [],
        "colab": {
          "base_uri": "https://localhost:8080/",
          "height": 363
        },
        "id": "characteristic-florist",
        "outputId": "fedac343-5189-4e41-c3ab-8c0f71e4ef97"
      },
      "outputs": [
        {
          "output_type": "execute_result",
          "data": {
            "text/plain": [
              "   Year                        Name  Estimated_Rating\n",
              "0  2001  Sex and the City: Season 4          4.494995\n",
              "1  1992              Reservoir Dogs          4.363032\n",
              "2  1981       Sense and Sensibility          4.306532\n",
              "3  1954               Seven Samurai          4.296197\n",
              "4  1989      The Simpsons: Season 1          4.271719\n",
              "5  2004                         Ray          4.223994\n",
              "6  1959          North by Northwest          4.215641\n",
              "7  1991        Fried Green Tomatoes          4.188042\n",
              "8  2002          Rabbit-Proof Fence          4.174016\n",
              "9  2003  Chappelle's Show: Season 1          4.147469"
            ],
            "text/html": [
              "\n",
              "  <div id=\"df-6838899d-6a72-45c0-a812-0cb220e43242\">\n",
              "    <div class=\"colab-df-container\">\n",
              "      <div>\n",
              "<style scoped>\n",
              "    .dataframe tbody tr th:only-of-type {\n",
              "        vertical-align: middle;\n",
              "    }\n",
              "\n",
              "    .dataframe tbody tr th {\n",
              "        vertical-align: top;\n",
              "    }\n",
              "\n",
              "    .dataframe thead th {\n",
              "        text-align: right;\n",
              "    }\n",
              "</style>\n",
              "<table border=\"1\" class=\"dataframe\">\n",
              "  <thead>\n",
              "    <tr style=\"text-align: right;\">\n",
              "      <th></th>\n",
              "      <th>Year</th>\n",
              "      <th>Name</th>\n",
              "      <th>Estimated_Rating</th>\n",
              "    </tr>\n",
              "  </thead>\n",
              "  <tbody>\n",
              "    <tr>\n",
              "      <th>0</th>\n",
              "      <td>2001</td>\n",
              "      <td>Sex and the City: Season 4</td>\n",
              "      <td>4.494995</td>\n",
              "    </tr>\n",
              "    <tr>\n",
              "      <th>1</th>\n",
              "      <td>1992</td>\n",
              "      <td>Reservoir Dogs</td>\n",
              "      <td>4.363032</td>\n",
              "    </tr>\n",
              "    <tr>\n",
              "      <th>2</th>\n",
              "      <td>1981</td>\n",
              "      <td>Sense and Sensibility</td>\n",
              "      <td>4.306532</td>\n",
              "    </tr>\n",
              "    <tr>\n",
              "      <th>3</th>\n",
              "      <td>1954</td>\n",
              "      <td>Seven Samurai</td>\n",
              "      <td>4.296197</td>\n",
              "    </tr>\n",
              "    <tr>\n",
              "      <th>4</th>\n",
              "      <td>1989</td>\n",
              "      <td>The Simpsons: Season 1</td>\n",
              "      <td>4.271719</td>\n",
              "    </tr>\n",
              "    <tr>\n",
              "      <th>5</th>\n",
              "      <td>2004</td>\n",
              "      <td>Ray</td>\n",
              "      <td>4.223994</td>\n",
              "    </tr>\n",
              "    <tr>\n",
              "      <th>6</th>\n",
              "      <td>1959</td>\n",
              "      <td>North by Northwest</td>\n",
              "      <td>4.215641</td>\n",
              "    </tr>\n",
              "    <tr>\n",
              "      <th>7</th>\n",
              "      <td>1991</td>\n",
              "      <td>Fried Green Tomatoes</td>\n",
              "      <td>4.188042</td>\n",
              "    </tr>\n",
              "    <tr>\n",
              "      <th>8</th>\n",
              "      <td>2002</td>\n",
              "      <td>Rabbit-Proof Fence</td>\n",
              "      <td>4.174016</td>\n",
              "    </tr>\n",
              "    <tr>\n",
              "      <th>9</th>\n",
              "      <td>2003</td>\n",
              "      <td>Chappelle's Show: Season 1</td>\n",
              "      <td>4.147469</td>\n",
              "    </tr>\n",
              "  </tbody>\n",
              "</table>\n",
              "</div>\n",
              "      <button class=\"colab-df-convert\" onclick=\"convertToInteractive('df-6838899d-6a72-45c0-a812-0cb220e43242')\"\n",
              "              title=\"Convert this dataframe to an interactive table.\"\n",
              "              style=\"display:none;\">\n",
              "        \n",
              "  <svg xmlns=\"http://www.w3.org/2000/svg\" height=\"24px\"viewBox=\"0 0 24 24\"\n",
              "       width=\"24px\">\n",
              "    <path d=\"M0 0h24v24H0V0z\" fill=\"none\"/>\n",
              "    <path d=\"M18.56 5.44l.94 2.06.94-2.06 2.06-.94-2.06-.94-.94-2.06-.94 2.06-2.06.94zm-11 1L8.5 8.5l.94-2.06 2.06-.94-2.06-.94L8.5 2.5l-.94 2.06-2.06.94zm10 10l.94 2.06.94-2.06 2.06-.94-2.06-.94-.94-2.06-.94 2.06-2.06.94z\"/><path d=\"M17.41 7.96l-1.37-1.37c-.4-.4-.92-.59-1.43-.59-.52 0-1.04.2-1.43.59L10.3 9.45l-7.72 7.72c-.78.78-.78 2.05 0 2.83L4 21.41c.39.39.9.59 1.41.59.51 0 1.02-.2 1.41-.59l7.78-7.78 2.81-2.81c.8-.78.8-2.07 0-2.86zM5.41 20L4 18.59l7.72-7.72 1.47 1.35L5.41 20z\"/>\n",
              "  </svg>\n",
              "      </button>\n",
              "      \n",
              "  <style>\n",
              "    .colab-df-container {\n",
              "      display:flex;\n",
              "      flex-wrap:wrap;\n",
              "      gap: 12px;\n",
              "    }\n",
              "\n",
              "    .colab-df-convert {\n",
              "      background-color: #E8F0FE;\n",
              "      border: none;\n",
              "      border-radius: 50%;\n",
              "      cursor: pointer;\n",
              "      display: none;\n",
              "      fill: #1967D2;\n",
              "      height: 32px;\n",
              "      padding: 0 0 0 0;\n",
              "      width: 32px;\n",
              "    }\n",
              "\n",
              "    .colab-df-convert:hover {\n",
              "      background-color: #E2EBFA;\n",
              "      box-shadow: 0px 1px 2px rgba(60, 64, 67, 0.3), 0px 1px 3px 1px rgba(60, 64, 67, 0.15);\n",
              "      fill: #174EA6;\n",
              "    }\n",
              "\n",
              "    [theme=dark] .colab-df-convert {\n",
              "      background-color: #3B4455;\n",
              "      fill: #D2E3FC;\n",
              "    }\n",
              "\n",
              "    [theme=dark] .colab-df-convert:hover {\n",
              "      background-color: #434B5C;\n",
              "      box-shadow: 0px 1px 3px 1px rgba(0, 0, 0, 0.15);\n",
              "      filter: drop-shadow(0px 1px 2px rgba(0, 0, 0, 0.3));\n",
              "      fill: #FFFFFF;\n",
              "    }\n",
              "  </style>\n",
              "\n",
              "      <script>\n",
              "        const buttonEl =\n",
              "          document.querySelector('#df-6838899d-6a72-45c0-a812-0cb220e43242 button.colab-df-convert');\n",
              "        buttonEl.style.display =\n",
              "          google.colab.kernel.accessAllowed ? 'block' : 'none';\n",
              "\n",
              "        async function convertToInteractive(key) {\n",
              "          const element = document.querySelector('#df-6838899d-6a72-45c0-a812-0cb220e43242');\n",
              "          const dataTable =\n",
              "            await google.colab.kernel.invokeFunction('convertToInteractive',\n",
              "                                                     [key], {});\n",
              "          if (!dataTable) return;\n",
              "\n",
              "          const docLinkHtml = 'Like what you see? Visit the ' +\n",
              "            '<a target=\"_blank\" href=https://colab.research.google.com/notebooks/data_table.ipynb>data table notebook</a>'\n",
              "            + ' to learn more about interactive tables.';\n",
              "          element.innerHTML = '';\n",
              "          dataTable['output_type'] = 'display_data';\n",
              "          await google.colab.output.renderOutput(dataTable, element);\n",
              "          const docLink = document.createElement('div');\n",
              "          docLink.innerHTML = docLinkHtml;\n",
              "          element.appendChild(docLink);\n",
              "        }\n",
              "      </script>\n",
              "    </div>\n",
              "  </div>\n",
              "  "
            ]
          },
          "metadata": {},
          "execution_count": 23
        }
      ],
      "source": [
        "Recommendation(2643029,10)"
      ]
    }
  ],
  "metadata": {
    "kernelspec": {
      "display_name": "Python 3 (ipykernel)",
      "language": "python",
      "name": "python3"
    },
    "language_info": {
      "codemirror_mode": {
        "name": "ipython",
        "version": 3
      },
      "file_extension": ".py",
      "mimetype": "text/x-python",
      "name": "python",
      "nbconvert_exporter": "python",
      "pygments_lexer": "ipython3",
      "version": "3.9.13"
    },
    "papermill": {
      "default_parameters": {},
      "duration": 1276.014934,
      "end_time": "2021-06-19T13:12:39.098836",
      "environment_variables": {},
      "exception": null,
      "input_path": "__notebook__.ipynb",
      "output_path": "__notebook__.ipynb",
      "parameters": {},
      "start_time": "2021-06-19T12:51:23.083902",
      "version": "2.3.2"
    },
    "colab": {
      "provenance": []
    }
  },
  "nbformat": 4,
  "nbformat_minor": 5
}