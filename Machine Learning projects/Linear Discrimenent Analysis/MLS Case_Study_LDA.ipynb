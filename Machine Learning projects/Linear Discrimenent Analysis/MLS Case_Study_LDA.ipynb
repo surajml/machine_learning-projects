{
 "cells": [
  {
   "cell_type": "markdown",
   "metadata": {
    "id": "ublbUGGBOPU1"
   },
   "source": [
    "\n",
    "## MLS Case Study PCA\n",
    "-----------------------------\n",
    "## Context:\n",
    "-----------------------------\n",
    "In this case study, we will use the Education dataset which contains information on educational institutes in USA. The data has various attributes such as number of applications received, enrollments, faculty education, financial aspects and graduation rate of each institute. \n",
    "\n",
    "-----------------------------\n",
    "## Objective: \n",
    "-----------------------------\n",
    "The objective of this problem is to reduce the number of features by using dimensionality reduction techniques like PCA and extract insights. \n",
    "\n",
    "-----------------------------\n",
    "## Dataset: \n",
    "-----------------------------\n",
    "\n",
    "The Education dataset contains information on various colleges in USA. It contains the following information:\n",
    "\n",
    "- Names: Names of various universities and colleges\n",
    "- Apps: Number of applications received\n",
    "- Accept: Number of applications accepted\n",
    "- Enroll: Number of new students enrolled\n",
    "- Top10perc: Percentage of new students from top 10% of Higher Secondary class\n",
    "- Top25perc: Percentage of new students from top 25% of Higher Secondary class\n",
    "- F_Undergrad: Number of full-time undergraduate students\n",
    "- P_Undergrad: Number of part-time undergraduate students\n",
    "- Outstate: Number of students for whom the particular college or university is out-of-state tuition\n",
    "- Room_Board: Cost of room and board\n",
    "- Books: Estimated book costs for a student\n",
    "- Personal: Estimated personal spending for a student\n",
    "- PhD: Percentage of faculties with a Ph.D.\n",
    "- Terminal: Percentage of faculties with terminal degree\n",
    "- S_F_Ratio: Student/faculty ratio\n",
    "- perc_alumni: Percentage of alumni who donate\n",
    "- Expend: The instructional expenditure per student\n",
    "- Grad_Rate: Graduation rate"
   ]
  },
  {
   "cell_type": "markdown",
   "metadata": {
    "id": "--TM2FWEOPU4"
   },
   "source": [
    "## Importing libraries and overview of the dataset"
   ]
  },
  {
   "cell_type": "code",
   "execution_count": 4,
   "metadata": {
    "executionInfo": {
     "elapsed": 2748,
     "status": "ok",
     "timestamp": 1679156475167,
     "user": {
      "displayName": "Abhinav Harsh",
      "userId": "08825161285052345463"
     },
     "user_tz": -330
    },
    "id": "WK1odb70OPU4"
   },
   "outputs": [],
   "source": [
    "import pandas as pd\n",
    "import numpy as np\n",
    "import matplotlib.pyplot as plt\n",
    "import seaborn as sns\n",
    "\n",
    "#to scale the data using z-score \n",
    "from sklearn.preprocessing import StandardScaler\n",
    "\n",
    "#Importing PCA\n",
    "from sklearn.decomposition import PCA\n",
    "\n",
    "from sklearn.model_selection import train_test_split, cross_val_score\n",
    "from sklearn.preprocessing import StandardScaler\n",
    "from sklearn.linear_model import LogisticRegression\n",
    "from sklearn.tree import DecisionTreeClassifier\n",
    "from sklearn.ensemble import RandomForestClassifier\n",
    "from sklearn.svm import SVC\n",
    "from sklearn.metrics import accuracy_score\n",
    "from sklearn.metrics import confusion_matrix\n",
    "\n",
    "from sklearn.discriminant_analysis import LinearDiscriminantAnalysis\n"
   ]
  },
  {
   "cell_type": "markdown",
   "metadata": {
    "id": "vs1MY6T_OPU5"
   },
   "source": [
    "#### Loading data"
   ]
  },
  {
   "cell_type": "code",
   "execution_count": 5,
   "metadata": {
    "colab": {
     "base_uri": "https://localhost:8080/"
    },
    "executionInfo": {
     "elapsed": 19991,
     "status": "ok",
     "timestamp": 1679157074288,
     "user": {
      "displayName": "Abhinav Harsh",
      "userId": "08825161285052345463"
     },
     "user_tz": -330
    },
    "id": "d9pyxhRkOPU5",
    "outputId": "5b33088f-2a7d-4a2a-d664-2cb00d50f4e3"
   },
   "outputs": [],
   "source": [
    "# data=pd.read_csv(\"Education_Post_12th_Standard.csv\")\n",
    "\n",
    "data = pd.read_csv(\"Education_Post_12th_Standard - Education_Post_12th_Standard.csv\")\n"
   ]
  },
  {
   "cell_type": "code",
   "execution_count": 6,
   "metadata": {
    "colab": {
     "base_uri": "https://localhost:8080/",
     "height": 354
    },
    "executionInfo": {
     "elapsed": 779,
     "status": "ok",
     "timestamp": 1679157076912,
     "user": {
      "displayName": "Abhinav Harsh",
      "userId": "08825161285052345463"
     },
     "user_tz": -330
    },
    "id": "WXDs3HgqOPU5",
    "outputId": "9d7b0880-2145-4d0d-d4ec-fa7e67358392"
   },
   "outputs": [
    {
     "data": {
      "text/html": [
       "<div>\n",
       "<style scoped>\n",
       "    .dataframe tbody tr th:only-of-type {\n",
       "        vertical-align: middle;\n",
       "    }\n",
       "\n",
       "    .dataframe tbody tr th {\n",
       "        vertical-align: top;\n",
       "    }\n",
       "\n",
       "    .dataframe thead th {\n",
       "        text-align: right;\n",
       "    }\n",
       "</style>\n",
       "<table border=\"1\" class=\"dataframe\">\n",
       "  <thead>\n",
       "    <tr style=\"text-align: right;\">\n",
       "      <th></th>\n",
       "      <th>Names</th>\n",
       "      <th>Apps</th>\n",
       "      <th>Accept</th>\n",
       "      <th>Enroll</th>\n",
       "      <th>Top10perc</th>\n",
       "      <th>Top25perc</th>\n",
       "      <th>F_Undergrad</th>\n",
       "      <th>P_Undergrad</th>\n",
       "      <th>Outstate</th>\n",
       "      <th>Room_Board</th>\n",
       "      <th>Books</th>\n",
       "      <th>Personal</th>\n",
       "      <th>PhD</th>\n",
       "      <th>Terminal</th>\n",
       "      <th>S_F_Ratio</th>\n",
       "      <th>perc_alumni</th>\n",
       "      <th>Expend</th>\n",
       "      <th>Grad_Rate</th>\n",
       "      <th>Target</th>\n",
       "    </tr>\n",
       "  </thead>\n",
       "  <tbody>\n",
       "    <tr>\n",
       "      <th>0</th>\n",
       "      <td>Princeton University</td>\n",
       "      <td>13218</td>\n",
       "      <td>2042</td>\n",
       "      <td>1153</td>\n",
       "      <td>90</td>\n",
       "      <td>98</td>\n",
       "      <td>4540</td>\n",
       "      <td>146</td>\n",
       "      <td>19900</td>\n",
       "      <td>5910</td>\n",
       "      <td>675</td>\n",
       "      <td>1575</td>\n",
       "      <td>91</td>\n",
       "      <td>96</td>\n",
       "      <td>8.4</td>\n",
       "      <td>54</td>\n",
       "      <td>28320</td>\n",
       "      <td>99</td>\n",
       "      <td>1</td>\n",
       "    </tr>\n",
       "    <tr>\n",
       "      <th>1</th>\n",
       "      <td>Harvard University</td>\n",
       "      <td>13865</td>\n",
       "      <td>2165</td>\n",
       "      <td>1606</td>\n",
       "      <td>90</td>\n",
       "      <td>100</td>\n",
       "      <td>6862</td>\n",
       "      <td>320</td>\n",
       "      <td>18485</td>\n",
       "      <td>6410</td>\n",
       "      <td>500</td>\n",
       "      <td>1920</td>\n",
       "      <td>97</td>\n",
       "      <td>97</td>\n",
       "      <td>9.9</td>\n",
       "      <td>52</td>\n",
       "      <td>37219</td>\n",
       "      <td>100</td>\n",
       "      <td>1</td>\n",
       "    </tr>\n",
       "    <tr>\n",
       "      <th>2</th>\n",
       "      <td>Yale University</td>\n",
       "      <td>10705</td>\n",
       "      <td>2453</td>\n",
       "      <td>1317</td>\n",
       "      <td>95</td>\n",
       "      <td>99</td>\n",
       "      <td>5217</td>\n",
       "      <td>83</td>\n",
       "      <td>19840</td>\n",
       "      <td>6510</td>\n",
       "      <td>630</td>\n",
       "      <td>2115</td>\n",
       "      <td>96</td>\n",
       "      <td>96</td>\n",
       "      <td>5.8</td>\n",
       "      <td>49</td>\n",
       "      <td>40386</td>\n",
       "      <td>99</td>\n",
       "      <td>1</td>\n",
       "    </tr>\n",
       "    <tr>\n",
       "      <th>3</th>\n",
       "      <td>Amherst College</td>\n",
       "      <td>4302</td>\n",
       "      <td>992</td>\n",
       "      <td>418</td>\n",
       "      <td>83</td>\n",
       "      <td>96</td>\n",
       "      <td>1593</td>\n",
       "      <td>5</td>\n",
       "      <td>19760</td>\n",
       "      <td>5300</td>\n",
       "      <td>660</td>\n",
       "      <td>1598</td>\n",
       "      <td>93</td>\n",
       "      <td>98</td>\n",
       "      <td>8.4</td>\n",
       "      <td>63</td>\n",
       "      <td>21424</td>\n",
       "      <td>100</td>\n",
       "      <td>1</td>\n",
       "    </tr>\n",
       "    <tr>\n",
       "      <th>4</th>\n",
       "      <td>Brown University</td>\n",
       "      <td>12586</td>\n",
       "      <td>3239</td>\n",
       "      <td>1462</td>\n",
       "      <td>87</td>\n",
       "      <td>95</td>\n",
       "      <td>5643</td>\n",
       "      <td>349</td>\n",
       "      <td>19528</td>\n",
       "      <td>5926</td>\n",
       "      <td>720</td>\n",
       "      <td>1100</td>\n",
       "      <td>99</td>\n",
       "      <td>100</td>\n",
       "      <td>7.6</td>\n",
       "      <td>39</td>\n",
       "      <td>20440</td>\n",
       "      <td>97</td>\n",
       "      <td>1</td>\n",
       "    </tr>\n",
       "  </tbody>\n",
       "</table>\n",
       "</div>"
      ],
      "text/plain": [
       "                  Names   Apps  Accept  Enroll  Top10perc  Top25perc  \\\n",
       "0  Princeton University  13218    2042    1153         90         98   \n",
       "1    Harvard University  13865    2165    1606         90        100   \n",
       "2       Yale University  10705    2453    1317         95         99   \n",
       "3       Amherst College   4302     992     418         83         96   \n",
       "4      Brown University  12586    3239    1462         87         95   \n",
       "\n",
       "   F_Undergrad  P_Undergrad  Outstate  Room_Board  Books  Personal  PhD  \\\n",
       "0         4540          146     19900        5910    675      1575   91   \n",
       "1         6862          320     18485        6410    500      1920   97   \n",
       "2         5217           83     19840        6510    630      2115   96   \n",
       "3         1593            5     19760        5300    660      1598   93   \n",
       "4         5643          349     19528        5926    720      1100   99   \n",
       "\n",
       "   Terminal  S_F_Ratio  perc_alumni  Expend  Grad_Rate  Target  \n",
       "0        96        8.4           54   28320         99       1  \n",
       "1        97        9.9           52   37219        100       1  \n",
       "2        96        5.8           49   40386         99       1  \n",
       "3        98        8.4           63   21424        100       1  \n",
       "4       100        7.6           39   20440         97       1  "
      ]
     },
     "execution_count": 6,
     "metadata": {},
     "output_type": "execute_result"
    }
   ],
   "source": [
    "data.head()"
   ]
  },
  {
   "cell_type": "code",
   "execution_count": 7,
   "metadata": {
    "colab": {
     "base_uri": "https://localhost:8080/"
    },
    "executionInfo": {
     "elapsed": 3,
     "status": "ok",
     "timestamp": 1679157080109,
     "user": {
      "displayName": "Abhinav Harsh",
      "userId": "08825161285052345463"
     },
     "user_tz": -330
    },
    "id": "QdvT-jUQSpsU",
    "outputId": "71ddd9ca-a890-4d65-d919-04a707cdbd97"
   },
   "outputs": [
    {
     "data": {
      "text/plain": [
       "(777, 19)"
      ]
     },
     "execution_count": 7,
     "metadata": {},
     "output_type": "execute_result"
    }
   ],
   "source": [
    "data.shape"
   ]
  },
  {
   "cell_type": "markdown",
   "metadata": {
    "id": "CsHzFoepOPU6"
   },
   "source": [
    "#### Check the info of the data"
   ]
  },
  {
   "cell_type": "code",
   "execution_count": 8,
   "metadata": {
    "colab": {
     "base_uri": "https://localhost:8080/"
    },
    "executionInfo": {
     "elapsed": 3,
     "status": "ok",
     "timestamp": 1679157082380,
     "user": {
      "displayName": "Abhinav Harsh",
      "userId": "08825161285052345463"
     },
     "user_tz": -330
    },
    "id": "RQip-RQ8OPU7",
    "outputId": "449ec782-7ed7-461f-e11f-5d7945f7c6eb"
   },
   "outputs": [
    {
     "name": "stdout",
     "output_type": "stream",
     "text": [
      "<class 'pandas.core.frame.DataFrame'>\n",
      "RangeIndex: 777 entries, 0 to 776\n",
      "Data columns (total 19 columns):\n",
      " #   Column       Non-Null Count  Dtype  \n",
      "---  ------       --------------  -----  \n",
      " 0   Names        777 non-null    object \n",
      " 1   Apps         777 non-null    int64  \n",
      " 2   Accept       777 non-null    int64  \n",
      " 3   Enroll       777 non-null    int64  \n",
      " 4   Top10perc    777 non-null    int64  \n",
      " 5   Top25perc    777 non-null    int64  \n",
      " 6   F_Undergrad  777 non-null    int64  \n",
      " 7   P_Undergrad  777 non-null    int64  \n",
      " 8   Outstate     777 non-null    int64  \n",
      " 9   Room_Board   777 non-null    int64  \n",
      " 10  Books        777 non-null    int64  \n",
      " 11  Personal     777 non-null    int64  \n",
      " 12  PhD          777 non-null    int64  \n",
      " 13  Terminal     777 non-null    int64  \n",
      " 14  S_F_Ratio    777 non-null    float64\n",
      " 15  perc_alumni  777 non-null    int64  \n",
      " 16  Expend       777 non-null    int64  \n",
      " 17  Grad_Rate    777 non-null    int64  \n",
      " 18  Target       777 non-null    int64  \n",
      "dtypes: float64(1), int64(17), object(1)\n",
      "memory usage: 115.5+ KB\n"
     ]
    }
   ],
   "source": [
    "data.info()"
   ]
  },
  {
   "cell_type": "code",
   "execution_count": 9,
   "metadata": {
    "colab": {
     "base_uri": "https://localhost:8080/",
     "height": 748
    },
    "executionInfo": {
     "elapsed": 460,
     "status": "ok",
     "timestamp": 1679157133799,
     "user": {
      "displayName": "Abhinav Harsh",
      "userId": "08825161285052345463"
     },
     "user_tz": -330
    },
    "id": "K9T9So_pSAkI",
    "outputId": "c61d7131-6893-4bb9-c3d0-ed7f0f512729"
   },
   "outputs": [
    {
     "data": {
      "text/html": [
       "<div>\n",
       "<style scoped>\n",
       "    .dataframe tbody tr th:only-of-type {\n",
       "        vertical-align: middle;\n",
       "    }\n",
       "\n",
       "    .dataframe tbody tr th {\n",
       "        vertical-align: top;\n",
       "    }\n",
       "\n",
       "    .dataframe thead th {\n",
       "        text-align: right;\n",
       "    }\n",
       "</style>\n",
       "<table border=\"1\" class=\"dataframe\">\n",
       "  <thead>\n",
       "    <tr style=\"text-align: right;\">\n",
       "      <th></th>\n",
       "      <th>Names</th>\n",
       "      <th>Apps</th>\n",
       "      <th>Accept</th>\n",
       "      <th>Enroll</th>\n",
       "      <th>Top10perc</th>\n",
       "      <th>Top25perc</th>\n",
       "      <th>F_Undergrad</th>\n",
       "      <th>P_Undergrad</th>\n",
       "      <th>Outstate</th>\n",
       "      <th>Room_Board</th>\n",
       "      <th>Books</th>\n",
       "      <th>Personal</th>\n",
       "      <th>PhD</th>\n",
       "      <th>Terminal</th>\n",
       "      <th>S_F_Ratio</th>\n",
       "      <th>perc_alumni</th>\n",
       "      <th>Expend</th>\n",
       "      <th>Grad_Rate</th>\n",
       "      <th>Target</th>\n",
       "    </tr>\n",
       "  </thead>\n",
       "  <tbody>\n",
       "    <tr>\n",
       "      <th>0</th>\n",
       "      <td>Princeton University</td>\n",
       "      <td>13218</td>\n",
       "      <td>2042</td>\n",
       "      <td>1153</td>\n",
       "      <td>90</td>\n",
       "      <td>98</td>\n",
       "      <td>4540</td>\n",
       "      <td>146</td>\n",
       "      <td>19900</td>\n",
       "      <td>5910</td>\n",
       "      <td>675</td>\n",
       "      <td>1575</td>\n",
       "      <td>91</td>\n",
       "      <td>96</td>\n",
       "      <td>8.4</td>\n",
       "      <td>54</td>\n",
       "      <td>28320</td>\n",
       "      <td>99</td>\n",
       "      <td>1</td>\n",
       "    </tr>\n",
       "    <tr>\n",
       "      <th>1</th>\n",
       "      <td>Harvard University</td>\n",
       "      <td>13865</td>\n",
       "      <td>2165</td>\n",
       "      <td>1606</td>\n",
       "      <td>90</td>\n",
       "      <td>100</td>\n",
       "      <td>6862</td>\n",
       "      <td>320</td>\n",
       "      <td>18485</td>\n",
       "      <td>6410</td>\n",
       "      <td>500</td>\n",
       "      <td>1920</td>\n",
       "      <td>97</td>\n",
       "      <td>97</td>\n",
       "      <td>9.9</td>\n",
       "      <td>52</td>\n",
       "      <td>37219</td>\n",
       "      <td>100</td>\n",
       "      <td>1</td>\n",
       "    </tr>\n",
       "    <tr>\n",
       "      <th>2</th>\n",
       "      <td>Yale University</td>\n",
       "      <td>10705</td>\n",
       "      <td>2453</td>\n",
       "      <td>1317</td>\n",
       "      <td>95</td>\n",
       "      <td>99</td>\n",
       "      <td>5217</td>\n",
       "      <td>83</td>\n",
       "      <td>19840</td>\n",
       "      <td>6510</td>\n",
       "      <td>630</td>\n",
       "      <td>2115</td>\n",
       "      <td>96</td>\n",
       "      <td>96</td>\n",
       "      <td>5.8</td>\n",
       "      <td>49</td>\n",
       "      <td>40386</td>\n",
       "      <td>99</td>\n",
       "      <td>1</td>\n",
       "    </tr>\n",
       "    <tr>\n",
       "      <th>3</th>\n",
       "      <td>Amherst College</td>\n",
       "      <td>4302</td>\n",
       "      <td>992</td>\n",
       "      <td>418</td>\n",
       "      <td>83</td>\n",
       "      <td>96</td>\n",
       "      <td>1593</td>\n",
       "      <td>5</td>\n",
       "      <td>19760</td>\n",
       "      <td>5300</td>\n",
       "      <td>660</td>\n",
       "      <td>1598</td>\n",
       "      <td>93</td>\n",
       "      <td>98</td>\n",
       "      <td>8.4</td>\n",
       "      <td>63</td>\n",
       "      <td>21424</td>\n",
       "      <td>100</td>\n",
       "      <td>1</td>\n",
       "    </tr>\n",
       "    <tr>\n",
       "      <th>4</th>\n",
       "      <td>Brown University</td>\n",
       "      <td>12586</td>\n",
       "      <td>3239</td>\n",
       "      <td>1462</td>\n",
       "      <td>87</td>\n",
       "      <td>95</td>\n",
       "      <td>5643</td>\n",
       "      <td>349</td>\n",
       "      <td>19528</td>\n",
       "      <td>5926</td>\n",
       "      <td>720</td>\n",
       "      <td>1100</td>\n",
       "      <td>99</td>\n",
       "      <td>100</td>\n",
       "      <td>7.6</td>\n",
       "      <td>39</td>\n",
       "      <td>20440</td>\n",
       "      <td>97</td>\n",
       "      <td>1</td>\n",
       "    </tr>\n",
       "    <tr>\n",
       "      <th>...</th>\n",
       "      <td>...</td>\n",
       "      <td>...</td>\n",
       "      <td>...</td>\n",
       "      <td>...</td>\n",
       "      <td>...</td>\n",
       "      <td>...</td>\n",
       "      <td>...</td>\n",
       "      <td>...</td>\n",
       "      <td>...</td>\n",
       "      <td>...</td>\n",
       "      <td>...</td>\n",
       "      <td>...</td>\n",
       "      <td>...</td>\n",
       "      <td>...</td>\n",
       "      <td>...</td>\n",
       "      <td>...</td>\n",
       "      <td>...</td>\n",
       "      <td>...</td>\n",
       "      <td>...</td>\n",
       "    </tr>\n",
       "    <tr>\n",
       "      <th>772</th>\n",
       "      <td>Mayville State University</td>\n",
       "      <td>233</td>\n",
       "      <td>233</td>\n",
       "      <td>153</td>\n",
       "      <td>5</td>\n",
       "      <td>12</td>\n",
       "      <td>658</td>\n",
       "      <td>58</td>\n",
       "      <td>4486</td>\n",
       "      <td>2516</td>\n",
       "      <td>600</td>\n",
       "      <td>1900</td>\n",
       "      <td>68</td>\n",
       "      <td>68</td>\n",
       "      <td>15.7</td>\n",
       "      <td>11</td>\n",
       "      <td>6971</td>\n",
       "      <td>51</td>\n",
       "      <td>0</td>\n",
       "    </tr>\n",
       "    <tr>\n",
       "      <th>773</th>\n",
       "      <td>MidAmerica Nazarene College</td>\n",
       "      <td>331</td>\n",
       "      <td>331</td>\n",
       "      <td>225</td>\n",
       "      <td>15</td>\n",
       "      <td>36</td>\n",
       "      <td>1100</td>\n",
       "      <td>166</td>\n",
       "      <td>6840</td>\n",
       "      <td>3720</td>\n",
       "      <td>1100</td>\n",
       "      <td>4913</td>\n",
       "      <td>33</td>\n",
       "      <td>33</td>\n",
       "      <td>15.4</td>\n",
       "      <td>20</td>\n",
       "      <td>5524</td>\n",
       "      <td>49</td>\n",
       "      <td>0</td>\n",
       "    </tr>\n",
       "    <tr>\n",
       "      <th>774</th>\n",
       "      <td>Southwest Baptist University</td>\n",
       "      <td>1093</td>\n",
       "      <td>1093</td>\n",
       "      <td>642</td>\n",
       "      <td>12</td>\n",
       "      <td>32</td>\n",
       "      <td>1770</td>\n",
       "      <td>967</td>\n",
       "      <td>7070</td>\n",
       "      <td>2500</td>\n",
       "      <td>400</td>\n",
       "      <td>1000</td>\n",
       "      <td>52</td>\n",
       "      <td>54</td>\n",
       "      <td>15.9</td>\n",
       "      <td>13</td>\n",
       "      <td>4718</td>\n",
       "      <td>71</td>\n",
       "      <td>0</td>\n",
       "    </tr>\n",
       "    <tr>\n",
       "      <th>775</th>\n",
       "      <td>University of Wisconsin-Superior</td>\n",
       "      <td>910</td>\n",
       "      <td>910</td>\n",
       "      <td>342</td>\n",
       "      <td>14</td>\n",
       "      <td>53</td>\n",
       "      <td>1434</td>\n",
       "      <td>417</td>\n",
       "      <td>7032</td>\n",
       "      <td>2780</td>\n",
       "      <td>550</td>\n",
       "      <td>1960</td>\n",
       "      <td>75</td>\n",
       "      <td>81</td>\n",
       "      <td>15.2</td>\n",
       "      <td>15</td>\n",
       "      <td>6490</td>\n",
       "      <td>36</td>\n",
       "      <td>0</td>\n",
       "    </tr>\n",
       "    <tr>\n",
       "      <th>776</th>\n",
       "      <td>Wayne State College</td>\n",
       "      <td>1373</td>\n",
       "      <td>1373</td>\n",
       "      <td>724</td>\n",
       "      <td>6</td>\n",
       "      <td>21</td>\n",
       "      <td>2754</td>\n",
       "      <td>474</td>\n",
       "      <td>2700</td>\n",
       "      <td>2660</td>\n",
       "      <td>540</td>\n",
       "      <td>1660</td>\n",
       "      <td>60</td>\n",
       "      <td>68</td>\n",
       "      <td>20.3</td>\n",
       "      <td>29</td>\n",
       "      <td>4550</td>\n",
       "      <td>52</td>\n",
       "      <td>0</td>\n",
       "    </tr>\n",
       "  </tbody>\n",
       "</table>\n",
       "<p>777 rows × 19 columns</p>\n",
       "</div>"
      ],
      "text/plain": [
       "                                Names   Apps  Accept  Enroll  Top10perc  \\\n",
       "0                Princeton University  13218    2042    1153         90   \n",
       "1                  Harvard University  13865    2165    1606         90   \n",
       "2                     Yale University  10705    2453    1317         95   \n",
       "3                     Amherst College   4302     992     418         83   \n",
       "4                    Brown University  12586    3239    1462         87   \n",
       "..                                ...    ...     ...     ...        ...   \n",
       "772         Mayville State University    233     233     153          5   \n",
       "773       MidAmerica Nazarene College    331     331     225         15   \n",
       "774      Southwest Baptist University   1093    1093     642         12   \n",
       "775  University of Wisconsin-Superior    910     910     342         14   \n",
       "776               Wayne State College   1373    1373     724          6   \n",
       "\n",
       "     Top25perc  F_Undergrad  P_Undergrad  Outstate  Room_Board  Books  \\\n",
       "0           98         4540          146     19900        5910    675   \n",
       "1          100         6862          320     18485        6410    500   \n",
       "2           99         5217           83     19840        6510    630   \n",
       "3           96         1593            5     19760        5300    660   \n",
       "4           95         5643          349     19528        5926    720   \n",
       "..         ...          ...          ...       ...         ...    ...   \n",
       "772         12          658           58      4486        2516    600   \n",
       "773         36         1100          166      6840        3720   1100   \n",
       "774         32         1770          967      7070        2500    400   \n",
       "775         53         1434          417      7032        2780    550   \n",
       "776         21         2754          474      2700        2660    540   \n",
       "\n",
       "     Personal  PhD  Terminal  S_F_Ratio  perc_alumni  Expend  Grad_Rate  \\\n",
       "0        1575   91        96        8.4           54   28320         99   \n",
       "1        1920   97        97        9.9           52   37219        100   \n",
       "2        2115   96        96        5.8           49   40386         99   \n",
       "3        1598   93        98        8.4           63   21424        100   \n",
       "4        1100   99       100        7.6           39   20440         97   \n",
       "..        ...  ...       ...        ...          ...     ...        ...   \n",
       "772      1900   68        68       15.7           11    6971         51   \n",
       "773      4913   33        33       15.4           20    5524         49   \n",
       "774      1000   52        54       15.9           13    4718         71   \n",
       "775      1960   75        81       15.2           15    6490         36   \n",
       "776      1660   60        68       20.3           29    4550         52   \n",
       "\n",
       "     Target  \n",
       "0         1  \n",
       "1         1  \n",
       "2         1  \n",
       "3         1  \n",
       "4         1  \n",
       "..      ...  \n",
       "772       0  \n",
       "773       0  \n",
       "774       0  \n",
       "775       0  \n",
       "776       0  \n",
       "\n",
       "[777 rows x 19 columns]"
      ]
     },
     "execution_count": 9,
     "metadata": {},
     "output_type": "execute_result"
    }
   ],
   "source": [
    "# Create target variable\n",
    "data['Acceptance_rate'] = data['Accept']/data['Apps']\n",
    "data[\"Target\"] = (data[\"Acceptance_rate\"] < 0.6).astype(int)\n",
    "data = data.drop('Acceptance_rate',axis=1)\n",
    "data"
   ]
  },
  {
   "cell_type": "markdown",
   "metadata": {
    "id": "kpkFQ3NoOPU7"
   },
   "source": [
    "**Observations:**\n",
    "\n",
    "- There are 777 observations and 18 columns in the dataset.\n",
    "- All columns have 777 non-null values i.e. there are no missing values.\n",
    "- All columns are numeric except the Names column which is of object data type."
   ]
  },
  {
   "cell_type": "markdown",
   "metadata": {
    "id": "EjyVmIjLOPU7"
   },
   "source": [
    "## Data Preprocessing and Exploratory Data Analysis"
   ]
  },
  {
   "cell_type": "markdown",
   "metadata": {
    "id": "-5j6cuToOPU8"
   },
   "source": [
    "#### Check if all the college names are unique"
   ]
  },
  {
   "cell_type": "code",
   "execution_count": 10,
   "metadata": {
    "colab": {
     "base_uri": "https://localhost:8080/"
    },
    "executionInfo": {
     "elapsed": 2,
     "status": "ok",
     "timestamp": 1679157146440,
     "user": {
      "displayName": "Abhinav Harsh",
      "userId": "08825161285052345463"
     },
     "user_tz": -330
    },
    "id": "4Xw18kSVOPU8",
    "outputId": "e556ad99-0496-44c5-ab61-1e56d3636d62"
   },
   "outputs": [
    {
     "data": {
      "text/plain": [
       "777"
      ]
     },
     "execution_count": 10,
     "metadata": {},
     "output_type": "execute_result"
    }
   ],
   "source": [
    "data.Names.nunique()"
   ]
  },
  {
   "cell_type": "markdown",
   "metadata": {
    "id": "zEbywvWQOPU8"
   },
   "source": [
    "**Observations:**\n",
    "\n",
    "- All college names are unique\n",
    "- As all entries are unique, it would not add value to our analysis. We can drop the Names column. "
   ]
  },
  {
   "cell_type": "code",
   "execution_count": 11,
   "metadata": {
    "executionInfo": {
     "elapsed": 5,
     "status": "ok",
     "timestamp": 1679157152628,
     "user": {
      "displayName": "Abhinav Harsh",
      "userId": "08825161285052345463"
     },
     "user_tz": -330
    },
    "id": "4mFcBCXbOPU9"
   },
   "outputs": [],
   "source": [
    "#Dropping Names column \n",
    "data.drop(columns=\"Names\", inplace=True)"
   ]
  },
  {
   "cell_type": "markdown",
   "metadata": {
    "id": "qj_i7NdvOPU9"
   },
   "source": [
    "#### Summary Statistics"
   ]
  },
  {
   "cell_type": "code",
   "execution_count": 12,
   "metadata": {
    "colab": {
     "base_uri": "https://localhost:8080/",
     "height": 613
    },
    "executionInfo": {
     "elapsed": 4,
     "status": "ok",
     "timestamp": 1679157155362,
     "user": {
      "displayName": "Abhinav Harsh",
      "userId": "08825161285052345463"
     },
     "user_tz": -330
    },
    "id": "dMFv9DOCOPU9",
    "outputId": "1087a1d8-e76a-4029-d270-bff0cd7f2102"
   },
   "outputs": [
    {
     "data": {
      "text/html": [
       "<div>\n",
       "<style scoped>\n",
       "    .dataframe tbody tr th:only-of-type {\n",
       "        vertical-align: middle;\n",
       "    }\n",
       "\n",
       "    .dataframe tbody tr th {\n",
       "        vertical-align: top;\n",
       "    }\n",
       "\n",
       "    .dataframe thead th {\n",
       "        text-align: right;\n",
       "    }\n",
       "</style>\n",
       "<table border=\"1\" class=\"dataframe\">\n",
       "  <thead>\n",
       "    <tr style=\"text-align: right;\">\n",
       "      <th></th>\n",
       "      <th>count</th>\n",
       "      <th>mean</th>\n",
       "      <th>std</th>\n",
       "      <th>min</th>\n",
       "      <th>25%</th>\n",
       "      <th>50%</th>\n",
       "      <th>75%</th>\n",
       "      <th>max</th>\n",
       "    </tr>\n",
       "  </thead>\n",
       "  <tbody>\n",
       "    <tr>\n",
       "      <th>Apps</th>\n",
       "      <td>777.0</td>\n",
       "      <td>3001.638353</td>\n",
       "      <td>3870.201484</td>\n",
       "      <td>81.0</td>\n",
       "      <td>776.0</td>\n",
       "      <td>1558.0</td>\n",
       "      <td>3624.0</td>\n",
       "      <td>48094.0</td>\n",
       "    </tr>\n",
       "    <tr>\n",
       "      <th>Accept</th>\n",
       "      <td>777.0</td>\n",
       "      <td>2018.804376</td>\n",
       "      <td>2451.113971</td>\n",
       "      <td>72.0</td>\n",
       "      <td>604.0</td>\n",
       "      <td>1110.0</td>\n",
       "      <td>2424.0</td>\n",
       "      <td>26330.0</td>\n",
       "    </tr>\n",
       "    <tr>\n",
       "      <th>Enroll</th>\n",
       "      <td>777.0</td>\n",
       "      <td>779.972973</td>\n",
       "      <td>929.176190</td>\n",
       "      <td>35.0</td>\n",
       "      <td>242.0</td>\n",
       "      <td>434.0</td>\n",
       "      <td>902.0</td>\n",
       "      <td>6392.0</td>\n",
       "    </tr>\n",
       "    <tr>\n",
       "      <th>Top10perc</th>\n",
       "      <td>777.0</td>\n",
       "      <td>27.558559</td>\n",
       "      <td>17.640364</td>\n",
       "      <td>1.0</td>\n",
       "      <td>15.0</td>\n",
       "      <td>23.0</td>\n",
       "      <td>35.0</td>\n",
       "      <td>96.0</td>\n",
       "    </tr>\n",
       "    <tr>\n",
       "      <th>Top25perc</th>\n",
       "      <td>777.0</td>\n",
       "      <td>55.796654</td>\n",
       "      <td>19.804778</td>\n",
       "      <td>9.0</td>\n",
       "      <td>41.0</td>\n",
       "      <td>54.0</td>\n",
       "      <td>69.0</td>\n",
       "      <td>100.0</td>\n",
       "    </tr>\n",
       "    <tr>\n",
       "      <th>F_Undergrad</th>\n",
       "      <td>777.0</td>\n",
       "      <td>3699.907336</td>\n",
       "      <td>4850.420531</td>\n",
       "      <td>139.0</td>\n",
       "      <td>992.0</td>\n",
       "      <td>1707.0</td>\n",
       "      <td>4005.0</td>\n",
       "      <td>31643.0</td>\n",
       "    </tr>\n",
       "    <tr>\n",
       "      <th>P_Undergrad</th>\n",
       "      <td>777.0</td>\n",
       "      <td>855.298584</td>\n",
       "      <td>1522.431887</td>\n",
       "      <td>1.0</td>\n",
       "      <td>95.0</td>\n",
       "      <td>353.0</td>\n",
       "      <td>967.0</td>\n",
       "      <td>21836.0</td>\n",
       "    </tr>\n",
       "    <tr>\n",
       "      <th>Outstate</th>\n",
       "      <td>777.0</td>\n",
       "      <td>10440.669241</td>\n",
       "      <td>4023.016484</td>\n",
       "      <td>2340.0</td>\n",
       "      <td>7320.0</td>\n",
       "      <td>9990.0</td>\n",
       "      <td>12925.0</td>\n",
       "      <td>21700.0</td>\n",
       "    </tr>\n",
       "    <tr>\n",
       "      <th>Room_Board</th>\n",
       "      <td>777.0</td>\n",
       "      <td>4357.526384</td>\n",
       "      <td>1096.696416</td>\n",
       "      <td>1780.0</td>\n",
       "      <td>3597.0</td>\n",
       "      <td>4200.0</td>\n",
       "      <td>5050.0</td>\n",
       "      <td>8124.0</td>\n",
       "    </tr>\n",
       "    <tr>\n",
       "      <th>Books</th>\n",
       "      <td>777.0</td>\n",
       "      <td>549.380952</td>\n",
       "      <td>165.105360</td>\n",
       "      <td>96.0</td>\n",
       "      <td>470.0</td>\n",
       "      <td>500.0</td>\n",
       "      <td>600.0</td>\n",
       "      <td>2340.0</td>\n",
       "    </tr>\n",
       "    <tr>\n",
       "      <th>Personal</th>\n",
       "      <td>777.0</td>\n",
       "      <td>1340.642214</td>\n",
       "      <td>677.071454</td>\n",
       "      <td>250.0</td>\n",
       "      <td>850.0</td>\n",
       "      <td>1200.0</td>\n",
       "      <td>1700.0</td>\n",
       "      <td>6800.0</td>\n",
       "    </tr>\n",
       "    <tr>\n",
       "      <th>PhD</th>\n",
       "      <td>777.0</td>\n",
       "      <td>72.660232</td>\n",
       "      <td>16.328155</td>\n",
       "      <td>8.0</td>\n",
       "      <td>62.0</td>\n",
       "      <td>75.0</td>\n",
       "      <td>85.0</td>\n",
       "      <td>103.0</td>\n",
       "    </tr>\n",
       "    <tr>\n",
       "      <th>Terminal</th>\n",
       "      <td>777.0</td>\n",
       "      <td>79.702703</td>\n",
       "      <td>14.722359</td>\n",
       "      <td>24.0</td>\n",
       "      <td>71.0</td>\n",
       "      <td>82.0</td>\n",
       "      <td>92.0</td>\n",
       "      <td>100.0</td>\n",
       "    </tr>\n",
       "    <tr>\n",
       "      <th>S_F_Ratio</th>\n",
       "      <td>777.0</td>\n",
       "      <td>14.089704</td>\n",
       "      <td>3.958349</td>\n",
       "      <td>2.5</td>\n",
       "      <td>11.5</td>\n",
       "      <td>13.6</td>\n",
       "      <td>16.5</td>\n",
       "      <td>39.8</td>\n",
       "    </tr>\n",
       "    <tr>\n",
       "      <th>perc_alumni</th>\n",
       "      <td>777.0</td>\n",
       "      <td>22.743887</td>\n",
       "      <td>12.391801</td>\n",
       "      <td>0.0</td>\n",
       "      <td>13.0</td>\n",
       "      <td>21.0</td>\n",
       "      <td>31.0</td>\n",
       "      <td>64.0</td>\n",
       "    </tr>\n",
       "    <tr>\n",
       "      <th>Expend</th>\n",
       "      <td>777.0</td>\n",
       "      <td>9660.171171</td>\n",
       "      <td>5221.768440</td>\n",
       "      <td>3186.0</td>\n",
       "      <td>6751.0</td>\n",
       "      <td>8377.0</td>\n",
       "      <td>10830.0</td>\n",
       "      <td>56233.0</td>\n",
       "    </tr>\n",
       "    <tr>\n",
       "      <th>Grad_Rate</th>\n",
       "      <td>777.0</td>\n",
       "      <td>65.463320</td>\n",
       "      <td>17.177710</td>\n",
       "      <td>10.0</td>\n",
       "      <td>53.0</td>\n",
       "      <td>65.0</td>\n",
       "      <td>78.0</td>\n",
       "      <td>118.0</td>\n",
       "    </tr>\n",
       "    <tr>\n",
       "      <th>Target</th>\n",
       "      <td>777.0</td>\n",
       "      <td>0.149292</td>\n",
       "      <td>0.356606</td>\n",
       "      <td>0.0</td>\n",
       "      <td>0.0</td>\n",
       "      <td>0.0</td>\n",
       "      <td>0.0</td>\n",
       "      <td>1.0</td>\n",
       "    </tr>\n",
       "  </tbody>\n",
       "</table>\n",
       "</div>"
      ],
      "text/plain": [
       "             count          mean          std     min     25%     50%  \\\n",
       "Apps         777.0   3001.638353  3870.201484    81.0   776.0  1558.0   \n",
       "Accept       777.0   2018.804376  2451.113971    72.0   604.0  1110.0   \n",
       "Enroll       777.0    779.972973   929.176190    35.0   242.0   434.0   \n",
       "Top10perc    777.0     27.558559    17.640364     1.0    15.0    23.0   \n",
       "Top25perc    777.0     55.796654    19.804778     9.0    41.0    54.0   \n",
       "F_Undergrad  777.0   3699.907336  4850.420531   139.0   992.0  1707.0   \n",
       "P_Undergrad  777.0    855.298584  1522.431887     1.0    95.0   353.0   \n",
       "Outstate     777.0  10440.669241  4023.016484  2340.0  7320.0  9990.0   \n",
       "Room_Board   777.0   4357.526384  1096.696416  1780.0  3597.0  4200.0   \n",
       "Books        777.0    549.380952   165.105360    96.0   470.0   500.0   \n",
       "Personal     777.0   1340.642214   677.071454   250.0   850.0  1200.0   \n",
       "PhD          777.0     72.660232    16.328155     8.0    62.0    75.0   \n",
       "Terminal     777.0     79.702703    14.722359    24.0    71.0    82.0   \n",
       "S_F_Ratio    777.0     14.089704     3.958349     2.5    11.5    13.6   \n",
       "perc_alumni  777.0     22.743887    12.391801     0.0    13.0    21.0   \n",
       "Expend       777.0   9660.171171  5221.768440  3186.0  6751.0  8377.0   \n",
       "Grad_Rate    777.0     65.463320    17.177710    10.0    53.0    65.0   \n",
       "Target       777.0      0.149292     0.356606     0.0     0.0     0.0   \n",
       "\n",
       "                 75%      max  \n",
       "Apps          3624.0  48094.0  \n",
       "Accept        2424.0  26330.0  \n",
       "Enroll         902.0   6392.0  \n",
       "Top10perc       35.0     96.0  \n",
       "Top25perc       69.0    100.0  \n",
       "F_Undergrad   4005.0  31643.0  \n",
       "P_Undergrad    967.0  21836.0  \n",
       "Outstate     12925.0  21700.0  \n",
       "Room_Board    5050.0   8124.0  \n",
       "Books          600.0   2340.0  \n",
       "Personal      1700.0   6800.0  \n",
       "PhD             85.0    103.0  \n",
       "Terminal        92.0    100.0  \n",
       "S_F_Ratio       16.5     39.8  \n",
       "perc_alumni     31.0     64.0  \n",
       "Expend       10830.0  56233.0  \n",
       "Grad_Rate       78.0    118.0  \n",
       "Target           0.0      1.0  "
      ]
     },
     "execution_count": 12,
     "metadata": {},
     "output_type": "execute_result"
    }
   ],
   "source": [
    "data.describe().T"
   ]
  },
  {
   "cell_type": "markdown",
   "metadata": {
    "id": "w3MmY2dUOPU-"
   },
   "source": [
    "**Observations:**\n",
    "\n",
    "- On an average, approx 3,000 applications are received in US universities, out of which around 2,000 applications are accepted by the universities and around 780 new students get enrolled.\n",
    "- The standard deviation is very high for these variables - Apps, Accepted, Enroll which shows the variety of universities and colleges.\n",
    "- The average cost for room and board, books, and personal expense is approx 4,357, 550, and 1,350 dollars respectively.\n",
    "- The average number of full time undergrad students are around 3700 whereas the average number of part-time undergrad students stand low at around 850.\n",
    "- PhD and Grad_Rate have a maximum value of greater than 100 which is not possible as these variables are in percentages. Let's see how many such observations are there in the data."
   ]
  },
  {
   "cell_type": "code",
   "execution_count": 13,
   "metadata": {
    "colab": {
     "base_uri": "https://localhost:8080/",
     "height": 156
    },
    "executionInfo": {
     "elapsed": 437,
     "status": "ok",
     "timestamp": 1679157161450,
     "user": {
      "displayName": "Abhinav Harsh",
      "userId": "08825161285052345463"
     },
     "user_tz": -330
    },
    "id": "uIzvCOJrOPU-",
    "outputId": "97564d80-59c6-4aed-d4a8-2688d13942d3"
   },
   "outputs": [
    {
     "data": {
      "text/html": [
       "<div>\n",
       "<style scoped>\n",
       "    .dataframe tbody tr th:only-of-type {\n",
       "        vertical-align: middle;\n",
       "    }\n",
       "\n",
       "    .dataframe tbody tr th {\n",
       "        vertical-align: top;\n",
       "    }\n",
       "\n",
       "    .dataframe thead th {\n",
       "        text-align: right;\n",
       "    }\n",
       "</style>\n",
       "<table border=\"1\" class=\"dataframe\">\n",
       "  <thead>\n",
       "    <tr style=\"text-align: right;\">\n",
       "      <th></th>\n",
       "      <th>Apps</th>\n",
       "      <th>Accept</th>\n",
       "      <th>Enroll</th>\n",
       "      <th>Top10perc</th>\n",
       "      <th>Top25perc</th>\n",
       "      <th>F_Undergrad</th>\n",
       "      <th>P_Undergrad</th>\n",
       "      <th>Outstate</th>\n",
       "      <th>Room_Board</th>\n",
       "      <th>Books</th>\n",
       "      <th>Personal</th>\n",
       "      <th>PhD</th>\n",
       "      <th>Terminal</th>\n",
       "      <th>S_F_Ratio</th>\n",
       "      <th>perc_alumni</th>\n",
       "      <th>Expend</th>\n",
       "      <th>Grad_Rate</th>\n",
       "      <th>Target</th>\n",
       "    </tr>\n",
       "  </thead>\n",
       "  <tbody>\n",
       "    <tr>\n",
       "      <th>676</th>\n",
       "      <td>3847</td>\n",
       "      <td>3433</td>\n",
       "      <td>527</td>\n",
       "      <td>9</td>\n",
       "      <td>35</td>\n",
       "      <td>1010</td>\n",
       "      <td>12</td>\n",
       "      <td>9384</td>\n",
       "      <td>4840</td>\n",
       "      <td>600</td>\n",
       "      <td>500</td>\n",
       "      <td>22</td>\n",
       "      <td>47</td>\n",
       "      <td>14.3</td>\n",
       "      <td>20</td>\n",
       "      <td>7697</td>\n",
       "      <td>118</td>\n",
       "      <td>0</td>\n",
       "    </tr>\n",
       "    <tr>\n",
       "      <th>708</th>\n",
       "      <td>529</td>\n",
       "      <td>481</td>\n",
       "      <td>243</td>\n",
       "      <td>22</td>\n",
       "      <td>47</td>\n",
       "      <td>1206</td>\n",
       "      <td>134</td>\n",
       "      <td>4860</td>\n",
       "      <td>3122</td>\n",
       "      <td>600</td>\n",
       "      <td>650</td>\n",
       "      <td>103</td>\n",
       "      <td>88</td>\n",
       "      <td>17.4</td>\n",
       "      <td>16</td>\n",
       "      <td>6415</td>\n",
       "      <td>43</td>\n",
       "      <td>0</td>\n",
       "    </tr>\n",
       "  </tbody>\n",
       "</table>\n",
       "</div>"
      ],
      "text/plain": [
       "     Apps  Accept  Enroll  Top10perc  Top25perc  F_Undergrad  P_Undergrad  \\\n",
       "676  3847    3433     527          9         35         1010           12   \n",
       "708   529     481     243         22         47         1206          134   \n",
       "\n",
       "     Outstate  Room_Board  Books  Personal  PhD  Terminal  S_F_Ratio  \\\n",
       "676      9384        4840    600       500   22        47       14.3   \n",
       "708      4860        3122    600       650  103        88       17.4   \n",
       "\n",
       "     perc_alumni  Expend  Grad_Rate  Target  \n",
       "676           20    7697        118       0  \n",
       "708           16    6415         43       0  "
      ]
     },
     "execution_count": 13,
     "metadata": {},
     "output_type": "execute_result"
    }
   ],
   "source": [
    "data[(data.PhD>100) | (data.Grad_Rate>100)]"
   ]
  },
  {
   "cell_type": "markdown",
   "metadata": {
    "id": "Gp528sd8OPU_"
   },
   "source": [
    "**There is just one such observation for each variable. We can cap the values to 100%.**"
   ]
  },
  {
   "cell_type": "code",
   "execution_count": 14,
   "metadata": {
    "executionInfo": {
     "elapsed": 3,
     "status": "ok",
     "timestamp": 1679157164791,
     "user": {
      "displayName": "Abhinav Harsh",
      "userId": "08825161285052345463"
     },
     "user_tz": -330
    },
    "id": "CuSEHJv3OPU_"
   },
   "outputs": [],
   "source": [
    "data.loc[582,\"PhD\"]=100\n",
    "data.loc[95,\"Grad_Rate\"]=100"
   ]
  },
  {
   "cell_type": "markdown",
   "metadata": {
    "id": "6KBFnS4-OPU_"
   },
   "source": [
    "#### Let's check the distribution and outliers for each column in the data"
   ]
  },
  {
   "cell_type": "code",
   "execution_count": 15,
   "metadata": {
    "colab": {
     "base_uri": "https://localhost:8080/",
     "height": 1000
    },
    "executionInfo": {
     "elapsed": 11350,
     "status": "ok",
     "timestamp": 1679157181918,
     "user": {
      "displayName": "Abhinav Harsh",
      "userId": "08825161285052345463"
     },
     "user_tz": -330
    },
    "id": "nePVJTT8OPU_",
    "outputId": "65a7c347-e841-41ff-c21d-4064d4caeedf",
    "scrolled": false
   },
   "outputs": [
    {
     "name": "stdout",
     "output_type": "stream",
     "text": [
      "Apps\n",
      "Skew : 3.72\n"
     ]
    },
    {
     "data": {
      "image/png": "[encoded data removed]",
      "text/plain": [
       "<Figure size 1080x288 with 2 Axes>"
      ]
     },
     "metadata": {
      "needs_background": "light"
     },
     "output_type": "display_data"
    },
    {
     "name": "stdout",
     "output_type": "stream",
     "text": [
      "Accept\n",
      "Skew : 3.42\n"
     ]
    },
    {
     "data": {
      "image/png": "[encoded data removed]",
      "text/plain": [
       "<Figure size 1080x288 with 2 Axes>"
      ]
     },
     "metadata": {
      "needs_background": "light"
     },
     "output_type": "display_data"
    },
    {
     "name": "stdout",
     "output_type": "stream",
     "text": [
      "Enroll\n",
      "Skew : 2.69\n"
     ]
    },
    {
     "data": {
      "image/png": "[encoded data removed]",
      "text/plain": [
       "<Figure size 1080x288 with 2 Axes>"
      ]
     },
     "metadata": {
      "needs_background": "light"
     },
     "output_type": "display_data"
    },
    {
     "name": "stdout",
     "output_type": "stream",
     "text": [
      "Top10perc\n",
      "Skew : 1.41\n"
     ]
    },
    {
     "data": {
      "image/png": "[encoded data removed]",
      "text/plain": [
       "<Figure size 1080x288 with 2 Axes>"
      ]
     },
     "metadata": {
      "needs_background": "light"
     },
     "output_type": "display_data"
    },
    {
     "name": "stdout",
     "output_type": "stream",
     "text": [
      "Top25perc\n",
      "Skew : 0.26\n"
     ]
    },
    {
     "data": {
      "image/png": "[encoded data removed]",
      "text/plain": [
       "<Figure size 1080x288 with 2 Axes>"
      ]
     },
     "metadata": {
      "needs_background": "light"
     },
     "output_type": "display_data"
    },
    {
     "name": "stdout",
     "output_type": "stream",
     "text": [
      "F_Undergrad\n",
      "Skew : 2.61\n"
     ]
    },
    {
     "data": {
      "image/png": "[encoded data removed]",
      "text/plain": [
       "<Figure size 1080x288 with 2 Axes>"
      ]
     },
     "metadata": {
      "needs_background": "light"
     },
     "output_type": "display_data"
    },
    {
     "name": "stdout",
     "output_type": "stream",
     "text": [
      "P_Undergrad\n",
      "Skew : 5.69\n"
     ]
    },
    {
     "data": {
      "image/png": "[encoded data removed]",
      "text/plain": [
       "<Figure size 1080x288 with 2 Axes>"
      ]
     },
     "metadata": {
      "needs_background": "light"
     },
     "output_type": "display_data"
    },
    {
     "name": "stdout",
     "output_type": "stream",
     "text": [
      "Outstate\n",
      "Skew : 0.51\n"
     ]
    },
    {
     "data": {
      "image/png": "[encoded data removed]",
      "text/plain": [
       "<Figure size 1080x288 with 2 Axes>"
      ]
     },
     "metadata": {
      "needs_background": "light"
     },
     "output_type": "display_data"
    },
    {
     "name": "stdout",
     "output_type": "stream",
     "text": [
      "Room_Board\n",
      "Skew : 0.48\n"
     ]
    },
    {
     "data": {
      "image/png": "[encoded data removed]",
      "text/plain": [
       "<Figure size 1080x288 with 2 Axes>"
      ]
     },
     "metadata": {
      "needs_background": "light"
     },
     "output_type": "display_data"
    },
    {
     "name": "stdout",
     "output_type": "stream",
     "text": [
      "Books\n",
      "Skew : 3.49\n"
     ]
    },
    {
     "data": {
      "image/png": "[encoded data removed]",
      "text/plain": [
       "<Figure size 1080x288 with 2 Axes>"
      ]
     },
     "metadata": {
      "needs_background": "light"
     },
     "output_type": "display_data"
    },
    {
     "name": "stdout",
     "output_type": "stream",
     "text": [
      "Personal\n",
      "Skew : 1.74\n"
     ]
    },
    {
     "data": {
      "image/png": "[encoded data removed]",
      "text/plain": [
       "<Figure size 1080x288 with 2 Axes>"
      ]
     },
     "metadata": {
      "needs_background": "light"
     },
     "output_type": "display_data"
    },
    {
     "name": "stdout",
     "output_type": "stream",
     "text": [
      "PhD\n",
      "Skew : -0.76\n"
     ]
    },
    {
     "data": {
      "image/png": "[encoded data removed]",
      "text/plain": [
       "<Figure size 1080x288 with 2 Axes>"
      ]
     },
     "metadata": {
      "needs_background": "light"
     },
     "output_type": "display_data"
    },
    {
     "name": "stdout",
     "output_type": "stream",
     "text": [
      "Terminal\n",
      "Skew : -0.82\n"
     ]
    },
    {
     "data": {
      "image/png": "[encoded data removed]",
      "text/plain": [
       "<Figure size 1080x288 with 2 Axes>"
      ]
     },
     "metadata": {
      "needs_background": "light"
     },
     "output_type": "display_data"
    },
    {
     "name": "stdout",
     "output_type": "stream",
     "text": [
      "S_F_Ratio\n",
      "Skew : 0.67\n"
     ]
    },
    {
     "data": {
      "image/png": "[encoded data removed]",
      "text/plain": [
       "<Figure size 1080x288 with 2 Axes>"
      ]
     },
     "metadata": {
      "needs_background": "light"
     },
     "output_type": "display_data"
    },
    {
     "name": "stdout",
     "output_type": "stream",
     "text": [
      "perc_alumni\n",
      "Skew : 0.61\n"
     ]
    },
    {
     "data": {
      "image/png": "[encoded data removed]",
      "text/plain": [
       "<Figure size 1080x288 with 2 Axes>"
      ]
     },
     "metadata": {
      "needs_background": "light"
     },
     "output_type": "display_data"
    },
    {
     "name": "stdout",
     "output_type": "stream",
     "text": [
      "Expend\n",
      "Skew : 3.46\n"
     ]
    },
    {
     "data": {
      "image/png": "[encoded data removed]",
      "text/plain": [
       "<Figure size 1080x288 with 2 Axes>"
      ]
     },
     "metadata": {
      "needs_background": "light"
     },
     "output_type": "display_data"
    },
    {
     "name": "stdout",
     "output_type": "stream",
     "text": [
      "Grad_Rate\n",
      "Skew : -0.11\n"
     ]
    },
    {
     "data": {
      "image/png": "[encoded data removed]",
      "text/plain": [
       "<Figure size 1080x288 with 2 Axes>"
      ]
     },
     "metadata": {
      "needs_background": "light"
     },
     "output_type": "display_data"
    },
    {
     "name": "stdout",
     "output_type": "stream",
     "text": [
      "Target\n",
      "Skew : 1.97\n"
     ]
    },
    {
     "data": {
      "image/png": "[encoded data removed]",
      "text/plain": [
       "<Figure size 1080x288 with 2 Axes>"
      ]
     },
     "metadata": {
      "needs_background": "light"
     },
     "output_type": "display_data"
    }
   ],
   "source": [
    "cont_cols = list(data.columns)\n",
    "for col in cont_cols:\n",
    "    print(col)\n",
    "    print('Skew :',round(data[col].skew(),2))\n",
    "    plt.figure(figsize=(15,4))\n",
    "    plt.subplot(1,2,1)\n",
    "    data[col].hist(bins=10, grid=False)\n",
    "    plt.ylabel('count')\n",
    "    plt.subplot(1,2,2)\n",
    "    sns.boxplot(x=data[col])\n",
    "    plt.show()"
   ]
  },
  {
   "cell_type": "markdown",
   "metadata": {
    "id": "E8magN8EOPVA"
   },
   "source": [
    "**Observations:**\n",
    "\n",
    "- The distribution plots show that Apps, Accept, Enroll, Top10perc, F_Undergrad, P_Undergrad, Books, Personal and Expend variables are highly right skewed. It is evident from boxplots that all these variables have outliers.\n",
    "- Top25percent is the only variable which does not possess outliers.\n",
    "- Outstate, Room_Board, S_F_Ratio and perc_alumni seems to have a moderate right skew.\n",
    "- PhD and Terminal are moderately left skewed. "
   ]
  },
  {
   "cell_type": "markdown",
   "metadata": {
    "id": "slJJmIhoOPVA"
   },
   "source": [
    "**Now, let's check the correlation among different variables.**"
   ]
  },
  {
   "cell_type": "code",
   "execution_count": 16,
   "metadata": {
    "colab": {
     "base_uri": "https://localhost:8080/",
     "height": 650
    },
    "executionInfo": {
     "elapsed": 1867,
     "status": "ok",
     "timestamp": 1679119878070,
     "user": {
      "displayName": "Abhinav Harsh",
      "userId": "08825161285052345463"
     },
     "user_tz": -330
    },
    "id": "ou0Jca8uOPVB",
    "outputId": "cdaa5783-8eac-4aee-d64a-8501d385f801"
   },
   "outputs": [
    {
     "data": {
      "image/png": "[encoded data removed]",
      "text/plain": [
       "<Figure size 1080x720 with 2 Axes>"
      ]
     },
     "metadata": {
      "needs_background": "light"
     },
     "output_type": "display_data"
    }
   ],
   "source": [
    "plt.figure(figsize=(15,10))\n",
    "sns.heatmap(data.corr(), annot=True, fmt='0.2f')\n",
    "plt.show()"
   ]
  },
  {
   "cell_type": "markdown",
   "metadata": {
    "id": "-Go3AHnpOPVB"
   },
   "source": [
    "**Observations:**\n",
    "\n",
    "- We can see high positive correlation among the following variables: \n",
    "    1. Apps and Accept\n",
    "    2. Apps and Enroll\n",
    "    3. Apps and F_Undergrad\n",
    "    4. Accept and Enroll\n",
    "    5. Accept and F_Undergrad\n",
    "    6. Enroll and F_Undergrad\n",
    "    7. Top10perc and Top25percent\n",
    "    8. PhD and Terminal\n",
    "- We can see high negative correlation among the following variables:\n",
    "    1. S_F_Ratio and Top10perc\n",
    "    2. S_F_Ratio and Expend"
   ]
  },
  {
   "cell_type": "markdown",
   "metadata": {
    "id": "U_tVtTW0OPVB"
   },
   "source": [
    "#### Scaling the data"
   ]
  },
  {
   "cell_type": "code",
   "execution_count": 17,
   "metadata": {
    "executionInfo": {
     "elapsed": 444,
     "status": "ok",
     "timestamp": 1679157191313,
     "user": {
      "displayName": "Abhinav Harsh",
      "userId": "08825161285052345463"
     },
     "user_tz": -330
    },
    "id": "L5PY6lEjSaCO"
   },
   "outputs": [],
   "source": [
    "df = data\n",
    "\n",
    "# Separate the target variable from the features\n",
    "X = df.drop(\"Target\", axis=1)\n",
    "y = df[\"Target\"]\n",
    "\n",
    "# Preprocess the data by standardizing the features\n",
    "scaler = StandardScaler()\n",
    "X = scaler.fit_transform(X)\n",
    "\n",
    "# Split the data into training and testing sets\n",
    "X_train, X_test, y_train, y_test = train_test_split(X, y, test_size=0.2, random_state=42)\n"
   ]
  },
  {
   "cell_type": "code",
   "execution_count": 18,
   "metadata": {
    "colab": {
     "base_uri": "https://localhost:8080/"
    },
    "executionInfo": {
     "elapsed": 5392,
     "status": "ok",
     "timestamp": 1679157504212,
     "user": {
      "displayName": "Abhinav Harsh",
      "userId": "08825161285052345463"
     },
     "user_tz": -330
    },
    "id": "sapvypIrTwa0",
    "outputId": "22b36f27-94c9-4045-c31f-0cbcce475dbe"
   },
   "outputs": [
    {
     "name": "stdout",
     "output_type": "stream",
     "text": [
      "[0.92063492 0.93548387 0.87096774 0.90322581 0.90322581 0.9516129\n",
      " 0.90322581 0.91935484 0.93548387 0.93548387]\n",
      "[0.84126984 0.88709677 0.79032258 0.88709677 0.88709677 0.83870968\n",
      " 0.83870968 0.79032258 0.83870968 0.85483871]\n",
      "[0.93650794 0.91935484 0.85483871 0.9516129  0.90322581 0.88709677\n",
      " 0.90322581 0.90322581 0.90322581 0.87096774]\n",
      "[0.93650794 0.90322581 0.85483871 0.9516129  0.90322581 0.85483871\n",
      " 0.87096774 0.90322581 0.91935484 0.87096774]\n"
     ]
    }
   ],
   "source": [
    "\n",
    "# Define the machine learning models to try\n",
    "models = [\n",
    "    (\"Logistic Regression\", LogisticRegression()),\n",
    "    (\"Decision Tree\", DecisionTreeClassifier()),\n",
    "    (\"Random Forest\", RandomForestClassifier()),\n",
    "    (\"Support Vector Machine\", SVC())\n",
    "]\n",
    "\n",
    "# Fit each model and evaluate it using cross-validation\n",
    "results = []\n",
    "for name, model in models:\n",
    "    scores = cross_val_score(model, X_train, y_train, cv=10)\n",
    "    print(scores)\n",
    "    results.append((name, np.mean(scores), np.std(scores)))\n"
   ]
  },
  {
   "cell_type": "code",
   "execution_count": 19,
   "metadata": {
    "colab": {
     "base_uri": "https://localhost:8080/"
    },
    "executionInfo": {
     "elapsed": 466,
     "status": "ok",
     "timestamp": 1679157521988,
     "user": {
      "displayName": "Abhinav Harsh",
      "userId": "08825161285052345463"
     },
     "user_tz": -330
    },
    "id": "HDA4iaaDlbdL",
    "outputId": "acf27b15-4f8f-4aec-bb43-fcbb5bea4631"
   },
   "outputs": [
    {
     "name": "stdout",
     "output_type": "stream",
     "text": [
      "Logistic Regression: 0.918 +/- 0.022\n",
      "Decision Tree: 0.845 +/- 0.034\n",
      "Random Forest: 0.903 +/- 0.027\n",
      "Support Vector Machine: 0.897 +/- 0.032\n"
     ]
    }
   ],
   "source": [
    "    \n",
    "# Print the cross-validation results\n",
    "for name, mean_score, std_score in results:\n",
    "    print(f\"{name}: {mean_score:.3f} +/- {std_score:.3f}\")\n"
   ]
  },
  {
   "cell_type": "code",
   "execution_count": 20,
   "metadata": {
    "colab": {
     "base_uri": "https://localhost:8080/"
    },
    "executionInfo": {
     "elapsed": 467,
     "status": "ok",
     "timestamp": 1679157557264,
     "user": {
      "displayName": "Abhinav Harsh",
      "userId": "08825161285052345463"
     },
     "user_tz": -330
    },
    "id": "1mDPlrn3T0qn",
    "outputId": "82a313ab-3c5b-4205-8b97-553d67eaad44"
   },
   "outputs": [
    {
     "name": "stdout",
     "output_type": "stream",
     "text": [
      "Best model: Logistic Regression (0.918 CV score)\n",
      "Test accuracy: 0.923\n"
     ]
    }
   ],
   "source": [
    "\n",
    "# Select the best model based on the cross-validation score\n",
    "best_model_name, best_model_score, _ = max(results, key=lambda x: x[1])\n",
    "best_model = dict(models)[best_model_name]\n",
    "print(f\"Best model: {best_model_name} ({best_model_score:.3f} CV score)\")\n",
    "\n",
    "# Train the best model on the full training set and evaluate it on the test set\n",
    "best_model.fit(X_train, y_train)\n",
    "y_pred = best_model.predict(X_test)\n",
    "test_accuracy = accuracy_score(y_test, y_pred)\n",
    "print(f\"Test accuracy: {test_accuracy:.3f}\")\n"
   ]
  },
  {
   "cell_type": "code",
   "execution_count": 21,
   "metadata": {
    "colab": {
     "base_uri": "https://localhost:8080/"
    },
    "executionInfo": {
     "elapsed": 738,
     "status": "ok",
     "timestamp": 1679157570858,
     "user": {
      "displayName": "Abhinav Harsh",
      "userId": "08825161285052345463"
     },
     "user_tz": -330
    },
    "id": "oTFWDbw8Sa34",
    "outputId": "b08c210a-b97f-4bcd-bca8-3070e3ca3c72"
   },
   "outputs": [
    {
     "name": "stdout",
     "output_type": "stream",
     "text": [
      "Test accuracy: 0.923\n",
      "Confusion matrix:\n",
      "[[129   1]\n",
      " [ 11  15]]\n"
     ]
    }
   ],
   "source": [
    "from sklearn.metrics import confusion_matrix\n",
    "\n",
    "def print_confusion_matrix(model, X_test, y_test):\n",
    "    y_pred = model.predict(X_test)\n",
    "    cm = confusion_matrix(y_test, y_pred)\n",
    "    print(\"Confusion matrix:\")\n",
    "    print(cm)\n",
    "\n",
    "# Train the best model on the full training set and evaluate it on the test set\n",
    "best_model.fit(X_train, y_train)\n",
    "y_pred = best_model.predict(X_test)\n",
    "test_accuracy = accuracy_score(y_test, y_pred)\n",
    "print(f\"Test accuracy: {test_accuracy:.3f}\")\n",
    "\n",
    "# Print the confusion matrix for the best model on the test data\n",
    "print_confusion_matrix(best_model, X_test, y_test)\n"
   ]
  },
  {
   "cell_type": "code",
   "execution_count": 22,
   "metadata": {
    "executionInfo": {
     "elapsed": 415,
     "status": "ok",
     "timestamp": 1679157713077,
     "user": {
      "displayName": "Abhinav Harsh",
      "userId": "08825161285052345463"
     },
     "user_tz": -330
    },
    "id": "iVEpZpEgUVG9"
   },
   "outputs": [],
   "source": [
    "# df= data\n",
    "\n",
    "# # Separate the features and target variables\n",
    "# # Separate the target variable from the features\n",
    "X = df.drop(\"Target\", axis=1)\n",
    "y = df[\"Target\"]\n",
    "\n"
   ]
  },
  {
   "cell_type": "code",
   "execution_count": 23,
   "metadata": {
    "executionInfo": {
     "elapsed": 476,
     "status": "ok",
     "timestamp": 1679157686448,
     "user": {
      "displayName": "Abhinav Harsh",
      "userId": "08825161285052345463"
     },
     "user_tz": -330
    },
    "id": "k9D48sETUxMj"
   },
   "outputs": [],
   "source": [
    "\n",
    "# Apply LDA to the feature data\n",
    "lda = LinearDiscriminantAnalysis(n_components=1)\n",
    "X_lda = lda.fit_transform(X, y)\n"
   ]
  },
  {
   "cell_type": "code",
   "execution_count": 24,
   "metadata": {
    "colab": {
     "base_uri": "https://localhost:8080/",
     "height": 404
    },
    "executionInfo": {
     "elapsed": 611,
     "status": "ok",
     "timestamp": 1679157716022,
     "user": {
      "displayName": "Abhinav Harsh",
      "userId": "08825161285052345463"
     },
     "user_tz": -330
    },
    "id": "PLnpR4r_mRsX",
    "outputId": "913b1eb6-5542-450e-d84a-2b6bca6fefd4"
   },
   "outputs": [
    {
     "data": {
      "image/png": "[encoded data removed]",
      "text/plain": [
       "<Figure size 864x432 with 1 Axes>"
      ]
     },
     "metadata": {
      "needs_background": "light"
     },
     "output_type": "display_data"
    }
   ],
   "source": [
    "# Plot the LDA coefficients\n",
    "\n",
    "\n",
    "plt.figure(figsize=(12, 6))\n",
    "sns.barplot(x=lda.coef_[0], y=X.columns)\n",
    "plt.title(\"LDA Coefficients\")\n",
    "plt.xlabel(\"Coefficient\")\n",
    "plt.ylabel(\"Feature\")\n",
    "plt.show()\n"
   ]
  },
  {
   "cell_type": "code",
   "execution_count": 25,
   "metadata": {
    "executionInfo": {
     "elapsed": 554,
     "status": "ok",
     "timestamp": 1679157862970,
     "user": {
      "displayName": "Abhinav Harsh",
      "userId": "08825161285052345463"
     },
     "user_tz": -330
    },
    "id": "xg2MrPLsU4SP"
   },
   "outputs": [],
   "source": [
    "\n",
    "# Split the data into training and testing sets\n",
    "X_train, X_test, y_train, y_test = train_test_split(X_lda, y, test_size=0.2, random_state=42)\n",
    "\n"
   ]
  },
  {
   "cell_type": "code",
   "execution_count": 26,
   "metadata": {
    "colab": {
     "base_uri": "https://localhost:8080/"
    },
    "executionInfo": {
     "elapsed": 2001,
     "status": "ok",
     "timestamp": 1679157871144,
     "user": {
      "displayName": "Abhinav Harsh",
      "userId": "08825161285052345463"
     },
     "user_tz": -330
    },
    "id": "whdk7pupm2Ws",
    "outputId": "e6bcfc24-2b41-4212-97e2-063c7dfd11c1"
   },
   "outputs": [
    {
     "name": "stdout",
     "output_type": "stream",
     "text": [
      "[0.96825397 0.93548387 0.88709677 0.9516129  0.91935484 0.98387097\n",
      " 0.93548387 0.93548387 0.93548387 0.9516129 ]\n",
      "[0.88888889 0.90322581 0.90322581 0.9516129  0.93548387 0.90322581\n",
      " 0.85483871 0.90322581 0.88709677 0.90322581]\n",
      "[0.88888889 0.90322581 0.90322581 0.9516129  0.93548387 0.90322581\n",
      " 0.85483871 0.88709677 0.88709677 0.90322581]\n",
      "[0.93650794 0.93548387 0.87096774 0.93548387 0.90322581 0.98387097\n",
      " 0.93548387 0.91935484 0.93548387 0.9516129 ]\n"
     ]
    }
   ],
   "source": [
    "\n",
    "# Define the machine learning models to try\n",
    "models = [\n",
    "    (\"Logistic Regression\", LogisticRegression()),\n",
    "    (\"Decision Tree\", DecisionTreeClassifier()),\n",
    "    (\"Random Forest\", RandomForestClassifier()),\n",
    "    (\"Support Vector Machine\", SVC())\n",
    "]\n",
    "\n",
    "# Fit each model and evaluate it using cross-validation\n",
    "results = []\n",
    "for name, model in models:\n",
    "    scores = cross_val_score(model, X_train, y_train, cv=10)\n",
    "    print(scores)\n",
    "    results.append((name, np.mean(scores), np.std(scores)))\n"
   ]
  },
  {
   "cell_type": "code",
   "execution_count": 27,
   "metadata": {
    "colab": {
     "base_uri": "https://localhost:8080/"
    },
    "executionInfo": {
     "elapsed": 671,
     "status": "ok",
     "timestamp": 1679157899577,
     "user": {
      "displayName": "Abhinav Harsh",
      "userId": "08825161285052345463"
     },
     "user_tz": -330
    },
    "id": "kL7YRqRBm9tE",
    "outputId": "ea6d274b-3d57-4870-9713-a38ae8955aa4"
   },
   "outputs": [
    {
     "name": "stdout",
     "output_type": "stream",
     "text": [
      "Logistic Regression: 0.940 +/- 0.025\n",
      "Decision Tree: 0.903 +/- 0.025\n",
      "Random Forest: 0.902 +/- 0.025\n",
      "Support Vector Machine: 0.931 +/- 0.028\n"
     ]
    }
   ],
   "source": [
    "    \n",
    "# Print the cross-validation results\n",
    "for name, mean_score, std_score in results:\n",
    "    print(f\"{name}: {mean_score:.3f} +/- {std_score:.3f}\")\n"
   ]
  },
  {
   "cell_type": "code",
   "execution_count": 28,
   "metadata": {
    "colab": {
     "base_uri": "https://localhost:8080/"
    },
    "executionInfo": {
     "elapsed": 2,
     "status": "ok",
     "timestamp": 1679157930173,
     "user": {
      "displayName": "Abhinav Harsh",
      "userId": "08825161285052345463"
     },
     "user_tz": -330
    },
    "id": "0PzJJifLnC8N",
    "outputId": "ac888abf-1575-4707-a77a-f6ffa1639baf"
   },
   "outputs": [
    {
     "name": "stdout",
     "output_type": "stream",
     "text": [
      "Best model: Logistic Regression (0.940 CV score)\n",
      "Test accuracy: 0.936\n"
     ]
    }
   ],
   "source": [
    "\n",
    "# Select the best model based on the cross-validation score\n",
    "best_model_name, best_model_score, _ = max(results, key=lambda x: x[1])\n",
    "best_model = dict(models)[best_model_name]\n",
    "print(f\"Best model: {best_model_name} ({best_model_score:.3f} CV score)\")\n",
    "\n",
    "# Train the best model on the full training set and evaluate it on the test set\n",
    "best_model.fit(X_train, y_train)\n",
    "y_pred = best_model.predict(X_test)\n",
    "test_accuracy = accuracy_score(y_test, y_pred)\n",
    "print(f\"Test accuracy: {test_accuracy:.3f}\")\n"
   ]
  },
  {
   "cell_type": "code",
   "execution_count": 29,
   "metadata": {
    "colab": {
     "base_uri": "https://localhost:8080/"
    },
    "executionInfo": {
     "elapsed": 428,
     "status": "ok",
     "timestamp": 1679157944051,
     "user": {
      "displayName": "Abhinav Harsh",
      "userId": "08825161285052345463"
     },
     "user_tz": -330
    },
    "id": "6Pz5crDInJd4",
    "outputId": "45fcd9d8-dde2-4e0d-ce80-679ba69a864e"
   },
   "outputs": [
    {
     "name": "stdout",
     "output_type": "stream",
     "text": [
      "Test accuracy: 0.936\n",
      "Confusion matrix:\n",
      "[[129   1]\n",
      " [  9  17]]\n"
     ]
    }
   ],
   "source": [
    "from sklearn.metrics import confusion_matrix\n",
    "\n",
    "def print_confusion_matrix(model, X_test, y_test):\n",
    "    y_pred = model.predict(X_test)\n",
    "    cm = confusion_matrix(y_test, y_pred)\n",
    "    print(\"Confusion matrix:\")\n",
    "    print(cm)\n",
    "\n",
    "# Train the best model on the full training set and evaluate it on the test set\n",
    "best_model.fit(X_train, y_train)\n",
    "y_pred = best_model.predict(X_test)\n",
    "test_accuracy = accuracy_score(y_test, y_pred)\n",
    "print(f\"Test accuracy: {test_accuracy:.3f}\")\n",
    "\n",
    "# Print the confusion matrix for the best model on the test data\n",
    "print_confusion_matrix(best_model, X_test, y_test)\n"
   ]
  },
  {
   "cell_type": "code",
   "execution_count": null,
   "metadata": {
    "id": "ppWYJmzQnJji"
   },
   "outputs": [],
   "source": []
  }
 ],
 "metadata": {
  "colab": {
   "provenance": []
  },
  "kernelspec": {
   "display_name": "Python 3 (ipykernel)",
   "language": "python",
   "name": "python3"
  },
  "language_info": {
   "codemirror_mode": {
    "name": "ipython",
    "version": 3
   },
   "file_extension": ".py",
   "mimetype": "text/x-python",
   "name": "python",
   "nbconvert_exporter": "python",
   "pygments_lexer": "ipython3",
   "version": "3.9.12"
  }
 },
 "nbformat": 4,
 "nbformat_minor": 1
}
