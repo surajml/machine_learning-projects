{
 "cells": [
  {
   "cell_type": "markdown",
   "metadata": {
    "id": "MRw6iUAppkex"
   },
   "source": [
    "# Case Study - Bike Sharing"
   ]
  },
  {
   "cell_type": "markdown",
   "metadata": {
    "id": "RJNKo6Wjpke5"
   },
   "source": [
    "# **Context:**\n",
    "\n",
    "Bike-sharing systems are a new generation of traditional bike rentals where the whole process from membership, rental and return back has become automatic. Through these systems, the user is able to easily rent a bike from a particular position and return back to another position. Currently, there are about over 500 bike-sharing programs around the world which are composed of over 500 thousand bicycles. Today, there exists a great interest in these systems due to their important role in traffic, environmental, and health issues.\n",
    "\n",
    "\n",
    "# **Problem Statement:**\n",
    "'Travel Along' is a new bike-sharing company and wants to expand its customer count and provide better services at a reasonable cost. They have conducted several surveys and collated the data about weather, weekends, holidays, etc. from the past 2 years.\n",
    "\n",
    "As a recently hired data scientist at 'Travel Along', you have been asked to analyze the patterns in the data and figure out the key areas which can help the organization to grow and manage the customer demands. Further, you need to use this information to predict the count of bikes shared so that the company can take prior decisions for surge hours."
   ]
  },
  {
   "cell_type": "markdown",
   "metadata": {
    "id": "POC_c1ojpke5"
   },
   "source": [
    "# **Objective:**\n",
    "\n",
    "- What are the different factors which affect the target variable? What business recommendations can we give based on the analysis?\n",
    "- How can we use different ensemble techniques - Bagging, Boosting, and Stacking to build a model to predict the count of bikes rented?"
   ]
  },
  {
   "cell_type": "markdown",
   "metadata": {
    "id": "NtmAU485pke6"
   },
   "source": [
    "# **Data Description:**\n",
    "\n",
    "Bike-sharing rental process is highly correlated to the environmental and seasonal settings. For instance, weather conditions, precipitation, day of week, season, hour of the day, etc. can affect the rental behaviors.\n",
    "\n",
    "- instant: record index\n",
    "- dteday : date\n",
    "- season : season (1:spring, 2:summer, 3:fall, 4:winter)\n",
    "- yr : year (0: 2011, 1:2012)\n",
    "- mnth : month ( 1 to 12)\n",
    "- hr : hour (0 to 23)\n",
    "- holiday : whether day is holiday or not\n",
    "- weekday : day of the week\n",
    "- workingday : if day is neither weekend nor holiday then 1, otherwise is 0.\n",
    "- weathersit : \n",
    "\t- 1: Clear, Few clouds, Partly cloudy\n",
    "\t- 2: Mist + Cloudy, Mist + Broken clouds, Mist + Few clouds, Mist\n",
    "\t- 3: Light Snow, Light Rain + Thunderstorm + Scattered clouds, Light Rain + Scattered clouds\n",
    "\t- 4: Heavy Rain + Ice Pallets + Thunderstorm + Mist, Snow + Fog\n",
    "- temp : Normalized temperature in Celsius. The values are divided to 41 (max)\n",
    "- atemp: Normalized feeling temperature in Celsius. The values are divided to 50 (max). The “feel like” temperature relies on environmental data including the ambient air temperature, relative humidity, and wind speed to determine how weather conditions feel to bare skin.\n",
    "- hum: Normalized humidity. The values are divided to 100 (max)\n",
    "- windspeed: Normalized wind speed. The values are divided to 67 (max)\n",
    "- casual: count of casual users\n",
    "- registered: count of registered users\n",
    "- cnt: count of total rental bikes including both casual and registered"
   ]
  },
  {
   "cell_type": "markdown",
   "metadata": {
    "id": "9Qe5wz6Gpke6"
   },
   "source": [
    "## Index\n",
    "\n",
    "- <a href = #link1>Overview of the dataset </a>\n",
    "\n",
    "\n",
    "- <a href = #link2>EDA</a> \n",
    "\n",
    "\n",
    "- <a href = #link3>Split the dataset</a>\n",
    "\n",
    "\n",
    "- <a href = #link4>Decision Tree Model </a> \n",
    "\n",
    "\n",
    "- <a href = #link5>Random Forest Model</a>\n",
    "\n",
    "\n",
    "- <a href = #link6>Boosting Models</a>\n",
    "\n",
    "\n",
    "- <a href = #link7>Stacking Model</a>\n",
    "\n",
    "\n",
    "- <a href = #link8>Business Recommendations</a>"
   ]
  },
  {
   "cell_type": "markdown",
   "metadata": {
    "id": "SyFLAFFxpke7"
   },
   "source": [
    "## <a id = \"link1\"></a> Overview of the dataset "
   ]
  },
  {
   "cell_type": "markdown",
   "metadata": {
    "id": "V4OKDXvSpke7"
   },
   "source": [
    "**Let's start by importing libraries we need.**"
   ]
  },
  {
   "cell_type": "code",
   "execution_count": 1,
   "metadata": {
    "executionInfo": {
     "elapsed": 427,
     "status": "ok",
     "timestamp": 1623514430045,
     "user": {
      "displayName": "Abhinav Harsh",
      "photoUrl": "https://lh3.googleusercontent.com/a-/AOh14GjhE176sGgELCcMdZ01YHQwYJKae164pFS8qOpR=s64",
      "userId": "08825161285052345463"
     },
     "user_tz": -330
    },
    "id": "cRBN2iFBpke7"
   },
   "outputs": [],
   "source": [
    "import warnings\n",
    "warnings.filterwarnings(\"ignore\")\n",
    "\n",
    "import numpy as np   \n",
    "import pandas as pd    \n",
    "import seaborn as sns\n",
    "import matplotlib.pyplot as plt\n",
    "from sklearn.tree import DecisionTreeRegressor\n",
    "from sklearn.ensemble import BaggingRegressor,RandomForestRegressor, GradientBoostingRegressor, AdaBoostRegressor, StackingRegressor\n",
    "from xgboost import XGBRegressor\n",
    "from sklearn import metrics\n",
    "from sklearn.model_selection import GridSearchCV, train_test_split"
   ]
  },
  {
   "cell_type": "code",
   "execution_count": 2,
   "metadata": {
    "colab": {
     "base_uri": "https://localhost:8080/"
    },
    "executionInfo": {
     "elapsed": 23829,
     "status": "ok",
     "timestamp": 1623514505448,
     "user": {
      "displayName": "Abhinav Harsh",
      "photoUrl": "https://lh3.googleusercontent.com/a-/AOh14GjhE176sGgELCcMdZ01YHQwYJKae164pFS8qOpR=s64",
      "userId": "08825161285052345463"
     },
     "user_tz": -330
    },
    "id": "FqbyHCwqpke8",
    "outputId": "211db33a-cf8e-4668-a113-e418388e0245"
   },
   "outputs": [],
   "source": [
    "#Loading dataset\n",
    "# data=pd.read_csv(\"hour.csv\")\n",
    "\n",
    "data = pd.read_csv(\"hour.csv\")"
   ]
  },
  {
   "cell_type": "markdown",
   "metadata": {
    "id": "33mgCPVfpke8"
   },
   "source": [
    "**View the first 5 rows of the dataset.**"
   ]
  },
  {
   "cell_type": "code",
   "execution_count": 3,
   "metadata": {
    "colab": {
     "base_uri": "https://localhost:8080/",
     "height": 204
    },
    "executionInfo": {
     "elapsed": 925,
     "status": "ok",
     "timestamp": 1623514509716,
     "user": {
      "displayName": "Abhinav Harsh",
      "photoUrl": "https://lh3.googleusercontent.com/a-/AOh14GjhE176sGgELCcMdZ01YHQwYJKae164pFS8qOpR=s64",
      "userId": "08825161285052345463"
     },
     "user_tz": -330
    },
    "id": "m3KFUbl3pke9",
    "outputId": "1b0372a9-790c-4f1b-8450-badd88fc9b68"
   },
   "outputs": [
    {
     "data": {
      "text/html": [
       "<div>\n",
       "<style scoped>\n",
       "    .dataframe tbody tr th:only-of-type {\n",
       "        vertical-align: middle;\n",
       "    }\n",
       "\n",
       "    .dataframe tbody tr th {\n",
       "        vertical-align: top;\n",
       "    }\n",
       "\n",
       "    .dataframe thead th {\n",
       "        text-align: right;\n",
       "    }\n",
       "</style>\n",
       "<table border=\"1\" class=\"dataframe\">\n",
       "  <thead>\n",
       "    <tr style=\"text-align: right;\">\n",
       "      <th></th>\n",
       "      <th>instant</th>\n",
       "      <th>dteday</th>\n",
       "      <th>season</th>\n",
       "      <th>yr</th>\n",
       "      <th>mnth</th>\n",
       "      <th>hr</th>\n",
       "      <th>holiday</th>\n",
       "      <th>weekday</th>\n",
       "      <th>workingday</th>\n",
       "      <th>weathersit</th>\n",
       "      <th>temp</th>\n",
       "      <th>atemp</th>\n",
       "      <th>hum</th>\n",
       "      <th>windspeed</th>\n",
       "      <th>casual</th>\n",
       "      <th>registered</th>\n",
       "      <th>cnt</th>\n",
       "    </tr>\n",
       "  </thead>\n",
       "  <tbody>\n",
       "    <tr>\n",
       "      <th>0</th>\n",
       "      <td>1</td>\n",
       "      <td>2011-01-01</td>\n",
       "      <td>1</td>\n",
       "      <td>0</td>\n",
       "      <td>1</td>\n",
       "      <td>0</td>\n",
       "      <td>0</td>\n",
       "      <td>6</td>\n",
       "      <td>0</td>\n",
       "      <td>1</td>\n",
       "      <td>0.24</td>\n",
       "      <td>0.2879</td>\n",
       "      <td>0.81</td>\n",
       "      <td>0.0</td>\n",
       "      <td>3</td>\n",
       "      <td>13</td>\n",
       "      <td>16</td>\n",
       "    </tr>\n",
       "    <tr>\n",
       "      <th>1</th>\n",
       "      <td>2</td>\n",
       "      <td>2011-01-01</td>\n",
       "      <td>1</td>\n",
       "      <td>0</td>\n",
       "      <td>1</td>\n",
       "      <td>1</td>\n",
       "      <td>0</td>\n",
       "      <td>6</td>\n",
       "      <td>0</td>\n",
       "      <td>1</td>\n",
       "      <td>0.22</td>\n",
       "      <td>0.2727</td>\n",
       "      <td>0.80</td>\n",
       "      <td>0.0</td>\n",
       "      <td>8</td>\n",
       "      <td>32</td>\n",
       "      <td>40</td>\n",
       "    </tr>\n",
       "    <tr>\n",
       "      <th>2</th>\n",
       "      <td>3</td>\n",
       "      <td>2011-01-01</td>\n",
       "      <td>1</td>\n",
       "      <td>0</td>\n",
       "      <td>1</td>\n",
       "      <td>2</td>\n",
       "      <td>0</td>\n",
       "      <td>6</td>\n",
       "      <td>0</td>\n",
       "      <td>1</td>\n",
       "      <td>0.22</td>\n",
       "      <td>0.2727</td>\n",
       "      <td>0.80</td>\n",
       "      <td>0.0</td>\n",
       "      <td>5</td>\n",
       "      <td>27</td>\n",
       "      <td>32</td>\n",
       "    </tr>\n",
       "    <tr>\n",
       "      <th>3</th>\n",
       "      <td>4</td>\n",
       "      <td>2011-01-01</td>\n",
       "      <td>1</td>\n",
       "      <td>0</td>\n",
       "      <td>1</td>\n",
       "      <td>3</td>\n",
       "      <td>0</td>\n",
       "      <td>6</td>\n",
       "      <td>0</td>\n",
       "      <td>1</td>\n",
       "      <td>0.24</td>\n",
       "      <td>0.2879</td>\n",
       "      <td>0.75</td>\n",
       "      <td>0.0</td>\n",
       "      <td>3</td>\n",
       "      <td>10</td>\n",
       "      <td>13</td>\n",
       "    </tr>\n",
       "    <tr>\n",
       "      <th>4</th>\n",
       "      <td>5</td>\n",
       "      <td>2011-01-01</td>\n",
       "      <td>1</td>\n",
       "      <td>0</td>\n",
       "      <td>1</td>\n",
       "      <td>4</td>\n",
       "      <td>0</td>\n",
       "      <td>6</td>\n",
       "      <td>0</td>\n",
       "      <td>1</td>\n",
       "      <td>0.24</td>\n",
       "      <td>0.2879</td>\n",
       "      <td>0.75</td>\n",
       "      <td>0.0</td>\n",
       "      <td>0</td>\n",
       "      <td>1</td>\n",
       "      <td>1</td>\n",
       "    </tr>\n",
       "  </tbody>\n",
       "</table>\n",
       "</div>"
      ],
      "text/plain": [
       "   instant      dteday  season  yr  mnth  hr  holiday  weekday  workingday  \\\n",
       "0        1  2011-01-01       1   0     1   0        0        6           0   \n",
       "1        2  2011-01-01       1   0     1   1        0        6           0   \n",
       "2        3  2011-01-01       1   0     1   2        0        6           0   \n",
       "3        4  2011-01-01       1   0     1   3        0        6           0   \n",
       "4        5  2011-01-01       1   0     1   4        0        6           0   \n",
       "\n",
       "   weathersit  temp   atemp   hum  windspeed  casual  registered  cnt  \n",
       "0           1  0.24  0.2879  0.81        0.0       3          13   16  \n",
       "1           1  0.22  0.2727  0.80        0.0       8          32   40  \n",
       "2           1  0.22  0.2727  0.80        0.0       5          27   32  \n",
       "3           1  0.24  0.2879  0.75        0.0       3          10   13  \n",
       "4           1  0.24  0.2879  0.75        0.0       0           1    1  "
      ]
     },
     "execution_count": 3,
     "metadata": {},
     "output_type": "execute_result"
    }
   ],
   "source": [
    "data.head()"
   ]
  },
  {
   "cell_type": "markdown",
   "metadata": {
    "id": "AWcPTI1zpke-"
   },
   "source": [
    "**Check data types and number of non-null values for each column.**"
   ]
  },
  {
   "cell_type": "code",
   "execution_count": 4,
   "metadata": {
    "colab": {
     "base_uri": "https://localhost:8080/"
    },
    "executionInfo": {
     "elapsed": 836,
     "status": "ok",
     "timestamp": 1623514577094,
     "user": {
      "displayName": "Abhinav Harsh",
      "photoUrl": "https://lh3.googleusercontent.com/a-/AOh14GjhE176sGgELCcMdZ01YHQwYJKae164pFS8qOpR=s64",
      "userId": "08825161285052345463"
     },
     "user_tz": -330
    },
    "id": "6Mlybvw3pke-",
    "outputId": "1a560555-d6fe-4929-b393-0275d46c69ea"
   },
   "outputs": [
    {
     "name": "stdout",
     "output_type": "stream",
     "text": [
      "<class 'pandas.core.frame.DataFrame'>\n",
      "RangeIndex: 17379 entries, 0 to 17378\n",
      "Data columns (total 17 columns):\n",
      " #   Column      Non-Null Count  Dtype  \n",
      "---  ------      --------------  -----  \n",
      " 0   instant     17379 non-null  int64  \n",
      " 1   dteday      17379 non-null  object \n",
      " 2   season      17379 non-null  int64  \n",
      " 3   yr          17379 non-null  int64  \n",
      " 4   mnth        17379 non-null  int64  \n",
      " 5   hr          17379 non-null  int64  \n",
      " 6   holiday     17379 non-null  int64  \n",
      " 7   weekday     17379 non-null  int64  \n",
      " 8   workingday  17379 non-null  int64  \n",
      " 9   weathersit  17379 non-null  int64  \n",
      " 10  temp        17379 non-null  float64\n",
      " 11  atemp       17379 non-null  float64\n",
      " 12  hum         17379 non-null  float64\n",
      " 13  windspeed   17379 non-null  float64\n",
      " 14  casual      17379 non-null  int64  \n",
      " 15  registered  17379 non-null  int64  \n",
      " 16  cnt         17379 non-null  int64  \n",
      "dtypes: float64(4), int64(12), object(1)\n",
      "memory usage: 2.3+ MB\n"
     ]
    }
   ],
   "source": [
    "data.info()"
   ]
  },
  {
   "cell_type": "markdown",
   "metadata": {
    "id": "y-GlFrfOpke-"
   },
   "source": [
    "- We can see that there are total 17 columns and 17,379 number of rows in the dataset.\n",
    "- All columns' data type is either integer or float except one column - 'dteday' which is of object type.\n",
    "- The number of non-null value of each column is equal to number of total rows in the dataset i.e. no null value. We can further confirm this using `isna()` method.**"
   ]
  },
  {
   "cell_type": "code",
   "execution_count": 5,
   "metadata": {
    "colab": {
     "base_uri": "https://localhost:8080/"
    },
    "executionInfo": {
     "elapsed": 545,
     "status": "ok",
     "timestamp": 1623514678981,
     "user": {
      "displayName": "Abhinav Harsh",
      "photoUrl": "https://lh3.googleusercontent.com/a-/AOh14GjhE176sGgELCcMdZ01YHQwYJKae164pFS8qOpR=s64",
      "userId": "08825161285052345463"
     },
     "user_tz": -330
    },
    "id": "_hekXjBVpke_",
    "outputId": "db6fc315-b0bc-4b02-e9af-62d54200ebda"
   },
   "outputs": [
    {
     "data": {
      "text/plain": [
       "instant       0\n",
       "dteday        0\n",
       "season        0\n",
       "yr            0\n",
       "mnth          0\n",
       "hr            0\n",
       "holiday       0\n",
       "weekday       0\n",
       "workingday    0\n",
       "weathersit    0\n",
       "temp          0\n",
       "atemp         0\n",
       "hum           0\n",
       "windspeed     0\n",
       "casual        0\n",
       "registered    0\n",
       "cnt           0\n",
       "dtype: int64"
      ]
     },
     "execution_count": 5,
     "metadata": {},
     "output_type": "execute_result"
    }
   ],
   "source": [
    "data.isna().sum()"
   ]
  },
  {
   "cell_type": "markdown",
   "metadata": {
    "id": "EhMHyyhnpke_"
   },
   "source": [
    "- There are no missing values in the data."
   ]
  },
  {
   "cell_type": "markdown",
   "metadata": {
    "id": "mtdoj0-gpke_"
   },
   "source": [
    "**Summary of the dataset**"
   ]
  },
  {
   "cell_type": "code",
   "execution_count": 6,
   "metadata": {
    "colab": {
     "base_uri": "https://localhost:8080/",
     "height": 204
    },
    "executionInfo": {
     "elapsed": 773,
     "status": "ok",
     "timestamp": 1623514689292,
     "user": {
      "displayName": "Abhinav Harsh",
      "photoUrl": "https://lh3.googleusercontent.com/a-/AOh14GjhE176sGgELCcMdZ01YHQwYJKae164pFS8qOpR=s64",
      "userId": "08825161285052345463"
     },
     "user_tz": -330
    },
    "id": "p6LcCvEQpke_",
    "outputId": "3013fe68-ddd7-410a-f465-bd207b4b8c18"
   },
   "outputs": [
    {
     "data": {
      "text/html": [
       "<div>\n",
       "<style scoped>\n",
       "    .dataframe tbody tr th:only-of-type {\n",
       "        vertical-align: middle;\n",
       "    }\n",
       "\n",
       "    .dataframe tbody tr th {\n",
       "        vertical-align: top;\n",
       "    }\n",
       "\n",
       "    .dataframe thead th {\n",
       "        text-align: right;\n",
       "    }\n",
       "</style>\n",
       "<table border=\"1\" class=\"dataframe\">\n",
       "  <thead>\n",
       "    <tr style=\"text-align: right;\">\n",
       "      <th></th>\n",
       "      <th>count</th>\n",
       "      <th>mean</th>\n",
       "      <th>std</th>\n",
       "      <th>min</th>\n",
       "      <th>25%</th>\n",
       "      <th>50%</th>\n",
       "      <th>75%</th>\n",
       "      <th>max</th>\n",
       "    </tr>\n",
       "  </thead>\n",
       "  <tbody>\n",
       "    <tr>\n",
       "      <th>temp</th>\n",
       "      <td>17379.0</td>\n",
       "      <td>0.496987</td>\n",
       "      <td>0.192556</td>\n",
       "      <td>0.02</td>\n",
       "      <td>0.3400</td>\n",
       "      <td>0.5000</td>\n",
       "      <td>0.6600</td>\n",
       "      <td>1.0000</td>\n",
       "    </tr>\n",
       "    <tr>\n",
       "      <th>atemp</th>\n",
       "      <td>17379.0</td>\n",
       "      <td>0.475775</td>\n",
       "      <td>0.171850</td>\n",
       "      <td>0.00</td>\n",
       "      <td>0.3333</td>\n",
       "      <td>0.4848</td>\n",
       "      <td>0.6212</td>\n",
       "      <td>1.0000</td>\n",
       "    </tr>\n",
       "    <tr>\n",
       "      <th>hum</th>\n",
       "      <td>17379.0</td>\n",
       "      <td>0.627229</td>\n",
       "      <td>0.192930</td>\n",
       "      <td>0.00</td>\n",
       "      <td>0.4800</td>\n",
       "      <td>0.6300</td>\n",
       "      <td>0.7800</td>\n",
       "      <td>1.0000</td>\n",
       "    </tr>\n",
       "    <tr>\n",
       "      <th>windspeed</th>\n",
       "      <td>17379.0</td>\n",
       "      <td>0.190098</td>\n",
       "      <td>0.122340</td>\n",
       "      <td>0.00</td>\n",
       "      <td>0.1045</td>\n",
       "      <td>0.1940</td>\n",
       "      <td>0.2537</td>\n",
       "      <td>0.8507</td>\n",
       "    </tr>\n",
       "    <tr>\n",
       "      <th>cnt</th>\n",
       "      <td>17379.0</td>\n",
       "      <td>189.463088</td>\n",
       "      <td>181.387599</td>\n",
       "      <td>1.00</td>\n",
       "      <td>40.0000</td>\n",
       "      <td>142.0000</td>\n",
       "      <td>281.0000</td>\n",
       "      <td>977.0000</td>\n",
       "    </tr>\n",
       "  </tbody>\n",
       "</table>\n",
       "</div>"
      ],
      "text/plain": [
       "             count        mean         std   min      25%       50%       75%  \\\n",
       "temp       17379.0    0.496987    0.192556  0.02   0.3400    0.5000    0.6600   \n",
       "atemp      17379.0    0.475775    0.171850  0.00   0.3333    0.4848    0.6212   \n",
       "hum        17379.0    0.627229    0.192930  0.00   0.4800    0.6300    0.7800   \n",
       "windspeed  17379.0    0.190098    0.122340  0.00   0.1045    0.1940    0.2537   \n",
       "cnt        17379.0  189.463088  181.387599  1.00  40.0000  142.0000  281.0000   \n",
       "\n",
       "                max  \n",
       "temp         1.0000  \n",
       "atemp        1.0000  \n",
       "hum          1.0000  \n",
       "windspeed    0.8507  \n",
       "cnt        977.0000  "
      ]
     },
     "execution_count": 6,
     "metadata": {},
     "output_type": "execute_result"
    }
   ],
   "source": [
    "# Summary of continuous columns\n",
    "data[['temp','atemp','hum','windspeed','cnt']].describe().T"
   ]
  },
  {
   "cell_type": "markdown",
   "metadata": {
    "id": "4aZ2AQ-gpkfA"
   },
   "source": [
    "- Mean and median value of temperature is approx 0.50\n",
    "- Mean and median value for 'atemp' is approx 0.47 and 0.48 respectively\n",
    "- Mean and median value for 'hum' is approx 0.627 and 0.63 respectively\n",
    "- Wind speed has some extreme values at the right end\n",
    "- Target variable seems to have skewed distribution as higher values are on the right. We will explore this further."
   ]
  },
  {
   "cell_type": "markdown",
   "metadata": {
    "id": "LvFsGRBNpkfA"
   },
   "source": [
    "**Number of unique values in each column**"
   ]
  },
  {
   "cell_type": "code",
   "execution_count": 7,
   "metadata": {
    "colab": {
     "base_uri": "https://localhost:8080/"
    },
    "executionInfo": {
     "elapsed": 447,
     "status": "ok",
     "timestamp": 1623514746933,
     "user": {
      "displayName": "Abhinav Harsh",
      "photoUrl": "https://lh3.googleusercontent.com/a-/AOh14GjhE176sGgELCcMdZ01YHQwYJKae164pFS8qOpR=s64",
      "userId": "08825161285052345463"
     },
     "user_tz": -330
    },
    "id": "z7JIp2ilpkfA",
    "outputId": "cf939b1a-0052-4efe-908e-bd5c0bd2607e"
   },
   "outputs": [
    {
     "data": {
      "text/plain": [
       "instant       17379\n",
       "dteday          731\n",
       "season            4\n",
       "yr                2\n",
       "mnth             12\n",
       "hr               24\n",
       "holiday           2\n",
       "weekday           7\n",
       "workingday        2\n",
       "weathersit        4\n",
       "temp             50\n",
       "atemp            65\n",
       "hum              89\n",
       "windspeed        30\n",
       "casual          322\n",
       "registered      776\n",
       "cnt             869\n",
       "dtype: int64"
      ]
     },
     "execution_count": 7,
     "metadata": {},
     "output_type": "execute_result"
    }
   ],
   "source": [
    "data.nunique()"
   ]
  },
  {
   "cell_type": "markdown",
   "metadata": {
    "id": "svngQ-L6pkfB"
   },
   "source": [
    "- We can drop 'instant' column as it is an ID variable and will not add value to the model.\n",
    "- We can drop 'dteday' column as it just contains dates of 731 days i.e. 2 years. This will not add value to the model."
   ]
  },
  {
   "cell_type": "code",
   "execution_count": 8,
   "metadata": {
    "executionInfo": {
     "elapsed": 435,
     "status": "ok",
     "timestamp": 1623514802191,
     "user": {
      "displayName": "Abhinav Harsh",
      "photoUrl": "https://lh3.googleusercontent.com/a-/AOh14GjhE176sGgELCcMdZ01YHQwYJKae164pFS8qOpR=s64",
      "userId": "08825161285052345463"
     },
     "user_tz": -330
    },
    "id": "5IuGhIj6pkfB"
   },
   "outputs": [],
   "source": [
    "#Dropping two columns from the dataframe\n",
    "data.drop(columns=['instant','dteday'], inplace=True)"
   ]
  },
  {
   "cell_type": "markdown",
   "metadata": {
    "id": "PLMM9tuXpkfB"
   },
   "source": [
    "**Number of observations in each category**"
   ]
  },
  {
   "cell_type": "code",
   "execution_count": 9,
   "metadata": {
    "colab": {
     "base_uri": "https://localhost:8080/"
    },
    "executionInfo": {
     "elapsed": 523,
     "status": "ok",
     "timestamp": 1623514806672,
     "user": {
      "displayName": "Abhinav Harsh",
      "photoUrl": "https://lh3.googleusercontent.com/a-/AOh14GjhE176sGgELCcMdZ01YHQwYJKae164pFS8qOpR=s64",
      "userId": "08825161285052345463"
     },
     "user_tz": -330
    },
    "id": "cIWSusE2pkfB",
    "outputId": "474401b7-059d-4b24-b005-4f81855d26c9",
    "scrolled": false
   },
   "outputs": [
    {
     "name": "stdout",
     "output_type": "stream",
     "text": [
      "3    4496\n",
      "2    4409\n",
      "1    4242\n",
      "4    4232\n",
      "Name: season, dtype: int64\n",
      "------------------------------\n",
      "1    8734\n",
      "0    8645\n",
      "Name: yr, dtype: int64\n",
      "------------------------------\n",
      "0    16879\n",
      "1      500\n",
      "Name: holiday, dtype: int64\n",
      "------------------------------\n",
      "1    11865\n",
      "0     5514\n",
      "Name: workingday, dtype: int64\n",
      "------------------------------\n",
      "1    11413\n",
      "2     4544\n",
      "3     1419\n",
      "4        3\n",
      "Name: weathersit, dtype: int64\n",
      "------------------------------\n"
     ]
    }
   ],
   "source": [
    "cat_cols=['season','yr','holiday','workingday','weathersit']\n",
    "\n",
    "for column in cat_cols:\n",
    "    print(data[column].value_counts())\n",
    "    print('-'*30)"
   ]
  },
  {
   "cell_type": "markdown",
   "metadata": {
    "id": "Ze9rqI3WpkfC"
   },
   "source": [
    "- Number of observations from year 0 i.e. 2011 is slightly more than number of observations from year 1 i.e. 2012.\n",
    "- As expected, number of non-holidays and working days are much higher than number of holidays and non-working days respectively.\n",
    "- We have only 3 observations where weathersit=4 and most common is 1 i.e. clear or partly cloudy."
   ]
  },
  {
   "cell_type": "markdown",
   "metadata": {
    "id": "oUTSkXOZpkfC"
   },
   "source": [
    "## <a id = \"link2\"></a> EDA"
   ]
  },
  {
   "cell_type": "markdown",
   "metadata": {
    "id": "CHr021zhpkfD"
   },
   "source": [
    "### Univariate analysis"
   ]
  },
  {
   "cell_type": "code",
   "execution_count": 10,
   "metadata": {
    "executionInfo": {
     "elapsed": 458,
     "status": "ok",
     "timestamp": 1623514889154,
     "user": {
      "displayName": "Abhinav Harsh",
      "photoUrl": "https://lh3.googleusercontent.com/a-/AOh14GjhE176sGgELCcMdZ01YHQwYJKae164pFS8qOpR=s64",
      "userId": "08825161285052345463"
     },
     "user_tz": -330
    },
    "id": "QGb5rv3UpkfD"
   },
   "outputs": [],
   "source": [
    "# While doing uni-variate analysis of numerical variables we want to study their central tendency \n",
    "# and dispersion.\n",
    "# Let us write a function that will help us create boxplot and histogram for any input numerical \n",
    "# variable.\n",
    "# This function takes the numerical column as the input and returns the boxplots \n",
    "# and histograms for the variable.\n",
    "\n",
    "def histogram_boxplot(feature, figsize=(15,10), bins = None):\n",
    "    \"\"\" Boxplot and histogram combined\n",
    "    feature: 1-d feature array\n",
    "    figsize: size of fig (default (9,8))\n",
    "    bins: number of bins (default None / auto)\n",
    "    \"\"\"\n",
    "    f2, (ax_box2, ax_hist2) = plt.subplots(nrows = 2, # Number of rows of the subplot grid= 2\n",
    "                                           sharex = True, # x-axis will be shared among all subplots\n",
    "                                           gridspec_kw = {\"height_ratios\": (.25, .75)}, \n",
    "                                           figsize = figsize \n",
    "                                           ) # creating the 2 subplots\n",
    "    sns.boxplot(feature, ax=ax_box2, showmeans=True, color='violet') # boxplot will be created and a star will indicate the mean value of the column\n",
    "    sns.distplot(feature, kde=F, ax=ax_hist2, bins=bins,palette=\"winter\") if bins else sns.distplot(feature, kde=False, ax=ax_hist2) # For histogram\n",
    "    ax_hist2.axvline(np.mean(feature), color='green', linestyle='--') # Add mean to the histogram\n",
    "    ax_hist2.axvline(np.median(feature), color='black', linestyle='-') # Add median to the histogram"
   ]
  },
  {
   "cell_type": "markdown",
   "metadata": {
    "id": "auybsqzKpkfD"
   },
   "source": [
    "**Observations on temperature**"
   ]
  },
  {
   "cell_type": "code",
   "execution_count": 11,
   "metadata": {
    "colab": {
     "base_uri": "https://localhost:8080/",
     "height": 606
    },
    "executionInfo": {
     "elapsed": 866,
     "status": "ok",
     "timestamp": 1623429882388,
     "user": {
      "displayName": "Abhinav Harsh",
      "photoUrl": "https://lh3.googleusercontent.com/a-/AOh14GjhE176sGgELCcMdZ01YHQwYJKae164pFS8qOpR=s64",
      "userId": "08825161285052345463"
     },
     "user_tz": -330
    },
    "id": "Q_ogVBP6pkfD",
    "outputId": "a1bb4f7f-d56a-4968-fd29-72c423525a04"
   },
   "outputs": [
    {
     "data": {
      "image/png": "[encoded data removed]",
      "text/plain": [
       "<Figure size 1080x720 with 2 Axes>"
      ]
     },
     "metadata": {
      "needs_background": "light"
     },
     "output_type": "display_data"
    }
   ],
   "source": [
    "histogram_boxplot(data['temp'])"
   ]
  },
  {
   "cell_type": "markdown",
   "metadata": {
    "id": "uf63Cr_RpkfE"
   },
   "source": [
    "- Temperature has an approx symmetric distribution with mean and median equal to 0.5\n",
    "- As evident from the boxplot, there are no outliers in the distribution for this variable"
   ]
  },
  {
   "cell_type": "markdown",
   "metadata": {
    "id": "qDxTxOJVpkfE"
   },
   "source": [
    "**Observations on 'feel like temperature'**"
   ]
  },
  {
   "cell_type": "code",
   "execution_count": 12,
   "metadata": {
    "colab": {
     "base_uri": "https://localhost:8080/",
     "height": 606
    },
    "executionInfo": {
     "elapsed": 100,
     "status": "ok",
     "timestamp": 1623429882390,
     "user": {
      "displayName": "Abhinav Harsh",
      "photoUrl": "https://lh3.googleusercontent.com/a-/AOh14GjhE176sGgELCcMdZ01YHQwYJKae164pFS8qOpR=s64",
      "userId": "08825161285052345463"
     },
     "user_tz": -330
    },
    "id": "liNRkkU2pkfE",
    "outputId": "7dd2154b-6fc1-49f5-db69-ce037333adca"
   },
   "outputs": [
    {
     "data": {
      "image/png": "[encoded data removed]",
      "text/plain": [
       "<Figure size 1080x720 with 2 Axes>"
      ]
     },
     "metadata": {
      "needs_background": "light"
     },
     "output_type": "display_data"
    }
   ],
   "source": [
    "histogram_boxplot(data['atemp'])"
   ]
  },
  {
   "cell_type": "markdown",
   "metadata": {
    "id": "HKB7o5G5pkfE"
   },
   "source": [
    "- Same as temperature, the distribution for feel like temperature is also symmetrically distributed\n",
    "- There are no outliers in the distribution of this variables"
   ]
  },
  {
   "cell_type": "code",
   "execution_count": 13,
   "metadata": {
    "colab": {
     "base_uri": "https://localhost:8080/",
     "height": 606
    },
    "executionInfo": {
     "elapsed": 510,
     "status": "ok",
     "timestamp": 1623429882805,
     "user": {
      "displayName": "Abhinav Harsh",
      "photoUrl": "https://lh3.googleusercontent.com/a-/AOh14GjhE176sGgELCcMdZ01YHQwYJKae164pFS8qOpR=s64",
      "userId": "08825161285052345463"
     },
     "user_tz": -330
    },
    "id": "5cr4N9HEpkfF",
    "outputId": "9ac37890-4757-41ac-d4e2-bbe6041c550e"
   },
   "outputs": [
    {
     "data": {
      "image/png": "[encoded data removed]",
      "text/plain": [
       "<Figure size 1080x720 with 2 Axes>"
      ]
     },
     "metadata": {
      "needs_background": "light"
     },
     "output_type": "display_data"
    }
   ],
   "source": [
    "histogram_boxplot(data['hum'])"
   ]
  },
  {
   "cell_type": "markdown",
   "metadata": {
    "id": "QVU7Bc-upkfF"
   },
   "source": [
    "- Most of values are concentrated in the middle i.e. 0.4 to 0.8\n",
    "- Humidity with value equal to 0 is an outlier\n",
    "- The distribution is approx normally distributed with mean and median equal to 0.63"
   ]
  },
  {
   "cell_type": "code",
   "execution_count": 14,
   "metadata": {
    "colab": {
     "base_uri": "https://localhost:8080/",
     "height": 606
    },
    "executionInfo": {
     "elapsed": 516,
     "status": "ok",
     "timestamp": 1623429883314,
     "user": {
      "displayName": "Abhinav Harsh",
      "photoUrl": "https://lh3.googleusercontent.com/a-/AOh14GjhE176sGgELCcMdZ01YHQwYJKae164pFS8qOpR=s64",
      "userId": "08825161285052345463"
     },
     "user_tz": -330
    },
    "id": "K7K1LiYmpkfF",
    "outputId": "7e88d7e9-4ee3-413d-9cb9-a4822746ed34"
   },
   "outputs": [
    {
     "data": {
      "image/png": "[encoded data removed]",
      "text/plain": [
       "<Figure size 1080x720 with 2 Axes>"
      ]
     },
     "metadata": {
      "needs_background": "light"
     },
     "output_type": "display_data"
    }
   ],
   "source": [
    "histogram_boxplot(data['windspeed'])"
   ]
  },
  {
   "cell_type": "markdown",
   "metadata": {
    "id": "4mvgg6ccpkfF"
   },
   "source": [
    "- Wind speed has a right skewed distribution and 0 has the highest count among all observations\n",
    "- Distribution is not symmetric but mean and median are approx equal with value equal to 0.19\n",
    "- There are many outliers in this variable"
   ]
  },
  {
   "cell_type": "code",
   "execution_count": 15,
   "metadata": {
    "colab": {
     "base_uri": "https://localhost:8080/",
     "height": 606
    },
    "executionInfo": {
     "elapsed": 731,
     "status": "ok",
     "timestamp": 1623429884031,
     "user": {
      "displayName": "Abhinav Harsh",
      "photoUrl": "https://lh3.googleusercontent.com/a-/AOh14GjhE176sGgELCcMdZ01YHQwYJKae164pFS8qOpR=s64",
      "userId": "08825161285052345463"
     },
     "user_tz": -330
    },
    "id": "d3_FPOq8pkfG",
    "outputId": "6b0cb197-8674-4680-f6ef-f48b77aaea01"
   },
   "outputs": [
    {
     "data": {
      "image/png": "[encoded data removed]",
      "text/plain": [
       "<Figure size 1080x720 with 2 Axes>"
      ]
     },
     "metadata": {
      "needs_background": "light"
     },
     "output_type": "display_data"
    }
   ],
   "source": [
    "histogram_boxplot(data['cnt'])"
   ]
  },
  {
   "cell_type": "code",
   "execution_count": 16,
   "metadata": {
    "colab": {
     "base_uri": "https://localhost:8080/"
    },
    "executionInfo": {
     "elapsed": 28,
     "status": "ok",
     "timestamp": 1623429884041,
     "user": {
      "displayName": "Abhinav Harsh",
      "photoUrl": "https://lh3.googleusercontent.com/a-/AOh14GjhE176sGgELCcMdZ01YHQwYJKae164pFS8qOpR=s64",
      "userId": "08825161285052345463"
     },
     "user_tz": -330
    },
    "id": "_fIZpbTmpkfG",
    "outputId": "322ce61f-def2-463b-9da5-06bc6df60ec2"
   },
   "outputs": [
    {
     "data": {
      "text/plain": [
       "14773    977\n",
       "14964    976\n",
       "14748    970\n",
       "14725    968\n",
       "15084    967\n",
       "Name: cnt, dtype: int64"
      ]
     },
     "execution_count": 16,
     "metadata": {},
     "output_type": "execute_result"
    }
   ],
   "source": [
    "#Top 5 highest values \n",
    "data['cnt'].nlargest()"
   ]
  },
  {
   "cell_type": "markdown",
   "metadata": {
    "id": "L3rc55T-pkfG"
   },
   "source": [
    "- The target variable i.e. the count of bikes rented has a right skewed distribution\n",
    "- The range of values is very large with many observations being less than 10 count and some being greater than 900 count\n",
    "- As evident from the boxplot, there are many outliers"
   ]
  },
  {
   "cell_type": "markdown",
   "metadata": {
    "id": "l8d_2gjzpkfG"
   },
   "source": [
    "**Function to create barplots that indicate percentage for each category**"
   ]
  },
  {
   "cell_type": "code",
   "execution_count": 17,
   "metadata": {
    "executionInfo": {
     "elapsed": 580,
     "status": "ok",
     "timestamp": 1623514982836,
     "user": {
      "displayName": "Abhinav Harsh",
      "photoUrl": "https://lh3.googleusercontent.com/a-/AOh14GjhE176sGgELCcMdZ01YHQwYJKae164pFS8qOpR=s64",
      "userId": "08825161285052345463"
     },
     "user_tz": -330
    },
    "id": "5n9vjibwpkfH"
   },
   "outputs": [],
   "source": [
    "def perc_on_bar(feature):\n",
    "    '''\n",
    "    plot\n",
    "    feature: categorical feature\n",
    "    the function won't work if a column is passed in hue parameter\n",
    "    '''\n",
    "    #Creating a countplot for the feature\n",
    "    sns.set(rc={'figure.figsize':(15,7)})\n",
    "    ax=sns.countplot(x=feature, data=data)\n",
    "    \n",
    "    total = len(feature) # length of the column\n",
    "    for p in ax.patches:\n",
    "        percentage = '{:.1f}%'.format(100 * p.get_height()/total) # percentage of each class of the category\n",
    "        x = p.get_x() + p.get_width() / 2 - 0.25 # width of the plot\n",
    "        y = p.get_y() + p.get_height()           # hieght of the plot\n",
    "        ax.annotate(percentage, (x, y), size = 14) # annotate the percantage \n",
    "        \n",
    "    plt.show() # show the plot"
   ]
  },
  {
   "cell_type": "code",
   "execution_count": 18,
   "metadata": {
    "colab": {
     "base_uri": "https://localhost:8080/",
     "height": 448
    },
    "executionInfo": {
     "elapsed": 540,
     "status": "ok",
     "timestamp": 1623429884564,
     "user": {
      "displayName": "Abhinav Harsh",
      "photoUrl": "https://lh3.googleusercontent.com/a-/AOh14GjhE176sGgELCcMdZ01YHQwYJKae164pFS8qOpR=s64",
      "userId": "08825161285052345463"
     },
     "user_tz": -330
    },
    "id": "VJxMXS_WpkfH",
    "outputId": "be5c811c-5be7-45fc-b74d-390a6ad10b96"
   },
   "outputs": [
    {
     "data": {
      "image/png": "[encoded data removed]",
      "text/plain": [
       "<Figure size 1080x504 with 1 Axes>"
      ]
     },
     "metadata": {},
     "output_type": "display_data"
    }
   ],
   "source": [
    "perc_on_bar(data['hr'])"
   ]
  },
  {
   "cell_type": "markdown",
   "metadata": {
    "id": "aTj19nRapkfH"
   },
   "source": [
    "- Each hour i.e. 0 to 23 has approx 4% observations in the data"
   ]
  },
  {
   "cell_type": "code",
   "execution_count": 19,
   "metadata": {
    "colab": {
     "base_uri": "https://localhost:8080/",
     "height": 448
    },
    "executionInfo": {
     "elapsed": 520,
     "status": "ok",
     "timestamp": 1623515012086,
     "user": {
      "displayName": "Abhinav Harsh",
      "photoUrl": "https://lh3.googleusercontent.com/a-/AOh14GjhE176sGgELCcMdZ01YHQwYJKae164pFS8qOpR=s64",
      "userId": "08825161285052345463"
     },
     "user_tz": -330
    },
    "id": "ML5k53X0pkfH",
    "outputId": "746e8dc7-11a0-47dd-a6f6-4a353ddd9cb5"
   },
   "outputs": [
    {
     "data": {
      "image/png": "[encoded data removed]",
      "text/plain": [
       "<Figure size 1080x504 with 1 Axes>"
      ]
     },
     "metadata": {},
     "output_type": "display_data"
    }
   ],
   "source": [
    "perc_on_bar(data['mnth'])"
   ]
  },
  {
   "cell_type": "markdown",
   "metadata": {
    "id": "y11DaS3zpkfI"
   },
   "source": [
    "- Each month i.e. 1 to 12 has approx 8.5% observations in the data\n",
    "- Month 2 has slightly less number of observations compared to other months"
   ]
  },
  {
   "cell_type": "code",
   "execution_count": 20,
   "metadata": {
    "colab": {
     "base_uri": "https://localhost:8080/",
     "height": 448
    },
    "executionInfo": {
     "elapsed": 25,
     "status": "ok",
     "timestamp": 1623429885126,
     "user": {
      "displayName": "Abhinav Harsh",
      "photoUrl": "https://lh3.googleusercontent.com/a-/AOh14GjhE176sGgELCcMdZ01YHQwYJKae164pFS8qOpR=s64",
      "userId": "08825161285052345463"
     },
     "user_tz": -330
    },
    "id": "4YMvOeL_pkfI",
    "outputId": "fb4b4985-fd28-411f-c8b4-1c2394dfd4dc"
   },
   "outputs": [
    {
     "data": {
      "image/png": "[encoded data removed]",
      "text/plain": [
       "<Figure size 1080x504 with 1 Axes>"
      ]
     },
     "metadata": {},
     "output_type": "display_data"
    }
   ],
   "source": [
    "perc_on_bar(data['season'])"
   ]
  },
  {
   "cell_type": "markdown",
   "metadata": {
    "id": "V-sI2jqApkfJ"
   },
   "source": [
    "- Each season has approx 24% observations in the data"
   ]
  },
  {
   "cell_type": "code",
   "execution_count": 21,
   "metadata": {
    "colab": {
     "base_uri": "https://localhost:8080/",
     "height": 448
    },
    "executionInfo": {
     "elapsed": 656,
     "status": "ok",
     "timestamp": 1623429885762,
     "user": {
      "displayName": "Abhinav Harsh",
      "photoUrl": "https://lh3.googleusercontent.com/a-/AOh14GjhE176sGgELCcMdZ01YHQwYJKae164pFS8qOpR=s64",
      "userId": "08825161285052345463"
     },
     "user_tz": -330
    },
    "id": "aPP6Jp3LpkfJ",
    "outputId": "b028b06c-82a0-43f7-c3bd-1f987c85ae86"
   },
   "outputs": [
    {
     "data": {
      "image/png": "[encoded data removed]",
      "text/plain": [
       "<Figure size 1080x504 with 1 Axes>"
      ]
     },
     "metadata": {},
     "output_type": "display_data"
    }
   ],
   "source": [
    "perc_on_bar(data['yr'])"
   ]
  },
  {
   "cell_type": "markdown",
   "metadata": {
    "id": "ZtTLh7pmpkfJ"
   },
   "source": [
    "- Both years have approx equal number of observations in the data"
   ]
  },
  {
   "cell_type": "code",
   "execution_count": 22,
   "metadata": {
    "colab": {
     "base_uri": "https://localhost:8080/",
     "height": 448
    },
    "executionInfo": {
     "elapsed": 35,
     "status": "ok",
     "timestamp": 1623429885765,
     "user": {
      "displayName": "Abhinav Harsh",
      "photoUrl": "https://lh3.googleusercontent.com/a-/AOh14GjhE176sGgELCcMdZ01YHQwYJKae164pFS8qOpR=s64",
      "userId": "08825161285052345463"
     },
     "user_tz": -330
    },
    "id": "n-o0L-5ZpkfJ",
    "outputId": "bd8d3888-05c3-4d63-cc2e-e65d7b255265"
   },
   "outputs": [
    {
     "data": {
      "image/png": "[encoded data removed]",
      "text/plain": [
       "<Figure size 1080x504 with 1 Axes>"
      ]
     },
     "metadata": {},
     "output_type": "display_data"
    }
   ],
   "source": [
    "perc_on_bar(data['weathersit'])"
   ]
  },
  {
   "cell_type": "markdown",
   "metadata": {
    "id": "9XHU0XvSpkfK"
   },
   "source": [
    "- Season 1 has highest percentage of observations i.e. 65.7%\n",
    "- Season 2 and season 3 have 26.1% and 8.2% observations respectively\n",
    "- We saw earlier that season 4 has only 3 observations in the data. Here, it shows 0% observations due to rounding off."
   ]
  },
  {
   "cell_type": "code",
   "execution_count": 23,
   "metadata": {
    "colab": {
     "base_uri": "https://localhost:8080/",
     "height": 448
    },
    "executionInfo": {
     "elapsed": 36,
     "status": "ok",
     "timestamp": 1623429885769,
     "user": {
      "displayName": "Abhinav Harsh",
      "photoUrl": "https://lh3.googleusercontent.com/a-/AOh14GjhE176sGgELCcMdZ01YHQwYJKae164pFS8qOpR=s64",
      "userId": "08825161285052345463"
     },
     "user_tz": -330
    },
    "id": "x95uHk_MpkfK",
    "outputId": "c6a9c65a-bdd2-4d08-9708-5ca110ba7889"
   },
   "outputs": [
    {
     "data": {
      "image/png": "[encoded data removed]",
      "text/plain": [
       "<Figure size 1080x504 with 1 Axes>"
      ]
     },
     "metadata": {},
     "output_type": "display_data"
    }
   ],
   "source": [
    "perc_on_bar(data['holiday'])"
   ]
  },
  {
   "cell_type": "markdown",
   "metadata": {
    "id": "PpEJBrS2pkfK"
   },
   "source": [
    "- As expected the percentage for non holidays is much more than holidays.\n",
    "- There are 97% non holidays observations and only 3% for holidays"
   ]
  },
  {
   "cell_type": "code",
   "execution_count": 24,
   "metadata": {
    "colab": {
     "base_uri": "https://localhost:8080/",
     "height": 448
    },
    "executionInfo": {
     "elapsed": 619,
     "status": "ok",
     "timestamp": 1623429886355,
     "user": {
      "displayName": "Abhinav Harsh",
      "photoUrl": "https://lh3.googleusercontent.com/a-/AOh14GjhE176sGgELCcMdZ01YHQwYJKae164pFS8qOpR=s64",
      "userId": "08825161285052345463"
     },
     "user_tz": -330
    },
    "id": "_n7QNXBZpkfK",
    "outputId": "7d0a7073-567e-442f-c92e-bfc858bcab4a"
   },
   "outputs": [
    {
     "data": {
      "image/png": "[encoded data removed]",
      "text/plain": [
       "<Figure size 1080x504 with 1 Axes>"
      ]
     },
     "metadata": {},
     "output_type": "display_data"
    }
   ],
   "source": [
    "perc_on_bar(data['weekday'])"
   ]
  },
  {
   "cell_type": "markdown",
   "metadata": {
    "id": "r1A8N4NCpkfK"
   },
   "source": [
    "- Each weekday i.e. 0 to 6 has approx 14% observations in the data."
   ]
  },
  {
   "cell_type": "code",
   "execution_count": 25,
   "metadata": {
    "colab": {
     "base_uri": "https://localhost:8080/",
     "height": 448
    },
    "executionInfo": {
     "elapsed": 46,
     "status": "ok",
     "timestamp": 1623429886360,
     "user": {
      "displayName": "Abhinav Harsh",
      "photoUrl": "https://lh3.googleusercontent.com/a-/AOh14GjhE176sGgELCcMdZ01YHQwYJKae164pFS8qOpR=s64",
      "userId": "08825161285052345463"
     },
     "user_tz": -330
    },
    "id": "SWwwCdW1pkfL",
    "outputId": "96795063-ffe0-4e92-ecaa-e4c0459a8aa4"
   },
   "outputs": [
    {
     "data": {
      "image/png": "[encoded data removed]",
      "text/plain": [
       "<Figure size 1080x504 with 1 Axes>"
      ]
     },
     "metadata": {},
     "output_type": "display_data"
    }
   ],
   "source": [
    "perc_on_bar(data['workingday'])"
   ]
  },
  {
   "cell_type": "markdown",
   "metadata": {
    "id": "1uqod7LdpkfL"
   },
   "source": [
    "- As expected, number of observations for working days is higher than the number of observations for non working days.\n",
    "- There are approx 68% observations for working days and 32% observations for non working days."
   ]
  },
  {
   "cell_type": "markdown",
   "metadata": {
    "id": "609z-Rg8pkfL"
   },
   "source": [
    "### Bivariate analysis"
   ]
  },
  {
   "cell_type": "code",
   "execution_count": null,
   "metadata": {
    "colab": {
     "base_uri": "https://localhost:8080/",
     "height": 434
    },
    "executionInfo": {
     "elapsed": 81635,
     "status": "ok",
     "timestamp": 1623515221958,
     "user": {
      "displayName": "Abhinav Harsh",
      "photoUrl": "https://lh3.googleusercontent.com/a-/AOh14GjhE176sGgELCcMdZ01YHQwYJKae164pFS8qOpR=s64",
      "userId": "08825161285052345463"
     },
     "user_tz": -330
    },
    "id": "dGDXfharpkfL",
    "outputId": "693ffca5-c010-4fcc-cc66-9131a77823a0"
   },
   "outputs": [],
   "source": [
    "sns.set(rc={'figure.figsize':(21,7)})\n",
    "sns.catplot(x=\"season\", y=\"cnt\", kind=\"swarm\", data=data, height=7, aspect=3);"
   ]
  },
  {
   "cell_type": "markdown",
   "metadata": {
    "id": "MhDKuBtGpkfL"
   },
   "source": [
    "- The lowest number of bikes are rented in first season\n",
    "- Highest number of bikes are shared in 3rd season\n",
    "- This can be due to the relatively high temperature in season 1 i.e. spring as compared to the season 3 i.e. fall"
   ]
  },
  {
   "cell_type": "code",
   "execution_count": null,
   "metadata": {
    "colab": {
     "base_uri": "https://localhost:8080/",
     "height": 434
    },
    "executionInfo": {
     "elapsed": 41697,
     "status": "ok",
     "timestamp": 1623430008929,
     "user": {
      "displayName": "Abhinav Harsh",
      "photoUrl": "https://lh3.googleusercontent.com/a-/AOh14GjhE176sGgELCcMdZ01YHQwYJKae164pFS8qOpR=s64",
      "userId": "08825161285052345463"
     },
     "user_tz": -330
    },
    "id": "JJFRgYldpkfL",
    "outputId": "6a25f140-c3fa-4c50-ae70-c4d4cb10e059"
   },
   "outputs": [],
   "source": [
    "sns.set(rc={'figure.figsize':(21,7)})\n",
    "sns.catplot(x=\"weekday\", y=\"cnt\", kind=\"swarm\", data=data, height=7, aspect=3);"
   ]
  },
  {
   "cell_type": "markdown",
   "metadata": {
    "id": "dr-XnuLspkfM"
   },
   "source": [
    "- Weekends i.e. weekday=0 and weekday=6 have low count of bikes rented and it is less varying.\n",
    "- Working days have higher count of bikes rented and have more variation in the count and there are some outliers for days from 1 to 5.\n",
    "- This can be due to closed schools/offices on weekends."
   ]
  },
  {
   "cell_type": "code",
   "execution_count": null,
   "metadata": {
    "colab": {
     "base_uri": "https://localhost:8080/",
     "height": 301
    },
    "executionInfo": {
     "elapsed": 1705,
     "status": "ok",
     "timestamp": 1623430010561,
     "user": {
      "displayName": "Abhinav Harsh",
      "photoUrl": "https://lh3.googleusercontent.com/a-/AOh14GjhE176sGgELCcMdZ01YHQwYJKae164pFS8qOpR=s64",
      "userId": "08825161285052345463"
     },
     "user_tz": -330
    },
    "id": "yveje03KpkfM",
    "outputId": "cf4a2546-8e5a-4a65-cfe4-6ba2b8ac1a3d"
   },
   "outputs": [],
   "source": [
    "sns.pairplot(\n",
    "    data,\n",
    "    x_vars=[\"windspeed\", \"temp\", \"hum\"],\n",
    "    y_vars=[\"cnt\"],\n",
    "    height=4,\n",
    "    aspect=1\n",
    "    );"
   ]
  },
  {
   "cell_type": "markdown",
   "metadata": {
    "id": "7p6qKmwOpkfM"
   },
   "source": [
    "- We can see that count of bikes rented is low when temperature is very low or very high. Same is true for humidity.\n",
    "- Count of bikes rented is high when wind speed is low."
   ]
  },
  {
   "cell_type": "code",
   "execution_count": null,
   "metadata": {
    "colab": {
     "base_uri": "https://localhost:8080/",
     "height": 526
    },
    "executionInfo": {
     "elapsed": 784,
     "status": "ok",
     "timestamp": 1623430011300,
     "user": {
      "displayName": "Abhinav Harsh",
      "photoUrl": "https://lh3.googleusercontent.com/a-/AOh14GjhE176sGgELCcMdZ01YHQwYJKae164pFS8qOpR=s64",
      "userId": "08825161285052345463"
     },
     "user_tz": -330
    },
    "id": "-gfrWRidpkfM",
    "outputId": "b847c99f-ad4d-4687-b96b-a34ce594b600"
   },
   "outputs": [],
   "source": [
    "sns.catplot(x=\"hr\", y=\"cnt\", data=data, kind='bar', height=7, aspect=1.5, estimator=np.mean);"
   ]
  },
  {
   "cell_type": "markdown",
   "metadata": {
    "id": "vt0uGd8zpkfN"
   },
   "source": [
    "- We can see average number of bikes rented is high at 8 AM and 5-6 PM, this can be due to office/school/college timings.\n",
    "- Average number of bikes rented is very low for night time i.e. 12 AM to 5 AM."
   ]
  },
  {
   "cell_type": "code",
   "execution_count": null,
   "metadata": {
    "colab": {
     "base_uri": "https://localhost:8080/",
     "height": 454
    },
    "executionInfo": {
     "elapsed": 669,
     "status": "ok",
     "timestamp": 1623430011954,
     "user": {
      "displayName": "Abhinav Harsh",
      "photoUrl": "https://lh3.googleusercontent.com/a-/AOh14GjhE176sGgELCcMdZ01YHQwYJKae164pFS8qOpR=s64",
      "userId": "08825161285052345463"
     },
     "user_tz": -330
    },
    "id": "7mV81yylpkfN",
    "outputId": "5ba6447a-9137-47d6-e831-b37df0d71afd"
   },
   "outputs": [],
   "source": [
    "sns.catplot(x=\"mnth\", y=\"cnt\", data=data, kind='bar', height=6, aspect=1.6, estimator=np.mean);"
   ]
  },
  {
   "cell_type": "markdown",
   "metadata": {
    "id": "2oe_ZxljpkfN"
   },
   "source": [
    "- Average number of bikes rented is low for months - December, January, February. This can be due to the cold weather in these months.\n",
    "- Average number of bikes rented is consistently high for months from May to October."
   ]
  },
  {
   "cell_type": "code",
   "execution_count": null,
   "metadata": {
    "colab": {
     "base_uri": "https://localhost:8080/",
     "height": 454
    },
    "executionInfo": {
     "elapsed": 983,
     "status": "ok",
     "timestamp": 1623430012928,
     "user": {
      "displayName": "Abhinav Harsh",
      "photoUrl": "https://lh3.googleusercontent.com/a-/AOh14GjhE176sGgELCcMdZ01YHQwYJKae164pFS8qOpR=s64",
      "userId": "08825161285052345463"
     },
     "user_tz": -330
    },
    "id": "T9D3FchgpkfN",
    "outputId": "20bfa459-601c-4f78-edfd-0430f32542c8"
   },
   "outputs": [],
   "source": [
    "sns.catplot(x=\"yr\", y=\"cnt\", data=data, kind='bar', size=6, aspect=1.5, estimator=np.mean);"
   ]
  },
  {
   "cell_type": "markdown",
   "metadata": {
    "id": "E4W3Ek2fpkfN"
   },
   "source": [
    "- Average count of bikes rented is high for year 2012 as compared to 2011.\n",
    "- Let's check this for each season of both years and observe if count in each season has increased or in just 1 or 2 seasons. "
   ]
  },
  {
   "cell_type": "code",
   "execution_count": null,
   "metadata": {
    "colab": {
     "base_uri": "https://localhost:8080/",
     "height": 468
    },
    "executionInfo": {
     "elapsed": 512,
     "status": "ok",
     "timestamp": 1623515630602,
     "user": {
      "displayName": "Abhinav Harsh",
      "photoUrl": "https://lh3.googleusercontent.com/a-/AOh14GjhE176sGgELCcMdZ01YHQwYJKae164pFS8qOpR=s64",
      "userId": "08825161285052345463"
     },
     "user_tz": -330
    },
    "id": "I1L10TqtpkfN",
    "outputId": "8a4c212c-1123-4a9e-c6e9-a70124721229"
   },
   "outputs": [],
   "source": [
    "sns.set(rc={'figure.figsize':(15,7)})\n",
    "pd.pivot_table(data=data, index=['yr', 'season'], values='cnt', aggfunc=np.sum).plot(kind='bar');"
   ]
  },
  {
   "cell_type": "markdown",
   "metadata": {
    "id": "yv_KfhU3pkfO"
   },
   "source": [
    "- We can see that number of bikes rented is higher in year 2012 for each season as compared to seasons in 2011.\n",
    "- This shows that bike sharing is becoming more popular with time."
   ]
  },
  {
   "cell_type": "code",
   "execution_count": null,
   "metadata": {
    "colab": {
     "base_uri": "https://localhost:8080/",
     "height": 454
    },
    "executionInfo": {
     "elapsed": 984,
     "status": "ok",
     "timestamp": 1623430013895,
     "user": {
      "displayName": "Abhinav Harsh",
      "photoUrl": "https://lh3.googleusercontent.com/a-/AOh14GjhE176sGgELCcMdZ01YHQwYJKae164pFS8qOpR=s64",
      "userId": "08825161285052345463"
     },
     "user_tz": -330
    },
    "id": "CXxXw3fwpkfO",
    "outputId": "8de8997e-8102-41a7-e290-4e1289ba752c"
   },
   "outputs": [],
   "source": [
    "sns.catplot(x=\"weathersit\", y='cnt', kind='bar', data=data, size=6, aspect=1.25, estimator=np.mean);"
   ]
  },
  {
   "cell_type": "markdown",
   "metadata": {
    "id": "H_SlGt-dpkfO"
   },
   "source": [
    "- As expected, average count of bikes rented is much higher on clear or partly cloudy days compared to snowy or rainy days.\n",
    "- This implies that the average count of bikes rented is hugely affected by the weather."
   ]
  },
  {
   "cell_type": "code",
   "execution_count": null,
   "metadata": {
    "colab": {
     "base_uri": "https://localhost:8080/"
    },
    "executionInfo": {
     "elapsed": 1351,
     "status": "ok",
     "timestamp": 1623430015225,
     "user": {
      "displayName": "Abhinav Harsh",
      "photoUrl": "https://lh3.googleusercontent.com/a-/AOh14GjhE176sGgELCcMdZ01YHQwYJKae164pFS8qOpR=s64",
      "userId": "08825161285052345463"
     },
     "user_tz": -330
    },
    "id": "ycR8zmSZpkfO",
    "outputId": "5ff6f818-d6c3-48c0-df69-2d98856dee1f"
   },
   "outputs": [],
   "source": [
    "sns.set(rc={'figure.figsize':(16,10)})\n",
    "sns.heatmap(data.corr(),\n",
    "            annot=True,\n",
    "            linewidths=.5,\n",
    "            center=0,\n",
    "            cbar=False,\n",
    "            cmap=\"YlGnBu\")\n",
    "plt.show()"
   ]
  },
  {
   "cell_type": "markdown",
   "metadata": {
    "id": "4EXvu1RPpkfO"
   },
   "source": [
    "- We can see that temperature and feel like temperature are almost perfectly correlated\n",
    "- Month and season have high positive correlation among them\n",
    "- As count is addition of two columns - Casual and registered. We can drop these two columns because if we have casual and registered count then making a model won't make sense as we can simply add them. We would not have these 2 column while predicting new observations"
   ]
  },
  {
   "cell_type": "code",
   "execution_count": null,
   "metadata": {
    "executionInfo": {
     "elapsed": 452,
     "status": "ok",
     "timestamp": 1623515771034,
     "user": {
      "displayName": "Abhinav Harsh",
      "photoUrl": "https://lh3.googleusercontent.com/a-/AOh14GjhE176sGgELCcMdZ01YHQwYJKae164pFS8qOpR=s64",
      "userId": "08825161285052345463"
     },
     "user_tz": -330
    },
    "id": "X2V2GoDqpkfP"
   },
   "outputs": [],
   "source": [
    "#Dropping columns - casual and registered\n",
    "data.drop(columns=['casual','registered'], inplace=True)"
   ]
  },
  {
   "cell_type": "markdown",
   "metadata": {
    "id": "t1qLz_lipkfP"
   },
   "source": [
    "## <a id = \"link3\"></a> Split the dataset"
   ]
  },
  {
   "cell_type": "code",
   "execution_count": null,
   "metadata": {
    "executionInfo": {
     "elapsed": 449,
     "status": "ok",
     "timestamp": 1623515888519,
     "user": {
      "displayName": "Abhinav Harsh",
      "photoUrl": "https://lh3.googleusercontent.com/a-/AOh14GjhE176sGgELCcMdZ01YHQwYJKae164pFS8qOpR=s64",
      "userId": "08825161285052345463"
     },
     "user_tz": -330
    },
    "id": "uofTCtHmpkfP"
   },
   "outputs": [],
   "source": [
    "# Separating features and the target column\n",
    "X = data.drop('cnt', axis=1)\n",
    "y = data['cnt']"
   ]
  },
  {
   "cell_type": "code",
   "execution_count": null,
   "metadata": {
    "executionInfo": {
     "elapsed": 444,
     "status": "ok",
     "timestamp": 1623515897775,
     "user": {
      "displayName": "Abhinav Harsh",
      "photoUrl": "https://lh3.googleusercontent.com/a-/AOh14GjhE176sGgELCcMdZ01YHQwYJKae164pFS8qOpR=s64",
      "userId": "08825161285052345463"
     },
     "user_tz": -330
    },
    "id": "rz2YEWX1pkfP"
   },
   "outputs": [],
   "source": [
    "# Splitting the data into train and test sets in 70:30 ratio\n",
    "X_train, X_test, y_train, y_test = train_test_split(X, y, test_size=0.30, random_state=1, shuffle=True)"
   ]
  },
  {
   "cell_type": "code",
   "execution_count": null,
   "metadata": {
    "colab": {
     "base_uri": "https://localhost:8080/"
    },
    "executionInfo": {
     "elapsed": 460,
     "status": "ok",
     "timestamp": 1623515903274,
     "user": {
      "displayName": "Abhinav Harsh",
      "photoUrl": "https://lh3.googleusercontent.com/a-/AOh14GjhE176sGgELCcMdZ01YHQwYJKae164pFS8qOpR=s64",
      "userId": "08825161285052345463"
     },
     "user_tz": -330
    },
    "id": "f0KBUB3lpkfP",
    "outputId": "b57ac0f4-53db-45b8-a90c-41a4c3ca2a5b"
   },
   "outputs": [],
   "source": [
    "X_train.shape, X_test.shape"
   ]
  },
  {
   "cell_type": "markdown",
   "metadata": {
    "id": "HJ6JLMV6pkfP"
   },
   "source": [
    "- We have 12,165 observations in the train set and 5,214 observations in the test set."
   ]
  },
  {
   "cell_type": "markdown",
   "metadata": {
    "id": "ltFoTTimpkfQ"
   },
   "source": [
    "## Building Models"
   ]
  },
  {
   "cell_type": "markdown",
   "metadata": {
    "id": "3Z1JbEt2pkfQ"
   },
   "source": [
    "- We'll fit different models on the train data and observe their performance. \n",
    "- We'll try to improve that performance by tuning some hyperparameters available for that algorithm.\n",
    "- We'll use GridSearchCv for hyperparameter tuning and `r_2 score` to optimize the model.\n",
    "- R-square - `Coefficient of determination` is used to evaluate the performance of a regression model. It is the amount of the variation in the output dependent attribute which is predictable from the input independent variables.\n",
    "- Let's start by creating a function to get model scores, so that we don't have to use same codes repeatedly."
   ]
  },
  {
   "cell_type": "code",
   "execution_count": null,
   "metadata": {
    "executionInfo": {
     "elapsed": 702,
     "status": "ok",
     "timestamp": 1623515964371,
     "user": {
      "displayName": "Abhinav Harsh",
      "photoUrl": "https://lh3.googleusercontent.com/a-/AOh14GjhE176sGgELCcMdZ01YHQwYJKae164pFS8qOpR=s64",
      "userId": "08825161285052345463"
     },
     "user_tz": -330
    },
    "id": "w_wwpxaepkfQ"
   },
   "outputs": [],
   "source": [
    "##  Function to calculate r2_score and RMSE on train and test data\n",
    "def get_model_score(model, flag=True):\n",
    "    '''\n",
    "    model : classifier to predict values of X\n",
    "\n",
    "    '''\n",
    "    # defining an empty list to store train and test results\n",
    "    score_list=[] \n",
    "    \n",
    "    pred_train = model.predict(X_train)\n",
    "    pred_test = model.predict(X_test)\n",
    "    \n",
    "    train_r2=metrics.r2_score(y_train,pred_train)\n",
    "    test_r2=metrics.r2_score(y_test,pred_test)\n",
    "    train_rmse=np.sqrt(metrics.mean_squared_error(y_train,pred_train))\n",
    "    test_rmse=np.sqrt(metrics.mean_squared_error(y_test,pred_test))\n",
    "    \n",
    "    #Adding all scores in the list\n",
    "    score_list.extend((train_r2,test_r2,train_rmse,test_rmse))\n",
    "    \n",
    "    # If the flag is set to True then only the following print statements will be dispayed, the default value is True\n",
    "    if flag==True: \n",
    "        print(\"R-sqaure on training set : \",metrics.r2_score(y_train,pred_train))\n",
    "        print(\"R-square on test set : \",metrics.r2_score(y_test,pred_test))\n",
    "        print(\"RMSE on training set : \",np.sqrt(metrics.mean_squared_error(y_train,pred_train)))\n",
    "        print(\"RMSE on test set : \",np.sqrt(metrics.mean_squared_error(y_test,pred_test)))\n",
    "    \n",
    "    # returning the list with train and test scores\n",
    "    return score_list"
   ]
  },
  {
   "cell_type": "markdown",
   "metadata": {
    "id": "lXLBfLUGpkfQ"
   },
   "source": [
    "## <a id = \"link4\"></a>Decision Tree Model"
   ]
  },
  {
   "cell_type": "code",
   "execution_count": null,
   "metadata": {
    "colab": {
     "base_uri": "https://localhost:8080/"
    },
    "executionInfo": {
     "elapsed": 528,
     "status": "ok",
     "timestamp": 1623515995691,
     "user": {
      "displayName": "Abhinav Harsh",
      "photoUrl": "https://lh3.googleusercontent.com/a-/AOh14GjhE176sGgELCcMdZ01YHQwYJKae164pFS8qOpR=s64",
      "userId": "08825161285052345463"
     },
     "user_tz": -330
    },
    "id": "wO23Fi_IpkfQ",
    "outputId": "00df2063-5efb-45bf-c257-12c34bbab837"
   },
   "outputs": [],
   "source": [
    "dtree=DecisionTreeRegressor(random_state=1)\n",
    "dtree.fit(X_train,y_train)"
   ]
  },
  {
   "cell_type": "code",
   "execution_count": null,
   "metadata": {
    "colab": {
     "base_uri": "https://localhost:8080/"
    },
    "executionInfo": {
     "elapsed": 434,
     "status": "ok",
     "timestamp": 1623516005518,
     "user": {
      "displayName": "Abhinav Harsh",
      "photoUrl": "https://lh3.googleusercontent.com/a-/AOh14GjhE176sGgELCcMdZ01YHQwYJKae164pFS8qOpR=s64",
      "userId": "08825161285052345463"
     },
     "user_tz": -330
    },
    "id": "wea40bWtpkfR",
    "outputId": "c0cb5344-b534-4d64-ec77-1cee0ccf3bbd"
   },
   "outputs": [],
   "source": [
    "dtree_score=get_model_score(dtree)"
   ]
  },
  {
   "cell_type": "markdown",
   "metadata": {
    "id": "y3Nbu3A2pkfR"
   },
   "source": [
    "- Decision tree model with default parameters is overfitting the train data.\n",
    "- Let's see if we can reduce overfitting and improve performance on test data by tuning hyperparameters."
   ]
  },
  {
   "cell_type": "markdown",
   "metadata": {
    "id": "ra1li3uypkfR"
   },
   "source": [
    "### Hyperparameter Tuning"
   ]
  },
  {
   "cell_type": "code",
   "execution_count": null,
   "metadata": {
    "colab": {
     "base_uri": "https://localhost:8080/"
    },
    "executionInfo": {
     "elapsed": 200274,
     "status": "ok",
     "timestamp": 1623516255514,
     "user": {
      "displayName": "Abhinav Harsh",
      "photoUrl": "https://lh3.googleusercontent.com/a-/AOh14GjhE176sGgELCcMdZ01YHQwYJKae164pFS8qOpR=s64",
      "userId": "08825161285052345463"
     },
     "user_tz": -330
    },
    "id": "Hwq0FSNOpkfR",
    "outputId": "5892edf7-79eb-4729-b166-e05743c6c806"
   },
   "outputs": [],
   "source": [
    "# Choose the type of classifier. \n",
    "dtree_tuned = DecisionTreeRegressor(random_state=1)\n",
    "\n",
    "# Grid of parameters to choose from\n",
    "parameters = {'max_depth': list(np.arange(2,20)) + [None], \n",
    "              'min_samples_leaf': [1, 3, 5, 7, 10],\n",
    "              'max_leaf_nodes' : [2, 3, 5, 10, 15] + [None],\n",
    "              'min_impurity_decrease': [0.001, 0.01, 0.1, 0.0]\n",
    "             }\n",
    "\n",
    "# Type of scoring used to compare parameter combinations\n",
    "scorer = metrics.make_scorer(metrics.r2_score)\n",
    "\n",
    "# Run the grid search\n",
    "grid_obj = GridSearchCV(dtree_tuned, parameters, scoring=scorer,cv=5)\n",
    "grid_obj = grid_obj.fit(X_train, y_train)\n",
    "\n",
    "# Set the clf to the best combination of parameters\n",
    "dtree_tuned = grid_obj.best_estimator_\n",
    "\n",
    "# Fit the best algorithm to the data. \n",
    "dtree_tuned.fit(X_train, y_train)"
   ]
  },
  {
   "cell_type": "code",
   "execution_count": null,
   "metadata": {
    "colab": {
     "base_uri": "https://localhost:8080/"
    },
    "executionInfo": {
     "elapsed": 497,
     "status": "ok",
     "timestamp": 1623516287505,
     "user": {
      "displayName": "Abhinav Harsh",
      "photoUrl": "https://lh3.googleusercontent.com/a-/AOh14GjhE176sGgELCcMdZ01YHQwYJKae164pFS8qOpR=s64",
      "userId": "08825161285052345463"
     },
     "user_tz": -330
    },
    "id": "9qU74po0pkfR",
    "outputId": "ff540717-5776-4c8c-c5c1-c9676496a651"
   },
   "outputs": [],
   "source": [
    "dtree_tuned_score=get_model_score(dtree_tuned)"
   ]
  },
  {
   "cell_type": "markdown",
   "metadata": {
    "id": "sg9gEsJipkfS"
   },
   "source": [
    "- The overfitting is reduced after hyperparameter tuning and test score has increased by approx 2%.\n",
    "- RMSE is also reduced on test data and the model is generalizing better than the decision tree model with default parameters."
   ]
  },
  {
   "cell_type": "markdown",
   "metadata": {
    "id": "Z5jWUsKGpkfS"
   },
   "source": [
    "**Plotting the feature importance of each variable**"
   ]
  },
  {
   "cell_type": "code",
   "execution_count": null,
   "metadata": {
    "colab": {
     "base_uri": "https://localhost:8080/"
    },
    "executionInfo": {
     "elapsed": 11,
     "status": "ok",
     "timestamp": 1623516292517,
     "user": {
      "displayName": "Abhinav Harsh",
      "photoUrl": "https://lh3.googleusercontent.com/a-/AOh14GjhE176sGgELCcMdZ01YHQwYJKae164pFS8qOpR=s64",
      "userId": "08825161285052345463"
     },
     "user_tz": -330
    },
    "id": "EVStVqOopkfS",
    "outputId": "49d84156-5e2e-4069-94d9-11a2d3095406"
   },
   "outputs": [],
   "source": [
    "# importance of features in the tree building ( The importance of a feature is computed as the \n",
    "#(normalized) total reduction of the criterion brought by that feature. It is also known as the Gini importance )\n",
    "\n",
    "print(pd.DataFrame(dtree_tuned.feature_importances_, columns = [\"Imp\"], index = X_train.columns).sort_values(by = 'Imp', ascending = False))"
   ]
  },
  {
   "cell_type": "code",
   "execution_count": null,
   "metadata": {
    "colab": {
     "base_uri": "https://localhost:8080/",
     "height": 736
    },
    "executionInfo": {
     "elapsed": 549,
     "status": "ok",
     "timestamp": 1623516298832,
     "user": {
      "displayName": "Abhinav Harsh",
      "photoUrl": "https://lh3.googleusercontent.com/a-/AOh14GjhE176sGgELCcMdZ01YHQwYJKae164pFS8qOpR=s64",
      "userId": "08825161285052345463"
     },
     "user_tz": -330
    },
    "id": "mE4t1dbMpkfS",
    "outputId": "5fb6622a-cc35-40d4-a33f-cbbc90d4d25c"
   },
   "outputs": [],
   "source": [
    "feature_names = X_train.columns\n",
    "importances = dtree_tuned.feature_importances_\n",
    "indices = np.argsort(importances)\n",
    "\n",
    "plt.figure(figsize=(12,12))\n",
    "plt.title('Feature Importances')\n",
    "plt.barh(range(len(indices)), importances[indices], color='violet', align='center')\n",
    "plt.yticks(range(len(indices)), [feature_names[i] for i in indices])\n",
    "plt.xlabel('Relative Importance')\n",
    "plt.show()"
   ]
  },
  {
   "cell_type": "markdown",
   "metadata": {
    "id": "S7CaEHg0pkfS"
   },
   "source": [
    "- hr is the most important feature, in addition to temp and yr, for tuned decision tree model"
   ]
  },
  {
   "cell_type": "markdown",
   "metadata": {
    "id": "4cjAcN7LpkfS"
   },
   "source": [
    "## <a id = \"link5\"></a>Random Forest Model"
   ]
  },
  {
   "cell_type": "code",
   "execution_count": null,
   "metadata": {
    "colab": {
     "base_uri": "https://localhost:8080/"
    },
    "executionInfo": {
     "elapsed": 5079,
     "status": "ok",
     "timestamp": 1623516325366,
     "user": {
      "displayName": "Abhinav Harsh",
      "photoUrl": "https://lh3.googleusercontent.com/a-/AOh14GjhE176sGgELCcMdZ01YHQwYJKae164pFS8qOpR=s64",
      "userId": "08825161285052345463"
     },
     "user_tz": -330
    },
    "id": "pS9Fmr1HpkfT",
    "outputId": "f9530452-5cdf-40ba-da34-5051b3a06d58"
   },
   "outputs": [],
   "source": [
    "rf_estimator=RandomForestRegressor(random_state=1)\n",
    "rf_estimator.fit(X_train,y_train)"
   ]
  },
  {
   "cell_type": "code",
   "execution_count": null,
   "metadata": {
    "colab": {
     "base_uri": "https://localhost:8080/"
    },
    "executionInfo": {
     "elapsed": 1184,
     "status": "ok",
     "timestamp": 1623516328577,
     "user": {
      "displayName": "Abhinav Harsh",
      "photoUrl": "https://lh3.googleusercontent.com/a-/AOh14GjhE176sGgELCcMdZ01YHQwYJKae164pFS8qOpR=s64",
      "userId": "08825161285052345463"
     },
     "user_tz": -330
    },
    "id": "cdk8oos4pkfT",
    "outputId": "e3b375a5-4cf8-43a7-98c2-851958e35eef"
   },
   "outputs": [],
   "source": [
    "rf_estimator_score=get_model_score(rf_estimator)"
   ]
  },
  {
   "cell_type": "markdown",
   "metadata": {
    "id": "eGWyxWlHpkfT"
   },
   "source": [
    "- Random forest is giving good r2 score of 94% on the test data but it is slightly overfitting the train data.\n",
    "- Let's try to reduce this overfitting by hyperparameter tuning."
   ]
  },
  {
   "cell_type": "markdown",
   "metadata": {
    "id": "o8GgdCFTpkfT"
   },
   "source": [
    "### Hyperparameter Tuning"
   ]
  },
  {
   "cell_type": "code",
   "execution_count": null,
   "metadata": {
    "colab": {
     "background_save": true
    },
    "id": "_iz2v842pkfT",
    "outputId": "c6405a92-9179-4774-ebcc-9d5bf9847217"
   },
   "outputs": [],
   "source": [
    "# Choose the type of classifier. \n",
    "rf_tuned = RandomForestRegressor(random_state=1)\n",
    "\n",
    "# Grid of parameters to choose from\n",
    "parameters = {  \n",
    "                'max_depth':[4, 6, 8, 10, None],\n",
    "                'max_features': ['sqrt','log2',None],\n",
    "                'n_estimators': [80, 90, 100, 110, 120]\n",
    "}\n",
    "\n",
    "# Type of scoring used to compare parameter combinations\n",
    "scorer = metrics.make_scorer(metrics.r2_score)\n",
    "\n",
    "# Run the grid search\n",
    "grid_obj = GridSearchCV(rf_tuned, parameters, scoring=scorer,cv=5)\n",
    "grid_obj = grid_obj.fit(X_train, y_train)\n",
    "\n",
    "# Set the clf to the best combination of parameters\n",
    "rf_tuned = grid_obj.best_estimator_\n",
    "\n",
    "# Fit the best algorithm to the data. \n",
    "rf_tuned.fit(X_train, y_train)"
   ]
  },
  {
   "cell_type": "code",
   "execution_count": null,
   "metadata": {
    "colab": {
     "background_save": true
    },
    "id": "ZW_XjBiXpkfU",
    "outputId": "d171f50f-8119-48cb-98ad-0672c75578a4"
   },
   "outputs": [],
   "source": [
    "rf_tuned_score=get_model_score(rf_tuned)"
   ]
  },
  {
   "cell_type": "markdown",
   "metadata": {
    "id": "bh9GVZccpkfU"
   },
   "source": [
    "- No significant change in the result. The result is almost same before or after the hyperparameter tuning."
   ]
  },
  {
   "cell_type": "code",
   "execution_count": null,
   "metadata": {
    "colab": {
     "background_save": true
    },
    "id": "F2xJ6bd8pkfU",
    "outputId": "67d48943-59ba-4961-d077-e9290165f507"
   },
   "outputs": [],
   "source": [
    "# importance of features in the tree building ( The importance of a feature is computed as the \n",
    "#(normalized) total reduction of the criterion brought by that feature. It is also known as the Gini importance )\n",
    "\n",
    "print(pd.DataFrame(rf_tuned.feature_importances_, columns = [\"Imp\"], index = X_train.columns).sort_values(by = 'Imp', ascending = False))"
   ]
  },
  {
   "cell_type": "code",
   "execution_count": null,
   "metadata": {
    "colab": {
     "background_save": true
    },
    "id": "EomBVffGpkfU",
    "outputId": "a39b7c6c-bdf3-4674-e3f2-462a0828efde"
   },
   "outputs": [],
   "source": [
    "feature_names = X_train.columns\n",
    "importances = rf_tuned.feature_importances_\n",
    "indices = np.argsort(importances)\n",
    "\n",
    "plt.figure(figsize=(12,12))\n",
    "plt.title('Feature Importances')\n",
    "plt.barh(range(len(indices)), importances[indices], color='violet', align='center')\n",
    "plt.yticks(range(len(indices)), [feature_names[i] for i in indices])\n",
    "plt.xlabel('Relative Importance')\n",
    "plt.show()"
   ]
  },
  {
   "cell_type": "markdown",
   "metadata": {
    "id": "7_mP72xYpkfU"
   },
   "source": [
    "- hr is the most important feature, in addition to temp and yr, for the tuned random forest model."
   ]
  },
  {
   "cell_type": "markdown",
   "metadata": {
    "id": "_M7GLyjOpkfV"
   },
   "source": [
    "## <a id = \"link6\"></a>Boosting Models"
   ]
  },
  {
   "cell_type": "markdown",
   "metadata": {
    "id": "GZw_di98pkfV"
   },
   "source": [
    "### AdaBoost Regressor"
   ]
  },
  {
   "cell_type": "code",
   "execution_count": null,
   "metadata": {
    "colab": {
     "base_uri": "https://localhost:8080/"
    },
    "executionInfo": {
     "elapsed": 702,
     "status": "ok",
     "timestamp": 1623516426418,
     "user": {
      "displayName": "Abhinav Harsh",
      "photoUrl": "https://lh3.googleusercontent.com/a-/AOh14GjhE176sGgELCcMdZ01YHQwYJKae164pFS8qOpR=s64",
      "userId": "08825161285052345463"
     },
     "user_tz": -330
    },
    "id": "YElA_stqpkfV",
    "outputId": "2fca9591-0cee-45f1-bf00-1799ff06c175"
   },
   "outputs": [],
   "source": [
    "ab_regressor=AdaBoostRegressor(random_state=1)\n",
    "ab_regressor.fit(X_train,y_train)"
   ]
  },
  {
   "cell_type": "code",
   "execution_count": null,
   "metadata": {
    "colab": {
     "base_uri": "https://localhost:8080/"
    },
    "executionInfo": {
     "elapsed": 451,
     "status": "ok",
     "timestamp": 1623516439680,
     "user": {
      "displayName": "Abhinav Harsh",
      "photoUrl": "https://lh3.googleusercontent.com/a-/AOh14GjhE176sGgELCcMdZ01YHQwYJKae164pFS8qOpR=s64",
      "userId": "08825161285052345463"
     },
     "user_tz": -330
    },
    "id": "K-m1keWXpkfV",
    "outputId": "f4cfc041-172c-40e3-a6f4-3756f3ad92d4"
   },
   "outputs": [],
   "source": [
    "ab_regressor_score=get_model_score(ab_regressor)"
   ]
  },
  {
   "cell_type": "markdown",
   "metadata": {
    "id": "8NWDbMSTpkfV"
   },
   "source": [
    "- AdaBoost is generalizing well but it is giving poor performance, in terms of r2 score as well as RMSE, as compared to decision tree and random forest model.  "
   ]
  },
  {
   "cell_type": "markdown",
   "metadata": {
    "id": "SlRV-tn-pkfW"
   },
   "source": [
    "### Hyperparameter Tuning"
   ]
  },
  {
   "cell_type": "code",
   "execution_count": null,
   "metadata": {
    "colab": {
     "background_save": true
    },
    "id": "aDq6BJx0pkfW",
    "outputId": "3b26b4ea-9f77-4106-f4cf-858ea9668b97"
   },
   "outputs": [],
   "source": [
    "# Choose the type of classifier. \n",
    "ab_tuned = AdaBoostRegressor(random_state=1)\n",
    "\n",
    "# Grid of parameters to choose from\n",
    "parameters = {'n_estimators': np.arange(10,100,10), \n",
    "              'learning_rate': [1, 0.1, 0.5, 0.01],\n",
    "              }\n",
    "\n",
    "# Type of scoring used to compare parameter combinations\n",
    "scorer = metrics.make_scorer(metrics.r2_score)\n",
    "\n",
    "# Run the grid search\n",
    "grid_obj = GridSearchCV(ab_tuned, parameters, scoring=scorer,cv=5)\n",
    "grid_obj = grid_obj.fit(X_train, y_train)\n",
    "\n",
    "# Set the clf to the best combination of parameters\n",
    "ab_tuned = grid_obj.best_estimator_\n",
    "\n",
    "# Fit the best algorithm to the data. \n",
    "ab_tuned.fit(X_train, y_train)"
   ]
  },
  {
   "cell_type": "code",
   "execution_count": null,
   "metadata": {
    "colab": {
     "background_save": true
    },
    "id": "0PotV8tqpkfW",
    "outputId": "e53be58c-8d10-4878-a674-64031f45dcd8"
   },
   "outputs": [],
   "source": [
    "ab_tuned_score=get_model_score(ab_tuned)"
   ]
  },
  {
   "cell_type": "markdown",
   "metadata": {
    "id": "xTTIJ9RopkfW"
   },
   "source": [
    "- We can see that there is no significant improvement in the model after hyperparameter tuning."
   ]
  },
  {
   "cell_type": "code",
   "execution_count": null,
   "metadata": {
    "colab": {
     "background_save": true
    },
    "id": "iblPSSCYpkfW",
    "outputId": "fb103a61-9977-4077-f786-ee56df60a421"
   },
   "outputs": [],
   "source": [
    "# importance of features in the tree building\n",
    "\n",
    "print(pd.DataFrame(ab_tuned.feature_importances_, columns = [\"Imp\"], index = X_train.columns).sort_values(by = 'Imp', ascending = False))"
   ]
  },
  {
   "cell_type": "code",
   "execution_count": null,
   "metadata": {
    "colab": {
     "background_save": true
    },
    "id": "fEKO-LBWpkfX",
    "outputId": "27807c53-d535-4982-c1f8-cd180061dc81"
   },
   "outputs": [],
   "source": [
    "feature_names = X_train.columns\n",
    "importances = ab_tuned.feature_importances_\n",
    "indices = np.argsort(importances)\n",
    "\n",
    "plt.figure(figsize=(12,12))\n",
    "plt.title('Feature Importances')\n",
    "plt.barh(range(len(indices)), importances[indices], color='violet', align='center')\n",
    "plt.yticks(range(len(indices)), [feature_names[i] for i in indices])\n",
    "plt.xlabel('Relative Importance')\n",
    "plt.show()"
   ]
  },
  {
   "cell_type": "markdown",
   "metadata": {
    "id": "OvuElLZ4pkfX"
   },
   "source": [
    "- hr is the most important feature here, followed by yr and atemp."
   ]
  },
  {
   "cell_type": "markdown",
   "metadata": {
    "id": "J0LI-9gKpkfX"
   },
   "source": [
    "### Gradient Boosting Regressor"
   ]
  },
  {
   "cell_type": "code",
   "execution_count": null,
   "metadata": {
    "colab": {
     "base_uri": "https://localhost:8080/"
    },
    "executionInfo": {
     "elapsed": 1593,
     "status": "ok",
     "timestamp": 1623516520773,
     "user": {
      "displayName": "Abhinav Harsh",
      "photoUrl": "https://lh3.googleusercontent.com/a-/AOh14GjhE176sGgELCcMdZ01YHQwYJKae164pFS8qOpR=s64",
      "userId": "08825161285052345463"
     },
     "user_tz": -330
    },
    "id": "c3QIzKLLpkfX",
    "outputId": "14750c77-74ce-423c-ac52-7d2127d7559a"
   },
   "outputs": [],
   "source": [
    "gb_estimator=GradientBoostingRegressor(random_state=1)\n",
    "gb_estimator.fit(X_train,y_train)"
   ]
  },
  {
   "cell_type": "code",
   "execution_count": null,
   "metadata": {
    "colab": {
     "base_uri": "https://localhost:8080/"
    },
    "executionInfo": {
     "elapsed": 475,
     "status": "ok",
     "timestamp": 1623516529565,
     "user": {
      "displayName": "Abhinav Harsh",
      "photoUrl": "https://lh3.googleusercontent.com/a-/AOh14GjhE176sGgELCcMdZ01YHQwYJKae164pFS8qOpR=s64",
      "userId": "08825161285052345463"
     },
     "user_tz": -330
    },
    "id": "AuWaEz2gpkfX",
    "outputId": "43c1af31-ec51-46bc-fe2e-b7e9d02693b4"
   },
   "outputs": [],
   "source": [
    "gb_estimator_score=get_model_score(gb_estimator)"
   ]
  },
  {
   "cell_type": "markdown",
   "metadata": {
    "id": "aojwgIafpkfY"
   },
   "source": [
    "- Gradient boosting is generalizing well and giving decent results but not as good as random forest."
   ]
  },
  {
   "cell_type": "markdown",
   "metadata": {
    "id": "AbxL7YlzpkfY"
   },
   "source": [
    "### Hyperparameter Tuning"
   ]
  },
  {
   "cell_type": "code",
   "execution_count": null,
   "metadata": {
    "colab": {
     "background_save": true
    },
    "id": "4ENuCKyhpkfY",
    "outputId": "a4b83dd5-d155-4bad-ccb2-50b8d6879bdb"
   },
   "outputs": [],
   "source": [
    "# Choose the type of classifier. \n",
    "gb_tuned = GradientBoostingRegressor(random_state=1)\n",
    "\n",
    "# Grid of parameters to choose from\n",
    "parameters = {'n_estimators': np.arange(50,200,25), \n",
    "              'subsample':[0.7,0.8,0.9,1],\n",
    "              'max_features':[0.7,0.8,0.9,1],\n",
    "              'max_depth':[3,5,7,10]\n",
    "              }\n",
    "\n",
    "# Type of scoring used to compare parameter combinations\n",
    "scorer = metrics.make_scorer(metrics.r2_score)\n",
    "\n",
    "# Run the grid search\n",
    "grid_obj = GridSearchCV(gb_tuned, parameters, scoring=scorer,cv=5)\n",
    "grid_obj = grid_obj.fit(X_train, y_train)\n",
    "\n",
    "# Set the clf to the best combination of parameters\n",
    "gb_tuned = grid_obj.best_estimator_\n",
    "\n",
    "# Fit the best algorithm to the data. \n",
    "gb_tuned.fit(X_train, y_train)"
   ]
  },
  {
   "cell_type": "code",
   "execution_count": null,
   "metadata": {
    "colab": {
     "background_save": true
    },
    "id": "bFhWnKAnpkfY",
    "outputId": "4ddad715-b647-4a4f-ed43-c20897f70939"
   },
   "outputs": [],
   "source": [
    "gb_tuned_score=get_model_score(gb_tuned)"
   ]
  },
  {
   "cell_type": "markdown",
   "metadata": {
    "id": "_mwD6pvppkfY"
   },
   "source": [
    "- We can see that the model has improved significantly in terms of r2 score and RMSE.\n",
    "- The r2 score has increase by approx 12% on the test data.\n",
    "- RMSE has decreased by more than 30 for the test data."
   ]
  },
  {
   "cell_type": "code",
   "execution_count": null,
   "metadata": {
    "colab": {
     "background_save": true
    },
    "id": "LOp3mewWpkfZ",
    "outputId": "37d26ce6-7e59-4b19-dc0c-2bc5fdc5b88c"
   },
   "outputs": [],
   "source": [
    "# importance of features in the tree building ( The importance of a feature is computed as the \n",
    "#(normalized) total reduction of the criterion brought by that feature. It is also known as the Gini importance )\n",
    "\n",
    "print(pd.DataFrame(gb_tuned.feature_importances_, columns = [\"Imp\"], index = X_train.columns).sort_values(by = 'Imp', ascending = False))"
   ]
  },
  {
   "cell_type": "code",
   "execution_count": null,
   "metadata": {
    "colab": {
     "background_save": true
    },
    "id": "CmH17bcVpkfZ",
    "outputId": "309380b9-ad4d-44c3-9e40-4cdc8be7245b"
   },
   "outputs": [],
   "source": [
    "feature_names = X_train.columns\n",
    "importances = gb_tuned.feature_importances_\n",
    "indices = np.argsort(importances)\n",
    "\n",
    "plt.figure(figsize=(12,12))\n",
    "plt.title('Feature Importances')\n",
    "plt.barh(range(len(indices)), importances[indices], color='violet', align='center')\n",
    "plt.yticks(range(len(indices)), [feature_names[i] for i in indices])\n",
    "plt.xlabel('Relative Importance')\n",
    "plt.show()"
   ]
  },
  {
   "cell_type": "markdown",
   "metadata": {
    "id": "D7UFL7ZFpkfZ"
   },
   "source": [
    "- hr is the most important feature\n",
    "- temp, yr and workingday have almost equal importance "
   ]
  },
  {
   "cell_type": "markdown",
   "metadata": {
    "id": "4lhC3dUipkfZ"
   },
   "source": [
    "### XGBoost Regressor"
   ]
  },
  {
   "cell_type": "code",
   "execution_count": null,
   "metadata": {
    "colab": {
     "base_uri": "https://localhost:8080/"
    },
    "executionInfo": {
     "elapsed": 1209,
     "status": "ok",
     "timestamp": 1623516752215,
     "user": {
      "displayName": "Abhinav Harsh",
      "photoUrl": "https://lh3.googleusercontent.com/a-/AOh14GjhE176sGgELCcMdZ01YHQwYJKae164pFS8qOpR=s64",
      "userId": "08825161285052345463"
     },
     "user_tz": -330
    },
    "id": "I1gg-C36pkfZ",
    "outputId": "03d3ca02-3cfd-4d54-e19c-4b9b48d8ae8d"
   },
   "outputs": [],
   "source": [
    "xgb_estimator=XGBRegressor(random_state=1)\n",
    "xgb_estimator.fit(X_train,y_train)"
   ]
  },
  {
   "cell_type": "code",
   "execution_count": null,
   "metadata": {
    "colab": {
     "base_uri": "https://localhost:8080/"
    },
    "executionInfo": {
     "elapsed": 448,
     "status": "ok",
     "timestamp": 1623516758223,
     "user": {
      "displayName": "Abhinav Harsh",
      "photoUrl": "https://lh3.googleusercontent.com/a-/AOh14GjhE176sGgELCcMdZ01YHQwYJKae164pFS8qOpR=s64",
      "userId": "08825161285052345463"
     },
     "user_tz": -330
    },
    "id": "0pku_4Bcpkfa",
    "outputId": "ff074860-cf1e-44d4-e276-d784a29638dd"
   },
   "outputs": [],
   "source": [
    "xgb_estimator_score=get_model_score(xgb_estimator)"
   ]
  },
  {
   "cell_type": "markdown",
   "metadata": {
    "id": "zZfl3Numpkfa"
   },
   "source": [
    "- XGBoost with default parameters is giving almost as good results as tuned gradient boosting model."
   ]
  },
  {
   "cell_type": "markdown",
   "metadata": {
    "id": "cnXZB3wLpkfa"
   },
   "source": [
    "### Hyperparameter Tuning"
   ]
  },
  {
   "cell_type": "code",
   "execution_count": null,
   "metadata": {
    "colab": {
     "background_save": true,
     "base_uri": "https://localhost:8080/"
    },
    "id": "g0OwMXYNpkfb"
   },
   "outputs": [],
   "source": [
    "# Choose the type of classifier. \n",
    "xgb_tuned = XGBRegressor(random_state=1)\n",
    "\n",
    "# Grid of parameters to choose from\n",
    "parameters = {'n_estimators': [75,100,125,150], \n",
    "              'subsample':[0.7, 0.8, 0.9, 1],\n",
    "              'gamma':[0, 1, 3, 5],\n",
    "              'colsample_bytree':[0.7, 0.8, 0.9, 1],\n",
    "              'colsample_bylevel':[0.7, 0.8, 0.9, 1]\n",
    "              }\n",
    "\n",
    "# Type of scoring used to compare parameter combinations\n",
    "scorer = metrics.make_scorer(metrics.r2_score)\n",
    "\n",
    "# Run the grid search\n",
    "grid_obj = GridSearchCV(xgb_tuned, parameters, scoring=scorer,cv=5)\n",
    "grid_obj = grid_obj.fit(X_train, y_train)\n",
    "\n",
    "# Set the clf to the best combination of parameters\n",
    "xgb_tuned = grid_obj.best_estimator_\n",
    "\n",
    "# Fit the best algorithm to the data. \n",
    "xgb_tuned.fit(X_train, y_train)"
   ]
  },
  {
   "cell_type": "code",
   "execution_count": null,
   "metadata": {
    "id": "N7ynVADfpkfb"
   },
   "outputs": [],
   "source": [
    "xgb_tuned_score=get_model_score(xgb_tuned)"
   ]
  },
  {
   "cell_type": "code",
   "execution_count": null,
   "metadata": {
    "id": "dIT7S5_-pkfb"
   },
   "outputs": [],
   "source": [
    "# importance of features in the tree building ( The importance of a feature is computed as the \n",
    "#(normalized) total reduction of the criterion brought by that feature. It is also known as the Gini importance )\n",
    "\n",
    "print(pd.DataFrame(xgb_tuned.feature_importances_, columns = [\"Imp\"], index = X_train.columns).sort_values(by = 'Imp', ascending = False))"
   ]
  },
  {
   "cell_type": "code",
   "execution_count": null,
   "metadata": {
    "id": "gxtW9F6vpkfb"
   },
   "outputs": [],
   "source": [
    "feature_names = X_train.columns\n",
    "importances = xgb_tuned.feature_importances_\n",
    "indices = np.argsort(importances)\n",
    "\n",
    "plt.figure(figsize=(12,12))\n",
    "plt.title('Feature Importances')\n",
    "plt.barh(range(len(indices)), importances[indices], color='violet', align='center')\n",
    "plt.yticks(range(len(indices)), [feature_names[i] for i in indices])\n",
    "plt.xlabel('Relative Importance')\n",
    "plt.show()"
   ]
  },
  {
   "cell_type": "markdown",
   "metadata": {
    "id": "J5iNarCMpkfc"
   },
   "source": [
    "- In XGBoost, workingday is the most important feature followed by features - hr and yr"
   ]
  },
  {
   "cell_type": "markdown",
   "metadata": {
    "id": "0_kkgb5Opkfc"
   },
   "source": [
    "## <a id = \"link7\"></a>Stacking Model"
   ]
  },
  {
   "cell_type": "markdown",
   "metadata": {
    "id": "z7g7Uo6Spkfc"
   },
   "source": [
    "**Now, let's build a stacking model with the tuned models - decision tree, random forest and gradient boosting, then use XGBoost to get the final prediction.**"
   ]
  },
  {
   "cell_type": "code",
   "execution_count": null,
   "metadata": {
    "id": "DcePq0DBpkfc"
   },
   "outputs": [],
   "source": [
    "estimators=[('Decision Tree', dtree_tuned),('Random Forest', rf_tuned),\n",
    "           ('Gradient Boosting', gb_tuned)]\n",
    "final_estimator=XGBRegressor(random_state=1)"
   ]
  },
  {
   "cell_type": "code",
   "execution_count": null,
   "metadata": {
    "id": "FZ6YP0ktpkfc"
   },
   "outputs": [],
   "source": [
    "stacking_estimator=StackingRegressor(estimators=estimators, final_estimator=final_estimator,cv=5)\n",
    "stacking_estimator.fit(X_train,y_train)"
   ]
  },
  {
   "cell_type": "code",
   "execution_count": null,
   "metadata": {
    "id": "VYnEwdbRpkfd"
   },
   "outputs": [],
   "source": [
    "stacking_estimator_score=get_model_score(stacking_estimator)"
   ]
  },
  {
   "cell_type": "markdown",
   "metadata": {
    "id": "bzcOIbGWpkfd"
   },
   "source": [
    "## Comparing all models"
   ]
  },
  {
   "cell_type": "code",
   "execution_count": null,
   "metadata": {
    "id": "UjRQ6fKfpkfd"
   },
   "outputs": [],
   "source": [
    "# defining list of models\n",
    "models = [dtree, dtree_tuned, rf_estimator, rf_tuned, ab_regressor, ab_tuned, gb_estimator, gb_tuned, xgb_estimator,\n",
    "         xgb_tuned, stacking_estimator]\n",
    "\n",
    "# defining empty lists to add train and test results\n",
    "r2_train = []\n",
    "r2_test = []\n",
    "rmse_train= []\n",
    "rmse_test= []\n",
    "\n",
    "# looping through all the models to get the rmse and r2 scores\n",
    "for model in models:\n",
    "    # accuracy score\n",
    "    j = get_model_score(model,False)\n",
    "    r2_train.append(j[0])\n",
    "    r2_test.append(j[1])\n",
    "    rmse_train.append(j[2])\n",
    "    rmse_test.append(j[3])"
   ]
  },
  {
   "cell_type": "code",
   "execution_count": null,
   "metadata": {
    "id": "R4Rr4dz6pkfd"
   },
   "outputs": [],
   "source": [
    "comparison_frame = pd.DataFrame({'Model':['Decision Tree','Tuned Decision Tree','Random Forest','Tuned Random Forest',\n",
    "                                          'AdaBoost Regressor', 'Tuned AdaBoost Regressor',\n",
    "                                          'Gradient Boosting Regressor', 'Tuned Gradient Boosting Regressor',\n",
    "                                          'XGBoost Regressor',  'Tuned XGBoost Regressor','Stacking Regressor'], \n",
    "                                          'Train_r2': r2_train,'Test_r2': r2_test,\n",
    "                                          'Train_RMSE':rmse_train,'Test_RMSE':rmse_test}) \n",
    "comparison_frame"
   ]
  },
  {
   "cell_type": "markdown",
   "metadata": {
    "id": "Yv03CGidpkfe"
   },
   "source": [
    "- Tuned gradient boosting model is the best model here. It has highest r2 score of approx 95.5% and lowest RMSE of approx 39 on the test data.\n",
    "- Gradient boosting, xgboost and stacking regressor are the top 3 models. They are all giving similar performance."
   ]
  },
  {
   "cell_type": "code",
   "execution_count": null,
   "metadata": {
    "id": "4xtVzthLpkfe"
   },
   "outputs": [],
   "source": [
    "# So plot observed and predicted values of the test data for the best model i.e. tuned gradient boosting model\n",
    "fig, ax = plt.subplots(figsize=(8, 6))\n",
    "y_pred=gb_tuned.predict(X_test)\n",
    "ax.scatter(y_test, y_pred, edgecolors=(0, 0, 1))\n",
    "ax.plot([y_test.min(), y_test.max()], [y_test.min(), y_test.max()], 'k--', lw=3)\n",
    "ax.set_xlabel('Observed')\n",
    "ax.set_ylabel('Predicted')\n",
    "ax.set_title(\"Observed vs Predicted\")\n",
    "plt.grid()\n",
    "plt.show()"
   ]
  },
  {
   "cell_type": "markdown",
   "metadata": {
    "id": "LpXoQM5Tpkfe"
   },
   "source": [
    "- We can see that points are dense on the line where predicted is equal to the observed.\n",
    "- This implies that most of the predicted values are close to the true values with some exceptions as seen in the plot. "
   ]
  },
  {
   "cell_type": "markdown",
   "metadata": {
    "id": "WcNnZbs3pkfe"
   },
   "source": [
    "## <a id = \"link8\"></a> Business Recommendations"
   ]
  },
  {
   "cell_type": "markdown",
   "metadata": {
    "id": "Gz_eDclppkff"
   },
   "source": [
    "- We can use this predictive model for any season and environmental parameters (which we know in advance) and can predict the count of the bikes to be rented. The ability to predict the number of hourly users can allow the entities (businesses/governments) that oversee these systems to manage them in a more efficient and cost-effective manner.\n",
    "- More bikes can be made available for fall and winter seasons as the number of bikes rented is high in these seasons.\n",
    "- As number of bikes rented is high for day timings compared to night timings, similarly, fall and winter seasons have more surge compared to other seasons. We can choose differential prices of bikes accordingly.\n",
    "- As most of the rentals are for commuting to workplaces and colleges on a daily basis, company can launch more stations near busy workplaces or school/colleges to reach out to their main customers.\n",
    "- Number of bikes rented is heavily dependent on the weather. So, we should adjust the number of available bikes in an area based on the weather forecast.\n",
    "- Maintenance activities for bikes can be done at night due to low usage of bikes during the night time.\n",
    "- Company can provide offers or coupons like monthly subscription to compensate the low count on holidays or weekends."
   ]
  }
 ],
 "metadata": {
  "colab": {
   "collapsed_sections": [
    "t1qLz_lipkfP",
    "ltFoTTimpkfQ",
    "lXLBfLUGpkfQ",
    "ra1li3uypkfR",
    "4cjAcN7LpkfS",
    "o8GgdCFTpkfT",
    "GZw_di98pkfV",
    "J0LI-9gKpkfX"
   ],
   "name": "Case_Study - Bike_Sharing.ipynb",
   "version": ""
  },
  "kernelspec": {
   "display_name": "Python 3 (ipykernel)",
   "language": "python",
   "name": "python3"
  },
  "language_info": {
   "codemirror_mode": {
    "name": "ipython",
    "version": 3
   },
   "file_extension": ".py",
   "mimetype": "text/x-python",
   "name": "python",
   "nbconvert_exporter": "python",
   "pygments_lexer": "ipython3",
   "version": "3.9.12"
  }
 },
 "nbformat": 4,
 "nbformat_minor": 1
}
