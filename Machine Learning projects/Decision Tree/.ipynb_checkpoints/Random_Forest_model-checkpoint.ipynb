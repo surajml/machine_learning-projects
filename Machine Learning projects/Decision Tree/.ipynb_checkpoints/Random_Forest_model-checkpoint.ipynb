{
 "cells": [
  {
   "cell_type": "markdown",
   "metadata": {
    "id": "yzxx2z-xmrfd"
   },
   "source": [
    "## Problem statement"
   ]
  },
  {
   "cell_type": "markdown",
   "metadata": {
    "id": "uMZyWGMOmrfj"
   },
   "source": [
    "\n",
    "\n",
    "To predict churning out customers \n",
    "\n",
    "We are going to implement the RandomForestClassifier to customer churn dataset and interpret churning \n"
   ]
  },
  {
   "cell_type": "markdown",
   "metadata": {
    "id": "lGYPvksImrfl"
   },
   "source": [
    "## Load the dataset"
   ]
  },
  {
   "cell_type": "code",
   "execution_count": null,
   "metadata": {
    "executionInfo": {
     "elapsed": 768,
     "status": "ok",
     "timestamp": 1671899202749,
     "user": {
      "displayName": "Abhinav Harsh",
      "userId": "08825161285052345463"
     },
     "user_tz": -330
    },
    "id": "_FXLeqeGTLWE"
   },
   "outputs": [],
   "source": [
    "import pandas as pd\n",
    "import numpy as np\n",
    "from sklearn.ensemble import RandomForestClassifier\n",
    "from sklearn.model_selection import train_test_split\n",
    "from sklearn.metrics import accuracy_score,confusion_matrix"
   ]
  },
  {
   "cell_type": "code",
   "execution_count": null,
   "metadata": {
    "colab": {
     "base_uri": "https://localhost:8080/"
    },
    "executionInfo": {
     "elapsed": 26323,
     "status": "ok",
     "timestamp": 1671899241088,
     "user": {
      "displayName": "Abhinav Harsh",
      "userId": "08825161285052345463"
     },
     "user_tz": -330
    },
    "id": "gfcnAp8uTLWZ",
    "outputId": "e656ed7d-5888-4cbf-f7d5-8a30661b7b25"
   },
   "outputs": [],
   "source": [
    "# churn_data=pd.read_csv('Customer_churn.csv')\n",
    "\n",
    "churn_data = pd.read_csv(\"customer_churn-2.csv\")\n"
   ]
  },
  {
   "cell_type": "code",
   "execution_count": null,
   "metadata": {
    "colab": {
     "base_uri": "https://localhost:8080/",
     "height": 386
    },
    "executionInfo": {
     "elapsed": 445,
     "status": "ok",
     "timestamp": 1671899243581,
     "user": {
      "displayName": "Abhinav Harsh",
      "userId": "08825161285052345463"
     },
     "user_tz": -330
    },
    "id": "sIFV8VnSTLWc",
    "outputId": "f68fe19d-c41b-40d5-cce1-6d93cdd5d4d5",
    "scrolled": true
   },
   "outputs": [],
   "source": [
    "churn_data.head()"
   ]
  },
  {
   "cell_type": "code",
   "execution_count": null,
   "metadata": {
    "colab": {
     "base_uri": "https://localhost:8080/"
    },
    "executionInfo": {
     "elapsed": 428,
     "status": "ok",
     "timestamp": 1671899311644,
     "user": {
      "displayName": "Abhinav Harsh",
      "userId": "08825161285052345463"
     },
     "user_tz": -330
    },
    "id": "cbkSHy2_mrfq",
    "outputId": "31bfe7ac-6e71-4be0-daa5-25873664e79d"
   },
   "outputs": [],
   "source": [
    "churn_data.columns"
   ]
  },
  {
   "cell_type": "markdown",
   "metadata": {
    "id": "di3wigkdmrfr"
   },
   "source": [
    "Converting the Total charges column to numeric,because as you can see its original dtype is object but data is numeric"
   ]
  },
  {
   "cell_type": "code",
   "execution_count": null,
   "metadata": {
    "colab": {
     "base_uri": "https://localhost:8080/"
    },
    "executionInfo": {
     "elapsed": 419,
     "status": "ok",
     "timestamp": 1671899319419,
     "user": {
      "displayName": "Abhinav Harsh",
      "userId": "08825161285052345463"
     },
     "user_tz": -330
    },
    "id": "9loCqAYrmrfr",
    "outputId": "76fe4130-66b1-4f72-8d7f-6ab346c8688a"
   },
   "outputs": [],
   "source": [
    "churn_data.dtypes"
   ]
  },
  {
   "cell_type": "code",
   "execution_count": null,
   "metadata": {
    "executionInfo": {
     "elapsed": 425,
     "status": "ok",
     "timestamp": 1671899416052,
     "user": {
      "displayName": "Abhinav Harsh",
      "userId": "08825161285052345463"
     },
     "user_tz": -330
    },
    "id": "kPAIa8dYTLWf"
   },
   "outputs": [],
   "source": [
    "churn_data['TotalCharges']=pd.to_numeric(churn_data['TotalCharges'], errors='coerce')"
   ]
  },
  {
   "cell_type": "code",
   "execution_count": null,
   "metadata": {
    "colab": {
     "base_uri": "https://localhost:8080/"
    },
    "executionInfo": {
     "elapsed": 402,
     "status": "ok",
     "timestamp": 1671899437506,
     "user": {
      "displayName": "Abhinav Harsh",
      "userId": "08825161285052345463"
     },
     "user_tz": -330
    },
    "id": "XfZizlnGWul6",
    "outputId": "1684dd41-a83e-4f96-d8aa-9bc976203d04"
   },
   "outputs": [],
   "source": [
    "churn_data.dtypes"
   ]
  },
  {
   "cell_type": "markdown",
   "metadata": {
    "id": "JINwpbmAmrfs"
   },
   "source": [
    "## Missing Value Analysis"
   ]
  },
  {
   "cell_type": "code",
   "execution_count": null,
   "metadata": {
    "colab": {
     "base_uri": "https://localhost:8080/"
    },
    "executionInfo": {
     "elapsed": 439,
     "status": "ok",
     "timestamp": 1667141276948,
     "user": {
      "displayName": "Abhinav Harsh",
      "userId": "08825161285052345463"
     },
     "user_tz": -330
    },
    "id": "d3VAEQGaTLWh",
    "outputId": "644c8a52-c3e7-4089-93ad-329a4004273a",
    "scrolled": true
   },
   "outputs": [],
   "source": [
    "churn_data.isna().sum()"
   ]
  },
  {
   "cell_type": "code",
   "execution_count": null,
   "metadata": {
    "colab": {
     "base_uri": "https://localhost:8080/"
    },
    "executionInfo": {
     "elapsed": 468,
     "status": "ok",
     "timestamp": 1667141337490,
     "user": {
      "displayName": "Abhinav Harsh",
      "userId": "08825161285052345463"
     },
     "user_tz": -330
    },
    "id": "i44SybygXfJq",
    "outputId": "b9eb9ec2-f649-40b2-cdaa-e601752c5f4b"
   },
   "outputs": [],
   "source": [
    "churn_data.shape"
   ]
  },
  {
   "cell_type": "markdown",
   "metadata": {
    "id": "BxiKnwrLmrfu"
   },
   "source": [
    "As we can see from above output Total charges is having 11 null values ,as we don't have a appropriate TotalCharges we will be dropping the 11 null value rows in the same data table"
   ]
  },
  {
   "cell_type": "code",
   "execution_count": null,
   "metadata": {
    "colab": {
     "base_uri": "https://localhost:8080/"
    },
    "executionInfo": {
     "elapsed": 393,
     "status": "ok",
     "timestamp": 1671899475826,
     "user": {
      "displayName": "Abhinav Harsh",
      "userId": "08825161285052345463"
     },
     "user_tz": -330
    },
    "id": "akUknwycTLWk",
    "outputId": "016d4e6d-ff15-4bfd-9204-97cccd1ea352",
    "scrolled": true
   },
   "outputs": [],
   "source": [
    "churn_data.isna().sum()"
   ]
  },
  {
   "cell_type": "code",
   "execution_count": null,
   "metadata": {
    "executionInfo": {
     "elapsed": 398,
     "status": "ok",
     "timestamp": 1671899493644,
     "user": {
      "displayName": "Abhinav Harsh",
      "userId": "08825161285052345463"
     },
     "user_tz": -330
    },
    "id": "OYELYSnW-afN"
   },
   "outputs": [],
   "source": [
    "churn_data.dropna(inplace=True)"
   ]
  },
  {
   "cell_type": "code",
   "execution_count": null,
   "metadata": {
    "colab": {
     "base_uri": "https://localhost:8080/"
    },
    "executionInfo": {
     "elapsed": 446,
     "status": "ok",
     "timestamp": 1671899505451,
     "user": {
      "displayName": "Abhinav Harsh",
      "userId": "08825161285052345463"
     },
     "user_tz": -330
    },
    "id": "57EQDKqeYBD1",
    "outputId": "48ef51f5-2a4f-4cd3-a450-eebf2d71e10c"
   },
   "outputs": [],
   "source": [
    "churn_data.shape"
   ]
  },
  {
   "cell_type": "markdown",
   "metadata": {
    "id": "9PWxizAHmrfv"
   },
   "source": [
    "As CustomerId is nowhere helping in the prediction and also it's values are not appropriate to fit in the model we will be droping the Customer ID column"
   ]
  },
  {
   "cell_type": "code",
   "execution_count": null,
   "metadata": {
    "executionInfo": {
     "elapsed": 9,
     "status": "ok",
     "timestamp": 1671899586294,
     "user": {
      "displayName": "Abhinav Harsh",
      "userId": "08825161285052345463"
     },
     "user_tz": -330
    },
    "id": "AA_DfongTLWl"
   },
   "outputs": [],
   "source": [
    "churn_data.drop(columns = ['customerID'],inplace = True)"
   ]
  },
  {
   "cell_type": "code",
   "execution_count": null,
   "metadata": {
    "colab": {
     "base_uri": "https://localhost:8080/",
     "height": 300
    },
    "executionInfo": {
     "elapsed": 434,
     "status": "ok",
     "timestamp": 1671899592248,
     "user": {
      "displayName": "Abhinav Harsh",
      "userId": "08825161285052345463"
     },
     "user_tz": -330
    },
    "id": "KRQI7etnmrfw",
    "outputId": "2b1cfe7e-da9a-4955-870d-2e2654fa5fce"
   },
   "outputs": [],
   "source": [
    "churn_data.describe()"
   ]
  },
  {
   "cell_type": "code",
   "execution_count": null,
   "metadata": {
    "colab": {
     "base_uri": "https://localhost:8080/"
    },
    "executionInfo": {
     "elapsed": 11,
     "status": "ok",
     "timestamp": 1671899692633,
     "user": {
      "displayName": "Abhinav Harsh",
      "userId": "08825161285052345463"
     },
     "user_tz": -330
    },
    "id": "5rWbBnp3mrgH",
    "outputId": "7f7333a4-e1a9-48e9-ad00-0d7417ad3dfd",
    "scrolled": true
   },
   "outputs": [],
   "source": [
    "churn_data.columns"
   ]
  },
  {
   "cell_type": "markdown",
   "metadata": {
    "id": "9pKa7WUlmrgI"
   },
   "source": [
    "## Label Encoding"
   ]
  },
  {
   "cell_type": "markdown",
   "metadata": {
    "id": "FVwedgTMmrgJ"
   },
   "source": [
    "Encoding all the labels as numerical categories as because this kinds of string data cannot be used to fit as these are incompatible type to fit the classification model\n",
    "\n",
    "this can be performed through label_encoder() or using the map() function."
   ]
  },
  {
   "cell_type": "code",
   "execution_count": null,
   "metadata": {
    "executionInfo": {
     "elapsed": 4,
     "status": "ok",
     "timestamp": 1671899778616,
     "user": {
      "displayName": "Abhinav Harsh",
      "userId": "08825161285052345463"
     },
     "user_tz": -330
    },
    "id": "olI8I4EZTLWv"
   },
   "outputs": [],
   "source": [
    "\n",
    "churn_data['Partner'] = churn_data['Partner'].map({'Yes': 1, 'No': 0})\n",
    "churn_data['Dependents'] = churn_data['Dependents'].map({'Yes': 1, 'No': 0})\n",
    "churn_data['MultipleLines']=churn_data['MultipleLines'].map({'No phone service':0, 'No': 1, \"Yes\": 2})\n",
    "churn_data['InternetService']=churn_data['InternetService'].map({'DSL':0, 'Fiber optic':1, 'No':2})\n",
    "churn_data['OnlineSecurity']=churn_data['OnlineSecurity'].map({'Yes':1, 'No':0, 'No internet service':2})\n",
    "churn_data['OnlineBackup']=churn_data['OnlineBackup'].map({'Yes':1, 'No':0, 'No internet service':2})\n",
    "churn_data['DeviceProtection']=churn_data['DeviceProtection'].map({'Yes':1, 'No':0, 'No internet service':2})\n",
    "churn_data['TechSupport']=churn_data['TechSupport'].map({'Yes':1, 'No':0, 'No internet service':2})\n",
    "churn_data['StreamingTV']=churn_data['StreamingTV'].map({'Yes':1, 'No':0, 'No internet service':2})\n",
    "churn_data['StreamingMovies']=churn_data['StreamingMovies'].map({'Yes':1, 'No':0, 'No internet service':2})\n",
    "churn_data['Contract']=churn_data['Contract'].map({'Month-to-month':0, 'One year':1, 'Two year':2})\n",
    "churn_data['PaperlessBilling']=churn_data['PaperlessBilling'].map({'Yes':1, 'No':0})\n",
    "churn_data['PaymentMethod']=churn_data['PaymentMethod'].map({'Electronic check':1, 'Mailed check':0, 'Bank transfer (automatic)':2, 'Credit card (automatic)':3})\n",
    "churn_data['gender'] = churn_data['gender'].map({'Female': 1, 'Male': 0})\n",
    "churn_data['PhoneService'] = churn_data['PhoneService'].map({'Yes': 1, 'No': 0})\n",
    "\n"
   ]
  },
  {
   "cell_type": "code",
   "execution_count": null,
   "metadata": {
    "colab": {
     "base_uri": "https://localhost:8080/",
     "height": 488
    },
    "executionInfo": {
     "elapsed": 767,
     "status": "ok",
     "timestamp": 1671899911765,
     "user": {
      "displayName": "Abhinav Harsh",
      "userId": "08825161285052345463"
     },
     "user_tz": -330
    },
    "id": "HhoccRaoTLWy",
    "outputId": "1a81670e-6b5e-4f78-9752-b3ee4c0b1673",
    "scrolled": true
   },
   "outputs": [],
   "source": [
    "churn_data"
   ]
  },
  {
   "cell_type": "markdown",
   "metadata": {
    "id": "RKVckWxqmrgM"
   },
   "source": [
    "So now after encoding you can check that the dtypes of all the data is numerical where this data fits into any classification probelm perfecty"
   ]
  },
  {
   "cell_type": "markdown",
   "metadata": {
    "id": "s3FtdmysmrgN"
   },
   "source": [
    "## Data Visualization"
   ]
  },
  {
   "cell_type": "markdown",
   "metadata": {
    "id": "8mu7P-9GmrgN"
   },
   "source": [
    "###### 1"
   ]
  },
  {
   "cell_type": "markdown",
   "metadata": {
    "id": "O5cg45GkmrgO"
   },
   "source": [
    "Starting with visualizing how many customers have churned out and how many are still in contract with the company"
   ]
  },
  {
   "cell_type": "code",
   "execution_count": null,
   "metadata": {
    "colab": {
     "base_uri": "https://localhost:8080/",
     "height": 511
    },
    "executionInfo": {
     "elapsed": 516,
     "status": "ok",
     "timestamp": 1671900046137,
     "user": {
      "displayName": "Abhinav Harsh",
      "userId": "08825161285052345463"
     },
     "user_tz": -330
    },
    "id": "xVk6eTq4AhXI",
    "outputId": "374a778e-2452-42ac-c58b-83fabc21749a"
   },
   "outputs": [],
   "source": [
    "churn_data[\"Churn\"].value_counts().plot(kind='bar', figsize=(6, 8), fontsize=13)"
   ]
  },
  {
   "cell_type": "code",
   "execution_count": null,
   "metadata": {
    "colab": {
     "base_uri": "https://localhost:8080/",
     "height": 494
    },
    "executionInfo": {
     "elapsed": 748,
     "status": "ok",
     "timestamp": 1671900023408,
     "user": {
      "displayName": "Abhinav Harsh",
      "userId": "08825161285052345463"
     },
     "user_tz": -330
    },
    "id": "KBQG48d8mrgO",
    "outputId": "e47ded65-710c-468d-ecfc-0b79ef2376a2",
    "scrolled": false
   },
   "outputs": [],
   "source": [
    "import matplotlib.pyplot as plt\n",
    "ax = churn_data[\"Churn\"].value_counts().plot(kind='bar', figsize=(6, 8), fontsize=13)\n",
    "ax.set_ylabel(\"Number of Customer\", fontsize=14);\n",
    "\n",
    "totals = []\n",
    "for i in ax.patches:\n",
    "    totals.append(i.get_height())\n",
    "\n",
    "total = sum(totals)\n",
    "\n",
    "for i in ax.patches:\n",
    "    ax.text(i.get_x() - .01, i.get_height() + .5, \\\n",
    "            str(round((i.get_height()/total)*100, 2))+'%', fontsize=15,\n",
    "                color='#444444')\n",
    "plt.show()"
   ]
  },
  {
   "cell_type": "markdown",
   "metadata": {
    "id": "l25tJrMxmrgP"
   },
   "source": [
    "from the above visualization its  clear that 26.58 % of people have churned out and 73.43% people have not churned."
   ]
  },
  {
   "cell_type": "markdown",
   "metadata": {
    "id": "vabSbqzkmrgP"
   },
   "source": [
    "##### 2"
   ]
  },
  {
   "cell_type": "markdown",
   "metadata": {
    "id": "2jiSC2S8mrgQ"
   },
   "source": [
    "1st scatter plot\n",
    "\n",
    "from this 1st scatter plot we can infer that , more the  tatal charge ,and higher the tenure, less the churning rate\n",
    "\n",
    "because as from visualization the more people are churned out are the one's with less total charge and less tenure \n",
    "\n",
    "\n",
    "2nd  scatter plot\n",
    "\n",
    "from this 2nd scatter plot we can infer that , more the  montly charge ,and higher the tenure, less the churning rate.\n",
    "\n",
    "because as from visualization the more people are churned out are the one's with less mothly charge and less tenure "
   ]
  },
  {
   "cell_type": "code",
   "execution_count": null,
   "metadata": {
    "colab": {
     "base_uri": "https://localhost:8080/",
     "height": 405
    },
    "executionInfo": {
     "elapsed": 2785,
     "status": "ok",
     "timestamp": 1671900097982,
     "user": {
      "displayName": "Abhinav Harsh",
      "userId": "08825161285052345463"
     },
     "user_tz": -330
    },
    "id": "GHh3cjDomrgQ",
    "outputId": "28dcda50-4048-4a73-e248-4335dc24d5fd"
   },
   "outputs": [],
   "source": [
    "import seaborn as sns\n",
    "_, ax = plt.subplots(1, 2, figsize= (16, 6))\n",
    "sns.scatterplot(x=\"TotalCharges\", y = \"tenure\" , hue=\"Churn\", data=churn_data, ax=ax[0])\n",
    "sns.scatterplot(x=\"MonthlyCharges\", y = \"tenure\" , hue=\"Churn\", data=churn_data, ax=ax[1])"
   ]
  },
  {
   "cell_type": "markdown",
   "metadata": {
    "id": "uUq9u303mrgR"
   },
   "source": [
    "##### 3"
   ]
  },
  {
   "cell_type": "markdown",
   "metadata": {
    "id": "hAzPBMPtmrgR"
   },
   "source": [
    "there is same inference with Facetgrid also."
   ]
  },
  {
   "cell_type": "code",
   "execution_count": null,
   "metadata": {
    "colab": {
     "base_uri": "https://localhost:8080/",
     "height": 450
    },
    "executionInfo": {
     "elapsed": 1320,
     "status": "ok",
     "timestamp": 1671900176595,
     "user": {
      "displayName": "Abhinav Harsh",
      "userId": "08825161285052345463"
     },
     "user_tz": -330
    },
    "id": "60RF3HPpmrgR",
    "outputId": "4e974707-392a-4210-ef7b-533f4e151373"
   },
   "outputs": [],
   "source": [
    "facet = sns.FacetGrid(churn_data, hue = \"Churn\", aspect = 3)\n",
    "facet.map(sns.kdeplot,\"TotalCharges\",shade= True)\n",
    "facet.set(xlim=(0, churn_data[\"TotalCharges\"].max()))\n",
    "facet.add_legend()\n",
    "\n",
    "facet = sns.FacetGrid(churn_data, hue = \"Churn\", aspect = 3)\n",
    "facet.map(sns.kdeplot,\"MonthlyCharges\",shade= True)\n",
    "facet.set(xlim=(0, churn_data[\"MonthlyCharges\"].max()))\n",
    "facet.add_legend()"
   ]
  },
  {
   "cell_type": "code",
   "execution_count": null,
   "metadata": {
    "colab": {
     "base_uri": "https://localhost:8080/",
     "height": 242
    },
    "executionInfo": {
     "elapsed": 1186,
     "status": "ok",
     "timestamp": 1671900246591,
     "user": {
      "displayName": "Abhinav Harsh",
      "userId": "08825161285052345463"
     },
     "user_tz": -330
    },
    "id": "WZpr7gGmedus",
    "outputId": "df75274d-d650-49b3-c623-73279db5ce77"
   },
   "outputs": [],
   "source": [
    "facet = sns.FacetGrid(churn_data, hue = \"Churn\", aspect = 3)\n",
    "facet.map(sns.kdeplot,\"tenure\",shade= True)\n",
    "facet.set(xlim=(0, churn_data[\"tenure\"].max()))\n",
    "facet.add_legend()"
   ]
  },
  {
   "cell_type": "markdown",
   "metadata": {
    "id": "zobqSdT_mrgS"
   },
   "source": [
    "##### 4"
   ]
  },
  {
   "cell_type": "markdown",
   "metadata": {
    "id": "FK3nqdQ3mrgT"
   },
   "source": [
    "from the below heatmap we can check the correlation between the features"
   ]
  },
  {
   "cell_type": "code",
   "execution_count": null,
   "metadata": {
    "colab": {
     "base_uri": "https://localhost:8080/",
     "height": 780
    },
    "executionInfo": {
     "elapsed": 2562,
     "status": "ok",
     "timestamp": 1671900255816,
     "user": {
      "displayName": "Abhinav Harsh",
      "userId": "08825161285052345463"
     },
     "user_tz": -330
    },
    "id": "QaIA3SBDTLWz",
    "outputId": "3afc1578-9ba8-4a4d-a7ce-5fc795450d84",
    "scrolled": false
   },
   "outputs": [],
   "source": [
    "import matplotlib.pyplot as plt\n",
    "import seaborn as sns\n",
    "plt.figure(figsize = (15, 12))\n",
    "sns.heatmap(churn_data.corr(), cmap=\"RdYlBu\", annot=True, fmt=\".1f\")\n",
    "plt.show()"
   ]
  },
  {
   "cell_type": "markdown",
   "metadata": {
    "id": "kCo9FBTemrgX"
   },
   "source": [
    "we can infer that there are hightly_corr_feature = [\"OnlineBackup_No internet service\", \"StreamingMovies_No internet service\", \"StreamingTV_No internet service\", \"TechSupport_No internet service\", \"DeviceProtection_No internet service\", \"OnlineSecurity_No internet service\"]"
   ]
  },
  {
   "cell_type": "markdown",
   "metadata": {
    "id": "lKreh7P3mrgX"
   },
   "source": [
    "# Model building "
   ]
  },
  {
   "cell_type": "markdown",
   "metadata": {
    "id": "QMWnb0HcmrgY"
   },
   "source": [
    "Firstly we'll map the churn column with 1 and 0 instead od 0yes and no so that all the features and label  will have uniform datatype"
   ]
  },
  {
   "cell_type": "code",
   "execution_count": null,
   "metadata": {
    "executionInfo": {
     "elapsed": 399,
     "status": "ok",
     "timestamp": 1671900293530,
     "user": {
      "displayName": "Abhinav Harsh",
      "userId": "08825161285052345463"
     },
     "user_tz": -330
    },
    "id": "pFov5puXTLW0"
   },
   "outputs": [],
   "source": [
    "churn_data['Churn'] = churn_data['Churn'].map({'Yes': 1, 'No': 0})"
   ]
  },
  {
   "cell_type": "markdown",
   "metadata": {
    "id": "Yr32zW9tmrgb"
   },
   "source": [
    "As our main prediction is to check the churning out customers ,so we consider churn as depended data and all other features are considered as independent (features after feature selection)"
   ]
  },
  {
   "cell_type": "code",
   "execution_count": null,
   "metadata": {
    "executionInfo": {
     "elapsed": 11,
     "status": "ok",
     "timestamp": 1671900302751,
     "user": {
      "displayName": "Abhinav Harsh",
      "userId": "08825161285052345463"
     },
     "user_tz": -330
    },
    "id": "3-d6kZZ_TLW0"
   },
   "outputs": [],
   "source": [
    "X = churn_data.iloc[:, :-1].values\n",
    "y = churn_data.iloc[:, -1].values"
   ]
  },
  {
   "cell_type": "markdown",
   "metadata": {
    "id": "931g2zVpmrgc"
   },
   "source": [
    "Splitting the data into train and test data ,as training data will be used for training the model and test data is for prediction."
   ]
  },
  {
   "cell_type": "code",
   "execution_count": null,
   "metadata": {
    "executionInfo": {
     "elapsed": 6,
     "status": "ok",
     "timestamp": 1671900315678,
     "user": {
      "displayName": "Abhinav Harsh",
      "userId": "08825161285052345463"
     },
     "user_tz": -330
    },
    "id": "O-5mjaLmTLW1"
   },
   "outputs": [],
   "source": [
    "x_train, x_test, y_train, y_test= train_test_split(X, y, test_size=0.2, random_state=0)"
   ]
  },
  {
   "cell_type": "markdown",
   "metadata": {
    "id": "QPn-ZkKgmrgd"
   },
   "source": [
    "Now we will fit the data into RandomForestClassifier ,As random forest is  ensemble method .we will be importing RandomForestClassifier from sklearn's ensemble library"
   ]
  },
  {
   "cell_type": "code",
   "execution_count": null,
   "metadata": {
    "executionInfo": {
     "elapsed": 423,
     "status": "ok",
     "timestamp": 1671900380673,
     "user": {
      "displayName": "Abhinav Harsh",
      "userId": "08825161285052345463"
     },
     "user_tz": -330
    },
    "id": "YXhFTIekmrgd"
   },
   "outputs": [],
   "source": [
    "from sklearn.ensemble import RandomForestClassifier\n",
    "\n",
    "rf = RandomForestClassifier(random_state = 42)\n",
    "\n"
   ]
  },
  {
   "cell_type": "code",
   "execution_count": null,
   "metadata": {
    "executionInfo": {
     "elapsed": 1154,
     "status": "ok",
     "timestamp": 1671900393776,
     "user": {
      "displayName": "Abhinav Harsh",
      "userId": "08825161285052345463"
     },
     "user_tz": -330
    },
    "id": "u6uFAQVZmrge"
   },
   "outputs": [],
   "source": [
    "rf1=rf.fit(x_train,y_train) "
   ]
  },
  {
   "cell_type": "markdown",
   "metadata": {
    "id": "ptav8Fi-mrgf"
   },
   "source": [
    "Checking for prediction for the above fit model"
   ]
  },
  {
   "cell_type": "code",
   "execution_count": null,
   "metadata": {
    "executionInfo": {
     "elapsed": 401,
     "status": "ok",
     "timestamp": 1671900400096,
     "user": {
      "displayName": "Abhinav Harsh",
      "userId": "08825161285052345463"
     },
     "user_tz": -330
    },
    "id": "HJAFhlo2mrgf"
   },
   "outputs": [],
   "source": [
    "y_pred=rf1.predict(x_test)"
   ]
  },
  {
   "cell_type": "markdown",
   "metadata": {
    "id": "OpbrF7gxmrgf"
   },
   "source": [
    "From the prediction result(predicted values) and test value(actual value ) we'll check the model efficiency"
   ]
  },
  {
   "cell_type": "code",
   "execution_count": null,
   "metadata": {
    "colab": {
     "base_uri": "https://localhost:8080/"
    },
    "executionInfo": {
     "elapsed": 424,
     "status": "ok",
     "timestamp": 1671900406017,
     "user": {
      "displayName": "Abhinav Harsh",
      "userId": "08825161285052345463"
     },
     "user_tz": -330
    },
    "id": "uWjWrUEmgEFg",
    "outputId": "57eb9c18-1368-4b94-9cee-848a2d77eb99"
   },
   "outputs": [],
   "source": [
    "accuracy_score(rf1.predict(x_train),y_train)"
   ]
  },
  {
   "cell_type": "code",
   "execution_count": null,
   "metadata": {
    "colab": {
     "base_uri": "https://localhost:8080/"
    },
    "executionInfo": {
     "elapsed": 5,
     "status": "ok",
     "timestamp": 1671900413418,
     "user": {
      "displayName": "Abhinav Harsh",
      "userId": "08825161285052345463"
     },
     "user_tz": -330
    },
    "id": "XPRX_qQ0mrgg",
    "outputId": "b9b7c8c0-0b32-47ed-b2a8-4ec0a285b6c5",
    "scrolled": false
   },
   "outputs": [],
   "source": [
    "from sklearn.metrics import accuracy_score\n",
    "accuracy_score(y_pred,y_test)"
   ]
  },
  {
   "cell_type": "markdown",
   "metadata": {
    "id": "rHoMlwCbmrgh"
   },
   "source": [
    "from the above accuracy we can infer that the model is having 78.39% accuracy that is out of 100 predictions we'll be getting 78 predictions as true prediction"
   ]
  },
  {
   "cell_type": "code",
   "execution_count": null,
   "metadata": {
    "id": "xRHRjH3dmrgi"
   },
   "outputs": [],
   "source": []
  },
  {
   "cell_type": "markdown",
   "metadata": {
    "id": "IRTplUiGmrgj"
   },
   "source": [
    "# Hyper parameter tuning"
   ]
  },
  {
   "cell_type": "markdown",
   "metadata": {
    "id": "0J4g9X8Hmrgk"
   },
   "source": [
    "**Hyper-parameters**  are parameters that define the model structure, and **tuning** hyper-parameters is the process of finding the best model structure. So that model  structure makes the model more efficient\n",
    "\n",
    "There are many parameters which we can look into while building the randomforest model they are:\n",
    "\n",
    "**bootstrap'/max_sample:** The max_samples hyperparameter determines what fraction of the original dataset is given to any individual tree\n",
    "\n",
    "**'max_depth':** The max_depth of a tree in Random Forest is defined as the longest path between the root node and the leaf node\n",
    "\n",
    "**'max_features':** This resembles the number of maximum features provided to each tree in a random forest. \n",
    "\n",
    "**'min_samples_leaf':** This Random Forest hyperparameter specifies the minimum number of samples that should be present in the leaf node after splitting a node.\n",
    "\n",
    "**'min_samples_split':** parameter that tells the decision tree in a random forest the minimum required number of observations in any given node in order to split it. \n",
    "\n",
    "**'n_estimators':**\n",
    "number of decision trees to choose while fitting the random forest model"
   ]
  },
  {
   "cell_type": "markdown",
   "metadata": {
    "id": "WAdSlxOlmrgk"
   },
   "source": [
    "There are two techniques for hyper parameter tuning :\n",
    "    1.RandomizedSearchCV\n",
    "    2.GridSearchCV\n",
    "    \n",
    "For our model we will be implementing  RandomizedSearchCV method and tune our model"
   ]
  },
  {
   "cell_type": "markdown",
   "metadata": {
    "id": "5uL2Owutmrgl"
   },
   "source": [
    "So we'll select the best values for each parameter ,below code help's  us to extract the best values for each parameter"
   ]
  },
  {
   "cell_type": "code",
   "execution_count": null,
   "metadata": {
    "colab": {
     "base_uri": "https://localhost:8080/"
    },
    "executionInfo": {
     "elapsed": 41,
     "status": "ok",
     "timestamp": 1671902219216,
     "user": {
      "displayName": "Abhinav Harsh",
      "userId": "08825161285052345463"
     },
     "user_tz": -330
    },
    "id": "h4Zn9niVTLW2",
    "outputId": "87638854-e6b9-4d2f-b4e7-70456c2842d3",
    "scrolled": true
   },
   "outputs": [],
   "source": [
    "from sklearn.model_selection import RandomizedSearchCV\n",
    "\n",
    "# Number of trees in random forest\n",
    "n_estimators = [int(x) for x in np.linspace(start = 200, stop = 2000, num = 10)]\n",
    "# Number of features to consider at every split\n",
    "max_features = ['auto', 'sqrt']\n",
    "# Maximum number of levels in tree\n",
    "max_depth = [int(x) for x in np.linspace(10, 110, num = 11)]\n",
    "max_depth.append(None)\n",
    "# Minimum number of samples required to split a node\n",
    "min_samples_split = [2, 5, 10]\n",
    "# Minimum number of samples required at each leaf node\n",
    "min_samples_leaf = [1, 2, 4]\n",
    "# Method of selecting samples for training each tree\n",
    "bootstrap = [True, False]\n",
    "\n",
    "# Create the random grid\n",
    "random_grid = {'n_estimators': n_estimators,\n",
    "               'max_features': max_features,\n",
    "               'max_depth': max_depth,\n",
    "               'min_samples_split': min_samples_split,\n",
    "               'min_samples_leaf': min_samples_leaf,\n",
    "               'bootstrap': bootstrap}\n",
    "\n",
    "print(random_grid)"
   ]
  },
  {
   "cell_type": "code",
   "execution_count": null,
   "metadata": {
    "id": "Oxpu-kWkmrgo"
   },
   "outputs": [],
   "source": []
  },
  {
   "cell_type": "markdown",
   "metadata": {
    "id": "s2h99KlCmrgp"
   },
   "source": [
    "Steps to implement:\n",
    "    \n",
    "\n",
    "1.Use the random grid to search for best hyperparameters\n",
    "2.First create the base model to tune\n",
    "3.Random search of parameters, using 3 fold cross validation\n",
    "4.search across 100 different combinations, and use all available cores\n",
    "5.Fit the random search model"
   ]
  },
  {
   "cell_type": "code",
   "execution_count": null,
   "metadata": {
    "colab": {
     "base_uri": "https://localhost:8080/"
    },
    "executionInfo": {
     "elapsed": 1487340,
     "status": "ok",
     "timestamp": 1671902219216,
     "user": {
      "displayName": "Abhinav Harsh",
      "userId": "08825161285052345463"
     },
     "user_tz": -330
    },
    "id": "k1atLT9tmrgp",
    "outputId": "1fbea9b9-3206-44ca-e50a-e68a5cbef0c3"
   },
   "outputs": [],
   "source": [
    "# Use the random grid to search for best hyperparameters\n",
    "# First create the base model to tune\n",
    "rf = RandomForestClassifier(random_state = 42)\n",
    "# Random search of parameters, using 3 fold cross validation, \n",
    "# search across 100 different combinations, and use all available cores\n",
    "rf_random = RandomizedSearchCV(estimator=rf, param_distributions=random_grid,\n",
    "                              n_iter = 100, scoring='neg_mean_absolute_error', \n",
    "                              cv = 3, verbose=2, random_state=42, n_jobs=-1,\n",
    "                              return_train_score=True)\n",
    "\n",
    "# Fit the random search model\n",
    "rf2=rf_random.fit(x_train, y_train);"
   ]
  },
  {
   "cell_type": "markdown",
   "metadata": {
    "id": "Hc1P_A3omrgq"
   },
   "source": [
    "from the above fitted model you can check the best values for each parameter across 10o folds"
   ]
  },
  {
   "cell_type": "code",
   "execution_count": null,
   "metadata": {
    "colab": {
     "base_uri": "https://localhost:8080/"
    },
    "executionInfo": {
     "elapsed": 37,
     "status": "ok",
     "timestamp": 1666947858135,
     "user": {
      "displayName": "Abhinav Harsh",
      "userId": "08825161285052345463"
     },
     "user_tz": -330
    },
    "id": "RIcvZPBJmrgr",
    "outputId": "191ae3b5-6ec4-4b84-ae9f-b4d63d4b9ba0",
    "scrolled": false
   },
   "outputs": [],
   "source": [
    "rf2.best_params_"
   ]
  },
  {
   "cell_type": "markdown",
   "metadata": {
    "id": "oB32od8Ymrgs"
   },
   "source": [
    "So after hyperparameter tuning ,we have fitted the model with best parameters and the best value."
   ]
  },
  {
   "cell_type": "markdown",
   "metadata": {
    "id": "OK8x68uRmrgs"
   },
   "source": [
    "lets check the predictions for the model fitted after tuning"
   ]
  },
  {
   "cell_type": "code",
   "execution_count": null,
   "metadata": {
    "id": "Klr3nwfXmrgt"
   },
   "outputs": [],
   "source": [
    "y_pred=rf2.predict(x_test)"
   ]
  },
  {
   "cell_type": "markdown",
   "metadata": {
    "id": "5dINrgrvmrgt"
   },
   "source": [
    "So from the below outup we can see there is a 1.28% change in accuracy ."
   ]
  },
  {
   "cell_type": "code",
   "execution_count": null,
   "metadata": {
    "colab": {
     "base_uri": "https://localhost:8080/"
    },
    "executionInfo": {
     "elapsed": 68,
     "status": "ok",
     "timestamp": 1666947859226,
     "user": {
      "displayName": "Abhinav Harsh",
      "userId": "08825161285052345463"
     },
     "user_tz": -330
    },
    "id": "6PyG65QDmrgu",
    "outputId": "1618100c-446c-476f-e823-e26355dc0f3d",
    "scrolled": true
   },
   "outputs": [],
   "source": [
    "from sklearn.metrics import accuracy_score\n",
    "accuracy_score(y_pred,y_test)"
   ]
  },
  {
   "cell_type": "code",
   "execution_count": null,
   "metadata": {
    "colab": {
     "base_uri": "https://localhost:8080/"
    },
    "executionInfo": {
     "elapsed": 1784,
     "status": "ok",
     "timestamp": 1667145444593,
     "user": {
      "displayName": "Abhinav Harsh",
      "userId": "08825161285052345463"
     },
     "user_tz": -330
    },
    "id": "zyC9e6bRnGCg",
    "outputId": "2aadcde1-797c-47a7-c353-d1cb8fe71aa1"
   },
   "outputs": [],
   "source": [
    "from sklearn.metrics import accuracy_score\n",
    "accuracy_score(rf2.predict(x_train),y_train)"
   ]
  },
  {
   "cell_type": "markdown",
   "metadata": {
    "id": "r1nH36Rxmrgu"
   },
   "source": [
    "after implementation of  hyper parameter tuning to the model, we can see that there is increase in performance of the model"
   ]
  },
  {
   "cell_type": "code",
   "execution_count": null,
   "metadata": {
    "id": "Xs1IR4PCTLW3"
   },
   "outputs": [],
   "source": []
  },
  {
   "cell_type": "code",
   "execution_count": null,
   "metadata": {
    "id": "HK8rgCm2TLW4"
   },
   "outputs": [],
   "source": []
  },
  {
   "cell_type": "markdown",
   "metadata": {
    "id": "0F3IcXI2mrgy"
   },
   "source": [
    "# Model Evaluation"
   ]
  },
  {
   "cell_type": "markdown",
   "metadata": {
    "id": "5MfKUViLTLW6"
   },
   "source": [
    "We'll check the feature importance of the fitted model .where feature importance helps the contribution of each and every features for the built model"
   ]
  },
  {
   "cell_type": "code",
   "execution_count": null,
   "metadata": {
    "id": "GMy4QLm8TLW7"
   },
   "outputs": [],
   "source": [
    "importance = rf1.feature_importances_"
   ]
  },
  {
   "cell_type": "code",
   "execution_count": null,
   "metadata": {
    "colab": {
     "base_uri": "https://localhost:8080/"
    },
    "executionInfo": {
     "elapsed": 50,
     "status": "ok",
     "timestamp": 1666947859229,
     "user": {
      "displayName": "Abhinav Harsh",
      "userId": "08825161285052345463"
     },
     "user_tz": -330
    },
    "id": "lSE5w2TQTLW7",
    "outputId": "efecd710-b88f-4bfb-e248-10ad5e2ca9c0"
   },
   "outputs": [],
   "source": [
    "importance= pd.Series(importance)\n",
    "importance"
   ]
  },
  {
   "cell_type": "code",
   "execution_count": null,
   "metadata": {
    "id": "2As9x1jxTLW8"
   },
   "outputs": [],
   "source": [
    "df=pd.DataFrame(columns=['Feature','Importance'])"
   ]
  },
  {
   "cell_type": "code",
   "execution_count": null,
   "metadata": {
    "id": "a15HmmOQTLW-"
   },
   "outputs": [],
   "source": [
    "df['Feature']=col_list\n",
    "df['Importance']=importance"
   ]
  },
  {
   "cell_type": "code",
   "execution_count": null,
   "metadata": {
    "colab": {
     "base_uri": "https://localhost:8080/",
     "height": 582
    },
    "executionInfo": {
     "elapsed": 21,
     "status": "ok",
     "timestamp": 1666947859235,
     "user": {
      "displayName": "Abhinav Harsh",
      "userId": "08825161285052345463"
     },
     "user_tz": -330
    },
    "id": "xsaRluBrTLW_",
    "outputId": "3203e1df-73c8-4510-a0f4-cb0ed1feaf37"
   },
   "outputs": [],
   "source": [
    "df"
   ]
  },
  {
   "cell_type": "code",
   "execution_count": null,
   "metadata": {
    "colab": {
     "base_uri": "https://localhost:8080/",
     "height": 582
    },
    "executionInfo": {
     "elapsed": 20,
     "status": "ok",
     "timestamp": 1666947859235,
     "user": {
      "displayName": "Abhinav Harsh",
      "userId": "08825161285052345463"
     },
     "user_tz": -330
    },
    "id": "Clhlg3KeTLXA",
    "outputId": "e9486d56-8172-4746-e5ea-d3c055051066"
   },
   "outputs": [],
   "source": [
    "df.sort_values(by='Importance', ascending=False)"
   ]
  },
  {
   "cell_type": "code",
   "execution_count": null,
   "metadata": {
    "colab": {
     "base_uri": "https://localhost:8080/",
     "height": 329
    },
    "executionInfo": {
     "elapsed": 805,
     "status": "ok",
     "timestamp": 1666947860020,
     "user": {
      "displayName": "Abhinav Harsh",
      "userId": "08825161285052345463"
     },
     "user_tz": -330
    },
    "id": "huS6vTexTLXB",
    "outputId": "0156a306-49ef-4b88-a85c-a17cb9f29249",
    "scrolled": true
   },
   "outputs": [],
   "source": [
    "import seaborn as sns \n",
    "import matplotlib.pyplot as plt\n",
    "plt.figure(figsize=(25,6))\n",
    "# make barplot and sort bars\n",
    "sns.barplot(x='Feature',y=\"Importance\",data=df, order=df.sort_values('Importance', ascending=False).Feature)"
   ]
  },
  {
   "cell_type": "markdown",
   "metadata": {
    "id": "c36_7boPmrg2"
   },
   "source": [
    "From the above  plot we can infer that there is only few colums which have more contribution for prediction"
   ]
  },
  {
   "cell_type": "markdown",
   "metadata": {
    "id": "Ei2JTrSWmrjM"
   },
   "source": [
    "### classification_report\n"
   ]
  },
  {
   "cell_type": "markdown",
   "metadata": {
    "id": "ylr-DRK1mrjN"
   },
   "source": [
    "classification_report helps us to evaluate the model"
   ]
  },
  {
   "cell_type": "markdown",
   "metadata": {
    "id": "DtJNltfTmrjP"
   },
   "source": [
    "There are four ways to check the predictions\n",
    "True Negative: the case was negative and predicted negative\n",
    "True Positive: the case was positive and predicted positive\n",
    "False Negative: the case was positive but predicted negative\n",
    "False Positive: the case was negative but predicted positive\n",
    "    \n",
    "    \n",
    "    \n",
    "Precision:- Accuracy of positive predictions.\n",
    "Precision = TP/(TP + FP)\n",
    "\n",
    "Recall:- Fraction of positives that were correctly identified.\n",
    "Recall = TP/(TP+FN)\n",
    "\n",
    "\n",
    "F1 score:- What percent of positive predictions were correct\n",
    "F1 score = 2*(Recall * Precision) / (Recall + Precision)\n",
    "\n",
    "Support:-Support is the number of actual occurrences of the class in the specified dataset"
   ]
  },
  {
   "cell_type": "code",
   "execution_count": null,
   "metadata": {
    "id": "So9UZ7tzTLXX"
   },
   "outputs": [],
   "source": [
    "from sklearn.metrics import classification_report"
   ]
  },
  {
   "cell_type": "code",
   "execution_count": null,
   "metadata": {
    "colab": {
     "base_uri": "https://localhost:8080/"
    },
    "executionInfo": {
     "elapsed": 10,
     "status": "ok",
     "timestamp": 1667145499654,
     "user": {
      "displayName": "Abhinav Harsh",
      "userId": "08825161285052345463"
     },
     "user_tz": -330
    },
    "id": "UUrcLfcBTLXX",
    "outputId": "bb2779b3-8c6b-4368-9a16-7734adb6fc6a",
    "scrolled": true
   },
   "outputs": [],
   "source": [
    "print(classification_report(y_test,y_pred))"
   ]
  },
  {
   "cell_type": "markdown",
   "metadata": {
    "id": "A46X2NYpTLXY"
   },
   "source": [
    "so from classification_report we can evaluate the model performence in micro level"
   ]
  }
 ],
 "metadata": {
  "colab": {
   "provenance": []
  },
  "kernelspec": {
   "display_name": "Python 3 (ipykernel)",
   "language": "python",
   "name": "python3"
  },
  "language_info": {
   "codemirror_mode": {
    "name": "ipython",
    "version": 3
   },
   "file_extension": ".py",
   "mimetype": "text/x-python",
   "name": "python",
   "nbconvert_exporter": "python",
   "pygments_lexer": "ipython3",
   "version": "3.9.12"
  }
 },
 "nbformat": 4,
 "nbformat_minor": 1
}
