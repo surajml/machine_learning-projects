{
 "cells": [
  {
   "cell_type": "markdown",
   "metadata": {
    "id": "ublbUGGBOPU1"
   },
   "source": [
    "\n",
    "## MLS Case Study PCA\n",
    "-----------------------------\n",
    "## Context:\n",
    "-----------------------------\n",
    "In this case study, we will use the Education dataset which contains information on educational institutes in USA. The data has various attributes such as number of applications received, enrollments, faculty education, financial aspects and graduation rate of each institute. \n",
    "\n",
    "-----------------------------\n",
    "## Objective: \n",
    "-----------------------------\n",
    "The objective of this problem is to reduce the number of features by using dimensionality reduction techniques like PCA and extract insights. \n",
    "\n",
    "-----------------------------\n",
    "## Dataset: \n",
    "-----------------------------\n",
    "\n",
    "The Education dataset contains information on various colleges in USA. It contains the following information:\n",
    "\n",
    "- Names: Names of various universities and colleges\n",
    "- Apps: Number of applications received\n",
    "- Accept: Number of applications accepted\n",
    "- Enroll: Number of new students enrolled\n",
    "- Top10perc: Percentage of new students from top 10% of Higher Secondary class\n",
    "- Top25perc: Percentage of new students from top 25% of Higher Secondary class\n",
    "- F_Undergrad: Number of full-time undergraduate students\n",
    "- P_Undergrad: Number of part-time undergraduate students\n",
    "- Outstate: Number of students for whom the particular college or university is out-of-state tuition\n",
    "- Room_Board: Cost of room and board\n",
    "- Books: Estimated book costs for a student\n",
    "- Personal: Estimated personal spending for a student\n",
    "- PhD: Percentage of faculties with a Ph.D.\n",
    "- Terminal: Percentage of faculties with terminal degree\n",
    "- S_F_Ratio: Student/faculty ratio\n",
    "- perc_alumni: Percentage of alumni who donate\n",
    "- Expend: The instructional expenditure per student\n",
    "- Grad_Rate: Graduation rate"
   ]
  },
  {
   "cell_type": "markdown",
   "metadata": {
    "id": "--TM2FWEOPU4"
   },
   "source": [
    "## Importing libraries and overview of the dataset"
   ]
  },
  {
   "cell_type": "code",
   "execution_count": 23,
   "metadata": {
    "executionInfo": {
     "elapsed": 3263,
     "status": "ok",
     "timestamp": 1679150676611,
     "user": {
      "displayName": "Abhinav Harsh",
      "userId": "08825161285052345463"
     },
     "user_tz": -330
    },
    "id": "WK1odb70OPU4"
   },
   "outputs": [],
   "source": [
    "import pandas as pd\n",
    "import numpy as np\n",
    "import matplotlib.pyplot as plt\n",
    "import seaborn as sns\n",
    "\n",
    "#to scale the data using z-score \n",
    "from sklearn.preprocessing import StandardScaler\n",
    "\n",
    "#Importing PCA\n",
    "from sklearn.decomposition import PCA"
   ]
  },
  {
   "cell_type": "markdown",
   "metadata": {
    "id": "vs1MY6T_OPU5"
   },
   "source": [
    "#### Loading data"
   ]
  },
  {
   "cell_type": "code",
   "execution_count": 24,
   "metadata": {
    "colab": {
     "base_uri": "https://localhost:8080/"
    },
    "executionInfo": {
     "elapsed": 3626,
     "status": "ok",
     "timestamp": 1679153097693,
     "user": {
      "displayName": "Abhinav Harsh",
      "userId": "08825161285052345463"
     },
     "user_tz": -330
    },
    "id": "d9pyxhRkOPU5",
    "outputId": "414d0dc9-c058-4dba-94ca-4028206ac43c"
   },
   "outputs": [],
   "source": [
    "# data=pd.read_csv(\"Education_Post_12th_Standard.csv\")\n",
    "\n",
    "data = pd.read_csv(\"Education_Post_12th_Standard.csv\")\n"
   ]
  },
  {
   "cell_type": "code",
   "execution_count": 25,
   "metadata": {
    "colab": {
     "base_uri": "https://localhost:8080/",
     "height": 632
    },
    "executionInfo": {
     "elapsed": 521,
     "status": "ok",
     "timestamp": 1679153102773,
     "user": {
      "displayName": "Abhinav Harsh",
      "userId": "08825161285052345463"
     },
     "user_tz": -330
    },
    "id": "WXDs3HgqOPU5",
    "outputId": "43a68dcf-c760-4638-f0fe-ed6fc2ce04bf"
   },
   "outputs": [
    {
     "data": {
      "text/html": [
       "<div>\n",
       "<style scoped>\n",
       "    .dataframe tbody tr th:only-of-type {\n",
       "        vertical-align: middle;\n",
       "    }\n",
       "\n",
       "    .dataframe tbody tr th {\n",
       "        vertical-align: top;\n",
       "    }\n",
       "\n",
       "    .dataframe thead th {\n",
       "        text-align: right;\n",
       "    }\n",
       "</style>\n",
       "<table border=\"1\" class=\"dataframe\">\n",
       "  <thead>\n",
       "    <tr style=\"text-align: right;\">\n",
       "      <th></th>\n",
       "      <th>Names</th>\n",
       "      <th>Apps</th>\n",
       "      <th>Accept</th>\n",
       "      <th>Enroll</th>\n",
       "      <th>Top10perc</th>\n",
       "      <th>Top25perc</th>\n",
       "      <th>F_Undergrad</th>\n",
       "      <th>P_Undergrad</th>\n",
       "      <th>Outstate</th>\n",
       "      <th>Room_Board</th>\n",
       "      <th>Books</th>\n",
       "      <th>Personal</th>\n",
       "      <th>PhD</th>\n",
       "      <th>Terminal</th>\n",
       "      <th>S_F_Ratio</th>\n",
       "      <th>perc_alumni</th>\n",
       "      <th>Expend</th>\n",
       "      <th>Grad_Rate</th>\n",
       "    </tr>\n",
       "  </thead>\n",
       "  <tbody>\n",
       "    <tr>\n",
       "      <th>0</th>\n",
       "      <td>Abilene Christian University</td>\n",
       "      <td>1660</td>\n",
       "      <td>1232</td>\n",
       "      <td>721</td>\n",
       "      <td>23</td>\n",
       "      <td>52</td>\n",
       "      <td>2885</td>\n",
       "      <td>537</td>\n",
       "      <td>7440</td>\n",
       "      <td>3300</td>\n",
       "      <td>450</td>\n",
       "      <td>2200</td>\n",
       "      <td>70</td>\n",
       "      <td>78</td>\n",
       "      <td>18.1</td>\n",
       "      <td>12</td>\n",
       "      <td>7041</td>\n",
       "      <td>60</td>\n",
       "    </tr>\n",
       "    <tr>\n",
       "      <th>1</th>\n",
       "      <td>Adelphi University</td>\n",
       "      <td>2186</td>\n",
       "      <td>1924</td>\n",
       "      <td>512</td>\n",
       "      <td>16</td>\n",
       "      <td>29</td>\n",
       "      <td>2683</td>\n",
       "      <td>1227</td>\n",
       "      <td>12280</td>\n",
       "      <td>6450</td>\n",
       "      <td>750</td>\n",
       "      <td>1500</td>\n",
       "      <td>29</td>\n",
       "      <td>30</td>\n",
       "      <td>12.2</td>\n",
       "      <td>16</td>\n",
       "      <td>10527</td>\n",
       "      <td>56</td>\n",
       "    </tr>\n",
       "    <tr>\n",
       "      <th>2</th>\n",
       "      <td>Adrian College</td>\n",
       "      <td>1428</td>\n",
       "      <td>1097</td>\n",
       "      <td>336</td>\n",
       "      <td>22</td>\n",
       "      <td>50</td>\n",
       "      <td>1036</td>\n",
       "      <td>99</td>\n",
       "      <td>11250</td>\n",
       "      <td>3750</td>\n",
       "      <td>400</td>\n",
       "      <td>1165</td>\n",
       "      <td>53</td>\n",
       "      <td>66</td>\n",
       "      <td>12.9</td>\n",
       "      <td>30</td>\n",
       "      <td>8735</td>\n",
       "      <td>54</td>\n",
       "    </tr>\n",
       "    <tr>\n",
       "      <th>3</th>\n",
       "      <td>Agnes Scott College</td>\n",
       "      <td>417</td>\n",
       "      <td>349</td>\n",
       "      <td>137</td>\n",
       "      <td>60</td>\n",
       "      <td>89</td>\n",
       "      <td>510</td>\n",
       "      <td>63</td>\n",
       "      <td>12960</td>\n",
       "      <td>5450</td>\n",
       "      <td>450</td>\n",
       "      <td>875</td>\n",
       "      <td>92</td>\n",
       "      <td>97</td>\n",
       "      <td>7.7</td>\n",
       "      <td>37</td>\n",
       "      <td>19016</td>\n",
       "      <td>59</td>\n",
       "    </tr>\n",
       "    <tr>\n",
       "      <th>4</th>\n",
       "      <td>Alaska Pacific University</td>\n",
       "      <td>193</td>\n",
       "      <td>146</td>\n",
       "      <td>55</td>\n",
       "      <td>16</td>\n",
       "      <td>44</td>\n",
       "      <td>249</td>\n",
       "      <td>869</td>\n",
       "      <td>7560</td>\n",
       "      <td>4120</td>\n",
       "      <td>800</td>\n",
       "      <td>1500</td>\n",
       "      <td>76</td>\n",
       "      <td>72</td>\n",
       "      <td>11.9</td>\n",
       "      <td>2</td>\n",
       "      <td>10922</td>\n",
       "      <td>15</td>\n",
       "    </tr>\n",
       "    <tr>\n",
       "      <th>5</th>\n",
       "      <td>Albertson College</td>\n",
       "      <td>587</td>\n",
       "      <td>479</td>\n",
       "      <td>158</td>\n",
       "      <td>38</td>\n",
       "      <td>62</td>\n",
       "      <td>678</td>\n",
       "      <td>41</td>\n",
       "      <td>13500</td>\n",
       "      <td>3335</td>\n",
       "      <td>500</td>\n",
       "      <td>675</td>\n",
       "      <td>67</td>\n",
       "      <td>73</td>\n",
       "      <td>9.4</td>\n",
       "      <td>11</td>\n",
       "      <td>9727</td>\n",
       "      <td>55</td>\n",
       "    </tr>\n",
       "    <tr>\n",
       "      <th>6</th>\n",
       "      <td>Albertus Magnus College</td>\n",
       "      <td>353</td>\n",
       "      <td>340</td>\n",
       "      <td>103</td>\n",
       "      <td>17</td>\n",
       "      <td>45</td>\n",
       "      <td>416</td>\n",
       "      <td>230</td>\n",
       "      <td>13290</td>\n",
       "      <td>5720</td>\n",
       "      <td>500</td>\n",
       "      <td>1500</td>\n",
       "      <td>90</td>\n",
       "      <td>93</td>\n",
       "      <td>11.5</td>\n",
       "      <td>26</td>\n",
       "      <td>8861</td>\n",
       "      <td>63</td>\n",
       "    </tr>\n",
       "    <tr>\n",
       "      <th>7</th>\n",
       "      <td>Albion College</td>\n",
       "      <td>1899</td>\n",
       "      <td>1720</td>\n",
       "      <td>489</td>\n",
       "      <td>37</td>\n",
       "      <td>68</td>\n",
       "      <td>1594</td>\n",
       "      <td>32</td>\n",
       "      <td>13868</td>\n",
       "      <td>4826</td>\n",
       "      <td>450</td>\n",
       "      <td>850</td>\n",
       "      <td>89</td>\n",
       "      <td>100</td>\n",
       "      <td>13.7</td>\n",
       "      <td>37</td>\n",
       "      <td>11487</td>\n",
       "      <td>73</td>\n",
       "    </tr>\n",
       "    <tr>\n",
       "      <th>8</th>\n",
       "      <td>Albright College</td>\n",
       "      <td>1038</td>\n",
       "      <td>839</td>\n",
       "      <td>227</td>\n",
       "      <td>30</td>\n",
       "      <td>63</td>\n",
       "      <td>973</td>\n",
       "      <td>306</td>\n",
       "      <td>15595</td>\n",
       "      <td>4400</td>\n",
       "      <td>300</td>\n",
       "      <td>500</td>\n",
       "      <td>79</td>\n",
       "      <td>84</td>\n",
       "      <td>11.3</td>\n",
       "      <td>23</td>\n",
       "      <td>11644</td>\n",
       "      <td>80</td>\n",
       "    </tr>\n",
       "    <tr>\n",
       "      <th>9</th>\n",
       "      <td>Alderson-Broaddus College</td>\n",
       "      <td>582</td>\n",
       "      <td>498</td>\n",
       "      <td>172</td>\n",
       "      <td>21</td>\n",
       "      <td>44</td>\n",
       "      <td>799</td>\n",
       "      <td>78</td>\n",
       "      <td>10468</td>\n",
       "      <td>3380</td>\n",
       "      <td>660</td>\n",
       "      <td>1800</td>\n",
       "      <td>40</td>\n",
       "      <td>41</td>\n",
       "      <td>11.5</td>\n",
       "      <td>15</td>\n",
       "      <td>8991</td>\n",
       "      <td>52</td>\n",
       "    </tr>\n",
       "  </tbody>\n",
       "</table>\n",
       "</div>"
      ],
      "text/plain": [
       "                          Names  Apps  Accept  Enroll  Top10perc  Top25perc  \\\n",
       "0  Abilene Christian University  1660    1232     721         23         52   \n",
       "1            Adelphi University  2186    1924     512         16         29   \n",
       "2                Adrian College  1428    1097     336         22         50   \n",
       "3           Agnes Scott College   417     349     137         60         89   \n",
       "4     Alaska Pacific University   193     146      55         16         44   \n",
       "5             Albertson College   587     479     158         38         62   \n",
       "6       Albertus Magnus College   353     340     103         17         45   \n",
       "7                Albion College  1899    1720     489         37         68   \n",
       "8              Albright College  1038     839     227         30         63   \n",
       "9     Alderson-Broaddus College   582     498     172         21         44   \n",
       "\n",
       "   F_Undergrad  P_Undergrad  Outstate  Room_Board  Books  Personal  PhD  \\\n",
       "0         2885          537      7440        3300    450      2200   70   \n",
       "1         2683         1227     12280        6450    750      1500   29   \n",
       "2         1036           99     11250        3750    400      1165   53   \n",
       "3          510           63     12960        5450    450       875   92   \n",
       "4          249          869      7560        4120    800      1500   76   \n",
       "5          678           41     13500        3335    500       675   67   \n",
       "6          416          230     13290        5720    500      1500   90   \n",
       "7         1594           32     13868        4826    450       850   89   \n",
       "8          973          306     15595        4400    300       500   79   \n",
       "9          799           78     10468        3380    660      1800   40   \n",
       "\n",
       "   Terminal  S_F_Ratio  perc_alumni  Expend  Grad_Rate  \n",
       "0        78       18.1           12    7041         60  \n",
       "1        30       12.2           16   10527         56  \n",
       "2        66       12.9           30    8735         54  \n",
       "3        97        7.7           37   19016         59  \n",
       "4        72       11.9            2   10922         15  \n",
       "5        73        9.4           11    9727         55  \n",
       "6        93       11.5           26    8861         63  \n",
       "7       100       13.7           37   11487         73  \n",
       "8        84       11.3           23   11644         80  \n",
       "9        41       11.5           15    8991         52  "
      ]
     },
     "execution_count": 25,
     "metadata": {},
     "output_type": "execute_result"
    }
   ],
   "source": [
    "data.head(10)"
   ]
  },
  {
   "cell_type": "code",
   "execution_count": 26,
   "metadata": {
    "colab": {
     "base_uri": "https://localhost:8080/",
     "height": 748
    },
    "executionInfo": {
     "elapsed": 7,
     "status": "ok",
     "timestamp": 1679153108034,
     "user": {
      "displayName": "Abhinav Harsh",
      "userId": "08825161285052345463"
     },
     "user_tz": -330
    },
    "id": "iQJJnt1FUvy7",
    "outputId": "fc80ac6d-e2b3-4e97-931d-67db9501b651"
   },
   "outputs": [
    {
     "data": {
      "text/html": [
       "<div>\n",
       "<style scoped>\n",
       "    .dataframe tbody tr th:only-of-type {\n",
       "        vertical-align: middle;\n",
       "    }\n",
       "\n",
       "    .dataframe tbody tr th {\n",
       "        vertical-align: top;\n",
       "    }\n",
       "\n",
       "    .dataframe thead th {\n",
       "        text-align: right;\n",
       "    }\n",
       "</style>\n",
       "<table border=\"1\" class=\"dataframe\">\n",
       "  <thead>\n",
       "    <tr style=\"text-align: right;\">\n",
       "      <th></th>\n",
       "      <th>Names</th>\n",
       "      <th>Apps</th>\n",
       "      <th>Accept</th>\n",
       "      <th>Enroll</th>\n",
       "      <th>Top10perc</th>\n",
       "      <th>Top25perc</th>\n",
       "      <th>F_Undergrad</th>\n",
       "      <th>P_Undergrad</th>\n",
       "      <th>Outstate</th>\n",
       "      <th>Room_Board</th>\n",
       "      <th>Books</th>\n",
       "      <th>Personal</th>\n",
       "      <th>PhD</th>\n",
       "      <th>Terminal</th>\n",
       "      <th>S_F_Ratio</th>\n",
       "      <th>perc_alumni</th>\n",
       "      <th>Expend</th>\n",
       "      <th>Grad_Rate</th>\n",
       "      <th>Target</th>\n",
       "    </tr>\n",
       "  </thead>\n",
       "  <tbody>\n",
       "    <tr>\n",
       "      <th>0</th>\n",
       "      <td>Abilene Christian University</td>\n",
       "      <td>1660</td>\n",
       "      <td>1232</td>\n",
       "      <td>721</td>\n",
       "      <td>23</td>\n",
       "      <td>52</td>\n",
       "      <td>2885</td>\n",
       "      <td>537</td>\n",
       "      <td>7440</td>\n",
       "      <td>3300</td>\n",
       "      <td>450</td>\n",
       "      <td>2200</td>\n",
       "      <td>70</td>\n",
       "      <td>78</td>\n",
       "      <td>18.1</td>\n",
       "      <td>12</td>\n",
       "      <td>7041</td>\n",
       "      <td>60</td>\n",
       "      <td>0</td>\n",
       "    </tr>\n",
       "    <tr>\n",
       "      <th>1</th>\n",
       "      <td>Adelphi University</td>\n",
       "      <td>2186</td>\n",
       "      <td>1924</td>\n",
       "      <td>512</td>\n",
       "      <td>16</td>\n",
       "      <td>29</td>\n",
       "      <td>2683</td>\n",
       "      <td>1227</td>\n",
       "      <td>12280</td>\n",
       "      <td>6450</td>\n",
       "      <td>750</td>\n",
       "      <td>1500</td>\n",
       "      <td>29</td>\n",
       "      <td>30</td>\n",
       "      <td>12.2</td>\n",
       "      <td>16</td>\n",
       "      <td>10527</td>\n",
       "      <td>56</td>\n",
       "      <td>0</td>\n",
       "    </tr>\n",
       "    <tr>\n",
       "      <th>2</th>\n",
       "      <td>Adrian College</td>\n",
       "      <td>1428</td>\n",
       "      <td>1097</td>\n",
       "      <td>336</td>\n",
       "      <td>22</td>\n",
       "      <td>50</td>\n",
       "      <td>1036</td>\n",
       "      <td>99</td>\n",
       "      <td>11250</td>\n",
       "      <td>3750</td>\n",
       "      <td>400</td>\n",
       "      <td>1165</td>\n",
       "      <td>53</td>\n",
       "      <td>66</td>\n",
       "      <td>12.9</td>\n",
       "      <td>30</td>\n",
       "      <td>8735</td>\n",
       "      <td>54</td>\n",
       "      <td>0</td>\n",
       "    </tr>\n",
       "    <tr>\n",
       "      <th>3</th>\n",
       "      <td>Agnes Scott College</td>\n",
       "      <td>417</td>\n",
       "      <td>349</td>\n",
       "      <td>137</td>\n",
       "      <td>60</td>\n",
       "      <td>89</td>\n",
       "      <td>510</td>\n",
       "      <td>63</td>\n",
       "      <td>12960</td>\n",
       "      <td>5450</td>\n",
       "      <td>450</td>\n",
       "      <td>875</td>\n",
       "      <td>92</td>\n",
       "      <td>97</td>\n",
       "      <td>7.7</td>\n",
       "      <td>37</td>\n",
       "      <td>19016</td>\n",
       "      <td>59</td>\n",
       "      <td>0</td>\n",
       "    </tr>\n",
       "    <tr>\n",
       "      <th>4</th>\n",
       "      <td>Alaska Pacific University</td>\n",
       "      <td>193</td>\n",
       "      <td>146</td>\n",
       "      <td>55</td>\n",
       "      <td>16</td>\n",
       "      <td>44</td>\n",
       "      <td>249</td>\n",
       "      <td>869</td>\n",
       "      <td>7560</td>\n",
       "      <td>4120</td>\n",
       "      <td>800</td>\n",
       "      <td>1500</td>\n",
       "      <td>76</td>\n",
       "      <td>72</td>\n",
       "      <td>11.9</td>\n",
       "      <td>2</td>\n",
       "      <td>10922</td>\n",
       "      <td>15</td>\n",
       "      <td>0</td>\n",
       "    </tr>\n",
       "    <tr>\n",
       "      <th>...</th>\n",
       "      <td>...</td>\n",
       "      <td>...</td>\n",
       "      <td>...</td>\n",
       "      <td>...</td>\n",
       "      <td>...</td>\n",
       "      <td>...</td>\n",
       "      <td>...</td>\n",
       "      <td>...</td>\n",
       "      <td>...</td>\n",
       "      <td>...</td>\n",
       "      <td>...</td>\n",
       "      <td>...</td>\n",
       "      <td>...</td>\n",
       "      <td>...</td>\n",
       "      <td>...</td>\n",
       "      <td>...</td>\n",
       "      <td>...</td>\n",
       "      <td>...</td>\n",
       "      <td>...</td>\n",
       "    </tr>\n",
       "    <tr>\n",
       "      <th>772</th>\n",
       "      <td>Worcester State College</td>\n",
       "      <td>2197</td>\n",
       "      <td>1515</td>\n",
       "      <td>543</td>\n",
       "      <td>4</td>\n",
       "      <td>26</td>\n",
       "      <td>3089</td>\n",
       "      <td>2029</td>\n",
       "      <td>6797</td>\n",
       "      <td>3900</td>\n",
       "      <td>500</td>\n",
       "      <td>1200</td>\n",
       "      <td>60</td>\n",
       "      <td>60</td>\n",
       "      <td>21.0</td>\n",
       "      <td>14</td>\n",
       "      <td>4469</td>\n",
       "      <td>40</td>\n",
       "      <td>0</td>\n",
       "    </tr>\n",
       "    <tr>\n",
       "      <th>773</th>\n",
       "      <td>Xavier University</td>\n",
       "      <td>1959</td>\n",
       "      <td>1805</td>\n",
       "      <td>695</td>\n",
       "      <td>24</td>\n",
       "      <td>47</td>\n",
       "      <td>2849</td>\n",
       "      <td>1107</td>\n",
       "      <td>11520</td>\n",
       "      <td>4960</td>\n",
       "      <td>600</td>\n",
       "      <td>1250</td>\n",
       "      <td>73</td>\n",
       "      <td>75</td>\n",
       "      <td>13.3</td>\n",
       "      <td>31</td>\n",
       "      <td>9189</td>\n",
       "      <td>83</td>\n",
       "      <td>0</td>\n",
       "    </tr>\n",
       "    <tr>\n",
       "      <th>774</th>\n",
       "      <td>Xavier University of Louisiana</td>\n",
       "      <td>2097</td>\n",
       "      <td>1915</td>\n",
       "      <td>695</td>\n",
       "      <td>34</td>\n",
       "      <td>61</td>\n",
       "      <td>2793</td>\n",
       "      <td>166</td>\n",
       "      <td>6900</td>\n",
       "      <td>4200</td>\n",
       "      <td>617</td>\n",
       "      <td>781</td>\n",
       "      <td>67</td>\n",
       "      <td>75</td>\n",
       "      <td>14.4</td>\n",
       "      <td>20</td>\n",
       "      <td>8323</td>\n",
       "      <td>49</td>\n",
       "      <td>0</td>\n",
       "    </tr>\n",
       "    <tr>\n",
       "      <th>775</th>\n",
       "      <td>Yale University</td>\n",
       "      <td>10705</td>\n",
       "      <td>2453</td>\n",
       "      <td>1317</td>\n",
       "      <td>95</td>\n",
       "      <td>99</td>\n",
       "      <td>5217</td>\n",
       "      <td>83</td>\n",
       "      <td>19840</td>\n",
       "      <td>6510</td>\n",
       "      <td>630</td>\n",
       "      <td>2115</td>\n",
       "      <td>96</td>\n",
       "      <td>96</td>\n",
       "      <td>5.8</td>\n",
       "      <td>49</td>\n",
       "      <td>40386</td>\n",
       "      <td>99</td>\n",
       "      <td>1</td>\n",
       "    </tr>\n",
       "    <tr>\n",
       "      <th>776</th>\n",
       "      <td>York College of Pennsylvania</td>\n",
       "      <td>2989</td>\n",
       "      <td>1855</td>\n",
       "      <td>691</td>\n",
       "      <td>28</td>\n",
       "      <td>63</td>\n",
       "      <td>2988</td>\n",
       "      <td>1726</td>\n",
       "      <td>4990</td>\n",
       "      <td>3560</td>\n",
       "      <td>500</td>\n",
       "      <td>1250</td>\n",
       "      <td>75</td>\n",
       "      <td>75</td>\n",
       "      <td>18.1</td>\n",
       "      <td>28</td>\n",
       "      <td>4509</td>\n",
       "      <td>99</td>\n",
       "      <td>0</td>\n",
       "    </tr>\n",
       "  </tbody>\n",
       "</table>\n",
       "<p>777 rows × 19 columns</p>\n",
       "</div>"
      ],
      "text/plain": [
       "                              Names   Apps  Accept  Enroll  Top10perc  \\\n",
       "0      Abilene Christian University   1660    1232     721         23   \n",
       "1                Adelphi University   2186    1924     512         16   \n",
       "2                    Adrian College   1428    1097     336         22   \n",
       "3               Agnes Scott College    417     349     137         60   \n",
       "4         Alaska Pacific University    193     146      55         16   \n",
       "..                              ...    ...     ...     ...        ...   \n",
       "772         Worcester State College   2197    1515     543          4   \n",
       "773               Xavier University   1959    1805     695         24   \n",
       "774  Xavier University of Louisiana   2097    1915     695         34   \n",
       "775                 Yale University  10705    2453    1317         95   \n",
       "776    York College of Pennsylvania   2989    1855     691         28   \n",
       "\n",
       "     Top25perc  F_Undergrad  P_Undergrad  Outstate  Room_Board  Books  \\\n",
       "0           52         2885          537      7440        3300    450   \n",
       "1           29         2683         1227     12280        6450    750   \n",
       "2           50         1036           99     11250        3750    400   \n",
       "3           89          510           63     12960        5450    450   \n",
       "4           44          249          869      7560        4120    800   \n",
       "..         ...          ...          ...       ...         ...    ...   \n",
       "772         26         3089         2029      6797        3900    500   \n",
       "773         47         2849         1107     11520        4960    600   \n",
       "774         61         2793          166      6900        4200    617   \n",
       "775         99         5217           83     19840        6510    630   \n",
       "776         63         2988         1726      4990        3560    500   \n",
       "\n",
       "     Personal  PhD  Terminal  S_F_Ratio  perc_alumni  Expend  Grad_Rate  \\\n",
       "0        2200   70        78       18.1           12    7041         60   \n",
       "1        1500   29        30       12.2           16   10527         56   \n",
       "2        1165   53        66       12.9           30    8735         54   \n",
       "3         875   92        97        7.7           37   19016         59   \n",
       "4        1500   76        72       11.9            2   10922         15   \n",
       "..        ...  ...       ...        ...          ...     ...        ...   \n",
       "772      1200   60        60       21.0           14    4469         40   \n",
       "773      1250   73        75       13.3           31    9189         83   \n",
       "774       781   67        75       14.4           20    8323         49   \n",
       "775      2115   96        96        5.8           49   40386         99   \n",
       "776      1250   75        75       18.1           28    4509         99   \n",
       "\n",
       "     Target  \n",
       "0         0  \n",
       "1         0  \n",
       "2         0  \n",
       "3         0  \n",
       "4         0  \n",
       "..      ...  \n",
       "772       0  \n",
       "773       0  \n",
       "774       0  \n",
       "775       1  \n",
       "776       0  \n",
       "\n",
       "[777 rows x 19 columns]"
      ]
     },
     "execution_count": 26,
     "metadata": {},
     "output_type": "execute_result"
    }
   ],
   "source": [
    "# Create target variable\n",
    "data['Acceptance_rate'] = data['Accept']/data['Apps']\n",
    "data[\"Target\"] = (data[\"Acceptance_rate\"] < 0.6).astype(int)\n",
    "data = data.drop('Acceptance_rate',axis=1)\n",
    "data"
   ]
  },
  {
   "cell_type": "code",
   "execution_count": 27,
   "metadata": {
    "colab": {
     "base_uri": "https://localhost:8080/"
    },
    "executionInfo": {
     "elapsed": 444,
     "status": "ok",
     "timestamp": 1679150827752,
     "user": {
      "displayName": "Abhinav Harsh",
      "userId": "08825161285052345463"
     },
     "user_tz": -330
    },
    "id": "QdvT-jUQSpsU",
    "outputId": "6d0ed8b1-8606-4c2b-bcf2-9709bdd9c440"
   },
   "outputs": [
    {
     "data": {
      "text/plain": [
       "(777, 19)"
      ]
     },
     "execution_count": 27,
     "metadata": {},
     "output_type": "execute_result"
    }
   ],
   "source": [
    "data.shape"
   ]
  },
  {
   "cell_type": "markdown",
   "metadata": {
    "id": "CsHzFoepOPU6"
   },
   "source": [
    "#### Check the info of the data"
   ]
  },
  {
   "cell_type": "code",
   "execution_count": 28,
   "metadata": {
    "colab": {
     "base_uri": "https://localhost:8080/"
    },
    "executionInfo": {
     "elapsed": 413,
     "status": "ok",
     "timestamp": 1679150863679,
     "user": {
      "displayName": "Abhinav Harsh",
      "userId": "08825161285052345463"
     },
     "user_tz": -330
    },
    "id": "RQip-RQ8OPU7",
    "outputId": "345495e4-3aea-4c71-fed8-0ecca539f58d"
   },
   "outputs": [
    {
     "name": "stdout",
     "output_type": "stream",
     "text": [
      "<class 'pandas.core.frame.DataFrame'>\n",
      "RangeIndex: 777 entries, 0 to 776\n",
      "Data columns (total 19 columns):\n",
      " #   Column       Non-Null Count  Dtype  \n",
      "---  ------       --------------  -----  \n",
      " 0   Names        777 non-null    object \n",
      " 1   Apps         777 non-null    int64  \n",
      " 2   Accept       777 non-null    int64  \n",
      " 3   Enroll       777 non-null    int64  \n",
      " 4   Top10perc    777 non-null    int64  \n",
      " 5   Top25perc    777 non-null    int64  \n",
      " 6   F_Undergrad  777 non-null    int64  \n",
      " 7   P_Undergrad  777 non-null    int64  \n",
      " 8   Outstate     777 non-null    int64  \n",
      " 9   Room_Board   777 non-null    int64  \n",
      " 10  Books        777 non-null    int64  \n",
      " 11  Personal     777 non-null    int64  \n",
      " 12  PhD          777 non-null    int64  \n",
      " 13  Terminal     777 non-null    int64  \n",
      " 14  S_F_Ratio    777 non-null    float64\n",
      " 15  perc_alumni  777 non-null    int64  \n",
      " 16  Expend       777 non-null    int64  \n",
      " 17  Grad_Rate    777 non-null    int64  \n",
      " 18  Target       777 non-null    int32  \n",
      "dtypes: float64(1), int32(1), int64(16), object(1)\n",
      "memory usage: 112.4+ KB\n"
     ]
    }
   ],
   "source": [
    "data.info()"
   ]
  },
  {
   "cell_type": "markdown",
   "metadata": {
    "id": "kpkFQ3NoOPU7"
   },
   "source": [
    "**Observations:**\n",
    "\n",
    "- There are 777 observations and 18 columns in the dataset.\n",
    "- All columns have 777 non-null values i.e. there are no missing values.\n",
    "- All columns are numeric except the Names column which is of object data type."
   ]
  },
  {
   "cell_type": "markdown",
   "metadata": {
    "id": "EjyVmIjLOPU7"
   },
   "source": [
    "## Data Preprocessing and Exploratory Data Analysis"
   ]
  },
  {
   "cell_type": "markdown",
   "metadata": {
    "id": "-5j6cuToOPU8"
   },
   "source": [
    "#### Check if all the college names are unique"
   ]
  },
  {
   "cell_type": "code",
   "execution_count": 29,
   "metadata": {
    "colab": {
     "base_uri": "https://localhost:8080/"
    },
    "executionInfo": {
     "elapsed": 660,
     "status": "ok",
     "timestamp": 1679150884542,
     "user": {
      "displayName": "Abhinav Harsh",
      "userId": "08825161285052345463"
     },
     "user_tz": -330
    },
    "id": "4Xw18kSVOPU8",
    "outputId": "194ff69a-c942-48af-ca3c-ecc9538c55a7"
   },
   "outputs": [
    {
     "data": {
      "text/plain": [
       "777"
      ]
     },
     "execution_count": 29,
     "metadata": {},
     "output_type": "execute_result"
    }
   ],
   "source": [
    "data.Names.nunique()"
   ]
  },
  {
   "cell_type": "markdown",
   "metadata": {
    "id": "zEbywvWQOPU8"
   },
   "source": [
    "**Observations:**\n",
    "\n",
    "- All college names are unique\n",
    "- As all entries are unique, it would not add value to our analysis. We can drop the Names column. "
   ]
  },
  {
   "cell_type": "code",
   "execution_count": 30,
   "metadata": {
    "executionInfo": {
     "elapsed": 420,
     "status": "ok",
     "timestamp": 1679153152828,
     "user": {
      "displayName": "Abhinav Harsh",
      "userId": "08825161285052345463"
     },
     "user_tz": -330
    },
    "id": "4mFcBCXbOPU9"
   },
   "outputs": [],
   "source": [
    "#Dropping Names column \n",
    "data.drop(columns=\"Names\", inplace=True)"
   ]
  },
  {
   "cell_type": "markdown",
   "metadata": {
    "id": "qj_i7NdvOPU9"
   },
   "source": [
    "#### Summary Statistics"
   ]
  },
  {
   "cell_type": "code",
   "execution_count": 31,
   "metadata": {
    "colab": {
     "base_uri": "https://localhost:8080/",
     "height": 613
    },
    "executionInfo": {
     "elapsed": 5,
     "status": "ok",
     "timestamp": 1679153155192,
     "user": {
      "displayName": "Abhinav Harsh",
      "userId": "08825161285052345463"
     },
     "user_tz": -330
    },
    "id": "dMFv9DOCOPU9",
    "outputId": "0ea615d3-3895-4b93-e027-b4aa6e33e3ab"
   },
   "outputs": [
    {
     "data": {
      "text/html": [
       "<div>\n",
       "<style scoped>\n",
       "    .dataframe tbody tr th:only-of-type {\n",
       "        vertical-align: middle;\n",
       "    }\n",
       "\n",
       "    .dataframe tbody tr th {\n",
       "        vertical-align: top;\n",
       "    }\n",
       "\n",
       "    .dataframe thead th {\n",
       "        text-align: right;\n",
       "    }\n",
       "</style>\n",
       "<table border=\"1\" class=\"dataframe\">\n",
       "  <thead>\n",
       "    <tr style=\"text-align: right;\">\n",
       "      <th></th>\n",
       "      <th>count</th>\n",
       "      <th>mean</th>\n",
       "      <th>std</th>\n",
       "      <th>min</th>\n",
       "      <th>25%</th>\n",
       "      <th>50%</th>\n",
       "      <th>75%</th>\n",
       "      <th>max</th>\n",
       "    </tr>\n",
       "  </thead>\n",
       "  <tbody>\n",
       "    <tr>\n",
       "      <th>Apps</th>\n",
       "      <td>777.0</td>\n",
       "      <td>3001.638353</td>\n",
       "      <td>3870.201484</td>\n",
       "      <td>81.0</td>\n",
       "      <td>776.0</td>\n",
       "      <td>1558.0</td>\n",
       "      <td>3624.0</td>\n",
       "      <td>48094.0</td>\n",
       "    </tr>\n",
       "    <tr>\n",
       "      <th>Accept</th>\n",
       "      <td>777.0</td>\n",
       "      <td>2018.804376</td>\n",
       "      <td>2451.113971</td>\n",
       "      <td>72.0</td>\n",
       "      <td>604.0</td>\n",
       "      <td>1110.0</td>\n",
       "      <td>2424.0</td>\n",
       "      <td>26330.0</td>\n",
       "    </tr>\n",
       "    <tr>\n",
       "      <th>Enroll</th>\n",
       "      <td>777.0</td>\n",
       "      <td>779.972973</td>\n",
       "      <td>929.176190</td>\n",
       "      <td>35.0</td>\n",
       "      <td>242.0</td>\n",
       "      <td>434.0</td>\n",
       "      <td>902.0</td>\n",
       "      <td>6392.0</td>\n",
       "    </tr>\n",
       "    <tr>\n",
       "      <th>Top10perc</th>\n",
       "      <td>777.0</td>\n",
       "      <td>27.558559</td>\n",
       "      <td>17.640364</td>\n",
       "      <td>1.0</td>\n",
       "      <td>15.0</td>\n",
       "      <td>23.0</td>\n",
       "      <td>35.0</td>\n",
       "      <td>96.0</td>\n",
       "    </tr>\n",
       "    <tr>\n",
       "      <th>Top25perc</th>\n",
       "      <td>777.0</td>\n",
       "      <td>55.796654</td>\n",
       "      <td>19.804778</td>\n",
       "      <td>9.0</td>\n",
       "      <td>41.0</td>\n",
       "      <td>54.0</td>\n",
       "      <td>69.0</td>\n",
       "      <td>100.0</td>\n",
       "    </tr>\n",
       "    <tr>\n",
       "      <th>F_Undergrad</th>\n",
       "      <td>777.0</td>\n",
       "      <td>3699.907336</td>\n",
       "      <td>4850.420531</td>\n",
       "      <td>139.0</td>\n",
       "      <td>992.0</td>\n",
       "      <td>1707.0</td>\n",
       "      <td>4005.0</td>\n",
       "      <td>31643.0</td>\n",
       "    </tr>\n",
       "    <tr>\n",
       "      <th>P_Undergrad</th>\n",
       "      <td>777.0</td>\n",
       "      <td>855.298584</td>\n",
       "      <td>1522.431887</td>\n",
       "      <td>1.0</td>\n",
       "      <td>95.0</td>\n",
       "      <td>353.0</td>\n",
       "      <td>967.0</td>\n",
       "      <td>21836.0</td>\n",
       "    </tr>\n",
       "    <tr>\n",
       "      <th>Outstate</th>\n",
       "      <td>777.0</td>\n",
       "      <td>10440.669241</td>\n",
       "      <td>4023.016484</td>\n",
       "      <td>2340.0</td>\n",
       "      <td>7320.0</td>\n",
       "      <td>9990.0</td>\n",
       "      <td>12925.0</td>\n",
       "      <td>21700.0</td>\n",
       "    </tr>\n",
       "    <tr>\n",
       "      <th>Room_Board</th>\n",
       "      <td>777.0</td>\n",
       "      <td>4357.526384</td>\n",
       "      <td>1096.696416</td>\n",
       "      <td>1780.0</td>\n",
       "      <td>3597.0</td>\n",
       "      <td>4200.0</td>\n",
       "      <td>5050.0</td>\n",
       "      <td>8124.0</td>\n",
       "    </tr>\n",
       "    <tr>\n",
       "      <th>Books</th>\n",
       "      <td>777.0</td>\n",
       "      <td>549.380952</td>\n",
       "      <td>165.105360</td>\n",
       "      <td>96.0</td>\n",
       "      <td>470.0</td>\n",
       "      <td>500.0</td>\n",
       "      <td>600.0</td>\n",
       "      <td>2340.0</td>\n",
       "    </tr>\n",
       "    <tr>\n",
       "      <th>Personal</th>\n",
       "      <td>777.0</td>\n",
       "      <td>1340.642214</td>\n",
       "      <td>677.071454</td>\n",
       "      <td>250.0</td>\n",
       "      <td>850.0</td>\n",
       "      <td>1200.0</td>\n",
       "      <td>1700.0</td>\n",
       "      <td>6800.0</td>\n",
       "    </tr>\n",
       "    <tr>\n",
       "      <th>PhD</th>\n",
       "      <td>777.0</td>\n",
       "      <td>72.660232</td>\n",
       "      <td>16.328155</td>\n",
       "      <td>8.0</td>\n",
       "      <td>62.0</td>\n",
       "      <td>75.0</td>\n",
       "      <td>85.0</td>\n",
       "      <td>103.0</td>\n",
       "    </tr>\n",
       "    <tr>\n",
       "      <th>Terminal</th>\n",
       "      <td>777.0</td>\n",
       "      <td>79.702703</td>\n",
       "      <td>14.722359</td>\n",
       "      <td>24.0</td>\n",
       "      <td>71.0</td>\n",
       "      <td>82.0</td>\n",
       "      <td>92.0</td>\n",
       "      <td>100.0</td>\n",
       "    </tr>\n",
       "    <tr>\n",
       "      <th>S_F_Ratio</th>\n",
       "      <td>777.0</td>\n",
       "      <td>14.089704</td>\n",
       "      <td>3.958349</td>\n",
       "      <td>2.5</td>\n",
       "      <td>11.5</td>\n",
       "      <td>13.6</td>\n",
       "      <td>16.5</td>\n",
       "      <td>39.8</td>\n",
       "    </tr>\n",
       "    <tr>\n",
       "      <th>perc_alumni</th>\n",
       "      <td>777.0</td>\n",
       "      <td>22.743887</td>\n",
       "      <td>12.391801</td>\n",
       "      <td>0.0</td>\n",
       "      <td>13.0</td>\n",
       "      <td>21.0</td>\n",
       "      <td>31.0</td>\n",
       "      <td>64.0</td>\n",
       "    </tr>\n",
       "    <tr>\n",
       "      <th>Expend</th>\n",
       "      <td>777.0</td>\n",
       "      <td>9660.171171</td>\n",
       "      <td>5221.768440</td>\n",
       "      <td>3186.0</td>\n",
       "      <td>6751.0</td>\n",
       "      <td>8377.0</td>\n",
       "      <td>10830.0</td>\n",
       "      <td>56233.0</td>\n",
       "    </tr>\n",
       "    <tr>\n",
       "      <th>Grad_Rate</th>\n",
       "      <td>777.0</td>\n",
       "      <td>65.463320</td>\n",
       "      <td>17.177710</td>\n",
       "      <td>10.0</td>\n",
       "      <td>53.0</td>\n",
       "      <td>65.0</td>\n",
       "      <td>78.0</td>\n",
       "      <td>118.0</td>\n",
       "    </tr>\n",
       "    <tr>\n",
       "      <th>Target</th>\n",
       "      <td>777.0</td>\n",
       "      <td>0.149292</td>\n",
       "      <td>0.356606</td>\n",
       "      <td>0.0</td>\n",
       "      <td>0.0</td>\n",
       "      <td>0.0</td>\n",
       "      <td>0.0</td>\n",
       "      <td>1.0</td>\n",
       "    </tr>\n",
       "  </tbody>\n",
       "</table>\n",
       "</div>"
      ],
      "text/plain": [
       "             count          mean          std     min     25%     50%  \\\n",
       "Apps         777.0   3001.638353  3870.201484    81.0   776.0  1558.0   \n",
       "Accept       777.0   2018.804376  2451.113971    72.0   604.0  1110.0   \n",
       "Enroll       777.0    779.972973   929.176190    35.0   242.0   434.0   \n",
       "Top10perc    777.0     27.558559    17.640364     1.0    15.0    23.0   \n",
       "Top25perc    777.0     55.796654    19.804778     9.0    41.0    54.0   \n",
       "F_Undergrad  777.0   3699.907336  4850.420531   139.0   992.0  1707.0   \n",
       "P_Undergrad  777.0    855.298584  1522.431887     1.0    95.0   353.0   \n",
       "Outstate     777.0  10440.669241  4023.016484  2340.0  7320.0  9990.0   \n",
       "Room_Board   777.0   4357.526384  1096.696416  1780.0  3597.0  4200.0   \n",
       "Books        777.0    549.380952   165.105360    96.0   470.0   500.0   \n",
       "Personal     777.0   1340.642214   677.071454   250.0   850.0  1200.0   \n",
       "PhD          777.0     72.660232    16.328155     8.0    62.0    75.0   \n",
       "Terminal     777.0     79.702703    14.722359    24.0    71.0    82.0   \n",
       "S_F_Ratio    777.0     14.089704     3.958349     2.5    11.5    13.6   \n",
       "perc_alumni  777.0     22.743887    12.391801     0.0    13.0    21.0   \n",
       "Expend       777.0   9660.171171  5221.768440  3186.0  6751.0  8377.0   \n",
       "Grad_Rate    777.0     65.463320    17.177710    10.0    53.0    65.0   \n",
       "Target       777.0      0.149292     0.356606     0.0     0.0     0.0   \n",
       "\n",
       "                 75%      max  \n",
       "Apps          3624.0  48094.0  \n",
       "Accept        2424.0  26330.0  \n",
       "Enroll         902.0   6392.0  \n",
       "Top10perc       35.0     96.0  \n",
       "Top25perc       69.0    100.0  \n",
       "F_Undergrad   4005.0  31643.0  \n",
       "P_Undergrad    967.0  21836.0  \n",
       "Outstate     12925.0  21700.0  \n",
       "Room_Board    5050.0   8124.0  \n",
       "Books          600.0   2340.0  \n",
       "Personal      1700.0   6800.0  \n",
       "PhD             85.0    103.0  \n",
       "Terminal        92.0    100.0  \n",
       "S_F_Ratio       16.5     39.8  \n",
       "perc_alumni     31.0     64.0  \n",
       "Expend       10830.0  56233.0  \n",
       "Grad_Rate       78.0    118.0  \n",
       "Target           0.0      1.0  "
      ]
     },
     "execution_count": 31,
     "metadata": {},
     "output_type": "execute_result"
    }
   ],
   "source": [
    "data.describe().T"
   ]
  },
  {
   "cell_type": "markdown",
   "metadata": {
    "id": "w3MmY2dUOPU-"
   },
   "source": [
    "**Observations:**\n",
    "\n",
    "- On an average, approx 3,000 applications are received in US universities, out of which around 2,000 applications are accepted by the universities and around 780 new students get enrolled.\n",
    "- The standard deviation is very high for these variables - Apps, Accepted, Enroll which shows the variety of universities and colleges.\n",
    "- The average cost for room and board, books, and personal expense is approx 4,357, 550, and 1,350 dollars respectively.\n",
    "- The average number of full time undergrad students are around 3700 whereas the average number of part-time undergrad students stand low at around 850.\n",
    "- PhD and Grad_Rate have a maximum value of greater than 100 which is not possible as these variables are in percentages. Let's see how many such observations are there in the data."
   ]
  },
  {
   "cell_type": "code",
   "execution_count": 32,
   "metadata": {
    "colab": {
     "base_uri": "https://localhost:8080/",
     "height": 156
    },
    "executionInfo": {
     "elapsed": 3,
     "status": "ok",
     "timestamp": 1679153162137,
     "user": {
      "displayName": "Abhinav Harsh",
      "userId": "08825161285052345463"
     },
     "user_tz": -330
    },
    "id": "uIzvCOJrOPU-",
    "outputId": "5c28d751-79e1-41ef-e867-c0b9ff8a9745"
   },
   "outputs": [
    {
     "data": {
      "text/html": [
       "<div>\n",
       "<style scoped>\n",
       "    .dataframe tbody tr th:only-of-type {\n",
       "        vertical-align: middle;\n",
       "    }\n",
       "\n",
       "    .dataframe tbody tr th {\n",
       "        vertical-align: top;\n",
       "    }\n",
       "\n",
       "    .dataframe thead th {\n",
       "        text-align: right;\n",
       "    }\n",
       "</style>\n",
       "<table border=\"1\" class=\"dataframe\">\n",
       "  <thead>\n",
       "    <tr style=\"text-align: right;\">\n",
       "      <th></th>\n",
       "      <th>Apps</th>\n",
       "      <th>Accept</th>\n",
       "      <th>Enroll</th>\n",
       "      <th>Top10perc</th>\n",
       "      <th>Top25perc</th>\n",
       "      <th>F_Undergrad</th>\n",
       "      <th>P_Undergrad</th>\n",
       "      <th>Outstate</th>\n",
       "      <th>Room_Board</th>\n",
       "      <th>Books</th>\n",
       "      <th>Personal</th>\n",
       "      <th>PhD</th>\n",
       "      <th>Terminal</th>\n",
       "      <th>S_F_Ratio</th>\n",
       "      <th>perc_alumni</th>\n",
       "      <th>Expend</th>\n",
       "      <th>Grad_Rate</th>\n",
       "      <th>Target</th>\n",
       "    </tr>\n",
       "  </thead>\n",
       "  <tbody>\n",
       "    <tr>\n",
       "      <th>95</th>\n",
       "      <td>3847</td>\n",
       "      <td>3433</td>\n",
       "      <td>527</td>\n",
       "      <td>9</td>\n",
       "      <td>35</td>\n",
       "      <td>1010</td>\n",
       "      <td>12</td>\n",
       "      <td>9384</td>\n",
       "      <td>4840</td>\n",
       "      <td>600</td>\n",
       "      <td>500</td>\n",
       "      <td>22</td>\n",
       "      <td>47</td>\n",
       "      <td>14.3</td>\n",
       "      <td>20</td>\n",
       "      <td>7697</td>\n",
       "      <td>118</td>\n",
       "      <td>0</td>\n",
       "    </tr>\n",
       "    <tr>\n",
       "      <th>582</th>\n",
       "      <td>529</td>\n",
       "      <td>481</td>\n",
       "      <td>243</td>\n",
       "      <td>22</td>\n",
       "      <td>47</td>\n",
       "      <td>1206</td>\n",
       "      <td>134</td>\n",
       "      <td>4860</td>\n",
       "      <td>3122</td>\n",
       "      <td>600</td>\n",
       "      <td>650</td>\n",
       "      <td>103</td>\n",
       "      <td>88</td>\n",
       "      <td>17.4</td>\n",
       "      <td>16</td>\n",
       "      <td>6415</td>\n",
       "      <td>43</td>\n",
       "      <td>0</td>\n",
       "    </tr>\n",
       "  </tbody>\n",
       "</table>\n",
       "</div>"
      ],
      "text/plain": [
       "     Apps  Accept  Enroll  Top10perc  Top25perc  F_Undergrad  P_Undergrad  \\\n",
       "95   3847    3433     527          9         35         1010           12   \n",
       "582   529     481     243         22         47         1206          134   \n",
       "\n",
       "     Outstate  Room_Board  Books  Personal  PhD  Terminal  S_F_Ratio  \\\n",
       "95       9384        4840    600       500   22        47       14.3   \n",
       "582      4860        3122    600       650  103        88       17.4   \n",
       "\n",
       "     perc_alumni  Expend  Grad_Rate  Target  \n",
       "95            20    7697        118       0  \n",
       "582           16    6415         43       0  "
      ]
     },
     "execution_count": 32,
     "metadata": {},
     "output_type": "execute_result"
    }
   ],
   "source": [
    "data[(data.PhD>100) | (data.Grad_Rate>100)]"
   ]
  },
  {
   "cell_type": "code",
   "execution_count": 33,
   "metadata": {
    "colab": {
     "base_uri": "https://localhost:8080/",
     "height": 80
    },
    "executionInfo": {
     "elapsed": 468,
     "status": "ok",
     "timestamp": 1679151535286,
     "user": {
      "displayName": "Abhinav Harsh",
      "userId": "08825161285052345463"
     },
     "user_tz": -330
    },
    "id": "MDpuNB8pOqyC",
    "outputId": "dd963ac8-7ab5-4b91-8868-90d4cac7b067"
   },
   "outputs": [
    {
     "data": {
      "text/html": [
       "<div>\n",
       "<style scoped>\n",
       "    .dataframe tbody tr th:only-of-type {\n",
       "        vertical-align: middle;\n",
       "    }\n",
       "\n",
       "    .dataframe tbody tr th {\n",
       "        vertical-align: top;\n",
       "    }\n",
       "\n",
       "    .dataframe thead th {\n",
       "        text-align: right;\n",
       "    }\n",
       "</style>\n",
       "<table border=\"1\" class=\"dataframe\">\n",
       "  <thead>\n",
       "    <tr style=\"text-align: right;\">\n",
       "      <th></th>\n",
       "      <th>Apps</th>\n",
       "      <th>Accept</th>\n",
       "      <th>Enroll</th>\n",
       "      <th>Top10perc</th>\n",
       "      <th>Top25perc</th>\n",
       "      <th>F_Undergrad</th>\n",
       "      <th>P_Undergrad</th>\n",
       "      <th>Outstate</th>\n",
       "      <th>Room_Board</th>\n",
       "      <th>Books</th>\n",
       "      <th>Personal</th>\n",
       "      <th>PhD</th>\n",
       "      <th>Terminal</th>\n",
       "      <th>S_F_Ratio</th>\n",
       "      <th>perc_alumni</th>\n",
       "      <th>Expend</th>\n",
       "      <th>Grad_Rate</th>\n",
       "      <th>Target</th>\n",
       "    </tr>\n",
       "  </thead>\n",
       "  <tbody>\n",
       "    <tr>\n",
       "      <th>483</th>\n",
       "      <td>48094</td>\n",
       "      <td>26330</td>\n",
       "      <td>4520</td>\n",
       "      <td>36</td>\n",
       "      <td>79</td>\n",
       "      <td>21401</td>\n",
       "      <td>3712</td>\n",
       "      <td>7410</td>\n",
       "      <td>4748</td>\n",
       "      <td>690</td>\n",
       "      <td>2009</td>\n",
       "      <td>90</td>\n",
       "      <td>95</td>\n",
       "      <td>19.5</td>\n",
       "      <td>19</td>\n",
       "      <td>10474</td>\n",
       "      <td>77</td>\n",
       "      <td>1</td>\n",
       "    </tr>\n",
       "  </tbody>\n",
       "</table>\n",
       "</div>"
      ],
      "text/plain": [
       "      Apps  Accept  Enroll  Top10perc  Top25perc  F_Undergrad  P_Undergrad  \\\n",
       "483  48094   26330    4520         36         79        21401         3712   \n",
       "\n",
       "     Outstate  Room_Board  Books  Personal  PhD  Terminal  S_F_Ratio  \\\n",
       "483      7410        4748    690      2009   90        95       19.5   \n",
       "\n",
       "     perc_alumni  Expend  Grad_Rate  Target  \n",
       "483           19   10474         77       1  "
      ]
     },
     "execution_count": 33,
     "metadata": {},
     "output_type": "execute_result"
    }
   ],
   "source": [
    "data[(data.Apps>40000)]"
   ]
  },
  {
   "cell_type": "markdown",
   "metadata": {
    "id": "Gp528sd8OPU_"
   },
   "source": [
    "**There is just one such observation for each variable. We can cap the values to 100%.**"
   ]
  },
  {
   "cell_type": "code",
   "execution_count": 34,
   "metadata": {
    "executionInfo": {
     "elapsed": 4,
     "status": "ok",
     "timestamp": 1679153165383,
     "user": {
      "displayName": "Abhinav Harsh",
      "userId": "08825161285052345463"
     },
     "user_tz": -330
    },
    "id": "CuSEHJv3OPU_"
   },
   "outputs": [],
   "source": [
    "data.loc[582,\"PhD\"]=100\n",
    "data.loc[95,\"Grad_Rate\"]=100"
   ]
  },
  {
   "cell_type": "markdown",
   "metadata": {
    "id": "6KBFnS4-OPU_"
   },
   "source": [
    "#### Let's check the distribution and outliers for each column in the data"
   ]
  },
  {
   "cell_type": "code",
   "execution_count": 35,
   "metadata": {
    "colab": {
     "base_uri": "https://localhost:8080/",
     "height": 1000
    },
    "executionInfo": {
     "elapsed": 9814,
     "status": "ok",
     "timestamp": 1679151464445,
     "user": {
      "displayName": "Abhinav Harsh",
      "userId": "08825161285052345463"
     },
     "user_tz": -330
    },
    "id": "nePVJTT8OPU_",
    "outputId": "2a67e39e-b42f-49f5-f20d-25e5cb0af581",
    "scrolled": false
   },
   "outputs": [
    {
     "name": "stdout",
     "output_type": "stream",
     "text": [
      "Apps\n",
      "Skew : 3.72\n"
     ]
    },
    {
     "data": {
      "image/png": "[encoded data removed]",
      "text/plain": [
       "<Figure size 1080x288 with 2 Axes>"
      ]
     },
     "metadata": {
      "needs_background": "light"
     },
     "output_type": "display_data"
    },
    {
     "name": "stdout",
     "output_type": "stream",
     "text": [
      "Accept\n",
      "Skew : 3.42\n"
     ]
    },
    {
     "data": {
      "image/png": "[encoded data removed]",
      "text/plain": [
       "<Figure size 1080x288 with 2 Axes>"
      ]
     },
     "metadata": {
      "needs_background": "light"
     },
     "output_type": "display_data"
    },
    {
     "name": "stdout",
     "output_type": "stream",
     "text": [
      "Enroll\n",
      "Skew : 2.69\n"
     ]
    },
    {
     "data": {
      "image/png": "[encoded data removed]",
      "text/plain": [
       "<Figure size 1080x288 with 2 Axes>"
      ]
     },
     "metadata": {
      "needs_background": "light"
     },
     "output_type": "display_data"
    },
    {
     "name": "stdout",
     "output_type": "stream",
     "text": [
      "Top10perc\n",
      "Skew : 1.41\n"
     ]
    },
    {
     "data": {
      "image/png": "[encoded data removed]",
      "text/plain": [
       "<Figure size 1080x288 with 2 Axes>"
      ]
     },
     "metadata": {
      "needs_background": "light"
     },
     "output_type": "display_data"
    },
    {
     "name": "stdout",
     "output_type": "stream",
     "text": [
      "Top25perc\n",
      "Skew : 0.26\n"
     ]
    },
    {
     "data": {
      "image/png": "[encoded data removed]",
      "text/plain": [
       "<Figure size 1080x288 with 2 Axes>"
      ]
     },
     "metadata": {
      "needs_background": "light"
     },
     "output_type": "display_data"
    },
    {
     "name": "stdout",
     "output_type": "stream",
     "text": [
      "F_Undergrad\n",
      "Skew : 2.61\n"
     ]
    },
    {
     "data": {
      "image/png": "[encoded data removed]",
      "text/plain": [
       "<Figure size 1080x288 with 2 Axes>"
      ]
     },
     "metadata": {
      "needs_background": "light"
     },
     "output_type": "display_data"
    },
    {
     "name": "stdout",
     "output_type": "stream",
     "text": [
      "P_Undergrad\n",
      "Skew : 5.69\n"
     ]
    },
    {
     "data": {
      "image/png": "[encoded data removed]",
      "text/plain": [
       "<Figure size 1080x288 with 2 Axes>"
      ]
     },
     "metadata": {
      "needs_background": "light"
     },
     "output_type": "display_data"
    },
    {
     "name": "stdout",
     "output_type": "stream",
     "text": [
      "Outstate\n",
      "Skew : 0.51\n"
     ]
    },
    {
     "data": {
      "image/png": "[encoded data removed]",
      "text/plain": [
       "<Figure size 1080x288 with 2 Axes>"
      ]
     },
     "metadata": {
      "needs_background": "light"
     },
     "output_type": "display_data"
    },
    {
     "name": "stdout",
     "output_type": "stream",
     "text": [
      "Room_Board\n",
      "Skew : 0.48\n"
     ]
    },
    {
     "data": {
      "image/png": "[encoded data removed]",
      "text/plain": [
       "<Figure size 1080x288 with 2 Axes>"
      ]
     },
     "metadata": {
      "needs_background": "light"
     },
     "output_type": "display_data"
    },
    {
     "name": "stdout",
     "output_type": "stream",
     "text": [
      "Books\n",
      "Skew : 3.49\n"
     ]
    },
    {
     "data": {
      "image/png": "[encoded data removed]",
      "text/plain": [
       "<Figure size 1080x288 with 2 Axes>"
      ]
     },
     "metadata": {
      "needs_background": "light"
     },
     "output_type": "display_data"
    },
    {
     "name": "stdout",
     "output_type": "stream",
     "text": [
      "Personal\n",
      "Skew : 1.74\n"
     ]
    },
    {
     "data": {
      "image/png": "[encoded data removed]",
      "text/plain": [
       "<Figure size 1080x288 with 2 Axes>"
      ]
     },
     "metadata": {
      "needs_background": "light"
     },
     "output_type": "display_data"
    },
    {
     "name": "stdout",
     "output_type": "stream",
     "text": [
      "PhD\n",
      "Skew : -0.77\n"
     ]
    },
    {
     "data": {
      "image/png": "[encoded data removed]",
      "text/plain": [
       "<Figure size 1080x288 with 2 Axes>"
      ]
     },
     "metadata": {
      "needs_background": "light"
     },
     "output_type": "display_data"
    },
    {
     "name": "stdout",
     "output_type": "stream",
     "text": [
      "Terminal\n",
      "Skew : -0.82\n"
     ]
    },
    {
     "data": {
      "image/png": "[encoded data removed]",
      "text/plain": [
       "<Figure size 1080x288 with 2 Axes>"
      ]
     },
     "metadata": {
      "needs_background": "light"
     },
     "output_type": "display_data"
    },
    {
     "name": "stdout",
     "output_type": "stream",
     "text": [
      "S_F_Ratio\n",
      "Skew : 0.67\n"
     ]
    },
    {
     "data": {
      "image/png": "[encoded data removed]",
      "text/plain": [
       "<Figure size 1080x288 with 2 Axes>"
      ]
     },
     "metadata": {
      "needs_background": "light"
     },
     "output_type": "display_data"
    },
    {
     "name": "stdout",
     "output_type": "stream",
     "text": [
      "perc_alumni\n",
      "Skew : 0.61\n"
     ]
    },
    {
     "data": {
      "image/png": "[encoded data removed]",
      "text/plain": [
       "<Figure size 1080x288 with 2 Axes>"
      ]
     },
     "metadata": {
      "needs_background": "light"
     },
     "output_type": "display_data"
    },
    {
     "name": "stdout",
     "output_type": "stream",
     "text": [
      "Expend\n",
      "Skew : 3.46\n"
     ]
    },
    {
     "data": {
      "image/png": "[encoded data removed]",
      "text/plain": [
       "<Figure size 1080x288 with 2 Axes>"
      ]
     },
     "metadata": {
      "needs_background": "light"
     },
     "output_type": "display_data"
    },
    {
     "name": "stdout",
     "output_type": "stream",
     "text": [
      "Grad_Rate\n",
      "Skew : -0.14\n"
     ]
    },
    {
     "data": {
      "image/png": "[encoded data removed]",
      "text/plain": [
       "<Figure size 1080x288 with 2 Axes>"
      ]
     },
     "metadata": {
      "needs_background": "light"
     },
     "output_type": "display_data"
    },
    {
     "name": "stdout",
     "output_type": "stream",
     "text": [
      "Target\n",
      "Skew : 1.97\n"
     ]
    },
    {
     "data": {
      "image/png": "[encoded data removed]",
      "text/plain": [
       "<Figure size 1080x288 with 2 Axes>"
      ]
     },
     "metadata": {
      "needs_background": "light"
     },
     "output_type": "display_data"
    }
   ],
   "source": [
    "cont_cols = list(data.columns)\n",
    "for col in cont_cols:\n",
    "    print(col)\n",
    "    print('Skew :',round(data[col].skew(),2))\n",
    "    plt.figure(figsize=(15,4))\n",
    "    plt.subplot(1,2,1)\n",
    "    data[col].hist(bins=10, grid=False)\n",
    "    plt.ylabel('count')\n",
    "    plt.subplot(1,2,2)\n",
    "    sns.boxplot(x=data[col])\n",
    "    plt.show()"
   ]
  },
  {
   "cell_type": "markdown",
   "metadata": {
    "id": "E8magN8EOPVA"
   },
   "source": [
    "**Observations:**\n",
    "\n",
    "- The distribution plots show that Apps, Accept, Enroll, Top10perc, F_Undergrad, P_Undergrad, Books, Personal and Expend variables are highly right skewed. It is evident from boxplots that all these variables have outliers.\n",
    "- Top25percent is the only variable which does not possess outliers.\n",
    "- Outstate, Room_Board, S_F_Ratio and perc_alumni seems to have a moderate right skew.\n",
    "- PhD and Terminal are moderately left skewed. "
   ]
  },
  {
   "cell_type": "markdown",
   "metadata": {
    "id": "slJJmIhoOPVA"
   },
   "source": [
    "**Now, let's check the correlation among different variables.**"
   ]
  },
  {
   "cell_type": "code",
   "execution_count": 36,
   "metadata": {
    "colab": {
     "base_uri": "https://localhost:8080/",
     "height": 650
    },
    "executionInfo": {
     "elapsed": 1974,
     "status": "ok",
     "timestamp": 1679151903668,
     "user": {
      "displayName": "Abhinav Harsh",
      "userId": "08825161285052345463"
     },
     "user_tz": -330
    },
    "id": "ou0Jca8uOPVB",
    "outputId": "07d90085-bdab-49de-db48-55b5254c17d7"
   },
   "outputs": [
    {
     "data": {
      "image/png": "[encoded data removed]",
      "text/plain": [
       "<Figure size 1080x720 with 2 Axes>"
      ]
     },
     "metadata": {
      "needs_background": "light"
     },
     "output_type": "display_data"
    }
   ],
   "source": [
    "plt.figure(figsize=(15,10))\n",
    "sns.heatmap(data.corr(), annot=True, fmt='0.2f')\n",
    "plt.show()"
   ]
  },
  {
   "cell_type": "markdown",
   "metadata": {
    "id": "-Go3AHnpOPVB"
   },
   "source": [
    "**Observations:**\n",
    "\n",
    "- We can see high positive correlation among the following variables: \n",
    "    1. Apps and Accept\n",
    "    2. Apps and Enroll\n",
    "    3. Apps and F_Undergrad\n",
    "    4. Accept and Enroll\n",
    "    5. Accept and F_Undergrad\n",
    "    6. Enroll and F_Undergrad\n",
    "    7. Top10perc and Top25percent\n",
    "    8. PhD and Terminal\n",
    "- We can see high negative correlation among the following variables:\n",
    "    1. S_F_Ratio and Top10perc\n",
    "    2. S_F_Ratio and Expend"
   ]
  },
  {
   "cell_type": "markdown",
   "metadata": {
    "id": "U_tVtTW0OPVB"
   },
   "source": [
    "#### Scaling the data"
   ]
  },
  {
   "cell_type": "code",
   "execution_count": 37,
   "metadata": {
    "executionInfo": {
     "elapsed": 462,
     "status": "ok",
     "timestamp": 1679153274085,
     "user": {
      "displayName": "Abhinav Harsh",
      "userId": "08825161285052345463"
     },
     "user_tz": -330
    },
    "id": "lVEEv1EhVZJp"
   },
   "outputs": [],
   "source": [
    "\n",
    "from sklearn.model_selection import train_test_split, cross_val_score\n",
    "from sklearn.preprocessing import StandardScaler\n",
    "from sklearn.linear_model import LogisticRegression\n",
    "from sklearn.tree import DecisionTreeClassifier\n",
    "from sklearn.ensemble import RandomForestClassifier\n",
    "from sklearn.svm import SVC\n",
    "from sklearn.metrics import accuracy_score\n",
    "from sklearn.metrics import confusion_matrix\n",
    "\n"
   ]
  },
  {
   "cell_type": "code",
   "execution_count": 38,
   "metadata": {
    "colab": {
     "base_uri": "https://localhost:8080/"
    },
    "executionInfo": {
     "elapsed": 1899,
     "status": "ok",
     "timestamp": 1679153308768,
     "user": {
      "displayName": "Abhinav Harsh",
      "userId": "08825161285052345463"
     },
     "user_tz": -330
    },
    "id": "scybMcfeVCZJ",
    "outputId": "faa84c7e-7212-470c-bfdd-7ad7ee0299d9"
   },
   "outputs": [
    {
     "name": "stdout",
     "output_type": "stream",
     "text": [
      "Logistic Regression: 0.921 +/- 0.013\n",
      "Decision Tree: 0.874 +/- 0.013\n",
      "Random Forest: 0.905 +/- 0.017\n",
      "Support Vector Machine: 0.905 +/- 0.016\n",
      "Best model: Logistic Regression (0.921 CV score)\n",
      "Test accuracy: 0.891\n",
      "Test accuracy: 0.891\n",
      "Confusion matrix:\n",
      "[[128   0]\n",
      " [ 17  11]]\n"
     ]
    }
   ],
   "source": [
    "df =data\n",
    "# Separate the target variable from the features\n",
    "X = df.drop(\"Target\", axis=1)\n",
    "y = df[\"Target\"]\n",
    "\n",
    "# Preprocess the data by standardizing the features\n",
    "scaler = StandardScaler()\n",
    "X = scaler.fit_transform(X)\n",
    "\n",
    "# Split the data into training and testing sets\n",
    "X_train, X_test, y_train, y_test = train_test_split(X, y, test_size=0.2, random_state=42)\n",
    "\n",
    "\n",
    "\n",
    "# Define the machine learning models to try\n",
    "models = [\n",
    "    (\"Logistic Regression\", LogisticRegression()),\n",
    "    (\"Decision Tree\", DecisionTreeClassifier()),\n",
    "    (\"Random Forest\", RandomForestClassifier()),\n",
    "    (\"Support Vector Machine\", SVC())\n",
    "]\n",
    "\n",
    "# Fit each model and evaluate it using cross-validation\n",
    "results = []\n",
    "for name, model in models:\n",
    "    scores = cross_val_score(model, X_train, y_train, cv=5)\n",
    "    results.append((name, np.mean(scores), np.std(scores)))\n",
    "    \n",
    "# Print the cross-validation results\n",
    "for name, mean_score, std_score in results:\n",
    "    print(f\"{name}: {mean_score:.3f} +/- {std_score:.3f}\")\n",
    "\n",
    "\n",
    "\n",
    "# Select the best model based on the cross-validation score\n",
    "best_model_name, best_model_score, _ = max(results, key=lambda x: x[1])\n",
    "best_model = dict(models)[best_model_name]\n",
    "print(f\"Best model: {best_model_name} ({best_model_score:.3f} CV score)\")\n",
    "\n",
    "# Train the best model on the full training set and evaluate it on the test set\n",
    "best_model.fit(X_train, y_train)\n",
    "y_pred = best_model.predict(X_test)\n",
    "test_accuracy = accuracy_score(y_test, y_pred)\n",
    "print(f\"Test accuracy: {test_accuracy:.3f}\")\n",
    "\n",
    "\n",
    "from sklearn.metrics import confusion_matrix\n",
    "\n",
    "def print_confusion_matrix(model, X_test, y_test):\n",
    "    y_pred = model.predict(X_test)\n",
    "    cm = confusion_matrix(y_test, y_pred)\n",
    "    print(\"Confusion matrix:\")\n",
    "    print(cm)\n",
    "\n",
    "# Train the best model on the full training set and evaluate it on the test set\n",
    "best_model.fit(X_train, y_train)\n",
    "y_pred = best_model.predict(X_test)\n",
    "test_accuracy = accuracy_score(y_test, y_pred)\n",
    "print(f\"Test accuracy: {test_accuracy:.3f}\")\n",
    "\n",
    "# Print the confusion matrix for the best model on the test data\n",
    "print_confusion_matrix(best_model, X_test, y_test)\n"
   ]
  },
  {
   "cell_type": "code",
   "execution_count": 39,
   "metadata": {
    "executionInfo": {
     "elapsed": 4,
     "status": "ok",
     "timestamp": 1679152083977,
     "user": {
      "displayName": "Abhinav Harsh",
      "userId": "08825161285052345463"
     },
     "user_tz": -330
    },
    "id": "WVOlH6WGOPVC"
   },
   "outputs": [],
   "source": [
    "scaler=StandardScaler()\n",
    "data_scaled=pd.DataFrame(scaler.fit_transform(data), columns=data.columns)"
   ]
  },
  {
   "cell_type": "code",
   "execution_count": 40,
   "metadata": {
    "colab": {
     "base_uri": "https://localhost:8080/",
     "height": 270
    },
    "executionInfo": {
     "elapsed": 679,
     "status": "ok",
     "timestamp": 1679152093239,
     "user": {
      "displayName": "Abhinav Harsh",
      "userId": "08825161285052345463"
     },
     "user_tz": -330
    },
    "id": "r5MdMPueOPVC",
    "outputId": "1177cd98-f32a-4c44-aaa3-2619cc70e38a"
   },
   "outputs": [
    {
     "data": {
      "text/html": [
       "<div>\n",
       "<style scoped>\n",
       "    .dataframe tbody tr th:only-of-type {\n",
       "        vertical-align: middle;\n",
       "    }\n",
       "\n",
       "    .dataframe tbody tr th {\n",
       "        vertical-align: top;\n",
       "    }\n",
       "\n",
       "    .dataframe thead th {\n",
       "        text-align: right;\n",
       "    }\n",
       "</style>\n",
       "<table border=\"1\" class=\"dataframe\">\n",
       "  <thead>\n",
       "    <tr style=\"text-align: right;\">\n",
       "      <th></th>\n",
       "      <th>Apps</th>\n",
       "      <th>Accept</th>\n",
       "      <th>Enroll</th>\n",
       "      <th>Top10perc</th>\n",
       "      <th>Top25perc</th>\n",
       "      <th>F_Undergrad</th>\n",
       "      <th>P_Undergrad</th>\n",
       "      <th>Outstate</th>\n",
       "      <th>Room_Board</th>\n",
       "      <th>Books</th>\n",
       "      <th>Personal</th>\n",
       "      <th>PhD</th>\n",
       "      <th>Terminal</th>\n",
       "      <th>S_F_Ratio</th>\n",
       "      <th>perc_alumni</th>\n",
       "      <th>Expend</th>\n",
       "      <th>Grad_Rate</th>\n",
       "      <th>Target</th>\n",
       "    </tr>\n",
       "  </thead>\n",
       "  <tbody>\n",
       "    <tr>\n",
       "      <th>0</th>\n",
       "      <td>-0.346882</td>\n",
       "      <td>-0.321205</td>\n",
       "      <td>-0.063509</td>\n",
       "      <td>-0.258583</td>\n",
       "      <td>-0.191827</td>\n",
       "      <td>-0.168116</td>\n",
       "      <td>-0.209207</td>\n",
       "      <td>-0.746356</td>\n",
       "      <td>-0.964905</td>\n",
       "      <td>-0.602312</td>\n",
       "      <td>1.270045</td>\n",
       "      <td>-0.162859</td>\n",
       "      <td>-0.115729</td>\n",
       "      <td>1.013776</td>\n",
       "      <td>-0.867574</td>\n",
       "      <td>-0.501910</td>\n",
       "      <td>-0.317993</td>\n",
       "      <td>-0.418917</td>\n",
       "    </tr>\n",
       "    <tr>\n",
       "      <th>1</th>\n",
       "      <td>-0.210884</td>\n",
       "      <td>-0.038703</td>\n",
       "      <td>-0.288584</td>\n",
       "      <td>-0.655656</td>\n",
       "      <td>-1.353911</td>\n",
       "      <td>-0.209788</td>\n",
       "      <td>0.244307</td>\n",
       "      <td>0.457496</td>\n",
       "      <td>1.909208</td>\n",
       "      <td>1.215880</td>\n",
       "      <td>0.235515</td>\n",
       "      <td>-2.676529</td>\n",
       "      <td>-3.378176</td>\n",
       "      <td>-0.477704</td>\n",
       "      <td>-0.544572</td>\n",
       "      <td>0.166110</td>\n",
       "      <td>-0.551805</td>\n",
       "      <td>-0.418917</td>\n",
       "    </tr>\n",
       "    <tr>\n",
       "      <th>2</th>\n",
       "      <td>-0.406866</td>\n",
       "      <td>-0.376318</td>\n",
       "      <td>-0.478121</td>\n",
       "      <td>-0.315307</td>\n",
       "      <td>-0.292878</td>\n",
       "      <td>-0.549565</td>\n",
       "      <td>-0.497090</td>\n",
       "      <td>0.201305</td>\n",
       "      <td>-0.554317</td>\n",
       "      <td>-0.905344</td>\n",
       "      <td>-0.259582</td>\n",
       "      <td>-1.205112</td>\n",
       "      <td>-0.931341</td>\n",
       "      <td>-0.300749</td>\n",
       "      <td>0.585935</td>\n",
       "      <td>-0.177290</td>\n",
       "      <td>-0.668710</td>\n",
       "      <td>-0.418917</td>\n",
       "    </tr>\n",
       "    <tr>\n",
       "      <th>3</th>\n",
       "      <td>-0.668261</td>\n",
       "      <td>-0.681682</td>\n",
       "      <td>-0.692427</td>\n",
       "      <td>1.840231</td>\n",
       "      <td>1.677612</td>\n",
       "      <td>-0.658079</td>\n",
       "      <td>-0.520752</td>\n",
       "      <td>0.626633</td>\n",
       "      <td>0.996791</td>\n",
       "      <td>-0.602312</td>\n",
       "      <td>-0.688173</td>\n",
       "      <td>1.185939</td>\n",
       "      <td>1.175657</td>\n",
       "      <td>-1.615274</td>\n",
       "      <td>1.151188</td>\n",
       "      <td>1.792851</td>\n",
       "      <td>-0.376446</td>\n",
       "      <td>-0.418917</td>\n",
       "    </tr>\n",
       "    <tr>\n",
       "      <th>4</th>\n",
       "      <td>-0.726176</td>\n",
       "      <td>-0.764555</td>\n",
       "      <td>-0.780735</td>\n",
       "      <td>-0.655656</td>\n",
       "      <td>-0.596031</td>\n",
       "      <td>-0.711924</td>\n",
       "      <td>0.009005</td>\n",
       "      <td>-0.716508</td>\n",
       "      <td>-0.216723</td>\n",
       "      <td>1.518912</td>\n",
       "      <td>0.235515</td>\n",
       "      <td>0.204995</td>\n",
       "      <td>-0.523535</td>\n",
       "      <td>-0.553542</td>\n",
       "      <td>-1.675079</td>\n",
       "      <td>0.241803</td>\n",
       "      <td>-2.948375</td>\n",
       "      <td>-0.418917</td>\n",
       "    </tr>\n",
       "  </tbody>\n",
       "</table>\n",
       "</div>"
      ],
      "text/plain": [
       "       Apps    Accept    Enroll  Top10perc  Top25perc  F_Undergrad  \\\n",
       "0 -0.346882 -0.321205 -0.063509  -0.258583  -0.191827    -0.168116   \n",
       "1 -0.210884 -0.038703 -0.288584  -0.655656  -1.353911    -0.209788   \n",
       "2 -0.406866 -0.376318 -0.478121  -0.315307  -0.292878    -0.549565   \n",
       "3 -0.668261 -0.681682 -0.692427   1.840231   1.677612    -0.658079   \n",
       "4 -0.726176 -0.764555 -0.780735  -0.655656  -0.596031    -0.711924   \n",
       "\n",
       "   P_Undergrad  Outstate  Room_Board     Books  Personal       PhD  Terminal  \\\n",
       "0    -0.209207 -0.746356   -0.964905 -0.602312  1.270045 -0.162859 -0.115729   \n",
       "1     0.244307  0.457496    1.909208  1.215880  0.235515 -2.676529 -3.378176   \n",
       "2    -0.497090  0.201305   -0.554317 -0.905344 -0.259582 -1.205112 -0.931341   \n",
       "3    -0.520752  0.626633    0.996791 -0.602312 -0.688173  1.185939  1.175657   \n",
       "4     0.009005 -0.716508   -0.216723  1.518912  0.235515  0.204995 -0.523535   \n",
       "\n",
       "   S_F_Ratio  perc_alumni    Expend  Grad_Rate    Target  \n",
       "0   1.013776    -0.867574 -0.501910  -0.317993 -0.418917  \n",
       "1  -0.477704    -0.544572  0.166110  -0.551805 -0.418917  \n",
       "2  -0.300749     0.585935 -0.177290  -0.668710 -0.418917  \n",
       "3  -1.615274     1.151188  1.792851  -0.376446 -0.418917  \n",
       "4  -0.553542    -1.675079  0.241803  -2.948375 -0.418917  "
      ]
     },
     "execution_count": 40,
     "metadata": {},
     "output_type": "execute_result"
    }
   ],
   "source": [
    "data_scaled.head()"
   ]
  },
  {
   "cell_type": "markdown",
   "metadata": {
    "id": "-2z3eoCpOPVC"
   },
   "source": [
    "## Principal Component Analysis"
   ]
  },
  {
   "cell_type": "code",
   "execution_count": 41,
   "metadata": {
    "colab": {
     "base_uri": "https://localhost:8080/"
    },
    "executionInfo": {
     "elapsed": 444,
     "status": "ok",
     "timestamp": 1679152209999,
     "user": {
      "displayName": "Abhinav Harsh",
      "userId": "08825161285052345463"
     },
     "user_tz": -330
    },
    "id": "-qH2Ed_9RRml",
    "outputId": "9b29ddfd-9262-4d5b-d9c0-8ad1eb8ec188"
   },
   "outputs": [
    {
     "data": {
      "text/plain": [
       "18"
      ]
     },
     "execution_count": 41,
     "metadata": {},
     "output_type": "execute_result"
    }
   ],
   "source": [
    "data_scaled.shape[1]"
   ]
  },
  {
   "cell_type": "code",
   "execution_count": 42,
   "metadata": {
    "executionInfo": {
     "elapsed": 436,
     "status": "ok",
     "timestamp": 1679152242583,
     "user": {
      "displayName": "Abhinav Harsh",
      "userId": "08825161285052345463"
     },
     "user_tz": -330
    },
    "id": "JfdQ1cyeOPVC"
   },
   "outputs": [],
   "source": [
    "#Defining the number of principal components to generate \n",
    "n=data_scaled.shape[1]\n",
    "\n",
    "#Finding principal components for the data\n",
    "pca = PCA(n_components=n, random_state=1)\n",
    "data_pca1 = pd.DataFrame(pca.fit_transform(data_scaled))\n",
    "\n",
    "#The percentage of variance explained by each principal component\n",
    "exp_var = pca.explained_variance_ratio_"
   ]
  },
  {
   "cell_type": "code",
   "execution_count": 43,
   "metadata": {
    "colab": {
     "base_uri": "https://localhost:8080/"
    },
    "executionInfo": {
     "elapsed": 422,
     "status": "ok",
     "timestamp": 1679152615575,
     "user": {
      "displayName": "Abhinav Harsh",
      "userId": "08825161285052345463"
     },
     "user_tz": -330
    },
    "id": "Lh2j1t_KUy4b",
    "outputId": "625407f2-a7bf-4379-8554-493e4a60eaec"
   },
   "outputs": [
    {
     "data": {
      "text/plain": [
       "array([0.31252791, 0.56136211, 0.62747612, 0.68491383, 0.74069488,\n",
       "       0.78918686, 0.83258165, 0.86587093, 0.89816052, 0.92502593,\n",
       "       0.94739352, 0.96430217, 0.97603129, 0.98435604, 0.99227255,\n",
       "       0.9969877 , 0.99885096, 1.        ])"
      ]
     },
     "execution_count": 43,
     "metadata": {},
     "output_type": "execute_result"
    }
   ],
   "source": [
    "pca.explained_variance_ratio_.cumsum()"
   ]
  },
  {
   "cell_type": "code",
   "execution_count": 44,
   "metadata": {
    "colab": {
     "base_uri": "https://localhost:8080/"
    },
    "executionInfo": {
     "elapsed": 4,
     "status": "ok",
     "timestamp": 1679152641694,
     "user": {
      "displayName": "Abhinav Harsh",
      "userId": "08825161285052345463"
     },
     "user_tz": -330
    },
    "id": "XfGsx3x5OPVD",
    "outputId": "5e5b6da4-1ab6-4744-da50-65070203f22b"
   },
   "outputs": [
    {
     "name": "stdout",
     "output_type": "stream",
     "text": [
      "Number of PCs that explain at least 70% variance:  10\n"
     ]
    }
   ],
   "source": [
    "# find the least number of components that can explain more than 70% variance\n",
    "sum = 0\n",
    "for ix, i in enumerate(exp_var):\n",
    "  sum = sum + i\n",
    "  if(sum>0.90):\n",
    "    print(\"Number of PCs that explain at least 70% variance: \", ix+1)\n",
    "    break"
   ]
  },
  {
   "cell_type": "markdown",
   "metadata": {
    "id": "3TzgjIioOPVD"
   },
   "source": [
    "**Observations**:\n",
    "\n",
    "-  We can see that out of the 17 original features, we reduced the number of features through principal components to 4, these components explain approximately 70% of the original variance.\n",
    "\n",
    "- So that is about 76% reduction in the dimensionality with a loss of 30% in variance.\n",
    "\n",
    "- Let us now look at these principal components as a linear combination of original features."
   ]
  },
  {
   "cell_type": "code",
   "execution_count": 45,
   "metadata": {
    "colab": {
     "base_uri": "https://localhost:8080/"
    },
    "executionInfo": {
     "elapsed": 415,
     "status": "ok",
     "timestamp": 1679152695519,
     "user": {
      "displayName": "Abhinav Harsh",
      "userId": "08825161285052345463"
     },
     "user_tz": -330
    },
    "id": "U-hs54wqTLyn",
    "outputId": "a1ecc934-de34-4b07-ac29-8319c091e9d0"
   },
   "outputs": [
    {
     "data": {
      "text/plain": [
       "array([[ 0.24369209,  0.19716705,  0.16622533,  0.35314221,  0.34090663,\n",
       "         0.14530845,  0.0227864 ,  0.2881504 ,  0.24493525,  0.06651184,\n",
       "        -0.04389337,  0.31051087,  0.3088079 , -0.17296397,  0.20196344,\n",
       "         0.31592642,  0.25052564,  0.19265482],\n",
       "       [ 0.33469324,  0.37514107,  0.40626457, -0.07799617, -0.04036728,\n",
       "         0.41986074,  0.31536329, -0.24524116, -0.13425572,  0.05692347,\n",
       "         0.2192323 ,  0.06265318,  0.05081711,  0.24388753, -0.24359225,\n",
       "        -0.12742603, -0.16597335, -0.01292965],\n",
       "       [-0.04872376, -0.1252159 , -0.10007093,  0.0849955 ,  0.0230591 ,\n",
       "        -0.07611343,  0.10401905, -0.01778314,  0.08428517,  0.68640843,\n",
       "         0.4723723 , -0.15804614, -0.10796485, -0.21396965, -0.15646353,\n",
       "         0.19631751, -0.19677607,  0.2483768 ],\n",
       "       [ 0.04350505, -0.07536485, -0.0196554 ,  0.29419453,  0.3149311 ,\n",
       "        -0.01922081, -0.24050741, -0.26641552, -0.39238005,  0.01935157,\n",
       "        -0.09388977, -0.09178465, -0.15220622,  0.32250235,  0.06684325,\n",
       "        -0.15969571,  0.11453223,  0.5790332 ],\n",
       "       [ 0.28318294,  0.2677828 ,  0.16246709, -0.04655161, -0.10506086,\n",
       "         0.10077435, -0.16317906,  0.12838486,  0.17878635,  0.08113965,\n",
       "        -0.23648154, -0.53570359, -0.52245688, -0.15863936,  0.01928139,\n",
       "         0.07880864,  0.2626882 ,  0.00827602],\n",
       "       [ 0.02076662,  0.00815238, -0.09863334, -0.22321237, -0.19288254,\n",
       "        -0.08531931,  0.04171567,  0.04752064,  0.43655428,  0.36404687,\n",
       "        -0.44344081,  0.12308909,  0.19496486,  0.39348384, -0.22364195,\n",
       "        -0.17827116,  0.0778853 ,  0.27543565],\n",
       "       [-0.07803341,  0.05469053,  0.08818144,  0.02397809,  0.13246451,\n",
       "         0.06249109, -0.30648779,  0.00496461, -0.16622412,  0.54046025,\n",
       "         0.04745356,  0.04776726,  0.08820824,  0.18851362,  0.26333272,\n",
       "        -0.25723228,  0.26480424, -0.54216621],\n",
       "       [ 0.00252356, -0.02272624, -0.07590104, -0.06771333, -0.04225289,\n",
       "        -0.0693723 , -0.0478352 ,  0.08647619,  0.32057167, -0.25849777,\n",
       "         0.64591861, -0.00518086, -0.06641415,  0.2745838 , -0.05596156,\n",
       "        -0.17754209,  0.51414673,  0.08446944],\n",
       "       [-0.10647759, -0.1093113 , -0.00445755, -0.08342858, -0.0571097 ,\n",
       "         0.03458592,  0.70400302,  0.02499199, -0.0581255 ,  0.08164234,\n",
       "        -0.05616258, -0.12193454, -0.0917385 ,  0.0668856 ,  0.61692491,\n",
       "        -0.10229285,  0.15819638,  0.10949245],\n",
       "       [ 0.14886036,  0.11844804,  0.0586513 , -0.38087955, -0.50968342,\n",
       "         0.00528398, -0.35681163, -0.04080668, -0.23293898,  0.04844383,\n",
       "         0.14289369,  0.14801437,  0.20802765, -0.16182204,  0.37351407,\n",
       "         0.11187102,  0.02630545,  0.32465463],\n",
       "       [ 0.03860786,  0.03972377,  0.03733435,  0.07967814,  0.04253989,\n",
       "         0.02512023, -0.21713764,  0.19253073,  0.30676922, -0.08122456,\n",
       "         0.1308183 , -0.126969  , -0.09032953,  0.47032885,  0.40791686,\n",
       "         0.11951145, -0.59799713, -0.03072115],\n",
       "       [-0.02886071, -0.05251065, -0.0363037 ,  0.02348286, -0.19963183,\n",
       "        -0.04818602,  0.10870493,  0.24647932, -0.36814838,  0.04430998,\n",
       "        -0.02913112,  0.02568366, -0.07907111,  0.46121367, -0.18222547,\n",
       "         0.65903084,  0.20065113, -0.11846055],\n",
       "       [-0.14198829, -0.19006671,  0.11122787,  0.05276952, -0.06181309,\n",
       "         0.16677662, -0.07664558, -0.74784965,  0.34248636, -0.01618974,\n",
       "        -0.05662421,  0.00803211, -0.0017537 ,  0.04034266,  0.12562536,\n",
       "         0.40030374,  0.14876072, -0.10561137],\n",
       "       [ 0.46256776,  0.28879869, -0.38146889,  0.0271671 ,  0.0405867 ,\n",
       "        -0.47030293,  0.11089357, -0.27232057,  0.01194349,  0.04317674,\n",
       "         0.00949187,  0.34698196, -0.28934732,  0.01975886,  0.1103374 ,\n",
       "         0.03794497, -0.03699394, -0.15966643],\n",
       "       [ 0.22399802,  0.13664493, -0.2136086 , -0.11065433,  0.18642815,\n",
       "        -0.21354173,  0.0573401 , -0.13966626, -0.05213096, -0.05444143,\n",
       "         0.03040103, -0.61181087,  0.60642883,  0.05607568,  0.0065068 ,\n",
       "         0.10805605,  0.03350173, -0.07396258],\n",
       "       [ 0.14293555, -0.06890577, -0.00899326,  0.72345607, -0.60349103,\n",
       "        -0.06013867,  0.03768598, -0.01671779,  0.01112604, -0.00399135,\n",
       "        -0.00412331, -0.11280122,  0.16137541, -0.00418613, -0.00087891,\n",
       "        -0.19371292,  0.00203875, -0.07323966],\n",
       "       [ 0.41153547, -0.39068309, -0.5422355 , -0.06485889,  0.01432202,\n",
       "         0.60575016, -0.04409089,  0.06265653, -0.0203291 ,  0.00736033,\n",
       "        -0.01489561,  0.02216862, -0.01981014, -0.00992945,  0.00949145,\n",
       "        -0.02650611,  0.00110655, -0.06561514],\n",
       "       [ 0.47717015, -0.63075861,  0.49342277, -0.1264501 ,  0.0743967 ,\n",
       "        -0.31774347,  0.00693289,  0.04504976,  0.0010959 ,  0.00627211,\n",
       "        -0.00627234,  0.01644943,  0.00704862,  0.00400715, -0.01614829,\n",
       "        -0.03254077, -0.01031344, -0.06768296]])"
      ]
     },
     "execution_count": 45,
     "metadata": {},
     "output_type": "execute_result"
    }
   ],
   "source": [
    "pca.components_"
   ]
  },
  {
   "cell_type": "code",
   "execution_count": 46,
   "metadata": {
    "colab": {
     "base_uri": "https://localhost:8080/",
     "height": 582
    },
    "executionInfo": {
     "elapsed": 8,
     "status": "ok",
     "timestamp": 1679152805039,
     "user": {
      "displayName": "Abhinav Harsh",
      "userId": "08825161285052345463"
     },
     "user_tz": -330
    },
    "id": "x7uhhVsVOPVD",
    "outputId": "9d9099e6-025b-4ad7-a270-ecc00cdc94da"
   },
   "outputs": [
    {
     "data": {
      "text/html": [
       "<div>\n",
       "<style scoped>\n",
       "    .dataframe tbody tr th:only-of-type {\n",
       "        vertical-align: middle;\n",
       "    }\n",
       "\n",
       "    .dataframe tbody tr th {\n",
       "        vertical-align: top;\n",
       "    }\n",
       "\n",
       "    .dataframe thead th {\n",
       "        text-align: right;\n",
       "    }\n",
       "</style>\n",
       "<table border=\"1\" class=\"dataframe\">\n",
       "  <thead>\n",
       "    <tr style=\"text-align: right;\">\n",
       "      <th></th>\n",
       "      <th>PC1</th>\n",
       "      <th>PC2</th>\n",
       "      <th>PC3</th>\n",
       "      <th>PC4</th>\n",
       "      <th>PC5</th>\n",
       "    </tr>\n",
       "  </thead>\n",
       "  <tbody>\n",
       "    <tr>\n",
       "      <th>Apps</th>\n",
       "      <td>0.24</td>\n",
       "      <td>0.33</td>\n",
       "      <td>-0.05</td>\n",
       "      <td>0.04</td>\n",
       "      <td>0.28</td>\n",
       "    </tr>\n",
       "    <tr>\n",
       "      <th>Accept</th>\n",
       "      <td>0.20</td>\n",
       "      <td>0.38</td>\n",
       "      <td>-0.13</td>\n",
       "      <td>-0.08</td>\n",
       "      <td>0.27</td>\n",
       "    </tr>\n",
       "    <tr>\n",
       "      <th>Enroll</th>\n",
       "      <td>0.17</td>\n",
       "      <td>0.41</td>\n",
       "      <td>-0.10</td>\n",
       "      <td>-0.02</td>\n",
       "      <td>0.16</td>\n",
       "    </tr>\n",
       "    <tr>\n",
       "      <th>Top10perc</th>\n",
       "      <td>0.35</td>\n",
       "      <td>-0.08</td>\n",
       "      <td>0.08</td>\n",
       "      <td>0.29</td>\n",
       "      <td>-0.05</td>\n",
       "    </tr>\n",
       "    <tr>\n",
       "      <th>Top25perc</th>\n",
       "      <td>0.34</td>\n",
       "      <td>-0.04</td>\n",
       "      <td>0.02</td>\n",
       "      <td>0.31</td>\n",
       "      <td>-0.11</td>\n",
       "    </tr>\n",
       "    <tr>\n",
       "      <th>F_Undergrad</th>\n",
       "      <td>0.15</td>\n",
       "      <td>0.42</td>\n",
       "      <td>-0.08</td>\n",
       "      <td>-0.02</td>\n",
       "      <td>0.10</td>\n",
       "    </tr>\n",
       "    <tr>\n",
       "      <th>P_Undergrad</th>\n",
       "      <td>0.02</td>\n",
       "      <td>0.32</td>\n",
       "      <td>0.10</td>\n",
       "      <td>-0.24</td>\n",
       "      <td>-0.16</td>\n",
       "    </tr>\n",
       "    <tr>\n",
       "      <th>Outstate</th>\n",
       "      <td>0.29</td>\n",
       "      <td>-0.25</td>\n",
       "      <td>-0.02</td>\n",
       "      <td>-0.27</td>\n",
       "      <td>0.13</td>\n",
       "    </tr>\n",
       "    <tr>\n",
       "      <th>Room_Board</th>\n",
       "      <td>0.24</td>\n",
       "      <td>-0.13</td>\n",
       "      <td>0.08</td>\n",
       "      <td>-0.39</td>\n",
       "      <td>0.18</td>\n",
       "    </tr>\n",
       "    <tr>\n",
       "      <th>Books</th>\n",
       "      <td>0.07</td>\n",
       "      <td>0.06</td>\n",
       "      <td>0.69</td>\n",
       "      <td>0.02</td>\n",
       "      <td>0.08</td>\n",
       "    </tr>\n",
       "    <tr>\n",
       "      <th>Personal</th>\n",
       "      <td>-0.04</td>\n",
       "      <td>0.22</td>\n",
       "      <td>0.47</td>\n",
       "      <td>-0.09</td>\n",
       "      <td>-0.24</td>\n",
       "    </tr>\n",
       "    <tr>\n",
       "      <th>PhD</th>\n",
       "      <td>0.31</td>\n",
       "      <td>0.06</td>\n",
       "      <td>-0.16</td>\n",
       "      <td>-0.09</td>\n",
       "      <td>-0.54</td>\n",
       "    </tr>\n",
       "    <tr>\n",
       "      <th>Terminal</th>\n",
       "      <td>0.31</td>\n",
       "      <td>0.05</td>\n",
       "      <td>-0.11</td>\n",
       "      <td>-0.15</td>\n",
       "      <td>-0.52</td>\n",
       "    </tr>\n",
       "    <tr>\n",
       "      <th>S_F_Ratio</th>\n",
       "      <td>-0.17</td>\n",
       "      <td>0.24</td>\n",
       "      <td>-0.21</td>\n",
       "      <td>0.32</td>\n",
       "      <td>-0.16</td>\n",
       "    </tr>\n",
       "    <tr>\n",
       "      <th>perc_alumni</th>\n",
       "      <td>0.20</td>\n",
       "      <td>-0.24</td>\n",
       "      <td>-0.16</td>\n",
       "      <td>0.07</td>\n",
       "      <td>0.02</td>\n",
       "    </tr>\n",
       "    <tr>\n",
       "      <th>Expend</th>\n",
       "      <td>0.32</td>\n",
       "      <td>-0.13</td>\n",
       "      <td>0.20</td>\n",
       "      <td>-0.16</td>\n",
       "      <td>0.08</td>\n",
       "    </tr>\n",
       "    <tr>\n",
       "      <th>Grad_Rate</th>\n",
       "      <td>0.25</td>\n",
       "      <td>-0.17</td>\n",
       "      <td>-0.20</td>\n",
       "      <td>0.11</td>\n",
       "      <td>0.26</td>\n",
       "    </tr>\n",
       "    <tr>\n",
       "      <th>Target</th>\n",
       "      <td>0.19</td>\n",
       "      <td>-0.01</td>\n",
       "      <td>0.25</td>\n",
       "      <td>0.58</td>\n",
       "      <td>0.01</td>\n",
       "    </tr>\n",
       "  </tbody>\n",
       "</table>\n",
       "</div>"
      ],
      "text/plain": [
       "              PC1   PC2   PC3   PC4   PC5\n",
       "Apps         0.24  0.33 -0.05  0.04  0.28\n",
       "Accept       0.20  0.38 -0.13 -0.08  0.27\n",
       "Enroll       0.17  0.41 -0.10 -0.02  0.16\n",
       "Top10perc    0.35 -0.08  0.08  0.29 -0.05\n",
       "Top25perc    0.34 -0.04  0.02  0.31 -0.11\n",
       "F_Undergrad  0.15  0.42 -0.08 -0.02  0.10\n",
       "P_Undergrad  0.02  0.32  0.10 -0.24 -0.16\n",
       "Outstate     0.29 -0.25 -0.02 -0.27  0.13\n",
       "Room_Board   0.24 -0.13  0.08 -0.39  0.18\n",
       "Books        0.07  0.06  0.69  0.02  0.08\n",
       "Personal    -0.04  0.22  0.47 -0.09 -0.24\n",
       "PhD          0.31  0.06 -0.16 -0.09 -0.54\n",
       "Terminal     0.31  0.05 -0.11 -0.15 -0.52\n",
       "S_F_Ratio   -0.17  0.24 -0.21  0.32 -0.16\n",
       "perc_alumni  0.20 -0.24 -0.16  0.07  0.02\n",
       "Expend       0.32 -0.13  0.20 -0.16  0.08\n",
       "Grad_Rate    0.25 -0.17 -0.20  0.11  0.26\n",
       "Target       0.19 -0.01  0.25  0.58  0.01"
      ]
     },
     "execution_count": 46,
     "metadata": {},
     "output_type": "execute_result"
    }
   ],
   "source": [
    "pc_comps = ['PC1','PC2','PC3','PC4','PC5']\n",
    "data_pca = pd.DataFrame(np.round(pca.components_[:5,:],2),index=pc_comps,columns=data_scaled.columns)\n",
    "data_pca.T"
   ]
  },
  {
   "cell_type": "markdown",
   "metadata": {
    "id": "GJh7WkALOPVD"
   },
   "source": [
    "**Observations:**\n",
    "\n",
    "- Each principal component is a linear combination of original features. For example, we can write the equation for PC1 in the following manner:\n",
    "\n",
    "0.25 * Apps + 0.21 * Accept + 0.18 * Enroll + 0.35 * Top10perc + 0.34 * Top25perc + 0.15 * F_Undergrad + 0.03 * P_Undergrad + 0.29 * Outstate + 0.25 * Room_Board + 0.06 * Books + -0.04 * Personal + 0.32 * PhD + 0.32 * Terminal + -0.18 * S_F_Ratio + 0.21 * perc_alumni + 0.32 * Expend + 0.25 * Grad_Rate\n",
    "\n",
    "- For the business implications, the first two principal components picks up around 58% of the variability in the data. That is to say, picking up a considerable amount of variation in the data.\n",
    "\n",
    "- The explanation of each component along with their weights is also one of the ways to look at it. For example, we can consider weights with absolute value greater than 0.25 significant and analyze the each component.\n",
    "\n",
    "**NOTE: Decision regarding what value of weights is high or significant may vary from case to case. It depends on the problem at hand.**"
   ]
  },
  {
   "cell_type": "code",
   "execution_count": 47,
   "metadata": {
    "colab": {
     "base_uri": "https://localhost:8080/",
     "height": 582
    },
    "executionInfo": {
     "elapsed": 473,
     "status": "ok",
     "timestamp": 1679152824968,
     "user": {
      "displayName": "Abhinav Harsh",
      "userId": "08825161285052345463"
     },
     "user_tz": -330
    },
    "id": "LdcOnzcCOPVE",
    "outputId": "4b6617f8-3086-49f3-8eb0-9a66c80b91fd"
   },
   "outputs": [
    {
     "data": {
      "text/html": [
       "<style type=\"text/css\">\n",
       "#T_ff66b_row0_col1, #T_ff66b_row0_col4, #T_ff66b_row1_col1, #T_ff66b_row1_col4, #T_ff66b_row2_col1, #T_ff66b_row3_col0, #T_ff66b_row3_col3, #T_ff66b_row4_col0, #T_ff66b_row4_col3, #T_ff66b_row5_col1, #T_ff66b_row6_col1, #T_ff66b_row7_col0, #T_ff66b_row9_col2, #T_ff66b_row10_col2, #T_ff66b_row11_col0, #T_ff66b_row12_col0, #T_ff66b_row13_col3, #T_ff66b_row15_col0, #T_ff66b_row16_col4, #T_ff66b_row17_col3 {\n",
       "  background: skyblue;\n",
       "}\n",
       "#T_ff66b_row7_col3, #T_ff66b_row8_col3, #T_ff66b_row11_col4, #T_ff66b_row12_col4 {\n",
       "  background: pink;\n",
       "}\n",
       "</style>\n",
       "<table id=\"T_ff66b\">\n",
       "  <thead>\n",
       "    <tr>\n",
       "      <th class=\"blank level0\" >&nbsp;</th>\n",
       "      <th id=\"T_ff66b_level0_col0\" class=\"col_heading level0 col0\" >PC1</th>\n",
       "      <th id=\"T_ff66b_level0_col1\" class=\"col_heading level0 col1\" >PC2</th>\n",
       "      <th id=\"T_ff66b_level0_col2\" class=\"col_heading level0 col2\" >PC3</th>\n",
       "      <th id=\"T_ff66b_level0_col3\" class=\"col_heading level0 col3\" >PC4</th>\n",
       "      <th id=\"T_ff66b_level0_col4\" class=\"col_heading level0 col4\" >PC5</th>\n",
       "    </tr>\n",
       "  </thead>\n",
       "  <tbody>\n",
       "    <tr>\n",
       "      <th id=\"T_ff66b_level0_row0\" class=\"row_heading level0 row0\" >Apps</th>\n",
       "      <td id=\"T_ff66b_row0_col0\" class=\"data row0 col0\" >0.240000</td>\n",
       "      <td id=\"T_ff66b_row0_col1\" class=\"data row0 col1\" >0.330000</td>\n",
       "      <td id=\"T_ff66b_row0_col2\" class=\"data row0 col2\" >-0.050000</td>\n",
       "      <td id=\"T_ff66b_row0_col3\" class=\"data row0 col3\" >0.040000</td>\n",
       "      <td id=\"T_ff66b_row0_col4\" class=\"data row0 col4\" >0.280000</td>\n",
       "    </tr>\n",
       "    <tr>\n",
       "      <th id=\"T_ff66b_level0_row1\" class=\"row_heading level0 row1\" >Accept</th>\n",
       "      <td id=\"T_ff66b_row1_col0\" class=\"data row1 col0\" >0.200000</td>\n",
       "      <td id=\"T_ff66b_row1_col1\" class=\"data row1 col1\" >0.380000</td>\n",
       "      <td id=\"T_ff66b_row1_col2\" class=\"data row1 col2\" >-0.130000</td>\n",
       "      <td id=\"T_ff66b_row1_col3\" class=\"data row1 col3\" >-0.080000</td>\n",
       "      <td id=\"T_ff66b_row1_col4\" class=\"data row1 col4\" >0.270000</td>\n",
       "    </tr>\n",
       "    <tr>\n",
       "      <th id=\"T_ff66b_level0_row2\" class=\"row_heading level0 row2\" >Enroll</th>\n",
       "      <td id=\"T_ff66b_row2_col0\" class=\"data row2 col0\" >0.170000</td>\n",
       "      <td id=\"T_ff66b_row2_col1\" class=\"data row2 col1\" >0.410000</td>\n",
       "      <td id=\"T_ff66b_row2_col2\" class=\"data row2 col2\" >-0.100000</td>\n",
       "      <td id=\"T_ff66b_row2_col3\" class=\"data row2 col3\" >-0.020000</td>\n",
       "      <td id=\"T_ff66b_row2_col4\" class=\"data row2 col4\" >0.160000</td>\n",
       "    </tr>\n",
       "    <tr>\n",
       "      <th id=\"T_ff66b_level0_row3\" class=\"row_heading level0 row3\" >Top10perc</th>\n",
       "      <td id=\"T_ff66b_row3_col0\" class=\"data row3 col0\" >0.350000</td>\n",
       "      <td id=\"T_ff66b_row3_col1\" class=\"data row3 col1\" >-0.080000</td>\n",
       "      <td id=\"T_ff66b_row3_col2\" class=\"data row3 col2\" >0.080000</td>\n",
       "      <td id=\"T_ff66b_row3_col3\" class=\"data row3 col3\" >0.290000</td>\n",
       "      <td id=\"T_ff66b_row3_col4\" class=\"data row3 col4\" >-0.050000</td>\n",
       "    </tr>\n",
       "    <tr>\n",
       "      <th id=\"T_ff66b_level0_row4\" class=\"row_heading level0 row4\" >Top25perc</th>\n",
       "      <td id=\"T_ff66b_row4_col0\" class=\"data row4 col0\" >0.340000</td>\n",
       "      <td id=\"T_ff66b_row4_col1\" class=\"data row4 col1\" >-0.040000</td>\n",
       "      <td id=\"T_ff66b_row4_col2\" class=\"data row4 col2\" >0.020000</td>\n",
       "      <td id=\"T_ff66b_row4_col3\" class=\"data row4 col3\" >0.310000</td>\n",
       "      <td id=\"T_ff66b_row4_col4\" class=\"data row4 col4\" >-0.110000</td>\n",
       "    </tr>\n",
       "    <tr>\n",
       "      <th id=\"T_ff66b_level0_row5\" class=\"row_heading level0 row5\" >F_Undergrad</th>\n",
       "      <td id=\"T_ff66b_row5_col0\" class=\"data row5 col0\" >0.150000</td>\n",
       "      <td id=\"T_ff66b_row5_col1\" class=\"data row5 col1\" >0.420000</td>\n",
       "      <td id=\"T_ff66b_row5_col2\" class=\"data row5 col2\" >-0.080000</td>\n",
       "      <td id=\"T_ff66b_row5_col3\" class=\"data row5 col3\" >-0.020000</td>\n",
       "      <td id=\"T_ff66b_row5_col4\" class=\"data row5 col4\" >0.100000</td>\n",
       "    </tr>\n",
       "    <tr>\n",
       "      <th id=\"T_ff66b_level0_row6\" class=\"row_heading level0 row6\" >P_Undergrad</th>\n",
       "      <td id=\"T_ff66b_row6_col0\" class=\"data row6 col0\" >0.020000</td>\n",
       "      <td id=\"T_ff66b_row6_col1\" class=\"data row6 col1\" >0.320000</td>\n",
       "      <td id=\"T_ff66b_row6_col2\" class=\"data row6 col2\" >0.100000</td>\n",
       "      <td id=\"T_ff66b_row6_col3\" class=\"data row6 col3\" >-0.240000</td>\n",
       "      <td id=\"T_ff66b_row6_col4\" class=\"data row6 col4\" >-0.160000</td>\n",
       "    </tr>\n",
       "    <tr>\n",
       "      <th id=\"T_ff66b_level0_row7\" class=\"row_heading level0 row7\" >Outstate</th>\n",
       "      <td id=\"T_ff66b_row7_col0\" class=\"data row7 col0\" >0.290000</td>\n",
       "      <td id=\"T_ff66b_row7_col1\" class=\"data row7 col1\" >-0.250000</td>\n",
       "      <td id=\"T_ff66b_row7_col2\" class=\"data row7 col2\" >-0.020000</td>\n",
       "      <td id=\"T_ff66b_row7_col3\" class=\"data row7 col3\" >-0.270000</td>\n",
       "      <td id=\"T_ff66b_row7_col4\" class=\"data row7 col4\" >0.130000</td>\n",
       "    </tr>\n",
       "    <tr>\n",
       "      <th id=\"T_ff66b_level0_row8\" class=\"row_heading level0 row8\" >Room_Board</th>\n",
       "      <td id=\"T_ff66b_row8_col0\" class=\"data row8 col0\" >0.240000</td>\n",
       "      <td id=\"T_ff66b_row8_col1\" class=\"data row8 col1\" >-0.130000</td>\n",
       "      <td id=\"T_ff66b_row8_col2\" class=\"data row8 col2\" >0.080000</td>\n",
       "      <td id=\"T_ff66b_row8_col3\" class=\"data row8 col3\" >-0.390000</td>\n",
       "      <td id=\"T_ff66b_row8_col4\" class=\"data row8 col4\" >0.180000</td>\n",
       "    </tr>\n",
       "    <tr>\n",
       "      <th id=\"T_ff66b_level0_row9\" class=\"row_heading level0 row9\" >Books</th>\n",
       "      <td id=\"T_ff66b_row9_col0\" class=\"data row9 col0\" >0.070000</td>\n",
       "      <td id=\"T_ff66b_row9_col1\" class=\"data row9 col1\" >0.060000</td>\n",
       "      <td id=\"T_ff66b_row9_col2\" class=\"data row9 col2\" >0.690000</td>\n",
       "      <td id=\"T_ff66b_row9_col3\" class=\"data row9 col3\" >0.020000</td>\n",
       "      <td id=\"T_ff66b_row9_col4\" class=\"data row9 col4\" >0.080000</td>\n",
       "    </tr>\n",
       "    <tr>\n",
       "      <th id=\"T_ff66b_level0_row10\" class=\"row_heading level0 row10\" >Personal</th>\n",
       "      <td id=\"T_ff66b_row10_col0\" class=\"data row10 col0\" >-0.040000</td>\n",
       "      <td id=\"T_ff66b_row10_col1\" class=\"data row10 col1\" >0.220000</td>\n",
       "      <td id=\"T_ff66b_row10_col2\" class=\"data row10 col2\" >0.470000</td>\n",
       "      <td id=\"T_ff66b_row10_col3\" class=\"data row10 col3\" >-0.090000</td>\n",
       "      <td id=\"T_ff66b_row10_col4\" class=\"data row10 col4\" >-0.240000</td>\n",
       "    </tr>\n",
       "    <tr>\n",
       "      <th id=\"T_ff66b_level0_row11\" class=\"row_heading level0 row11\" >PhD</th>\n",
       "      <td id=\"T_ff66b_row11_col0\" class=\"data row11 col0\" >0.310000</td>\n",
       "      <td id=\"T_ff66b_row11_col1\" class=\"data row11 col1\" >0.060000</td>\n",
       "      <td id=\"T_ff66b_row11_col2\" class=\"data row11 col2\" >-0.160000</td>\n",
       "      <td id=\"T_ff66b_row11_col3\" class=\"data row11 col3\" >-0.090000</td>\n",
       "      <td id=\"T_ff66b_row11_col4\" class=\"data row11 col4\" >-0.540000</td>\n",
       "    </tr>\n",
       "    <tr>\n",
       "      <th id=\"T_ff66b_level0_row12\" class=\"row_heading level0 row12\" >Terminal</th>\n",
       "      <td id=\"T_ff66b_row12_col0\" class=\"data row12 col0\" >0.310000</td>\n",
       "      <td id=\"T_ff66b_row12_col1\" class=\"data row12 col1\" >0.050000</td>\n",
       "      <td id=\"T_ff66b_row12_col2\" class=\"data row12 col2\" >-0.110000</td>\n",
       "      <td id=\"T_ff66b_row12_col3\" class=\"data row12 col3\" >-0.150000</td>\n",
       "      <td id=\"T_ff66b_row12_col4\" class=\"data row12 col4\" >-0.520000</td>\n",
       "    </tr>\n",
       "    <tr>\n",
       "      <th id=\"T_ff66b_level0_row13\" class=\"row_heading level0 row13\" >S_F_Ratio</th>\n",
       "      <td id=\"T_ff66b_row13_col0\" class=\"data row13 col0\" >-0.170000</td>\n",
       "      <td id=\"T_ff66b_row13_col1\" class=\"data row13 col1\" >0.240000</td>\n",
       "      <td id=\"T_ff66b_row13_col2\" class=\"data row13 col2\" >-0.210000</td>\n",
       "      <td id=\"T_ff66b_row13_col3\" class=\"data row13 col3\" >0.320000</td>\n",
       "      <td id=\"T_ff66b_row13_col4\" class=\"data row13 col4\" >-0.160000</td>\n",
       "    </tr>\n",
       "    <tr>\n",
       "      <th id=\"T_ff66b_level0_row14\" class=\"row_heading level0 row14\" >perc_alumni</th>\n",
       "      <td id=\"T_ff66b_row14_col0\" class=\"data row14 col0\" >0.200000</td>\n",
       "      <td id=\"T_ff66b_row14_col1\" class=\"data row14 col1\" >-0.240000</td>\n",
       "      <td id=\"T_ff66b_row14_col2\" class=\"data row14 col2\" >-0.160000</td>\n",
       "      <td id=\"T_ff66b_row14_col3\" class=\"data row14 col3\" >0.070000</td>\n",
       "      <td id=\"T_ff66b_row14_col4\" class=\"data row14 col4\" >0.020000</td>\n",
       "    </tr>\n",
       "    <tr>\n",
       "      <th id=\"T_ff66b_level0_row15\" class=\"row_heading level0 row15\" >Expend</th>\n",
       "      <td id=\"T_ff66b_row15_col0\" class=\"data row15 col0\" >0.320000</td>\n",
       "      <td id=\"T_ff66b_row15_col1\" class=\"data row15 col1\" >-0.130000</td>\n",
       "      <td id=\"T_ff66b_row15_col2\" class=\"data row15 col2\" >0.200000</td>\n",
       "      <td id=\"T_ff66b_row15_col3\" class=\"data row15 col3\" >-0.160000</td>\n",
       "      <td id=\"T_ff66b_row15_col4\" class=\"data row15 col4\" >0.080000</td>\n",
       "    </tr>\n",
       "    <tr>\n",
       "      <th id=\"T_ff66b_level0_row16\" class=\"row_heading level0 row16\" >Grad_Rate</th>\n",
       "      <td id=\"T_ff66b_row16_col0\" class=\"data row16 col0\" >0.250000</td>\n",
       "      <td id=\"T_ff66b_row16_col1\" class=\"data row16 col1\" >-0.170000</td>\n",
       "      <td id=\"T_ff66b_row16_col2\" class=\"data row16 col2\" >-0.200000</td>\n",
       "      <td id=\"T_ff66b_row16_col3\" class=\"data row16 col3\" >0.110000</td>\n",
       "      <td id=\"T_ff66b_row16_col4\" class=\"data row16 col4\" >0.260000</td>\n",
       "    </tr>\n",
       "    <tr>\n",
       "      <th id=\"T_ff66b_level0_row17\" class=\"row_heading level0 row17\" >Target</th>\n",
       "      <td id=\"T_ff66b_row17_col0\" class=\"data row17 col0\" >0.190000</td>\n",
       "      <td id=\"T_ff66b_row17_col1\" class=\"data row17 col1\" >-0.010000</td>\n",
       "      <td id=\"T_ff66b_row17_col2\" class=\"data row17 col2\" >0.250000</td>\n",
       "      <td id=\"T_ff66b_row17_col3\" class=\"data row17 col3\" >0.580000</td>\n",
       "      <td id=\"T_ff66b_row17_col4\" class=\"data row17 col4\" >0.010000</td>\n",
       "    </tr>\n",
       "  </tbody>\n",
       "</table>\n"
      ],
      "text/plain": [
       "<pandas.io.formats.style.Styler at 0x1b68997bc70>"
      ]
     },
     "execution_count": 47,
     "metadata": {},
     "output_type": "execute_result"
    }
   ],
   "source": [
    "def color_high(val):\n",
    "    if val <-0.25: # you can decide any value as per your understanding\n",
    "        return 'background: pink'\n",
    "    elif val >0.25:\n",
    "        return 'background: skyblue'   \n",
    "    \n",
    "data_pca.T.style.applymap(color_high)"
   ]
  },
  {
   "cell_type": "code",
   "execution_count": 48,
   "metadata": {
    "colab": {
     "base_uri": "https://localhost:8080/",
     "height": 423
    },
    "executionInfo": {
     "elapsed": 458,
     "status": "ok",
     "timestamp": 1679153424303,
     "user": {
      "displayName": "Abhinav Harsh",
      "userId": "08825161285052345463"
     },
     "user_tz": -330
    },
    "id": "cJfuBeH1V_nt",
    "outputId": "79e3840b-6dbd-4ee9-e8f0-eb8300963f42"
   },
   "outputs": [
    {
     "data": {
      "text/html": [
       "<div>\n",
       "<style scoped>\n",
       "    .dataframe tbody tr th:only-of-type {\n",
       "        vertical-align: middle;\n",
       "    }\n",
       "\n",
       "    .dataframe tbody tr th {\n",
       "        vertical-align: top;\n",
       "    }\n",
       "\n",
       "    .dataframe thead th {\n",
       "        text-align: right;\n",
       "    }\n",
       "</style>\n",
       "<table border=\"1\" class=\"dataframe\">\n",
       "  <thead>\n",
       "    <tr style=\"text-align: right;\">\n",
       "      <th></th>\n",
       "      <th>0</th>\n",
       "      <th>1</th>\n",
       "      <th>2</th>\n",
       "      <th>3</th>\n",
       "      <th>4</th>\n",
       "      <th>5</th>\n",
       "      <th>6</th>\n",
       "      <th>7</th>\n",
       "      <th>8</th>\n",
       "    </tr>\n",
       "  </thead>\n",
       "  <tbody>\n",
       "    <tr>\n",
       "      <th>0</th>\n",
       "      <td>-1.647348</td>\n",
       "      <td>0.750331</td>\n",
       "      <td>-0.036392</td>\n",
       "      <td>0.476658</td>\n",
       "      <td>-0.919121</td>\n",
       "      <td>-0.642737</td>\n",
       "      <td>0.134018</td>\n",
       "      <td>0.886385</td>\n",
       "      <td>-0.613087</td>\n",
       "    </tr>\n",
       "    <tr>\n",
       "      <th>1</th>\n",
       "      <td>-2.223139</td>\n",
       "      <td>-0.602641</td>\n",
       "      <td>2.109358</td>\n",
       "      <td>-1.307104</td>\n",
       "      <td>3.566558</td>\n",
       "      <td>0.410538</td>\n",
       "      <td>-0.561954</td>\n",
       "      <td>0.405088</td>\n",
       "      <td>0.429436</td>\n",
       "    </tr>\n",
       "    <tr>\n",
       "      <th>2</th>\n",
       "      <td>-1.477483</td>\n",
       "      <td>-1.105987</td>\n",
       "      <td>-0.466574</td>\n",
       "      <td>0.039598</td>\n",
       "      <td>0.690255</td>\n",
       "      <td>-0.973393</td>\n",
       "      <td>-0.314287</td>\n",
       "      <td>-0.349483</td>\n",
       "      <td>0.178802</td>\n",
       "    </tr>\n",
       "    <tr>\n",
       "      <th>3</th>\n",
       "      <td>2.751361</td>\n",
       "      <td>-2.586013</td>\n",
       "      <td>-0.114277</td>\n",
       "      <td>-0.565352</td>\n",
       "      <td>-1.287168</td>\n",
       "      <td>-1.082402</td>\n",
       "      <td>-0.356872</td>\n",
       "      <td>-1.113059</td>\n",
       "      <td>-0.481871</td>\n",
       "    </tr>\n",
       "    <tr>\n",
       "      <th>4</th>\n",
       "      <td>-2.247855</td>\n",
       "      <td>-0.001780</td>\n",
       "      <td>2.271462</td>\n",
       "      <td>-0.892982</td>\n",
       "      <td>-1.120168</td>\n",
       "      <td>0.389825</td>\n",
       "      <td>-0.529023</td>\n",
       "      <td>-1.797368</td>\n",
       "      <td>-1.244111</td>\n",
       "    </tr>\n",
       "    <tr>\n",
       "      <th>...</th>\n",
       "      <td>...</td>\n",
       "      <td>...</td>\n",
       "      <td>...</td>\n",
       "      <td>...</td>\n",
       "      <td>...</td>\n",
       "      <td>...</td>\n",
       "      <td>...</td>\n",
       "      <td>...</td>\n",
       "      <td>...</td>\n",
       "    </tr>\n",
       "    <tr>\n",
       "      <th>772</th>\n",
       "      <td>-3.360493</td>\n",
       "      <td>1.180962</td>\n",
       "      <td>-0.322530</td>\n",
       "      <td>-0.082743</td>\n",
       "      <td>0.112318</td>\n",
       "      <td>0.843505</td>\n",
       "      <td>-0.522593</td>\n",
       "      <td>-0.130828</td>\n",
       "      <td>0.490185</td>\n",
       "    </tr>\n",
       "    <tr>\n",
       "      <th>773</th>\n",
       "      <td>0.120557</td>\n",
       "      <td>-0.678983</td>\n",
       "      <td>-0.128925</td>\n",
       "      <td>-0.591517</td>\n",
       "      <td>0.545423</td>\n",
       "      <td>0.272481</td>\n",
       "      <td>0.585099</td>\n",
       "      <td>0.515939</td>\n",
       "      <td>0.749039</td>\n",
       "    </tr>\n",
       "    <tr>\n",
       "      <th>774</th>\n",
       "      <td>-0.791935</td>\n",
       "      <td>-0.081926</td>\n",
       "      <td>0.066187</td>\n",
       "      <td>0.453531</td>\n",
       "      <td>0.068032</td>\n",
       "      <td>0.110847</td>\n",
       "      <td>0.330621</td>\n",
       "      <td>-1.183297</td>\n",
       "      <td>-0.506237</td>\n",
       "    </tr>\n",
       "    <tr>\n",
       "      <th>775</th>\n",
       "      <td>8.271085</td>\n",
       "      <td>-1.993742</td>\n",
       "      <td>2.255368</td>\n",
       "      <td>0.331989</td>\n",
       "      <td>0.859686</td>\n",
       "      <td>-1.844206</td>\n",
       "      <td>-1.495168</td>\n",
       "      <td>0.442875</td>\n",
       "      <td>-0.243384</td>\n",
       "    </tr>\n",
       "    <tr>\n",
       "      <th>776</th>\n",
       "      <td>-0.533039</td>\n",
       "      <td>0.363070</td>\n",
       "      <td>-1.161955</td>\n",
       "      <td>1.177978</td>\n",
       "      <td>-0.107320</td>\n",
       "      <td>0.010535</td>\n",
       "      <td>1.080551</td>\n",
       "      <td>1.038401</td>\n",
       "      <td>1.081413</td>\n",
       "    </tr>\n",
       "  </tbody>\n",
       "</table>\n",
       "<p>777 rows × 9 columns</p>\n",
       "</div>"
      ],
      "text/plain": [
       "            0         1         2         3         4         5         6  \\\n",
       "0   -1.647348  0.750331 -0.036392  0.476658 -0.919121 -0.642737  0.134018   \n",
       "1   -2.223139 -0.602641  2.109358 -1.307104  3.566558  0.410538 -0.561954   \n",
       "2   -1.477483 -1.105987 -0.466574  0.039598  0.690255 -0.973393 -0.314287   \n",
       "3    2.751361 -2.586013 -0.114277 -0.565352 -1.287168 -1.082402 -0.356872   \n",
       "4   -2.247855 -0.001780  2.271462 -0.892982 -1.120168  0.389825 -0.529023   \n",
       "..        ...       ...       ...       ...       ...       ...       ...   \n",
       "772 -3.360493  1.180962 -0.322530 -0.082743  0.112318  0.843505 -0.522593   \n",
       "773  0.120557 -0.678983 -0.128925 -0.591517  0.545423  0.272481  0.585099   \n",
       "774 -0.791935 -0.081926  0.066187  0.453531  0.068032  0.110847  0.330621   \n",
       "775  8.271085 -1.993742  2.255368  0.331989  0.859686 -1.844206 -1.495168   \n",
       "776 -0.533039  0.363070 -1.161955  1.177978 -0.107320  0.010535  1.080551   \n",
       "\n",
       "            7         8  \n",
       "0    0.886385 -0.613087  \n",
       "1    0.405088  0.429436  \n",
       "2   -0.349483  0.178802  \n",
       "3   -1.113059 -0.481871  \n",
       "4   -1.797368 -1.244111  \n",
       "..        ...       ...  \n",
       "772 -0.130828  0.490185  \n",
       "773  0.515939  0.749039  \n",
       "774 -1.183297 -0.506237  \n",
       "775  0.442875 -0.243384  \n",
       "776  1.038401  1.081413  \n",
       "\n",
       "[777 rows x 9 columns]"
      ]
     },
     "execution_count": 48,
     "metadata": {},
     "output_type": "execute_result"
    }
   ],
   "source": [
    "pca = PCA(n_components=9, random_state=1)\n",
    "data_pca_final = pd.DataFrame(pca.fit_transform(data_scaled))\n",
    "data_pca_final"
   ]
  },
  {
   "cell_type": "code",
   "execution_count": 49,
   "metadata": {
    "colab": {
     "base_uri": "https://localhost:8080/"
    },
    "executionInfo": {
     "elapsed": 1616,
     "status": "ok",
     "timestamp": 1679153430362,
     "user": {
      "displayName": "Abhinav Harsh",
      "userId": "08825161285052345463"
     },
     "user_tz": -330
    },
    "id": "WeZxCjJHVwio",
    "outputId": "20698ef9-89ad-4b96-fa02-9a96f3dfc7c1"
   },
   "outputs": [
    {
     "name": "stdout",
     "output_type": "stream",
     "text": [
      "Logistic Regression: 1.000 +/- 0.000\n",
      "Decision Tree: 0.965 +/- 0.012\n",
      "Random Forest: 0.987 +/- 0.011\n",
      "Support Vector Machine: 0.994 +/- 0.006\n",
      "Best model: Logistic Regression (1.000 CV score)\n",
      "Test accuracy: 1.000\n",
      "Test accuracy: 1.000\n",
      "Confusion matrix:\n",
      "[[128   0]\n",
      " [  0  28]]\n"
     ]
    }
   ],
   "source": [
    "df =data\n",
    "# Separate the target variable from the features\n",
    "X = data_pca_final\n",
    "y = df[\"Target\"]\n",
    "\n",
    "# Preprocess the data by standardizing the features\n",
    "# scaler = StandardScaler()\n",
    "# X = scaler.fit_transform(X)\n",
    "\n",
    "# Split the data into training and testing sets\n",
    "X_train, X_test, y_train, y_test = train_test_split(X, y, test_size=0.2, random_state=42)\n",
    "\n",
    "\n",
    "\n",
    "# Define the machine learning models to try\n",
    "models = [\n",
    "    (\"Logistic Regression\", LogisticRegression()),\n",
    "    (\"Decision Tree\", DecisionTreeClassifier()),\n",
    "    (\"Random Forest\", RandomForestClassifier()),\n",
    "    (\"Support Vector Machine\", SVC())\n",
    "]\n",
    "\n",
    "# Fit each model and evaluate it using cross-validation\n",
    "results = []\n",
    "for name, model in models:\n",
    "    scores = cross_val_score(model, X_train, y_train, cv=5)\n",
    "    results.append((name, np.mean(scores), np.std(scores)))\n",
    "    \n",
    "# Print the cross-validation results\n",
    "for name, mean_score, std_score in results:\n",
    "    print(f\"{name}: {mean_score:.3f} +/- {std_score:.3f}\")\n",
    "\n",
    "\n",
    "\n",
    "# Select the best model based on the cross-validation score\n",
    "best_model_name, best_model_score, _ = max(results, key=lambda x: x[1])\n",
    "best_model = dict(models)[best_model_name]\n",
    "print(f\"Best model: {best_model_name} ({best_model_score:.3f} CV score)\")\n",
    "\n",
    "# Train the best model on the full training set and evaluate it on the test set\n",
    "best_model.fit(X_train, y_train)\n",
    "y_pred = best_model.predict(X_test)\n",
    "test_accuracy = accuracy_score(y_test, y_pred)\n",
    "print(f\"Test accuracy: {test_accuracy:.3f}\")\n",
    "\n",
    "\n",
    "from sklearn.metrics import confusion_matrix\n",
    "\n",
    "def print_confusion_matrix(model, X_test, y_test):\n",
    "    y_pred = model.predict(X_test)\n",
    "    cm = confusion_matrix(y_test, y_pred)\n",
    "    print(\"Confusion matrix:\")\n",
    "    print(cm)\n",
    "\n",
    "# Train the best model on the full training set and evaluate it on the test set\n",
    "best_model.fit(X_train, y_train)\n",
    "y_pred = best_model.predict(X_test)\n",
    "test_accuracy = accuracy_score(y_test, y_pred)\n",
    "print(f\"Test accuracy: {test_accuracy:.3f}\")\n",
    "\n",
    "# Print the confusion matrix for the best model on the test data\n",
    "print_confusion_matrix(best_model, X_test, y_test)\n"
   ]
  },
  {
   "cell_type": "markdown",
   "metadata": {
    "id": "2uRJ_YszOPVH"
   },
   "source": [
    "**Observations:**\n",
    "\n",
    "- The first principal component, PC1, is related to high values of students scores (Top10perc, Top25perc), number of out-of-state students (Outstate), faculties education (PhD and Terminal) and the instructional expenditure (Expend) per student. This principal component seams to capture attributes that generally define premier colleges with high quality of students entering them and higher accomplished faculty that is teaching there. They also seems to take rich students from all over the country. \n",
    "- The second principal component, PC2, is related to high values of number of applications - received (Apps), accepted (Accept) and enrolled (Enroll), and number of full time (F_Undergrad) and part time (P_Undergrad) students. This principal component seems to capture attributes that generally define non-premier colleges that are comparatively easier to get admissions into.\n",
    "- The third principal component, PC3, is related to financial aspects i.e. personal spending (Personal) and cost of books (Books) for a student. It is also associated with low values of student faculty ratios (S_F_Ratio).\n",
    "- The fourth principal component, PC4, is related to low values of faculty's education and high values of students' graduation rate. This principal component seems to capture attributes that define colleges which lack the highly educated faculty (PhD and Terminal) but it is comparatively easier to graduate from there (Grad_Rate)."
   ]
  },
  {
   "cell_type": "markdown",
   "metadata": {
    "id": "wUb9isjxOPVH"
   },
   "source": [
    "#### We can also visualize the data in 2 dimensions using first two principal components "
   ]
  },
  {
   "cell_type": "code",
   "execution_count": 50,
   "metadata": {
    "colab": {
     "base_uri": "https://localhost:8080/",
     "height": 459
    },
    "executionInfo": {
     "elapsed": 754,
     "status": "ok",
     "timestamp": 1679152977360,
     "user": {
      "displayName": "Abhinav Harsh",
      "userId": "08825161285052345463"
     },
     "user_tz": -330
    },
    "id": "nGbHvc6cOPVI",
    "outputId": "232d1f98-3ae6-416e-90e8-cbb72a39d883"
   },
   "outputs": [
    {
     "data": {
      "text/plain": [
       "Text(0, 0.5, 'PC2')"
      ]
     },
     "execution_count": 50,
     "metadata": {},
     "output_type": "execute_result"
    },
    {
     "data": {
      "image/png": "[encoded data removed]",
      "text/plain": [
       "<Figure size 504x504 with 1 Axes>"
      ]
     },
     "metadata": {
      "needs_background": "light"
     },
     "output_type": "display_data"
    }
   ],
   "source": [
    "plt.figure(figsize = (7,7))\n",
    "sns.scatterplot(x=data_pca1[0],y=data_pca1[1])\n",
    "plt.xlabel(\"PC1\")\n",
    "plt.ylabel(\"PC2\")"
   ]
  }
 ],
 "metadata": {
  "colab": {
   "provenance": []
  },
  "kernelspec": {
   "display_name": "Python 3 (ipykernel)",
   "language": "python",
   "name": "python3"
  },
  "language_info": {
   "codemirror_mode": {
    "name": "ipython",
    "version": 3
   },
   "file_extension": ".py",
   "mimetype": "text/x-python",
   "name": "python",
   "nbconvert_exporter": "python",
   "pygments_lexer": "ipython3",
   "version": "3.9.12"
  }
 },
 "nbformat": 4,
 "nbformat_minor": 1
}
